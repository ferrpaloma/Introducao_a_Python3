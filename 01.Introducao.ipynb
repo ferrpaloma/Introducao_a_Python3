{
 "cells": [
  {
   "cell_type": "markdown",
   "metadata": {},
   "source": [
    "<!--NAVIGATION-->\n",
    "| [Sumario](00.Sumario.ipynb) | [Tipos de objetos basicos](02.Tipos_de_objetos_basicos.ipynb) >\n",
    "\n",
    "<a href=\"https://colab.research.google.com/github/psloliveirajr/Introducao_a_Python3/blob/master/01.Introducao.ipynb\"><img align=\"left\" src=\"https://colab.research.google.com/assets/colab-badge.svg\" alt=\"Open in Colab\" title=\"Open and Execute in Google Colaboratory\"></a>"
   ]
  },
  {
   "cell_type": "markdown",
   "metadata": {},
   "source": [
    "# Introdução"
   ]
  },
  {
   "cell_type": "code",
   "execution_count": null,
   "metadata": {
    "scrolled": true
   },
   "outputs": [],
   "source": [
    "\"Sejam todos bem vindos ao curso: Fundamentos de Linguaguem de Programação em Python\""
   ]
  },
  {
   "cell_type": "markdown",
   "metadata": {},
   "source": [
    "Em seu primera experiência com Python, faça a seguinte questão: \n",
    "1. Crie uma célula e imprima a seguinte frase: **Hello, World!**"
   ]
  },
  {
   "cell_type": "markdown",
   "metadata": {},
   "source": [
    "## Programa\n",
    "\n",
    "Um programa é uma sequência de instruções que especifica como executar uma computação. A computação pode ser algo matemático, como resolver um sistema de equações ou encontrar as raízes de um polinômio, mas também pode ser uma computação simbólica, como pesquisar e substituir um texto em um documento ou em algo gráfico, como processamento de uma imagem ou reproduzindo um vídeo.\n",
    "\n",
    "> Downey, Allen. Think Python. \" O'Reilly Media, Inc.\", 2012.\n",
    "\n",
    "![Programa](img/Programa.png)\n",
    "\n",
    "- ***Algoritmo***: é a descrição de um padrão de comportamento, especificado em termos de um conjunto bem definido e finito de ações primitivas que podem ser executadas.\n",
    "\n",
    "- ***Estruturas de dados***: é um modo particular de armazenamento e organização de dados em um computador de modo que possam ser usados eficientemente.\n",
    "\n",
    "> Guimarães, Lages. Algoritmos  e Estruturas de Dados, LTC, 1994 "
   ]
  },
  {
   "cell_type": "markdown",
   "metadata": {},
   "source": [
    "### Algoritmo\n",
    "\n",
    "\n",
    "Algoritmo para fazer uma Lasanha.\n",
    "\n",
    "**início**\n",
    "\n",
    "    Providencie todos os ingredientes da receita.\n",
    "    Lasanha:\n",
    "        Cozinhe a massa de acordo com as instruções da embalagem.\n",
    "        Pegue um recipiente\n",
    "        Encha o recipiente com água fria. \n",
    "        Coloque a massa no recipiente até o momento de montar. \n",
    "    Molho Bolonhesa:\n",
    "        Pegue uma panela\n",
    "        Coloque óleo na panela\n",
    "        Aqueça a panela\n",
    "        Coloque carne na panela\n",
    "        Refogue a carne\n",
    "        Junte a cebola, a cenoura e o salsão na panela\n",
    "        Deixe a carne refogar na panela até murchar.\n",
    "        Dissolva o tablete de caldo de carne em  em 1 xícara (chá) de água quente\n",
    "        Acrescente o caldo e a polpa de tomate na panela\n",
    "        Deixe a panela cozinhar 10 minutos ou até apurar o molho.\n",
    "        Reserve.\n",
    "    Molho Branco:\n",
    "        Pegue uma panela\n",
    "        Coloque manteiga na panela\n",
    "        Derreta a manteiga\n",
    "        Junte farinha de trigo na panela\n",
    "        Deixe a farinha de trigo dourar\n",
    "        Aos poucos junte o Leite na panela, mexendo sempre para não formar grumos.\n",
    "        Acrescente noz moscada, o sal, e a pimenta-do-reino na panela.\n",
    "        Quando adquirir consistência cremosa, retire do fogo\n",
    "        Acrescente o Creme de Leite \n",
    "        Misture bem\n",
    "        Reserve.  \n",
    "    Montagem:\n",
    "        Pegue um recipiente refratário (20 x 30 cm)\n",
    "        Repita os seguintes passos\n",
    "            Coloque uma porção de molho bolonhesa no recipiente\n",
    "            Cubra o molho com uma camada de massa, e uma porção de molho branco\n",
    "            Coloque o queijo mozarela.\n",
    "        Repita as camadas até a borda do recipiente.\n",
    "        Coloque queijo parmesão ralado\n",
    "        Leve ao forno alto (220°C), preaquecido, por cerca de 20 minutos ou até dourar. \n",
    "        Sirva.\n",
    "**fim**"
   ]
  },
  {
   "cell_type": "markdown",
   "metadata": {},
   "source": [
    "## Programação Estruturada\n",
    "\n",
    "- Metodologia de projeto de programas que visa:\n",
    "    1. Facilitar o desenvolvimento dos programas \n",
    "    2. Facilitar a leitura (entendimento) dos programas\n",
    "    3. Permitir a validação a priori dos programas\n",
    "    4. Facilitar a manutenção e modificação dos programas\n",
    "\n",
    "> Guimarães, Lages. Algoritmos  e Estruturas de Dados, LTC, 1994"
   ]
  },
  {
   "cell_type": "markdown",
   "metadata": {},
   "source": [
    "## Ciclo de Vida de um Software\n",
    "\n",
    "![Software](img/Software.png)\n",
    "\n",
    "**1. Especificar os requisitos do problema**\n",
    "    - Preparar uma especificação completa e não ambígua.\n",
    "    \n",
    "    \n",
    "**2. Analisar o problema**\n",
    "    - Entender o problema.\n",
    "    - Avaliar soluções alternativas.\n",
    "    - Escolher soluções mais adequadas.\n",
    "    \n",
    "    \n",
    "**3. Projetar o programa para solucionar o problema**\n",
    "    - Fazer o projeto de cima para baixo (top-down) do sistema.\n",
    "    - Para cada módulo, identificar as principais estruturas de dados e subprogramas associados.\n",
    "    - Desenvolver algoritmos e estruturas de dados dos subprogramas.\n",
    "    \n",
    "    \n",
    "**4. Implementar o projeto**\n",
    "    - Codificar a solução.\n",
    "    - Corrigir erros de codificação.\n",
    "    \n",
    "    \n",
    "**5. Testar e validar o programa**\n",
    "    - Testar o código e validá-lo, se correto.\n",
    "    \n",
    "    \n",
    "**6. Manter e atualizar o programa**\n",
    "    - Executar o sistema;\n",
    "    - Avaliar seu desempenho;\n",
    "    - Remover novos erros identificados, assim que detectados;\n",
    "    - Realizar modificações de forma a manter o sistema atualizado;\n",
    "    - Validar as modificações.\n",
    "\n",
    "> Koffman, Elliot B. Turbo Pascal 7.0, Addison-Wesley, 1994"
   ]
  },
  {
   "cell_type": "markdown",
   "metadata": {},
   "source": [
    "## Características da linguagem Python 3.x\n",
    "\n",
    "- Linguagem de programação de alto nível\n",
    "- Multiparadigma (procedural, funcional e orientado a objetos )\n",
    "- Multiplataforma (Windows, Linux, iOS, etc.)\n",
    "- Interpretada (Scripts ou interativo)\n",
    "- Tipagem dinâmica\n",
    "- Gerência de memória automatizada(coletor de lixo)"
   ]
  },
  {
   "cell_type": "markdown",
   "metadata": {},
   "source": [
    "## Objetos\n",
    "\n",
    "Todos dados em um programa Python são representados por objetos e pelas relações entre objetos. Cada objeto no Python possui três características:\n",
    "- **Tipo (classe)**: números, string, lista,etc.\n",
    "- **Valor**: Valores podem ser números, palavras, etc.\n",
    "- **Identidade**: Parte da memória do computador que o objeto ocupa\n",
    "\n",
    "![hierarquia](img/Hierarquia_objetos_python.png)"
   ]
  },
  {
   "cell_type": "markdown",
   "metadata": {},
   "source": [
    "## A hierarquia conceitual do Python\n",
    "\n",
    "De uma perspectiva mais concreta, os programas Python podem ser decompostos em módulos, estrururas, expressões e objetos, da seguinte maneira:\n",
    "1. Os programas são compostos de módulos.\n",
    "2. Módulos contêm estruturas.\n",
    "3. Estruturas contêm expressões.\n",
    "4. Expressões criam e processam objetos."
   ]
  },
  {
   "cell_type": "markdown",
   "metadata": {},
   "source": [
    "<!--NAVIGATION-->\n",
    "| [Sumario](00.Sumario.ipynb) | [Tipos de objetos basicos](02.Tipos_de_objetos_basicos.ipynb) >\n",
    "\n",
    "<a href=\"https://colab.research.google.com/github/psloliveirajr/Introducao_a_Python3/blob/master/01.Introducao.ipynb\"><img align=\"left\" src=\"https://colab.research.google.com/assets/colab-badge.svg\" alt=\"Open in Colab\" title=\"Open and Execute in Google Colaboratory\"></a>"
   ]
  }
 ],
 "metadata": {
  "kernelspec": {
   "display_name": "Python 3",
   "language": "python",
   "name": "python3"
  },
  "language_info": {
   "codemirror_mode": {
    "name": "ipython",
    "version": 3
   },
   "file_extension": ".py",
   "mimetype": "text/x-python",
   "name": "python",
   "nbconvert_exporter": "python",
   "pygments_lexer": "ipython3",
   "version": "3.8.5"
  },
  "nbTranslate": {
   "displayLangs": [
    "fr",
    "en"
   ],
   "hotkey": "alt-t",
   "langInMainMenu": true,
   "sourceLang": "en",
   "targetLang": "fr",
   "useGoogleTranslate": true
  },
  "toc": {
   "base_numbering": 1,
   "nav_menu": {},
   "number_sections": true,
   "sideBar": true,
   "skip_h1_title": false,
   "title_cell": "Table of Contents",
   "title_sidebar": "Contents",
   "toc_cell": false,
   "toc_position": {},
   "toc_section_display": true,
   "toc_window_display": false
  },
  "varInspector": {
   "cols": {
    "lenName": 16,
    "lenType": 16,
    "lenVar": 40
   },
   "kernels_config": {
    "python": {
     "delete_cmd_postfix": "",
     "delete_cmd_prefix": "del ",
     "library": "var_list.py",
     "varRefreshCmd": "print(var_dic_list())"
    },
    "r": {
     "delete_cmd_postfix": ") ",
     "delete_cmd_prefix": "rm(",
     "library": "var_list.r",
     "varRefreshCmd": "cat(var_dic_list()) "
    }
   },
   "types_to_exclude": [
    "module",
    "function",
    "builtin_function_or_method",
    "instance",
    "_Feature"
   ],
   "window_display": false
  }
 },
 "nbformat": 4,
 "nbformat_minor": 4
}
