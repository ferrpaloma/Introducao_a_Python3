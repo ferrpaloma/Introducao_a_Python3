{
 "cells": [
  {
   "cell_type": "markdown",
   "metadata": {},
   "source": [
    "<!--NAVIGATION-->\n",
    "< [Recursividade](09.Recursividade.ipynb) | [Sumario](00.Sumario.ipynb) | [Sequência de objetos](11.Sequencia_de_objetos.ipynb) >\n",
    "\n",
    "<a href=\"https://colab.research.google.com/github/psloliveirajr/Introducao_a_Python3/blob/master/10.Estrutura_de_repeticao.ipynb\"><img align=\"left\" src=\"https://colab.research.google.com/assets/colab-badge.svg\" alt=\"Open in Colab\" title=\"Open and Execute in Google Colaboratory\"></a>"
   ]
  },
  {
   "cell_type": "markdown",
   "metadata": {},
   "source": [
    "## Estrutura de repetição\n",
    "\n",
    "### While Loop\n",
    "\n",
    "A estrutura while do Python é a construção de iteração mais geral na linguagem. Em termos simples, ela executa repetidamente um suite, desde que um teste na parte superior continue o avaliando como um valor verdadeiro.\n",
    "\n",
    "![estruturawhile](img/estrutura_while.png)"
   ]
  },
  {
   "cell_type": "code",
   "execution_count": null,
   "metadata": {
    "ExecuteTime": {
     "end_time": "2020-08-29T08:22:10.627436Z",
     "start_time": "2020-08-29T08:22:10.620465Z"
    }
   },
   "outputs": [],
   "source": [
    "# Imprimir os valores no intervalo [a,b[\n",
    "a,b = 0,10 # Atribuimos valores a as variaveis\n",
    "while a <= b: # Loop enquanto a for menor que b\n",
    "    print(a, end=' ') # Imprimir a varaivel 'a' sem pular linha\n",
    "    a += 1 # somar +1 no valor de a"
   ]
  },
  {
   "cell_type": "markdown",
   "metadata": {},
   "source": [
    "#### While-pass\n",
    "\n",
    "A estrutura pass é um espaço reservado para realizar nenhuma operação que é quando a sintaxe exige uma estrutura, mas você não tem nada útil a dizer."
   ]
  },
  {
   "cell_type": "code",
   "execution_count": null,
   "metadata": {
    "ExecuteTime": {
     "end_time": "2020-08-29T08:22:23.744250Z",
     "start_time": "2020-08-29T08:22:10.630169Z"
    }
   },
   "outputs": [],
   "source": [
    "# exemplo 1\n",
    "while True: # Aperte no botão \"Stop\" caso estaja em um notebook\n",
    "    pass"
   ]
  },
  {
   "cell_type": "markdown",
   "metadata": {},
   "source": [
    "#### While-continue\n",
    "\n",
    "A estrutura continue causa um salto imediato para o topo de um loop. Às vezes, também evita o aninhamento de instruções."
   ]
  },
  {
   "cell_type": "code",
   "execution_count": null,
   "metadata": {
    "ExecuteTime": {
     "end_time": "2020-08-29T08:22:23.747427Z",
     "start_time": "2020-08-29T08:22:10.299Z"
    }
   },
   "outputs": [],
   "source": [
    "# Imprimir os valores pares\n",
    "x = 10 # Atribui um valor a variavel\n",
    "while x != 0: # Loop enquando x for diferente de zero\n",
    "    x -= 1 # subtrai 1 do valor da variavel\n",
    "    if x % 2 != 0: # verifica se o valor é impar\n",
    "        continue # se impar voltemos ao inicio\n",
    "    print(x, end=' ') # imprimi os valores pares"
   ]
  },
  {
   "cell_type": "markdown",
   "metadata": {},
   "source": [
    "#### While-break\n",
    "\n",
    "A estrutura break causa uma saída imediata de um loop."
   ]
  },
  {
   "cell_type": "code",
   "execution_count": null,
   "metadata": {
    "ExecuteTime": {
     "end_time": "2020-08-29T08:22:23.748716Z",
     "start_time": "2020-08-29T08:22:10.306Z"
    }
   },
   "outputs": [],
   "source": [
    "# Imprimir as informacoes fornecidas\n",
    "while True: # Loop infinito\n",
    "    nome = input(\"Qual é o seu nome (digite 'stop' para parar):\") # Lê o nome\n",
    "    if nome == \"stop\": # verifica se (nome == stop) == True\n",
    "        break # Se nome == stop termina o while\n",
    "    idade = input(\"Qual é a sua idade: \") # Lê a idade\n",
    "    print(\"O %s tem %s anos\\n\" % (nome,idade))"
   ]
  },
  {
   "cell_type": "markdown",
   "metadata": {},
   "source": [
    "### For Loop"
   ]
  },
  {
   "cell_type": "markdown",
   "metadata": {},
   "source": [
    "#### Range\n",
    "\n",
    "O range representa uma sequência imutável de números e é comumente usado para repetir um número específico de vezes em loops.\n",
    "\n",
    "**range**(*stop*)\n",
    "\n",
    "**range**(*start*,*stop*[, *step*])\n",
    "\n",
    "- **start**: O valor do parâmetro inicio (ou 0 se o parâmetro não foi fornecido)\n",
    "\n",
    "- **stop**: O valor do parâmetro parada\n",
    "\n",
    "- **step**: O valor do parâmetro passos (ou 1 se o parâmetro não foi fornecido)\n",
    "\n",
    "A vantagem do range em relação a uma lista ou tupla (veremos mais a diante) é que um objeto range sempre terá a mesma quantidade (pequena) de memória, independentemente do tamanho do intervalo que representa,pois armazena apenas os valores de início, parada e etapa , calculando itens e subfaixas individuais, conforme necessário."
   ]
  },
  {
   "cell_type": "markdown",
   "metadata": {},
   "source": [
    "#### For\n",
    "\n",
    "O loop for é um **iterador** genérico no Python: ele pode percorrer os itens em qualquer sequência ordenada ou outro objeto iterável. A estrutura for funciona em listas, tuplas, strings e outros iteráveis internos.\n",
    "\n",
    "![estruturafor](img/estrutura_for.png)"
   ]
  },
  {
   "cell_type": "code",
   "execution_count": null,
   "metadata": {
    "ExecuteTime": {
     "end_time": "2020-08-29T08:22:28.439682Z",
     "start_time": "2020-08-29T08:22:28.430681Z"
    }
   },
   "outputs": [],
   "source": [
    "help(range)"
   ]
  },
  {
   "cell_type": "code",
   "execution_count": null,
   "metadata": {
    "ExecuteTime": {
     "end_time": "2020-08-29T08:22:28.941204Z",
     "start_time": "2020-08-29T08:22:28.935126Z"
    }
   },
   "outputs": [],
   "source": [
    "# exemplo 1\n",
    "for i in range(10):\n",
    "    print(i)"
   ]
  },
  {
   "cell_type": "code",
   "execution_count": null,
   "metadata": {
    "ExecuteTime": {
     "end_time": "2020-08-29T08:22:29.124060Z",
     "start_time": "2020-08-29T08:22:29.118644Z"
    }
   },
   "outputs": [],
   "source": [
    "# exemplo 2\n",
    "for i in range(1,11):\n",
    "    print(i)"
   ]
  },
  {
   "cell_type": "code",
   "execution_count": null,
   "metadata": {
    "ExecuteTime": {
     "end_time": "2020-08-29T08:22:29.348387Z",
     "start_time": "2020-08-29T08:22:29.342828Z"
    }
   },
   "outputs": [],
   "source": [
    "# exemplo 3\n",
    "for i in range(1,12,2):\n",
    "    print(i)"
   ]
  },
  {
   "cell_type": "code",
   "execution_count": null,
   "metadata": {
    "ExecuteTime": {
     "end_time": "2020-08-29T08:22:29.499900Z",
     "start_time": "2020-08-29T08:22:29.495172Z"
    }
   },
   "outputs": [],
   "source": [
    "# examplo 4\n",
    "for i in range(10,1,-2):\n",
    "    print(i)"
   ]
  },
  {
   "cell_type": "code",
   "execution_count": null,
   "metadata": {
    "ExecuteTime": {
     "end_time": "2020-08-29T08:22:37.176364Z",
     "start_time": "2020-08-29T08:22:29.668622Z"
    }
   },
   "outputs": [],
   "source": [
    "# Fatorial\n",
    "num = int(input(\"Digite um valor inteiro e positivo: \"))\n",
    "fat = 1\n",
    "for i in range(num,0,-1):\n",
    "    print(i)\n",
    "    fat *= i\n",
    "print(\"O fatorial de\", num, \"=\", fat)"
   ]
  },
  {
   "cell_type": "markdown",
   "metadata": {},
   "source": [
    "<!--NAVIGATION-->\n",
    "< [Recursividade](09.Recursividade.ipynb) | [Sumario](00.Sumario.ipynb) | [Sequência de objetos](11.Sequencia_de_objetos.ipynb) >\n",
    "\n",
    "<a href=\"https://colab.research.google.com/github/psloliveirajr/Introducao_a_Python3/blob/master/10.Estrutura_de_repeticao.ipynb\"><img align=\"left\" src=\"https://colab.research.google.com/assets/colab-badge.svg\" alt=\"Open in Colab\" title=\"Open and Execute in Google Colaboratory\"></a>"
   ]
  }
 ],
 "metadata": {
  "kernelspec": {
   "display_name": "Python 3",
   "language": "python",
   "name": "python3"
  },
  "language_info": {
   "codemirror_mode": {
    "name": "ipython",
    "version": 3
   },
   "file_extension": ".py",
   "mimetype": "text/x-python",
   "name": "python",
   "nbconvert_exporter": "python",
   "pygments_lexer": "ipython3",
   "version": "3.8.5"
  },
  "nbTranslate": {
   "displayLangs": [
    "fr",
    "en"
   ],
   "hotkey": "alt-t",
   "langInMainMenu": true,
   "sourceLang": "en",
   "targetLang": "fr",
   "useGoogleTranslate": true
  },
  "toc": {
   "base_numbering": 1,
   "nav_menu": {},
   "number_sections": true,
   "sideBar": true,
   "skip_h1_title": false,
   "title_cell": "Table of Contents",
   "title_sidebar": "Contents",
   "toc_cell": false,
   "toc_position": {},
   "toc_section_display": true,
   "toc_window_display": false
  },
  "varInspector": {
   "cols": {
    "lenName": 16,
    "lenType": 16,
    "lenVar": 40
   },
   "kernels_config": {
    "python": {
     "delete_cmd_postfix": "",
     "delete_cmd_prefix": "del ",
     "library": "var_list.py",
     "varRefreshCmd": "print(var_dic_list())"
    },
    "r": {
     "delete_cmd_postfix": ") ",
     "delete_cmd_prefix": "rm(",
     "library": "var_list.r",
     "varRefreshCmd": "cat(var_dic_list()) "
    }
   },
   "types_to_exclude": [
    "module",
    "function",
    "builtin_function_or_method",
    "instance",
    "_Feature"
   ],
   "window_display": false
  }
 },
 "nbformat": 4,
 "nbformat_minor": 4
}
