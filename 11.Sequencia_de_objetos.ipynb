{
 "cells": [
  {
   "cell_type": "markdown",
   "metadata": {},
   "source": [
    "<!--NAVIGATION-->\n",
    "< [Estrutura de repetição](10.Estrutura_de_repeticao.ipynb) | [Sumario](00.Sumario.ipynb) | [Arquivos de texto](12.Arquivos_de_texto.ipynb) >\n",
    "\n",
    "<a href=\"https://colab.research.google.com/github/psloliveirajr/Introducao_a_Python3/blob/master/11.Sequencia_de_objetos.ipynb\"><img align=\"left\" src=\"https://colab.research.google.com/assets/colab-badge.svg\" alt=\"Open in Colab\" title=\"Open and Execute in Google Colaboratory\"></a>"
   ]
  },
  {
   "cell_type": "markdown",
   "metadata": {},
   "source": [
    "## Sequência de objetos"
   ]
  },
  {
   "cell_type": "markdown",
   "metadata": {},
   "source": [
    "### Sequência\n",
    "\n",
    "A sequência é uma coleção de objetos ordenados por posições.Existem três tipos básicos de sequência: **lists**, **tuples** e **ranges**. Além destas exite seqüências de texto (**string**). Sequências são **iteraveis**\n",
    "\n",
    "\n",
    "![sequencencia](img/sequencia.png)\n"
   ]
  },
  {
   "cell_type": "markdown",
   "metadata": {},
   "source": [
    "#### Índice (Index)"
   ]
  },
  {
   "cell_type": "code",
   "execution_count": null,
   "metadata": {},
   "outputs": [],
   "source": [
    "itens = [45, 81, 13, 20, 45, 98]\n",
    "new = [59, 97, 35]"
   ]
  },
  {
   "cell_type": "code",
   "execution_count": null,
   "metadata": {},
   "outputs": [],
   "source": [
    "type(itens)"
   ]
  },
  {
   "cell_type": "code",
   "execution_count": null,
   "metadata": {},
   "outputs": [],
   "source": [
    "# Índice representa a posição do elemento\n",
    "itens[-5]"
   ]
  },
  {
   "cell_type": "markdown",
   "metadata": {},
   "source": [
    "#### Fatiar (Slice)\n",
    "\n",
    "![fatiar](img/slice.png)"
   ]
  },
  {
   "cell_type": "code",
   "execution_count": null,
   "metadata": {},
   "outputs": [],
   "source": [
    "# Fatia a sequência de i até j\n",
    "itens[:]"
   ]
  },
  {
   "cell_type": "code",
   "execution_count": null,
   "metadata": {},
   "outputs": [],
   "source": [
    "# Fatia a sequência de i até j\n",
    "itens[2:]"
   ]
  },
  {
   "cell_type": "code",
   "execution_count": null,
   "metadata": {},
   "outputs": [],
   "source": [
    "# Fatia a sequência de i até j com k passos\n",
    "itens[1:5:]"
   ]
  },
  {
   "cell_type": "markdown",
   "metadata": {},
   "source": [
    "#### Operações comuns das sequências"
   ]
  },
  {
   "cell_type": "code",
   "execution_count": null,
   "metadata": {},
   "outputs": [],
   "source": [
    "# in verifica se um objeto existe em uma sequência\n",
    "10 in itens"
   ]
  },
  {
   "cell_type": "code",
   "execution_count": null,
   "metadata": {},
   "outputs": [],
   "source": [
    "# not in verifica se um objeto não existe na sequência\n",
    "10 not in itens"
   ]
  },
  {
   "cell_type": "code",
   "execution_count": null,
   "metadata": {},
   "outputs": [],
   "source": [
    "# \"+\"\" concatena uma sequência com outra sequência\n",
    "itens + new"
   ]
  },
  {
   "cell_type": "code",
   "execution_count": null,
   "metadata": {},
   "outputs": [],
   "source": [
    "# \"*\" repete uma sequência n vezes\n",
    "print(new*2)"
   ]
  },
  {
   "cell_type": "markdown",
   "metadata": {},
   "source": [
    "Sequências do mesmo tipo também suportam comparações. Em particular, **listas** e **tuplas** são comparadas lexicograficamente através da comparação dos elementos correspondentes.\n",
    "\n",
    "![comparacaolista](img/comparacao_lista.png)"
   ]
  },
  {
   "cell_type": "code",
   "execution_count": null,
   "metadata": {},
   "outputs": [],
   "source": [
    "# Comparação\n",
    "new >= itens"
   ]
  },
  {
   "cell_type": "code",
   "execution_count": null,
   "metadata": {},
   "outputs": [],
   "source": [
    "type(itens)"
   ]
  },
  {
   "cell_type": "code",
   "execution_count": null,
   "metadata": {},
   "outputs": [],
   "source": [
    "tuple(new) >= itens"
   ]
  },
  {
   "cell_type": "markdown",
   "metadata": {},
   "source": [
    "#### Funções comuns das sequências "
   ]
  },
  {
   "cell_type": "code",
   "execution_count": null,
   "metadata": {},
   "outputs": [],
   "source": [
    "# len(itens) retorna o tamanho da sequência\n",
    "len(itens)"
   ]
  },
  {
   "cell_type": "code",
   "execution_count": null,
   "metadata": {},
   "outputs": [],
   "source": [
    "# min(itens) retorna o menor objeto da sequência\n",
    "min(itens)"
   ]
  },
  {
   "cell_type": "code",
   "execution_count": null,
   "metadata": {},
   "outputs": [],
   "source": [
    "# max(itens) retorna o maior objeto da sequência\n",
    "max(itens)"
   ]
  },
  {
   "cell_type": "code",
   "execution_count": null,
   "metadata": {},
   "outputs": [],
   "source": [
    "help(max)"
   ]
  },
  {
   "cell_type": "code",
   "execution_count": null,
   "metadata": {},
   "outputs": [],
   "source": [
    "max(5,10,3,54,60)"
   ]
  },
  {
   "cell_type": "markdown",
   "metadata": {},
   "source": [
    "#### Métodos comuns das sequências"
   ]
  },
  {
   "cell_type": "code",
   "execution_count": null,
   "metadata": {
    "scrolled": true
   },
   "outputs": [],
   "source": [
    "itens"
   ]
  },
  {
   "cell_type": "code",
   "execution_count": null,
   "metadata": {},
   "outputs": [],
   "source": [
    "# sequence.index(x[, i[, j]]) retorna o indice da primeira ocorrencia do x (no ou depois do índice i e antes do índice j)\n",
    "itens.index(45) # i e j são opcionais"
   ]
  },
  {
   "cell_type": "code",
   "execution_count": null,
   "metadata": {},
   "outputs": [],
   "source": [
    "# sequence.count(x) retorna o numero de ocorrencias de x na sequências\n",
    "itens.count(45)"
   ]
  },
  {
   "cell_type": "markdown",
   "metadata": {},
   "source": [
    "### Lista\n",
    "\n",
    "As listas ([**list**](https://docs.python.org/3/library/stdtypes.html#list)) são sequências **mutáveis**, normalmente usadas para armazenar coleções de itens homogêneos (podendo ser uma lista heterogênea dependendo da aplicação)."
   ]
  },
  {
   "cell_type": "code",
   "execution_count": null,
   "metadata": {},
   "outputs": [],
   "source": [
    "# list() podemos criar uma lista ou tranformar uma sequencia em lista\n",
    "lista1 = list() \n",
    "lista1"
   ]
  },
  {
   "cell_type": "code",
   "execution_count": null,
   "metadata": {},
   "outputs": [],
   "source": [
    "# [] podemos criar uma lista em branco\n",
    "lista2 = [] \n",
    "lista2"
   ]
  },
  {
   "cell_type": "code",
   "execution_count": null,
   "metadata": {},
   "outputs": [],
   "source": [
    "# Exemplo de lista\n",
    "alunos = [\"Paulo\",\"Gabriel\",\"Paloma\",\"Bruna\",\"Thiago\",\"Mylena\"]\n",
    "alunos"
   ]
  },
  {
   "cell_type": "markdown",
   "metadata": {},
   "source": [
    "#### Listas em for"
   ]
  },
  {
   "cell_type": "code",
   "execution_count": null,
   "metadata": {},
   "outputs": [],
   "source": [
    "# exemplo de for 1\n",
    "for aluno in alunos:\n",
    "    print(aluno)"
   ]
  },
  {
   "cell_type": "code",
   "execution_count": null,
   "metadata": {},
   "outputs": [],
   "source": [
    "len(alunos)"
   ]
  },
  {
   "cell_type": "code",
   "execution_count": null,
   "metadata": {},
   "outputs": [],
   "source": [
    "range(6)"
   ]
  },
  {
   "cell_type": "code",
   "execution_count": null,
   "metadata": {},
   "outputs": [],
   "source": [
    "# exemplo de for 2\n",
    "for i in range(len(alunos)):\n",
    "    print(i,alunos[i])"
   ]
  },
  {
   "cell_type": "markdown",
   "metadata": {},
   "source": [
    "#### Operações em listas\n",
    "\n",
    "Por se tratar de uma seguência mutavél, além das [operações comuns das sequência](#Operações-comuns-das-sequências), também podemos realizar as operações abaixo:"
   ]
  },
  {
   "cell_type": "code",
   "execution_count": null,
   "metadata": {},
   "outputs": [],
   "source": [
    "# s[i] = x o objeto na posição i de s é trocado por x\n",
    "itens = [45, 81, 13, 20, 45, 98]\n",
    "itens[0] = 35\n",
    "itens"
   ]
  },
  {
   "cell_type": "code",
   "execution_count": null,
   "metadata": {},
   "outputs": [],
   "source": [
    "# s[i:j] = t a fatia da lista de i a j é substituída pelo conteúdo de t\n",
    "itens = [45, 81, 13, 20, 45, 98]\n",
    "itens[2:5] = [28, 79, 92]\n",
    "itens"
   ]
  },
  {
   "cell_type": "code",
   "execution_count": null,
   "metadata": {},
   "outputs": [],
   "source": [
    "# del s[i:j] deleta a fatia da sequencia\n",
    "itens = [45, 81, 13, 20, 45, 98]\n",
    "del itens[2:5] # itens[2:5] = []\n",
    "itens"
   ]
  },
  {
   "cell_type": "code",
   "execution_count": null,
   "metadata": {},
   "outputs": [],
   "source": [
    "# s[i:j:k] = t a fatia da lista de i a j é substituída pelo conteúdo de t\n",
    "itens = [45, 81, 13, 20, 45, 98]\n",
    "itens[0:6:2] = [28, 79, 92]\n",
    "itens"
   ]
  },
  {
   "cell_type": "code",
   "execution_count": null,
   "metadata": {},
   "outputs": [],
   "source": [
    "# del s[i:j] deleta a fatia da sequência\n",
    "itens = [45, 81, 13, 20, 45, 98]\n",
    "del itens[0:6:2] # itens[0:6:2] = []\n",
    "itens"
   ]
  },
  {
   "cell_type": "markdown",
   "metadata": {},
   "source": [
    "#### Tipagem dinâmica em lista\n",
    "\n",
    "Na tipagem dinâmica variavéis e objetos são armazenados em partes diferentes da memória e sempre estão ligados. Variavéis sempre são ligados a um objeto, nunca a outra variavél\n",
    "\n",
    "**Expectativa**\n",
    "![tipagem1](img/tipagemdinamica1.png)\n",
    "\n",
    "**Realidade**\n",
    "![tipagem2](img/tipagemdinamica2.png)"
   ]
  },
  {
   "cell_type": "code",
   "execution_count": null,
   "metadata": {},
   "outputs": [],
   "source": [
    "# Atribuímos L1 em L2\n",
    "L1 = [33, 86, 97]\n",
    "L2 = L1\n",
    "\n",
    "# Modificamos o objeto atribuido a L2\n",
    "L2[1] = 55\n",
    "L1"
   ]
  },
  {
   "cell_type": "code",
   "execution_count": null,
   "metadata": {},
   "outputs": [],
   "source": [
    "# Atribuímos L1 em L2\n",
    "L1 = [33, 86, 97]\n",
    "L2 = L1\n",
    "\n",
    "# Modificamos o objeto atribuido a L1\n",
    "L1[1] = 55\n",
    "L2"
   ]
  },
  {
   "cell_type": "code",
   "execution_count": null,
   "metadata": {},
   "outputs": [],
   "source": [
    "# Atribuímos L1 em L2\n",
    "L1 = [33, 86, 97]\n",
    "L2 = L1\n",
    "\n",
    "# Atribuímos outro objeto a L1\n",
    "L1 = [11, 84, 29]\n",
    "L2"
   ]
  },
  {
   "cell_type": "code",
   "execution_count": null,
   "metadata": {},
   "outputs": [],
   "source": [
    "# As duas variavéis se referem a uma mesma lista \n",
    "L1 = [33, 86, 97]\n",
    "L2 = L1 # Shallow copy\n",
    "\n",
    "L1 == L2, L1 is L2"
   ]
  },
  {
   "cell_type": "code",
   "execution_count": null,
   "metadata": {},
   "outputs": [],
   "source": [
    "# As duas variáveis se referem a uma lista com os mesmos itens\n",
    "L1 = [33, 86, 97]\n",
    "L2 = [33, 86, 97]\n",
    "\n",
    "L1 == L2, L1 is L2"
   ]
  },
  {
   "cell_type": "markdown",
   "metadata": {},
   "source": [
    "#### Métodos em listas\n",
    "\n",
    "Listas implementam todas os [métodos comuns das sequências](#Métodos-comuns-das-sequências), juntamente com os métodos adicionais abaixo."
   ]
  },
  {
   "cell_type": "code",
   "execution_count": null,
   "metadata": {},
   "outputs": [],
   "source": [
    "L1 = [33, 86, 97]"
   ]
  },
  {
   "cell_type": "code",
   "execution_count": null,
   "metadata": {},
   "outputs": [],
   "source": [
    "# l.append(x) adiciona x no final da sequencia (igual a s[len(s):len(s)] = [x])\n",
    "L1.append(33)\n",
    "L1"
   ]
  },
  {
   "cell_type": "code",
   "execution_count": null,
   "metadata": {},
   "outputs": [],
   "source": [
    "# l.pop(i) retorna o item na posição i e retira o item de l\n",
    "x = L1.pop(3)\n",
    "print(x)\n",
    "print(L1)"
   ]
  },
  {
   "cell_type": "code",
   "execution_count": null,
   "metadata": {},
   "outputs": [],
   "source": [
    "# l.insert(i,x) insere x em s na posição dada pelo índice i\n",
    "L1.insert(1,50)\n",
    "L1"
   ]
  },
  {
   "cell_type": "code",
   "execution_count": null,
   "metadata": {},
   "outputs": [],
   "source": [
    "# l.remove(x) remove o primeiro item de l onde l[i] é igual x\n",
    "L1.remove(97)\n",
    "L1"
   ]
  },
  {
   "cell_type": "code",
   "execution_count": null,
   "metadata": {},
   "outputs": [],
   "source": [
    "# l.extend(t) extende l com os conteudos de t\n",
    "L2 = [43, 22, 85]\n",
    "L1.extend([L2]) # L1 = L1 + L2 parecido\n",
    "L1"
   ]
  },
  {
   "cell_type": "code",
   "execution_count": null,
   "metadata": {},
   "outputs": [],
   "source": [
    "# Podemos ter uma lista dentro de outra lista\n",
    "L1[3][1]"
   ]
  },
  {
   "cell_type": "code",
   "execution_count": null,
   "metadata": {},
   "outputs": [],
   "source": [
    "# l.copy() cria uma deep copy de l (igual a l[:])\n",
    "L2 = L1.copy()\n",
    "L2"
   ]
  },
  {
   "cell_type": "code",
   "execution_count": null,
   "metadata": {},
   "outputs": [],
   "source": [
    "# l.clear() remove todos os itens del (igual a  del l[:])\n",
    "L2.clear()\n",
    "L2"
   ]
  },
  {
   "cell_type": "code",
   "execution_count": null,
   "metadata": {},
   "outputs": [],
   "source": [
    "# l.reverse() inverte os itens de s de lugar\n",
    "L1.reverse()\n",
    "L1"
   ]
  },
  {
   "cell_type": "markdown",
   "metadata": {},
   "source": [
    "Veja que L1 não teve alteração nos valores como teve L2, porque realizamos uma cópia *Deep* "
   ]
  },
  {
   "cell_type": "markdown",
   "metadata": {},
   "source": [
    "#### Lista de Lista\n",
    "\n",
    "![listadelista](img/listadelista.png)"
   ]
  },
  {
   "cell_type": "code",
   "execution_count": null,
   "metadata": {},
   "outputs": [],
   "source": [
    "# Exemplo\n",
    "mercado = [[\"pera\",100,4.9],[\"manga\",20,3.9],[\"uva\",30,5.9],[\"caju\",15,3.5]]\n",
    "mercado[3][1]"
   ]
  },
  {
   "cell_type": "markdown",
   "metadata": {},
   "source": [
    "### Tuplas (tuples)\n",
    "\n",
    "Tuplas são sequências imutáveis, normalmente usadas para armazenar coleções de dados heterogêneos. As tuplas também são usadas nos casos em que é necessária uma sequência imutável de dados homogêneos."
   ]
  },
  {
   "cell_type": "markdown",
   "metadata": {},
   "source": [
    "As tuplas podem ser construídas de várias maneiras:\n",
    "\n",
    "- Usando um par de parênteses para indicar a tupla vazia: ()\n",
    "\n",
    "- Usando uma vírgula à direita para uma tupla de um item (singleton): a, ou (a,)\n",
    "\n",
    "- Separando itens por vírgulas: a, b, c ou (a, b, c)\n",
    "\n",
    "- Usando a tupla () incorporada: tupla () ou tupla (iterável)"
   ]
  },
  {
   "cell_type": "code",
   "execution_count": null,
   "metadata": {},
   "outputs": [],
   "source": [
    "x = (5,\"cinco\")\n",
    "x"
   ]
  },
  {
   "cell_type": "code",
   "execution_count": null,
   "metadata": {},
   "outputs": [],
   "source": [
    "(x,y) = (5,\"cinco\")\n",
    "(x,y)"
   ]
  },
  {
   "cell_type": "code",
   "execution_count": null,
   "metadata": {},
   "outputs": [],
   "source": [
    "t = (81, 88, 65, 37, 44, 70, 23, 66)\n",
    "t"
   ]
  },
  {
   "cell_type": "code",
   "execution_count": null,
   "metadata": {},
   "outputs": [],
   "source": [
    "# Indexar\n",
    "t[5]"
   ]
  },
  {
   "cell_type": "code",
   "execution_count": null,
   "metadata": {},
   "outputs": [],
   "source": [
    "# Fatiar\n",
    "t[2:7:1]"
   ]
  },
  {
   "cell_type": "code",
   "execution_count": null,
   "metadata": {},
   "outputs": [],
   "source": [
    "# len()\n",
    "len(t)"
   ]
  },
  {
   "cell_type": "code",
   "execution_count": null,
   "metadata": {},
   "outputs": [],
   "source": [
    "t = (65,37,44,50)\n",
    "t"
   ]
  },
  {
   "cell_type": "markdown",
   "metadata": {},
   "source": [
    "#### Tuplas são imutáveis\n",
    "\n",
    "Por se tratar de uma sequência imutavel somente podemos realizar somente [operações comuns das sequência](#Operações-comuns-das-sequências)"
   ]
  },
  {
   "cell_type": "code",
   "execution_count": null,
   "metadata": {},
   "outputs": [],
   "source": [
    "t[3] = 15"
   ]
  },
  {
   "cell_type": "markdown",
   "metadata": {},
   "source": [
    "#### Tuplas em for"
   ]
  },
  {
   "cell_type": "code",
   "execution_count": null,
   "metadata": {},
   "outputs": [],
   "source": [
    "# exemplo 1\n",
    "for x in (10,1,8,7,4,7,4,0,9,3):\n",
    "    print (x)"
   ]
  },
  {
   "cell_type": "code",
   "execution_count": null,
   "metadata": {},
   "outputs": [],
   "source": [
    "# exemplo 2\n",
    "for x in ((10, 1), (8, 7), (4, 7), (4, 0), (9, 3)):\n",
    "    print (x)"
   ]
  },
  {
   "cell_type": "code",
   "execution_count": null,
   "metadata": {},
   "outputs": [],
   "source": [
    "# exemplo 2\n",
    "for x,y in ((10, 1), (8, 7), (4, 7), (4, 0), (9, 3)):\n",
    "    print(x,y)"
   ]
  },
  {
   "cell_type": "code",
   "execution_count": null,
   "metadata": {},
   "outputs": [],
   "source": [
    "# exemplo 3\n",
    "for x,y,z in ((10, 8, 5), (3, 0, 10), (10, 2, 5), (6, 5, 9), (9, 5, 6)):\n",
    "    print(x,y,z)"
   ]
  },
  {
   "cell_type": "code",
   "execution_count": null,
   "metadata": {},
   "outputs": [],
   "source": [
    "# zip(iteravel,iteravel,...) Agrega itens em uma mesma posição formando seguências de tuplas\n",
    "for ponto in zip([ 11,, 2, 9, 0], [4, 7, 10, 7, 5]):\n",
    "    print(ponto)"
   ]
  },
  {
   "cell_type": "code",
   "execution_count": null,
   "metadata": {
    "scrolled": true
   },
   "outputs": [],
   "source": [
    "# exemplo 4\n",
    "itens = [45, 81, 13, 20, 45, 98]\n",
    "for (i,item) in enumerate(itens):\n",
    "    print(i,item)"
   ]
  },
  {
   "cell_type": "markdown",
   "metadata": {},
   "source": [
    "### String como sequência\n",
    "\n",
    "Os dados textuais no Python são manipulados com objetos str, ou *strings*. Strings são sequências imutáveis de caracteres. Strings podem ser escritos de várias maneiras:\n",
    "\n",
    "- Aspas simples: 'permite aspas \"duplas\" incorporadas'\n",
    "\n",
    "- Aspas duplas: \"permite aspas 'simples' incorporadas\".\n",
    "\n",
    "- Triplo entre aspas: '''três aspas simples''', \"\"\"três aspas duplas\"\"\"\n",
    "\n",
    "Sequência de caracteres triplas entre aspas podem abranger várias linhas - todos os espaços em branco associados serão incluídos na literal da sequência. Normalmente usados quando queremos deixar varias linhas de código comentado"
   ]
  },
  {
   "cell_type": "code",
   "execution_count": null,
   "metadata": {},
   "outputs": [],
   "source": [
    "\"LISComp 'IFRJ'\""
   ]
  },
  {
   "cell_type": "code",
   "execution_count": null,
   "metadata": {},
   "outputs": [],
   "source": [
    "'LISComp \"IFRJ\"'"
   ]
  },
  {
   "cell_type": "code",
   "execution_count": null,
   "metadata": {},
   "outputs": [],
   "source": [
    "\"\"\"LISComp IFRJ\"\"\""
   ]
  },
  {
   "cell_type": "code",
   "execution_count": null,
   "metadata": {},
   "outputs": [],
   "source": [
    "'''LISComp IFRJ'''"
   ]
  },
  {
   "cell_type": "markdown",
   "metadata": {},
   "source": [
    "![string](img/string.png)"
   ]
  },
  {
   "cell_type": "code",
   "execution_count": null,
   "metadata": {},
   "outputs": [],
   "source": [
    "lab = \"LISComp\"\n",
    "lab"
   ]
  },
  {
   "cell_type": "code",
   "execution_count": null,
   "metadata": {},
   "outputs": [],
   "source": [
    "# Indexar\n",
    "lab[3] "
   ]
  },
  {
   "cell_type": "code",
   "execution_count": null,
   "metadata": {},
   "outputs": [],
   "source": [
    "# Fatiar\n",
    "lab[1:6]"
   ]
  },
  {
   "cell_type": "code",
   "execution_count": null,
   "metadata": {},
   "outputs": [],
   "source": [
    "# Tamanho da string, espacos brancos contam tambem\n",
    "len(lab)"
   ]
  },
  {
   "cell_type": "markdown",
   "metadata": {},
   "source": [
    "#### Strings são imutaveis\n",
    "\n",
    "Por se tratar de uma sequência imutável somente podemos realizar somente [operações comuns das sequência](#Operações-comuns-das-sequências)"
   ]
  },
  {
   "cell_type": "code",
   "execution_count": null,
   "metadata": {
    "scrolled": true
   },
   "outputs": [],
   "source": [
    "lab[3] = \"b\""
   ]
  },
  {
   "cell_type": "markdown",
   "metadata": {},
   "source": [
    "#### Comparações em string\n",
    "\n"
   ]
  },
  {
   "cell_type": "markdown",
   "metadata": {},
   "source": [
    "##### Números"
   ]
  },
  {
   "cell_type": "code",
   "execution_count": null,
   "metadata": {
    "scrolled": true
   },
   "outputs": [],
   "source": [
    "\"9\" > \"8\""
   ]
  },
  {
   "cell_type": "code",
   "execution_count": null,
   "metadata": {
    "scrolled": false
   },
   "outputs": [],
   "source": [
    "\"91\" > \"82151\""
   ]
  },
  {
   "cell_type": "code",
   "execution_count": null,
   "metadata": {
    "scrolled": true
   },
   "outputs": [],
   "source": [
    "\"213\" > \"115\""
   ]
  },
  {
   "cell_type": "markdown",
   "metadata": {},
   "source": [
    "##### Letras\n",
    "As comparações em strings são feitas de acordo com a ordem alfabética  das palavras\n",
    "\n",
    "A ordem alfabética em Python é: **abcdefghijklmnopqrstuvwxyzABCDEFGHIJKLMNOPQRSTUVWXYZ** "
   ]
  },
  {
   "cell_type": "code",
   "execution_count": null,
   "metadata": {
    "scrolled": true
   },
   "outputs": [],
   "source": [
    "\"Douglitas\" > \"Paulinho\""
   ]
  },
  {
   "cell_type": "code",
   "execution_count": null,
   "metadata": {},
   "outputs": [],
   "source": [
    "\"Paloma\" > \"Paulinho\""
   ]
  },
  {
   "cell_type": "code",
   "execution_count": null,
   "metadata": {},
   "outputs": [],
   "source": [
    "\"Jennifer\" > \"Paulinho\""
   ]
  },
  {
   "cell_type": "code",
   "execution_count": null,
   "metadata": {},
   "outputs": [],
   "source": [
    "\"Bruno\" > \"Paulinho\""
   ]
  },
  {
   "cell_type": "code",
   "execution_count": null,
   "metadata": {},
   "outputs": [],
   "source": [
    "\"João\" > \"Paulinho\""
   ]
  },
  {
   "cell_type": "markdown",
   "metadata": {},
   "source": [
    "#### Métodos de String\n",
    "\n",
    "Strings implementam todas os [métodos comuns das sequências](#Métodos-comuns-das-sequências), juntamente com os métodos adicionais abaixo.\n",
    "\n",
    "https://docs.python.org/pt-br/3.8/library/stdtypes.html#text-sequence-type-str"
   ]
  },
  {
   "cell_type": "markdown",
   "metadata": {},
   "source": [
    "|              |                | String Methods |              |                  |\n",
    "|:------------:|:--------------:|:--------------:|:------------:|:----------------:|\n",
    "| capitalize() |     index()    |  isprintable() |   replace()  |   startswith()   |\n",
    "|  casefold()  |    isalnum()   |    isspace()   |    rfind()   |      strip()     |\n",
    "|   center()   |    isalpha()   |    istitle()   |   rindex()   |    swapcase()    |\n",
    "|   encode()   |    isascii()   |    isupper()   |    rjust()   |      title()     |\n",
    "|  endswith()  |   isdecimal()  |     join()     | rpartition() | translate(table) |\n",
    "| expandtabs() |    isdigit()   |     ljust()    |   rsplit()   |      upper()     |\n",
    "|    find()    | isidentifier() |     lower()    |   rstrip()   |      zfill()     |\n",
    "|   format()   |    islower()   |    lstrip()    |    split()   |                  |\n",
    "| format_map() |   isnumeric()  |   partition()  | splitlines() |                  |"
   ]
  },
  {
   "cell_type": "code",
   "execution_count": null,
   "metadata": {},
   "outputs": [],
   "source": [
    "lab = \"Laboratorio de Instrumentacao e Simulacao Computacional\"\n",
    "lab"
   ]
  },
  {
   "cell_type": "code",
   "execution_count": null,
   "metadata": {},
   "outputs": [],
   "source": [
    "# string.upper() Converte todas as letras para maiúsculas\n",
    "lab.upper()"
   ]
  },
  {
   "cell_type": "code",
   "execution_count": null,
   "metadata": {},
   "outputs": [],
   "source": [
    "# string.lower() Converte todas as letras para minúsculas\n",
    "lab.lower()"
   ]
  },
  {
   "cell_type": "code",
   "execution_count": null,
   "metadata": {},
   "outputs": [],
   "source": [
    "# string.title() Converte as letras iniciais de cada palavra para maiúsculas\n",
    "lab.title()"
   ]
  },
  {
   "cell_type": "code",
   "execution_count": null,
   "metadata": {},
   "outputs": [],
   "source": [
    "help(str.title)"
   ]
  },
  {
   "cell_type": "code",
   "execution_count": null,
   "metadata": {},
   "outputs": [],
   "source": [
    "# string.split(sep=None, maxsplit=-1) \n",
    "# Retorna uma lista de palavras de acordo com o sep e quantas vezes o maxsplit indicar\n",
    "print(lab.split())\n",
    "print(lab.split(\" \"))\n",
    "print(lab.split(sep = \" \",maxsplit = 2))"
   ]
  },
  {
   "cell_type": "code",
   "execution_count": null,
   "metadata": {},
   "outputs": [],
   "source": [
    "# string.strip([chars])\n",
    "# Retornar uma copia do string com os caracteres iniciais e finais removidos\n",
    "comment_string = \"#....... Section 3.2.1 Issue #32 .......\"\n",
    "comment_string.strip(\".#! \")"
   ]
  },
  {
   "cell_type": "code",
   "execution_count": null,
   "metadata": {},
   "outputs": [],
   "source": [
    "# string.format()\n",
    "# retorna uma nova sequencia com os campos de substituicao substituidos por seus parametros formatados adequadamente.\n",
    "print(\"Primeiro, contara ate {0}\".format(5,7,10)) # Referencia ao primeiro parametro \n",
    "print(\"Traga-me um {}\".format(\"tomate\",\"batata\")) # Implicitamente se refere ao primeiro parametro \n",
    "print(\"De {} a {} qual e o nivel de dor?\".format(0,10)) # Igual a \"De {0} a {1}\"\n",
    "print(\"Eu busco o {name}\".format(name=\"Paulo\",idade=22)) # Argumento da palavra-chave de referencias 'name'References keyword argument 'name'\n",
    "print(\"Unidades destruídas: {players[0]}\".format(players = [5,8,10])) # Primeiro elemento do parametro da palavra-chave 'players'."
   ]
  },
  {
   "cell_type": "code",
   "execution_count": null,
   "metadata": {},
   "outputs": [],
   "source": [
    "\"Primeiro, contara ate {1:.2f}\".format(\"Paulo\",3.1415,25)"
   ]
  },
  {
   "cell_type": "code",
   "execution_count": null,
   "metadata": {},
   "outputs": [],
   "source": [
    "\"Primeiro, contara ate %.2f\" % (3.1415)"
   ]
  },
  {
   "cell_type": "markdown",
   "metadata": {},
   "source": [
    "#### Strings em for"
   ]
  },
  {
   "cell_type": "code",
   "execution_count": null,
   "metadata": {},
   "outputs": [],
   "source": [
    "lab = \"LISComp\""
   ]
  },
  {
   "cell_type": "code",
   "execution_count": null,
   "metadata": {},
   "outputs": [],
   "source": [
    "for pos in range(len(lab)):\n",
    "    print(pos,lab[pos])"
   ]
  },
  {
   "cell_type": "code",
   "execution_count": null,
   "metadata": {},
   "outputs": [],
   "source": [
    "for pos,letra in enumerate(lab):\n",
    "    print(pos,letra)"
   ]
  },
  {
   "cell_type": "markdown",
   "metadata": {},
   "source": [
    "<!--NAVIGATION-->\n",
    "< [Estrutura de repetição](10.Estrutura_de_repeticao.ipynb) | [Sumario](00.Sumario.ipynb) | [Arquivos de texto](12.Arquivos_de_texto.ipynb) >\n",
    "\n",
    "<a href=\"https://colab.research.google.com/github/psloliveirajr/Introducao_a_Python3/blob/master/11.Sequencia_de_objetos.ipynb\"><img align=\"left\" src=\"https://colab.research.google.com/assets/colab-badge.svg\" alt=\"Open in Colab\" title=\"Open and Execute in Google Colaboratory\"></a>"
   ]
  }
 ],
 "metadata": {
  "kernelspec": {
   "display_name": "Python 3",
   "language": "python",
   "name": "python3"
  },
  "language_info": {
   "codemirror_mode": {
    "name": "ipython",
    "version": 3
   },
   "file_extension": ".py",
   "mimetype": "text/x-python",
   "name": "python",
   "nbconvert_exporter": "python",
   "pygments_lexer": "ipython3",
   "version": "3.8.5"
  },
  "nbTranslate": {
   "displayLangs": [
    "fr",
    "en"
   ],
   "hotkey": "alt-t",
   "langInMainMenu": true,
   "sourceLang": "en",
   "targetLang": "fr",
   "useGoogleTranslate": true
  },
  "toc": {
   "base_numbering": 1,
   "nav_menu": {},
   "number_sections": true,
   "sideBar": true,
   "skip_h1_title": false,
   "title_cell": "Table of Contents",
   "title_sidebar": "Contents",
   "toc_cell": false,
   "toc_position": {},
   "toc_section_display": true,
   "toc_window_display": false
  },
  "varInspector": {
   "cols": {
    "lenName": 16,
    "lenType": 16,
    "lenVar": 40
   },
   "kernels_config": {
    "python": {
     "delete_cmd_postfix": "",
     "delete_cmd_prefix": "del ",
     "library": "var_list.py",
     "varRefreshCmd": "print(var_dic_list())"
    },
    "r": {
     "delete_cmd_postfix": ") ",
     "delete_cmd_prefix": "rm(",
     "library": "var_list.r",
     "varRefreshCmd": "cat(var_dic_list()) "
    }
   },
   "types_to_exclude": [
    "module",
    "function",
    "builtin_function_or_method",
    "instance",
    "_Feature"
   ],
   "window_display": false
  }
 },
 "nbformat": 4,
 "nbformat_minor": 4
}
