{
 "cells": [
  {
   "cell_type": "markdown",
   "metadata": {},
   "source": [
    "<!--NAVIGATION-->\n",
    "< [Funções básicas](05.Funcoes_basicas.ipynb) | [Sumario](00.Sumario.ipynb) | [Estrutura de seleção](07.Estrutura_de_selecao.ipynb) >\n",
    "\n",
    "<a href=\"https://colab.research.google.com/github/psloliveirajr/Introducao_a_Python3/blob/master/06.Debugging.ipynb\"><img align=\"left\" src=\"https://colab.research.google.com/assets/colab-badge.svg\" alt=\"Open in Colab\" title=\"Open and Execute in Google Colaboratory\"></a>"
   ]
  },
  {
   "cell_type": "markdown",
   "metadata": {},
   "source": [
    "## Debugging\n",
    "\n",
    "### Syntax error\n",
    "\"Sintaxe\" refere-se à estrutura de um programa e às regras sobre essa estrutura. Por exemplo, os parênteses precisam vir em pares correspondentes, portanto (1 + 2) é legal, mas 8) é um erro de sintaxe.\n",
    "\n",
    "Se houver um erro de sintaxe em qualquer lugar do seu programa, o Python exibirá uma mensagem de erro e será encerrada, e você não poderá executar o programa. Durante as primeiras semanas de sua carreira em programação, você pode gastar muito tempo rastreando erros de sintaxe. À medida que você ganha experiência, cometerá menos erros e os encontrará mais rapidamente."
   ]
  },
  {
   "cell_type": "code",
   "execution_count": null,
   "metadata": {
    "ExecuteTime": {
     "end_time": "2020-08-29T08:20:08.847587Z",
     "start_time": "2020-08-29T08:20:08.844453Z"
    }
   },
   "outputs": [],
   "source": [
    "28laboratorio = \"LISComp\""
   ]
  },
  {
   "cell_type": "markdown",
   "metadata": {},
   "source": [
    "### Runtime error\n",
    "O segundo tipo de erro é um erro de tempo de execução, assim chamado porque o erro não aparece até depois que o programa foi iniciado. Esses erros também são chamados de exceções porque geralmente indicam que algo de excepcional (e ruim) aconteceu."
   ]
  },
  {
   "cell_type": "code",
   "execution_count": null,
   "metadata": {
    "ExecuteTime": {
     "end_time": "2020-08-29T08:20:09.055558Z",
     "start_time": "2020-08-29T08:20:08.950819Z"
    }
   },
   "outputs": [],
   "source": [
    "10/0"
   ]
  },
  {
   "cell_type": "markdown",
   "metadata": {},
   "source": [
    "### Semantic error\n",
    "O terceiro tipo de erro é \"semântico\", o que significa relacionado ao significado. Se houver um erro semântico no seu programa, ele será executado sem gerar mensagens de erro, mas não fará a coisa certa. Isso fará outra coisa. Especificamente, ele fará o que você pediu. Identificar erros semânticos pode ser complicado, pois exige que você trabalhe para trás, observando a saída do programa e tentando descobrir o que está fazendo."
   ]
  },
  {
   "cell_type": "markdown",
   "metadata": {},
   "source": [
    "> Downey, Allen. Think Python. \" O'Reilly Media, Inc.\", 2012."
   ]
  },
  {
   "cell_type": "markdown",
   "metadata": {},
   "source": [
    "Alguns erros em programação podém tirar de você algumas horas de sono, mas, as vezes, para a nossa felicidade alguém já teve o mesmo erro e perguntou no [Stack Overflows](https://pt.stackoverflow.com/). É um site referência para tirar dúvidas, é o Yahoo da programação."
   ]
  },
  {
   "cell_type": "markdown",
   "metadata": {},
   "source": [
    "<!--NAVIGATION-->\n",
    "< [Funções básicas](05.Funcoes_basicas.ipynb) | [Sumario](00.Sumario.ipynb) | [Estrutura de seleção](07.Estrutura_de_selecao.ipynb) >\n",
    "\n",
    "<a href=\"https://colab.research.google.com/github/psloliveirajr/Introducao_a_Python3/blob/master/06.Debugging.ipynb\"><img align=\"left\" src=\"https://colab.research.google.com/assets/colab-badge.svg\" alt=\"Open in Colab\" title=\"Open and Execute in Google Colaboratory\"></a>"
   ]
  }
 ],
 "metadata": {
  "kernelspec": {
   "display_name": "Python 3",
   "language": "python",
   "name": "python3"
  },
  "language_info": {
   "codemirror_mode": {
    "name": "ipython",
    "version": 3
   },
   "file_extension": ".py",
   "mimetype": "text/x-python",
   "name": "python",
   "nbconvert_exporter": "python",
   "pygments_lexer": "ipython3",
   "version": "3.8.5"
  },
  "nbTranslate": {
   "displayLangs": [
    "fr",
    "en"
   ],
   "hotkey": "alt-t",
   "langInMainMenu": true,
   "sourceLang": "en",
   "targetLang": "fr",
   "useGoogleTranslate": true
  },
  "toc": {
   "base_numbering": 1,
   "nav_menu": {},
   "number_sections": true,
   "sideBar": true,
   "skip_h1_title": false,
   "title_cell": "Table of Contents",
   "title_sidebar": "Contents",
   "toc_cell": false,
   "toc_position": {},
   "toc_section_display": true,
   "toc_window_display": false
  },
  "varInspector": {
   "cols": {
    "lenName": 16,
    "lenType": 16,
    "lenVar": 40
   },
   "kernels_config": {
    "python": {
     "delete_cmd_postfix": "",
     "delete_cmd_prefix": "del ",
     "library": "var_list.py",
     "varRefreshCmd": "print(var_dic_list())"
    },
    "r": {
     "delete_cmd_postfix": ") ",
     "delete_cmd_prefix": "rm(",
     "library": "var_list.r",
     "varRefreshCmd": "cat(var_dic_list()) "
    }
   },
   "types_to_exclude": [
    "module",
    "function",
    "builtin_function_or_method",
    "instance",
    "_Feature"
   ],
   "window_display": false
  }
 },
 "nbformat": 4,
 "nbformat_minor": 4
}
