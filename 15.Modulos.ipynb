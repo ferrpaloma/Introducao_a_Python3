{
 "cells": [
  {
   "cell_type": "markdown",
   "metadata": {},
   "source": [
    "<!--NAVIGATION-->\n",
    "< [Dicionário](14.Dicionario.ipynb) | [Sumario](00.Sumario.ipynb) | [Numpy](16.Numpy.ipynb) >\n",
    "\n",
    "<a href=\"https://colab.research.google.com/github/psloliveirajr/Introducao_a_Python3/blob/master/15.Modulos.ipynb\"><img align=\"left\" src=\"https://colab.research.google.com/assets/colab-badge.svg\" alt=\"Open in Colab\" title=\"Open and Execute in Google Colaboratory\"></a>"
   ]
  },
  {
   "cell_type": "markdown",
   "metadata": {},
   "source": [
    "## Módulos\n",
    "\n",
    "Um módulo é um arquivo que contém uma coleção de funções. O Python tem diversas funções base e milhares de funções criadas por usuários, funções essas que tornam o Python umas das linguagens de programação mais usada do mundo. \n",
    "\n",
    "Para usarmos as funções contidas nos módulos temos que o importa usando a **estrutura import**"
   ]
  },
  {
   "cell_type": "code",
   "execution_count": null,
   "metadata": {
    "ExecuteTime": {
     "end_time": "2020-08-29T08:24:55.421884Z",
     "start_time": "2020-08-29T08:24:55.397174Z"
    }
   },
   "outputs": [],
   "source": [
    "# Podemos usar o help para trazer o docstring(um documento do módulo ou função)\n",
    "import math # importa o módulo de funções matemáticas\n",
    "help(math)"
   ]
  },
  {
   "cell_type": "code",
   "execution_count": null,
   "metadata": {
    "ExecuteTime": {
     "end_time": "2020-08-29T08:24:59.564387Z",
     "start_time": "2020-08-29T08:24:55.424838Z"
    }
   },
   "outputs": [],
   "source": [
    "# Calcular o seno e o cosseno de um ângulo\n",
    "graus = int(input(\"Digite um grau inteiro: \")) # Recebe o grau\n",
    "radianos = math.radians(graus) # Converte em radianos\n",
    "print(\"Seno de \",graus,\" graus é \",math.sin(radianos)) # imprime o seno\n",
    "print(\"Cosseno de \",graus,\" graus é \",math.cos(radianos)) # imprime o cosseno"
   ]
  },
  {
   "cell_type": "markdown",
   "metadata": {},
   "source": [
    "Importa um módulo inteiro não é necessário, então podemos importar somente algumas funções com as estruturas **from** e **import**. Isso tornara nosso código mais intuitivo para aqueles que forem olhar o código."
   ]
  },
  {
   "cell_type": "code",
   "execution_count": null,
   "metadata": {
    "ExecuteTime": {
     "end_time": "2020-08-29T08:25:02.495111Z",
     "start_time": "2020-08-29T08:24:59.568269Z"
    }
   },
   "outputs": [],
   "source": [
    "# Calcular o seno e o cosseno de um ângulo\n",
    "from math import radians,sin,cos # importa o módulo de funções matemáticas\n",
    "graus = int(input(\"Digite um grau inteiro: \")) # Recebe o grau\n",
    "radianos = radians(graus) # Converte em radianos\n",
    "print(\"Seno de \",graus,\" graus é \",sin(radianos)) # imprime o seno\n",
    "print(\"Cosseno de \",graus,\" graus é \",cos(radianos)) # imprime o cosseno"
   ]
  },
  {
   "cell_type": "markdown",
   "metadata": {},
   "source": [
    "Na maioria das vezes mudamos os nomes dos módulos que importamos, para isso usamos a estrutura **as**"
   ]
  },
  {
   "cell_type": "code",
   "execution_count": null,
   "metadata": {
    "ExecuteTime": {
     "end_time": "2020-08-29T08:25:02.502964Z",
     "start_time": "2020-08-29T08:25:02.497847Z"
    }
   },
   "outputs": [],
   "source": [
    "import math as matematica\n",
    "from math import radians as radianos\n",
    "\n",
    "print(matematica.pi)\n",
    "print(radianos(180))"
   ]
  },
  {
   "cell_type": "markdown",
   "metadata": {},
   "source": [
    "Para problemas cada vez mais complexos e com muito mais dados, será necessário uma estruras de armazenamento de dados muito mais eficiente das quais o Python nos oferece. Iremos estudar dois módulos essenciais para qualquer um que queira trabalhar com python, são eles Numpy e Pandas. Esses dois módulos nos oferecem novos objetos com seus métodos e diversas funções."
   ]
  },
  {
   "cell_type": "markdown",
   "metadata": {},
   "source": [
    "<!--NAVIGATION-->\n",
    "< [Dicionário](14.Dicionario.ipynb) | [Sumario](00.Sumario.ipynb) | [Numpy](16.Numpy.ipynb) >\n",
    "\n",
    "<a href=\"https://colab.research.google.com/github/psloliveirajr/Introducao_a_Python3/blob/master/15.Modulos.ipynb\"><img align=\"left\" src=\"https://colab.research.google.com/assets/colab-badge.svg\" alt=\"Open in Colab\" title=\"Open and Execute in Google Colaboratory\"></a>"
   ]
  }
 ],
 "metadata": {
  "kernelspec": {
   "display_name": "Python 3",
   "language": "python",
   "name": "python3"
  },
  "language_info": {
   "codemirror_mode": {
    "name": "ipython",
    "version": 3
   },
   "file_extension": ".py",
   "mimetype": "text/x-python",
   "name": "python",
   "nbconvert_exporter": "python",
   "pygments_lexer": "ipython3",
   "version": "3.8.5"
  },
  "nbTranslate": {
   "displayLangs": [
    "fr",
    "en"
   ],
   "hotkey": "alt-t",
   "langInMainMenu": true,
   "sourceLang": "en",
   "targetLang": "fr",
   "useGoogleTranslate": true
  },
  "toc": {
   "base_numbering": 1,
   "nav_menu": {},
   "number_sections": true,
   "sideBar": true,
   "skip_h1_title": false,
   "title_cell": "Table of Contents",
   "title_sidebar": "Contents",
   "toc_cell": false,
   "toc_position": {},
   "toc_section_display": true,
   "toc_window_display": false
  },
  "varInspector": {
   "cols": {
    "lenName": 16,
    "lenType": 16,
    "lenVar": 40
   },
   "kernels_config": {
    "python": {
     "delete_cmd_postfix": "",
     "delete_cmd_prefix": "del ",
     "library": "var_list.py",
     "varRefreshCmd": "print(var_dic_list())"
    },
    "r": {
     "delete_cmd_postfix": ") ",
     "delete_cmd_prefix": "rm(",
     "library": "var_list.r",
     "varRefreshCmd": "cat(var_dic_list()) "
    }
   },
   "types_to_exclude": [
    "module",
    "function",
    "builtin_function_or_method",
    "instance",
    "_Feature"
   ],
   "window_display": false
  }
 },
 "nbformat": 4,
 "nbformat_minor": 4
}
