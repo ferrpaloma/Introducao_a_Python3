{
 "cells": [
  {
   "cell_type": "markdown",
   "metadata": {},
   "source": [
    "<!--NAVIGATION-->\n",
    "< [Sequência de objetos](11.Sequencia_de_objetos.ipynb) | [Sumario](00.Sumario.ipynb) | [Conjunto](13.Conjunto.ipynb) >\n",
    "\n",
    "<a href=\"https://colab.research.google.com/github/psloliveirajr/Introducao_a_Python3/blob/master/12.Arquivos_de_texto.ipynb\"><img align=\"left\" src=\"https://colab.research.google.com/assets/colab-badge.svg\" alt=\"Open in Colab\" title=\"Open and Execute in Google Colaboratory\"></a>"
   ]
  },
  {
   "cell_type": "markdown",
   "metadata": {},
   "source": [
    "## Arquivos de texto\n",
    "\n",
    "Um arquivo texto é uma sequência de caracteres, organizada em linhas, que reside em uma área de armazenamento (e.g., disco rígido, pen drive, CD/DVD) sob nome. Nós só trabalharemos com arquivos textos do tipo \".txt\", bastante usado no armazenamento de dados. Outro tipo de arquivo texto muito utilizado é o \".csv\", aqueles que irão trabalhar com muitos dados frenquentemente usarão esse tipo de arquivo texto.\n",
    "\n",
    "Veremos algumas funções que nós permite trabalhar com esses arquivos texto \".txt\", sejá, ler, editar ou criar\n",
    "\n",
    "### Abrindo arquivo texto\n",
    "\n",
    "![arquivo](img/arquivo.png)\n",
    "\n",
    "dados = **open**(“teste.txt”, “r”) \n",
    "- **Caso o arquivo exista**: Abre o arquivo “teste.txt” no modo leitura. A leitura começará sobre o primeiro caractere da primeira linha do arquivo.\n",
    "- **Caso ele não exista**: causa erro **FileNotFoundError**."
   ]
  },
  {
   "cell_type": "code",
   "execution_count": null,
   "metadata": {
    "ExecuteTime": {
     "end_time": "2020-08-29T08:24:29.234332Z",
     "start_time": "2020-08-29T08:24:29.149188Z"
    },
    "scrolled": true
   },
   "outputs": [],
   "source": [
    "dados = open(\"data/teste_1.txt\",\"r\")"
   ]
  },
  {
   "cell_type": "markdown",
   "metadata": {},
   "source": [
    "dados = **open**(“teste.txt”, “w”)\n",
    "- **Caso o arquivo exista**: Apaga o conteúdo atual do arquivo \"teste.txt\" e abre o arquivo no modo escrita. A escrita começará no início do arquivo.\n",
    "- **Caso ele não exista**: Cria o arquivo \"teste.txt\" no diretório e abre o arquivo no modo escrita. A escrita começará no início do arquivo."
   ]
  },
  {
   "cell_type": "code",
   "execution_count": null,
   "metadata": {
    "ExecuteTime": {
     "end_time": "2020-08-29T08:24:29.236264Z",
     "start_time": "2020-08-29T08:24:29.231Z"
    }
   },
   "outputs": [],
   "source": [
    "dados = open(\"data/teste_2.txt\",\"w\")"
   ]
  },
  {
   "cell_type": "markdown",
   "metadata": {},
   "source": [
    "dados = **open**(“teste.txt”, “a”)\n",
    "- **Caso o arquivo exista**: Abre o arquivo \"teste.txt\" no modo anexo sem apagar o conteúdo atual. A escrita começará ao final do arquivo. Isto é: Podemos anexar novas informações ao arquivo.\n",
    "- **Caso ele não exista**: Cria o arquivo \"teste.txt\" no diretório e abre o arquivo no modo anexo. A escrita começará no final do arquivo que no caso é o início do arquivo."
   ]
  },
  {
   "cell_type": "code",
   "execution_count": null,
   "metadata": {
    "ExecuteTime": {
     "end_time": "2020-08-29T08:24:29.342365Z",
     "start_time": "2020-08-29T08:24:29.338135Z"
    }
   },
   "outputs": [],
   "source": [
    "dados = open(\"data/teste_3.txt\",\"a\")"
   ]
  },
  {
   "cell_type": "markdown",
   "metadata": {},
   "source": [
    "### Fechando arquivo texto\n",
    "\n",
    "dados.**close()**\n",
    "- Fecha o arquivo texto aberto e não permite qualquer outra ação no arquivo. Todo arquivo deve ser fechado assim que não sera mais usado nas proximas linhas de código. Arquivos abertos sem nenhuma utilidade ocupam a mémoria ram do computador."
   ]
  },
  {
   "cell_type": "code",
   "execution_count": null,
   "metadata": {
    "ExecuteTime": {
     "end_time": "2020-08-29T08:24:29.459042Z",
     "start_time": "2020-08-29T08:24:29.385553Z"
    }
   },
   "outputs": [],
   "source": [
    "# Exemplo\n",
    "dados = open(\"data/teste.txt\",\"w\")\n",
    "\n",
    "\"...\"\n",
    "\n",
    "dados.close()"
   ]
  },
  {
   "cell_type": "markdown",
   "metadata": {},
   "source": [
    "### Lendo arquivo texto"
   ]
  },
  {
   "cell_type": "code",
   "execution_count": null,
   "metadata": {
    "ExecuteTime": {
     "end_time": "2020-08-29T08:24:29.527233Z",
     "start_time": "2020-08-29T08:24:29.461335Z"
    }
   },
   "outputs": [],
   "source": [
    "# Abrir arquivo no modo leitura\n",
    "dados = open(\"data/exemplo.txt\",\"r\")"
   ]
  },
  {
   "cell_type": "markdown",
   "metadata": {},
   "source": [
    "![arquivor](img/arquivo_r.png)"
   ]
  },
  {
   "cell_type": "code",
   "execution_count": null,
   "metadata": {
    "ExecuteTime": {
     "end_time": "2020-08-29T08:24:29.619126Z",
     "start_time": "2020-08-29T08:24:29.529626Z"
    }
   },
   "outputs": [],
   "source": [
    "# dados.readline() Retorna a linha de texto aonde a \"cabeça\" de leitura está \n",
    "linha = dados.readline()\n",
    "linha "
   ]
  },
  {
   "cell_type": "code",
   "execution_count": null,
   "metadata": {
    "ExecuteTime": {
     "end_time": "2020-08-29T08:24:29.701426Z",
     "start_time": "2020-08-29T08:24:29.621441Z"
    }
   },
   "outputs": [],
   "source": [
    "# strip() com esse método podemos elimitar da linha o caracter especial \"\\n\"(ele é responsavél por pular linhas)\n",
    "linha.strip()"
   ]
  },
  {
   "cell_type": "markdown",
   "metadata": {},
   "source": [
    "![arquivor](img/arquivo_read.png)"
   ]
  },
  {
   "cell_type": "code",
   "execution_count": null,
   "metadata": {
    "ExecuteTime": {
     "end_time": "2020-08-29T08:24:29.776866Z",
     "start_time": "2020-08-29T08:24:29.704106Z"
    }
   },
   "outputs": [],
   "source": [
    "type(dados)"
   ]
  },
  {
   "cell_type": "code",
   "execution_count": null,
   "metadata": {
    "ExecuteTime": {
     "end_time": "2020-08-29T08:24:29.868569Z",
     "start_time": "2020-08-29T08:24:29.779167Z"
    }
   },
   "outputs": [],
   "source": [
    "# Podemos iterar nos dados\n",
    "for linha in dados:\n",
    "    print(linha)\n",
    "\n",
    "print(\"fim\")\n",
    "dados.close()"
   ]
  },
  {
   "cell_type": "code",
   "execution_count": null,
   "metadata": {
    "ExecuteTime": {
     "end_time": "2020-08-29T08:24:29.938820Z",
     "start_time": "2020-08-29T08:24:29.870859Z"
    }
   },
   "outputs": [],
   "source": [
    "# Colocando o comando strip() veremos que não terá mais espaços entre as linhas\n",
    "dados = open(\"data/exemplo.txt\",\"r\")\n",
    "for linha in dados:\n",
    "    print(linha.strip())\n",
    "dados.close()"
   ]
  },
  {
   "cell_type": "markdown",
   "metadata": {},
   "source": [
    "### Escrevendo em arquivo texto\n",
    "\n",
    "#### Escrita modo anexo"
   ]
  },
  {
   "cell_type": "code",
   "execution_count": null,
   "metadata": {
    "ExecuteTime": {
     "end_time": "2020-08-29T08:24:30.012224Z",
     "start_time": "2020-08-29T08:24:29.941561Z"
    }
   },
   "outputs": [],
   "source": [
    "# Abrir o arquivo no modo anexo\n",
    "dados = open(\"data/exemplo.txt\",\"a\")"
   ]
  },
  {
   "cell_type": "markdown",
   "metadata": {},
   "source": [
    "![arquivoa](img/arquivo_a.png)"
   ]
  },
  {
   "cell_type": "code",
   "execution_count": null,
   "metadata": {
    "ExecuteTime": {
     "end_time": "2020-08-29T08:24:30.086932Z",
     "start_time": "2020-08-29T08:24:30.014658Z"
    }
   },
   "outputs": [],
   "source": [
    "# dados.write(\"texto\\n\") Escreve no arquivo na posição que a \"cabeça\" de escrita esta posicionada\n",
    "dados.write(\"sexta linha\\n\")\n",
    "dados.write(\"setima linha\\n\")\n",
    "dados.close()"
   ]
  },
  {
   "cell_type": "code",
   "execution_count": null,
   "metadata": {
    "ExecuteTime": {
     "end_time": "2020-08-29T08:24:30.163133Z",
     "start_time": "2020-08-29T08:24:30.088979Z"
    }
   },
   "outputs": [],
   "source": [
    "# Ler o conteúdo do arquivo\n",
    "dados = open(\"data/exemplo.txt\",\"r\")\n",
    "for linha in dados:\n",
    "    print(linha.strip())\n",
    "dados.close()"
   ]
  },
  {
   "cell_type": "markdown",
   "metadata": {},
   "source": [
    "#### Escrita em modo escrita"
   ]
  },
  {
   "cell_type": "code",
   "execution_count": null,
   "metadata": {
    "ExecuteTime": {
     "end_time": "2020-08-29T08:24:30.252715Z",
     "start_time": "2020-08-29T08:24:30.165273Z"
    }
   },
   "outputs": [],
   "source": [
    "# Abrir o arquivo no modo escrita\n",
    "dados = open(\"data/exemplo.txt\",\"w\")\n",
    "dados.close()"
   ]
  },
  {
   "cell_type": "markdown",
   "metadata": {},
   "source": [
    "![arquivow](img/arquivo_w.png)"
   ]
  },
  {
   "cell_type": "code",
   "execution_count": null,
   "metadata": {
    "ExecuteTime": {
     "end_time": "2020-08-29T08:24:30.327899Z",
     "start_time": "2020-08-29T08:24:30.255601Z"
    }
   },
   "outputs": [],
   "source": [
    "# Ler o conteúdo do arquivo\n",
    "dados = open(\"data/exemplo.txt\",\"r\")\n",
    "if dados.readline() == \"\":\n",
    "    print(\"Arquivo sem contéudo\")\n",
    "dados.close()"
   ]
  },
  {
   "cell_type": "code",
   "execution_count": null,
   "metadata": {
    "ExecuteTime": {
     "end_time": "2020-08-29T08:24:30.481517Z",
     "start_time": "2020-08-29T08:24:30.330663Z"
    }
   },
   "outputs": [],
   "source": [
    "# Reescrever o conteúdo original do arquivo\n",
    "dados = open(\"data/exemplo.txt\",\"w\")\n",
    "dados.write(\"primeira linha\\nsegunda linha\\nterceira linha\\nquarta linha\\nquinta linha\")\n",
    "dados.close()"
   ]
  },
  {
   "cell_type": "code",
   "execution_count": null,
   "metadata": {
    "ExecuteTime": {
     "end_time": "2020-08-29T08:24:30.590731Z",
     "start_time": "2020-08-29T08:24:30.483275Z"
    }
   },
   "outputs": [],
   "source": [
    "# Ler o conteúdo do arquivo\n",
    "dados = open(\"data/exemplo.txt\",\"r\")\n",
    "for linha in dados:\n",
    "    print(linha.strip())\n",
    "dados.close()"
   ]
  },
  {
   "cell_type": "markdown",
   "metadata": {},
   "source": [
    "<!--NAVIGATION-->\n",
    "< [Sequência de objetos](11.Sequencia_de_objetos.ipynb) | [Sumario](00.Sumario.ipynb) | [Conjunto](13.Conjunto.ipynb) >\n",
    "\n",
    "<a href=\"https://colab.research.google.com/github/psloliveirajr/Introducao_a_Python3/blob/master/12.Arquivos_de_texto.ipynb\"><img align=\"left\" src=\"https://colab.research.google.com/assets/colab-badge.svg\" alt=\"Open in Colab\" title=\"Open and Execute in Google Colaboratory\"></a>"
   ]
  }
 ],
 "metadata": {
  "kernelspec": {
   "display_name": "Python 3",
   "language": "python",
   "name": "python3"
  },
  "language_info": {
   "codemirror_mode": {
    "name": "ipython",
    "version": 3
   },
   "file_extension": ".py",
   "mimetype": "text/x-python",
   "name": "python",
   "nbconvert_exporter": "python",
   "pygments_lexer": "ipython3",
   "version": "3.8.5"
  },
  "nbTranslate": {
   "displayLangs": [
    "fr",
    "en"
   ],
   "hotkey": "alt-t",
   "langInMainMenu": true,
   "sourceLang": "en",
   "targetLang": "fr",
   "useGoogleTranslate": true
  },
  "toc": {
   "base_numbering": 1,
   "nav_menu": {},
   "number_sections": true,
   "sideBar": true,
   "skip_h1_title": false,
   "title_cell": "Table of Contents",
   "title_sidebar": "Contents",
   "toc_cell": false,
   "toc_position": {},
   "toc_section_display": true,
   "toc_window_display": false
  },
  "varInspector": {
   "cols": {
    "lenName": 16,
    "lenType": 16,
    "lenVar": 40
   },
   "kernels_config": {
    "python": {
     "delete_cmd_postfix": "",
     "delete_cmd_prefix": "del ",
     "library": "var_list.py",
     "varRefreshCmd": "print(var_dic_list())"
    },
    "r": {
     "delete_cmd_postfix": ") ",
     "delete_cmd_prefix": "rm(",
     "library": "var_list.r",
     "varRefreshCmd": "cat(var_dic_list()) "
    }
   },
   "types_to_exclude": [
    "module",
    "function",
    "builtin_function_or_method",
    "instance",
    "_Feature"
   ],
   "window_display": false
  }
 },
 "nbformat": 4,
 "nbformat_minor": 4
}
