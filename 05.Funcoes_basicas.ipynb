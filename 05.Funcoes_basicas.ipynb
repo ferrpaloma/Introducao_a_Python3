{
 "cells": [
  {
   "cell_type": "markdown",
   "metadata": {},
   "source": [
    "<!--NAVIGATION-->\n",
    "< [Manipulação de variáveis](04.Manipulacao_de_variaveis.ipynb) | [Sumario](00.Sumario.ipynb) | [Debugging](06.Debugging.ipynb) >\n",
    "\n",
    "<a href=\"https://colab.research.google.com/github/psloliveirajr/Introducao_a_Python3/blob/master/05.Funcoes_basicas.ipynb\"><img align=\"left\" src=\"https://colab.research.google.com/assets/colab-badge.svg\" alt=\"Open in Colab\" title=\"Open and Execute in Google Colaboratory\"></a>"
   ]
  },
  {
   "cell_type": "markdown",
   "metadata": {},
   "source": [
    "## Funções básicas"
   ]
  },
  {
   "cell_type": "markdown",
   "metadata": {},
   "source": [
    "### Função de saída padrão"
   ]
  },
  {
   "cell_type": "code",
   "execution_count": null,
   "metadata": {},
   "outputs": [],
   "source": [
    "# No Python 3.x usamos a função print() para visualizar, no terminal, os objetos atribuidos a uma variável ou expressão\n",
    "print(5)\n",
    "print(85962)\n",
    "print(x,y,z)\n",
    "print(x+y+z)"
   ]
  },
  {
   "cell_type": "code",
   "execution_count": null,
   "metadata": {},
   "outputs": [],
   "source": [
    "# Imprimir textos e variaveis\n",
    "print(\"O valor da operacao é:\",10.528743)"
   ]
  },
  {
   "cell_type": "code",
   "execution_count": null,
   "metadata": {},
   "outputs": [],
   "source": [
    "# Podemos formatar a saída\n",
    "print(\"O valor da %.4f operacao é:\" % 10.528743)"
   ]
  },
  {
   "cell_type": "markdown",
   "metadata": {},
   "source": [
    "### Função de entrada padrão"
   ]
  },
  {
   "cell_type": "code",
   "execution_count": null,
   "metadata": {
    "slideshow": {
     "slide_type": "-"
    }
   },
   "outputs": [],
   "source": [
    "# No Python 3.x usamos a função input() para atribuir a uma variável uma string fornecida pelo usuário através do teclado\n",
    "x = int(input())\n",
    "print(x)"
   ]
  },
  {
   "cell_type": "code",
   "execution_count": null,
   "metadata": {},
   "outputs": [],
   "source": [
    "# Tipo da classe do objeto atribuido\n",
    "type(x)"
   ]
  },
  {
   "cell_type": "code",
   "execution_count": null,
   "metadata": {},
   "outputs": [],
   "source": [
    "# Também podemos colocar uma mensagem na saída do vídeo\n",
    "x = input(\"Forneça a posição x:\")\n",
    "print(x)"
   ]
  },
  {
   "cell_type": "markdown",
   "metadata": {},
   "source": [
    "### Fuções padrões"
   ]
  },
  {
   "cell_type": "markdown",
   "metadata": {},
   "source": [
    "|               |             | [Built-in Functions](https://docs.python.org/3/library/functions.html?#built-in-functions) |              |                |\n",
    "|:-------------:|:-----------:|:------------------:|:------------:|:--------------:|\n",
    "|      abs()    |  delattr()  |       hash()       | memoryview() |       set()    |\n",
    "|      all()    |    dict()   |       help()       |     min()    |     setattr()  |\n",
    "|      any()    |    dir()    |        hex()      |    next()    |     slice()   |\n",
    "|     ascii()   |   divmod()  |        id()       |   object()   |    sorted()    |\n",
    "|     bin()    | enumerate() |       input()      |     oct()    | staticmethod() |\n",
    "|     bool()    |    eval()   |        int()       |    open()    |      str()     |\n",
    "|  breakpoint() |    exec()   |     isistance()    |     ord()    |      sum()     |\n",
    "|  bytearray()  |   filter()  |    issubclass()    |     pow()    |     super()    |\n",
    "|    bytes()    |   float()   |       iter()       |    print()   |     tuple()    |\n",
    "|   callable()  |   format()  |        len()       |  property()  |     type()     |\n",
    "|     chr()     | frozenset() |       list()       |    range()   |     vars()     |\n",
    "| classmethod() |  getattr()  |      locals()      |    repr()    |      zip()     |\n",
    "|   complie()   |  globals()  |        map()       |  reserved()  |  __import__()  |\n",
    "|   complex()   |  hasattr()  |        max()       |    round()   |                |"
   ]
  },
  {
   "cell_type": "code",
   "execution_count": null,
   "metadata": {},
   "outputs": [],
   "source": [
    "# Traz informacoes a cerca da funcao\n",
    "help(abs)"
   ]
  },
  {
   "cell_type": "code",
   "execution_count": null,
   "metadata": {},
   "outputs": [],
   "source": [
    "abs(-5)"
   ]
  },
  {
   "cell_type": "markdown",
   "metadata": {},
   "source": [
    "<!--NAVIGATION-->\n",
    "< [Manipulação de variáveis](04.Manipulacao_de_variaveis.ipynb) | [Sumario](00.Sumario.ipynb) | [Debugging](06.Debugging.ipynb) >\n",
    "\n",
    "<a href=\"https://colab.research.google.com/github/psloliveirajr/Introducao_a_Python3/blob/master/05.Funcoes_basicas.ipynb\"><img align=\"left\" src=\"https://colab.research.google.com/assets/colab-badge.svg\" alt=\"Open in Colab\" title=\"Open and Execute in Google Colaboratory\"></a>"
   ]
  }
 ],
 "metadata": {
  "kernelspec": {
   "display_name": "Python 3",
   "language": "python",
   "name": "python3"
  },
  "language_info": {
   "codemirror_mode": {
    "name": "ipython",
    "version": 3
   },
   "file_extension": ".py",
   "mimetype": "text/x-python",
   "name": "python",
   "nbconvert_exporter": "python",
   "pygments_lexer": "ipython3",
   "version": "3.8.5"
  },
  "nbTranslate": {
   "displayLangs": [
    "fr",
    "en"
   ],
   "hotkey": "alt-t",
   "langInMainMenu": true,
   "sourceLang": "en",
   "targetLang": "fr",
   "useGoogleTranslate": true
  },
  "toc": {
   "base_numbering": 1,
   "nav_menu": {},
   "number_sections": true,
   "sideBar": true,
   "skip_h1_title": false,
   "title_cell": "Table of Contents",
   "title_sidebar": "Contents",
   "toc_cell": false,
   "toc_position": {},
   "toc_section_display": true,
   "toc_window_display": false
  },
  "varInspector": {
   "cols": {
    "lenName": 16,
    "lenType": 16,
    "lenVar": 40
   },
   "kernels_config": {
    "python": {
     "delete_cmd_postfix": "",
     "delete_cmd_prefix": "del ",
     "library": "var_list.py",
     "varRefreshCmd": "print(var_dic_list())"
    },
    "r": {
     "delete_cmd_postfix": ") ",
     "delete_cmd_prefix": "rm(",
     "library": "var_list.r",
     "varRefreshCmd": "cat(var_dic_list()) "
    }
   },
   "types_to_exclude": [
    "module",
    "function",
    "builtin_function_or_method",
    "instance",
    "_Feature"
   ],
   "window_display": false
  }
 },
 "nbformat": 4,
 "nbformat_minor": 4
}
