{
 "cells": [
  {
   "cell_type": "markdown",
   "metadata": {
    "colab_type": "text",
    "id": "TUo8m8urAzTC"
   },
   "source": [
    "# Lista 1\n",
    "______________________________\n",
    "\n",
    "## Problema 1: Extremamente Básico\n",
    "\n",
    "Leia 2 valores inteiros e armazene-os nas variáveis **A** e **B**. Efetue a soma de **A** e **B** atribuindo o seu resultado na variável **X**.\n",
    "\n",
    "### Entrada\n",
    "\n",
    "A entrada contém 2 valores inteiros.\n",
    "\n",
    "### Saída\n",
    "\n",
    "Imprima a mensagem \"X = \" (letra X maiúscula) seguido pelo valor da variável X e pelo final de linha. Cuide para que tenha um espaço antes e depois do sinal de igualdade, conforme o exemplo abaixo.\n",
    "\n",
    "| **Exemplos de Entrada** | **Exemplos de Saída** |\n",
    "|:---------------------|:-------------------|\n",
    "| 10<br>9             | X = 19            |\n",
    "| -10<br>4            | X = -6            |\n",
    "| 15<br>-7            | X = 8             |\n",
    "\n",
    "> https://www.urionlinejudge.com.br/judge/pt/problems/view/1001"
   ]
  },
  {
   "cell_type": "code",
   "execution_count": null,
   "metadata": {
    "colab": {
     "base_uri": "https://localhost:8080/",
     "height": 71
    },
    "colab_type": "code",
    "executionInfo": {
     "elapsed": 6200,
     "status": "ok",
     "timestamp": 1594934075632,
     "user": {
      "displayName": "Paulo Sérgio Lima de Oliveira Junior",
      "photoUrl": "https://lh3.googleusercontent.com/a-/AOh14GicPw7m7lZVXxffVab8Yec67b_bmoQASVbdX7DD=s64",
      "userId": "10488644178471622364"
     },
     "user_tz": 180
    },
    "id": "kUaFFQVudz-w",
    "outputId": "9a987b58-02a9-4de1-e1aa-f6f23541f22a",
    "scrolled": true
   },
   "outputs": [
    {
     "name": "stdout",
     "output_type": "stream",
     "text": [
      "10\n",
      "9\n",
      "19\n"
     ]
    }
   ],
   "source": [
    "A = int(input(\"Digite um valor inteiro: \"))\n",
    "B = int(input(\"Digite um valor inteiro: \"))\n",
    "soma = A+B\n",
    "print(\"X =\",soma)"
   ]
  },
  {
   "cell_type": "markdown",
   "metadata": {
    "colab_type": "text",
    "id": "2hYchfoBxiOU"
   },
   "source": [
    "## Problema 2: Área do Círculo\n",
    "\n",
    "A fórmula para calcular a área de uma circunferência é: **area = π . raio$^{2}$**. Considerando para este problema que **π** = 3.14159:\n",
    "\n",
    "- Efetue o cálculo da área, elevando o valor de **raio** ao quadrado e multiplicando por **π**.\n",
    "\n",
    "### Entrada\n",
    "\n",
    "A entrada contém um valor de ponto flutuante (dupla precisão), no caso, a variável **raio**.\n",
    "\n",
    "### Saída\n",
    "\n",
    "Apresentar a mensagem \"A = \" seguido pelo valor da variável **area**, conforme exemplo abaixo, com 4 casas após o ponto decimal.\n",
    "\n",
    "| **Exemplos de Entrada** | **Exemplos de Saída** |\n",
    "|:---------------------|:-------------------|\n",
    "| 2.00            | A = 12.5664          |\n",
    "| 100.64          | A = 31819.3103       |\n",
    "| 150.00          | A = 70685.7750       |\n",
    "\n",
    "> https://www.urionlinejudge.com.br/judge/pt/problems/view/1002"
   ]
  },
  {
   "cell_type": "code",
   "execution_count": null,
   "metadata": {
    "colab": {},
    "colab_type": "code",
    "id": "PYkgW0EaJCmB"
   },
   "outputs": [],
   "source": []
  },
  {
   "cell_type": "markdown",
   "metadata": {
    "colab_type": "text",
    "id": "b_UqZh7QAzTD"
   },
   "source": [
    "## Problema 3: Produto Simples\n",
    "\n",
    "Leia dois valores inteiros. A seguir, calcule o produto entre estes dois valores e atribua esta operação à variável **PROD**. A seguir mostre a variável **PROD** com mensagem correspondente.   \n",
    "\n",
    "### Entrada\n",
    "\n",
    "O arquivo de entrada contém 2 valores inteiros.\n",
    "\n",
    "### Saída\n",
    "\n",
    "Imprima a mensagem \"PROD =\" e a variável **PROD** conforme exemplo abaixo, com um espaço em branco antes e depois da igualdade.\n",
    "\n",
    "| **Exemplos de Entrada** | **Exemplos de Saída** |\n",
    "|:-|:-|\n",
    "| 3<br>9 | PROD = 27 |\n",
    "| -30<br>10 | PROD = -300 |\n",
    "| 0<br>9 | PROD = 0 |\n",
    "\n",
    "> https://www.urionlinejudge.com.br/judge/pt/problems/view/1004"
   ]
  },
  {
   "cell_type": "code",
   "execution_count": null,
   "metadata": {
    "colab": {
     "base_uri": "https://localhost:8080/",
     "height": 67
    },
    "colab_type": "code",
    "executionInfo": {
     "elapsed": 5353,
     "status": "ok",
     "timestamp": 1594962559303,
     "user": {
      "displayName": "Paulo Sérgio Lima de Oliveira Junior",
      "photoUrl": "https://lh3.googleusercontent.com/a-/AOh14GicPw7m7lZVXxffVab8Yec67b_bmoQASVbdX7DD=s64",
      "userId": "10488644178471622364"
     },
     "user_tz": 180
    },
    "id": "ij_ph5l-K7gv",
    "outputId": "c4bfedcd-b852-48b1-8c74-c06ab74cd425"
   },
   "outputs": [
    {
     "name": "stdout",
     "output_type": "stream",
     "text": [
      "Digite um valor inteiro: 3\n",
      "Digite um valor inteiro: 9\n",
      "PROD = 27\n"
     ]
    }
   ],
   "source": [
    "A = int(input(\"Digite um valor inteiro: \")) \n",
    "B = int(input(\"Digite um valor inteiro: \"))\n",
    "PROD = A * B # Produto de A com B\n",
    "print(\"PROD =\", PROD) # Imprime o resultado do produto"
   ]
  },
  {
   "cell_type": "markdown",
   "metadata": {
    "colab_type": "text",
    "id": "uHE6-0gtAzTE"
   },
   "source": [
    "## Problema 4: Média 1\n",
    "\n",
    "Leia 2 valores de ponto flutuante de dupla precisão A e B, que correspondem a 2 notas de um aluno. A seguir, calcule a média do aluno, sabendo que a nota A tem peso 3.5 e a nota B tem peso 7.5 (A soma dos pesos portanto é 11). Assuma que cada nota pode ir de 0 até 10.0, sempre com uma casa decimal.\n",
    "\n",
    "### Entrada\n",
    "\n",
    "O arquivo de entrada contém 2 valores com uma casa decimal cada um.\n",
    "\n",
    "### Saída\n",
    "\n",
    "Imprima a mensagem \"MEDIA =\" e a média do aluno conforme exemplo abaixo, com 5 dígitos após o ponto decimal e com um espaço em branco antes e depois da igualdade\n",
    "\n",
    "| **Exemplos de Entrada** | **Exemplos de Saída** |\n",
    "|:-|:-|\n",
    "| 5.0<br>7.1 | MEDIA = 6.43182 |\n",
    "| 0.0<br>7.1 | MEDIA = 4.84091 |\n",
    "| 10.0<br>10.0 | MEDIA = 10.00000 |\n",
    "\n",
    "> https://www.urionlinejudge.com.br/judge/pt/problems/view/1005"
   ]
  },
  {
   "cell_type": "code",
   "execution_count": null,
   "metadata": {
    "colab": {
     "base_uri": "https://localhost:8080/",
     "height": 67
    },
    "colab_type": "code",
    "executionInfo": {
     "elapsed": 5622,
     "status": "ok",
     "timestamp": 1594963009070,
     "user": {
      "displayName": "Paulo Sérgio Lima de Oliveira Junior",
      "photoUrl": "https://lh3.googleusercontent.com/a-/AOh14GicPw7m7lZVXxffVab8Yec67b_bmoQASVbdX7DD=s64",
      "userId": "10488644178471622364"
     },
     "user_tz": 180
    },
    "id": "ftuzth5RMb-N",
    "outputId": "57098da9-4439-4946-dc1f-4627c06f7e73"
   },
   "outputs": [
    {
     "name": "stdout",
     "output_type": "stream",
     "text": [
      "Digite um valor float: 10.0\n",
      "Digite um valor float: 10.0\n",
      "MEDIA = 10.00000\n"
     ]
    }
   ],
   "source": [
    "A = float(input(\"Digite um valor float: \")) \n",
    "B = float(input(\"Digite um valor float: \"))\n",
    "MEDIA = (A*3.5 + B*7.5)/11\n",
    "print(\"MEDIA = %.5f\" % MEDIA)"
   ]
  },
  {
   "cell_type": "markdown",
   "metadata": {
    "colab_type": "text",
    "id": "UyigdwzUAzTF"
   },
   "source": [
    "## Problema 5: Salário com Bônus\n",
    "\n",
    "Faça um programa que leia o nome de um vendedor, o seu salário fixo e o total de vendas efetuadas por ele no mês (em dinheiro). Sabendo que este vendedor ganha 15% de comissão sobre suas vendas efetuadas, informar o total a receber no final do mês, com duas casas decimais.\n",
    "\n",
    "### Entrada\n",
    "O arquivo de entrada contém um texto (primeiro nome do vendedor) e 2 valores de ponto flutuante (dupla precisão) com duas casas decimais, representando o salário fixo do vendedor e montante total das vendas efetuadas por este vendedor, respectivamente.\n",
    "\n",
    "### Saída\n",
    "Imprima o total que o funcionário deverá receber, conforme exemplo fornecido.\n",
    "\n",
    "| **Exemplos de Entrada** | **Exemplos de Saída** |\n",
    "|:-|:-|\n",
    "| MARCELA<br>500.00<br>1230.30 | TOTAL = $R\\$$ 684.54 |\n",
    "| PEDRO<br>700.00<br>0.00 | TOTAL = $R\\$$ 700.00 |\n",
    "| LETICIA<br>1700.00<br>1230.50 | TOTAL = $R\\$$ 1884.58 |\n",
    "\n",
    "> https://www.urionlinejudge.com.br/judge/pt/problems/view/1009"
   ]
  },
  {
   "cell_type": "code",
   "execution_count": null,
   "metadata": {
    "colab": {
     "base_uri": "https://localhost:8080/",
     "height": 84
    },
    "colab_type": "code",
    "executionInfo": {
     "elapsed": 14206,
     "status": "ok",
     "timestamp": 1594963766714,
     "user": {
      "displayName": "Paulo Sérgio Lima de Oliveira Junior",
      "photoUrl": "https://lh3.googleusercontent.com/a-/AOh14GicPw7m7lZVXxffVab8Yec67b_bmoQASVbdX7DD=s64",
      "userId": "10488644178471622364"
     },
     "user_tz": 180
    },
    "id": "HCL4bUsCNpQ7",
    "outputId": "5f19b935-569d-4aea-b9b3-6beb17958ce0"
   },
   "outputs": [
    {
     "name": "stdout",
     "output_type": "stream",
     "text": [
      "Nome do vendedor: Leticia\n",
      "Salario do vendedor:1700.00\n",
      "Montante total das vendas: 1230.50\n",
      "Leticia recebera R$ 1884.58\n"
     ]
    }
   ],
   "source": [
    "vendedor = input(\"Nome do vendedor: \")\n",
    "salario = float(input(\"Salario do vendedor:\"))\n",
    "vendas = float(input(\"Montante total das vendas: \"))\n",
    "salario_mes = salario+vendas*0.15 \n",
    "print(vendedor,\"recebera R$ %.2f\" % salario_mes)"
   ]
  },
  {
   "cell_type": "markdown",
   "metadata": {
    "colab_type": "text",
    "id": "M_fcali6AzTF"
   },
   "source": [
    "## Problema 6: Consumo\n",
    "\n",
    "Calcule o consumo médio de um automóvel sendo fornecidos a distância total percorrida (em Km) e o total de combustível gasto (em litros).\n",
    "\n",
    "### Entrada\n",
    "\n",
    "O arquivo de entrada contém dois valores: um valor inteiro X representando a distância total percorrida (em Km), e um valor real Y representando o total de combustível gasto, com um dígito após o ponto decimal.\n",
    "\n",
    "### Saída\n",
    "\n",
    "Apresente o valor que representa o consumo médio do automóvel com 3 casas após a vírgula, seguido da mensagem \"km/l\".\n",
    "\n",
    "\n",
    "| **Exemplos de Entrada** | **Exemplos de Saída** |\n",
    "|:-|:-|\n",
    "| 500<br>35.0 | CONSUMO = 14.286 km/l |\n",
    "| 2254<br>124.4 | CONSUMO = 18.119 km/l |\n",
    "| 4554<br>464.6 | CONSUMO = 9.802 km/l |\n",
    "\n",
    "> https://www.urionlinejudge.com.br/judge/pt/problems/view/1014"
   ]
  },
  {
   "cell_type": "code",
   "execution_count": null,
   "metadata": {
    "colab": {
     "base_uri": "https://localhost:8080/",
     "height": 67
    },
    "colab_type": "code",
    "executionInfo": {
     "elapsed": 5503,
     "status": "ok",
     "timestamp": 1594964562499,
     "user": {
      "displayName": "Paulo Sérgio Lima de Oliveira Junior",
      "photoUrl": "https://lh3.googleusercontent.com/a-/AOh14GicPw7m7lZVXxffVab8Yec67b_bmoQASVbdX7DD=s64",
      "userId": "10488644178471622364"
     },
     "user_tz": 180
    },
    "id": "tTJFcQqNRSAK",
    "outputId": "f70a45e8-8434-45bc-d357-28c8ca051010"
   },
   "outputs": [
    {
     "name": "stdout",
     "output_type": "stream",
     "text": [
      "Quilometragem rodada: 500\n",
      "Combustibel consumido: 35.0\n",
      "CONSUMO = 14.286 km/l\n"
     ]
    }
   ],
   "source": [
    "X = int(input(\"Quilometragem rodada: \"))\n",
    "Y = float(input(\"Combustibel consumido: \"))\n",
    "consumo = X/Y\n",
    "print(\"CONSUMO = %.3f\" % consumo,\"km/l\")"
   ]
  },
  {
   "cell_type": "markdown",
   "metadata": {
    "colab_type": "text",
    "id": "WqTMh89FAzTG"
   },
   "source": [
    "## Problema 7: Distância entre dois pontos\n",
    "\n",
    "Leia os quatro valores correspondentes aos eixos x e y de dois pontos quaisquer no plano, **p1(x1,y1)** e **p2(x2,y2)** e calcule a distância entre eles, mostrando 4 casas decimais após a vírgula, segundo a fórmula:\n",
    "\n",
    "$d_{p1,p2} = \\sqrt{(x_{2}-x_{1})^{2}+(y_{2}-y_{1})^{2}}$\n",
    "\n",
    "### Entrada\n",
    "\n",
    "O arquivo de entrada contém duas linhas de dados. A primeira linha contém dois valores de ponto flutuante: **(x1,y1)** e a segunda linha contém dois valores de ponto flutuante **(x2,y2)**.\n",
    "\n",
    "### Saída\n",
    "\n",
    "Calcule e imprima o valor da distância segundo a fórmula fornecida, com 4 casas após o ponto decimal.\n",
    "\n",
    "| **Exemplos de Entrada** | **Exemplos de Saída** |\n",
    "|:-|:-|\n",
    "| 1.0 7.0<br>5.0 9.0 | DISTANCIA = 4.4721 |\n",
    "| -2.5 0.4<br>12.1 7.3 | DISTANCIA = 16.1484 |\n",
    "| 2.5 -0.4<br>-12.2 7.0 | DISTANCIA = 16.4575 |\n",
    "\n",
    "> https://www.urionlinejudge.com.br/judge/pt/problems/view/1015"
   ]
  },
  {
   "cell_type": "code",
   "execution_count": null,
   "metadata": {
    "colab": {
     "base_uri": "https://localhost:8080/",
     "height": 101
    },
    "colab_type": "code",
    "executionInfo": {
     "elapsed": 8018,
     "status": "ok",
     "timestamp": 1594965236807,
     "user": {
      "displayName": "Paulo Sérgio Lima de Oliveira Junior",
      "photoUrl": "https://lh3.googleusercontent.com/a-/AOh14GicPw7m7lZVXxffVab8Yec67b_bmoQASVbdX7DD=s64",
      "userId": "10488644178471622364"
     },
     "user_tz": 180
    },
    "id": "0KHUhy6kUE7y",
    "outputId": "a24eb29e-3ea9-44f1-b033-f9371fb2e4d4"
   },
   "outputs": [
    {
     "name": "stdout",
     "output_type": "stream",
     "text": [
      "Forneca x1: 1.0\n",
      "Forneca y1: 7.0\n",
      "Forneca x2: 5.0\n",
      "Forneca y2: 9.0\n",
      "DISTANCIA = 4.4721\n"
     ]
    }
   ],
   "source": [
    "x1 = float(input(\"Forneca x1: \"))\n",
    "y1 = float(input(\"Forneca y1: \"))\n",
    "x2 = float(input(\"Forneca x2: \"))\n",
    "y2 = float(input(\"Forneca y2: \"))\n",
    "\n",
    "distancia = ((x2-x1)**2 + (y2-y1)**2)**(1/2)\n",
    "\n",
    "print(\"DISTANCIA = %.4f\" % distancia)"
   ]
  },
  {
   "cell_type": "markdown",
   "metadata": {
    "colab_type": "text",
    "id": "sEnmSBC8AzTG"
   },
   "source": [
    "## Problema 8: Cédulas\n",
    "\n",
    "Leia um valor inteiro. A seguir, calcule o menor número de notas possíveis (cédulas) no qual o valor pode ser decomposto. As notas consideradas são de 100, 50, 20, 10, 5, 2 e 1. A seguir mostre **o valor lido** e a relação de notas necessárias.\n",
    "\n",
    "### Entrada\n",
    "\n",
    "O arquivo de entrada contém um valor inteiro **N** (0 < **N** < 100000).\n",
    "\n",
    "### Saída\n",
    "\n",
    "Imprima o valor lido e, em seguida, a quantidade mínima de notas de cada tipo necessárias, conforme o exemplo fornecido.\n",
    "\n",
    "| **Exemplos de Entrada** | **Exemplos de Saída** |\n",
    "|:-|:-|\n",
    "| $R\\$$ 576 | $R\\$$ 576<br>5 nota(s) de $R\\$$ 100.00<br>1 nota(s) de $R\\$$ 50.00<br>1 nota(s) de $R\\$$ 20.00<br>0 nota(s) de $R\\$$ 10.00<br>1 nota(s) de $R\\$$ 5.00<br>0 nota(s) de $R\\$$ 2.00<br>1 nota(s) de $R\\$$ 1.00 |\n",
    "| $R\\$$ 11257 | $R\\$$ 11257<br>112 nota(s) de $R\\$$ 100.00<br>1 nota(s) de $R\\$$ 50.00<br>0 nota(s) de $R\\$$ 20.00<br>0 nota(s) de $R\\$$ 10.00<br>1 nota(s) de $R\\$$ 5.00<br>1 nota(s) de $R\\$$ 2.00<br>0 nota(s) de $R\\$$ 1.00 |\n",
    "| $R\\$$ 503 | $R\\$$ 503<br>5 nota(s) de $R\\$$ 100.00<br>0 nota(s) de $R\\$$ 50.00<br>0 nota(s) de $R\\$$ 20.00<br>0 nota(s) de $R\\$$ 10.00<br>0 nota(s) de $R\\$$ 5.00<br>1 nota(s) de $R\\$$ 2.00<br>1 nota(s) de $R\\$$ 1.00 |\n",
    "\n",
    "> https://www.urionlinejudge.com.br/judge/pt/problems/view/1018"
   ]
  },
  {
   "cell_type": "code",
   "execution_count": null,
   "metadata": {
    "colab": {
     "base_uri": "https://localhost:8080/",
     "height": 151
    },
    "colab_type": "code",
    "executionInfo": {
     "elapsed": 2687,
     "status": "ok",
     "timestamp": 1594965918492,
     "user": {
      "displayName": "Paulo Sérgio Lima de Oliveira Junior",
      "photoUrl": "https://lh3.googleusercontent.com/a-/AOh14GicPw7m7lZVXxffVab8Yec67b_bmoQASVbdX7DD=s64",
      "userId": "10488644178471622364"
     },
     "user_tz": 180
    },
    "id": "5b0adl0cVuIG",
    "outputId": "a30b9c23-a033-46c3-a0f9-53fdcc2a6511"
   },
   "outputs": [
    {
     "name": "stdout",
     "output_type": "stream",
     "text": [
      "Digite um valor inteiro: 503\n",
      "5 nota(s) de R$ 100.00\n",
      "0 nota(s) de R$ 50.00\n",
      "0 nota(s) de R$ 20.00\n",
      "0 nota(s) de R$ 10.00\n",
      "0 nota(s) de R$ 5.00\n",
      "1 nota(s) de R$ 2.00\n",
      "1 nota(s) de R$ 1.00\n"
     ]
    }
   ],
   "source": [
    "N = int(input(\"Digite um valor inteiro: \"))\n",
    "\n",
    "N100 = N//100\n",
    "N50 = (N%100)//50\n",
    "N20 = ((N%100)%50)//20\n",
    "N10 = (((N%100)%50)%20)//10\n",
    "N5 = ((((N%100)%50)%20)%10)//5\n",
    "N2 = (((((N%100)%50)%20)%10)%5)//2\n",
    "N1 = (((((N%100)%50)%20)%10)%5)%2//1\n",
    "\n",
    "print(N100,\"nota(s) de R$ 100.00\")\n",
    "print(N50,\"nota(s) de R$ 50.00\")\n",
    "print(N20,\"nota(s) de R$ 20.00\")\n",
    "print(N10,\"nota(s) de R$ 10.00\")\n",
    "print(N5,\"nota(s) de R$ 5.00\")\n",
    "print(N2,\"nota(s) de R$ 2.00\")\n",
    "print(N1,\"nota(s) de R$ 1.00\")"
   ]
  },
  {
   "cell_type": "markdown",
   "metadata": {
    "colab_type": "text",
    "id": "HCtYUgCsAzTG"
   },
   "source": [
    "## Problema 9: Coversão de tempo\n",
    "\n",
    "Leia um valor inteiro, que é o tempo de duração em segundos de um determinado evento em uma fábrica, e informe-o expresso no formato **horas : minutos : segundos**.\n",
    "\n",
    "### Entrada\n",
    "\n",
    "O arquivo de entrada contém um valor inteiro N.\n",
    "\n",
    "### Saída\n",
    "\n",
    "Imprima o tempo lido no arquivo de entrada (segundos), convertido para  **horas : minutos : segundos**, conforme exemplo fornecido.\n",
    "\n",
    "| **Exemplos de Entrada** | **Exemplos de Saída** |\n",
    "|:-|:-|\n",
    "| 556 | 0:9:16 |\n",
    "| 1 | 0:0:1 |\n",
    "| 140153 | 38:55:53 |\n",
    "\n",
    "> https://www.urionlinejudge.com.br/judge/pt/problems/view/1019"
   ]
  },
  {
   "cell_type": "code",
   "execution_count": null,
   "metadata": {
    "colab": {
     "base_uri": "https://localhost:8080/",
     "height": 50
    },
    "colab_type": "code",
    "executionInfo": {
     "elapsed": 5070,
     "status": "ok",
     "timestamp": 1594966379056,
     "user": {
      "displayName": "Paulo Sérgio Lima de Oliveira Junior",
      "photoUrl": "https://lh3.googleusercontent.com/a-/AOh14GicPw7m7lZVXxffVab8Yec67b_bmoQASVbdX7DD=s64",
      "userId": "10488644178471622364"
     },
     "user_tz": 180
    },
    "id": "saUh-0EMYdqP",
    "outputId": "02dce448-94b4-4b18-a137-7a810416d429"
   },
   "outputs": [
    {
     "name": "stdout",
     "output_type": "stream",
     "text": [
      "Digite um valor inteiro: 140153\n",
      "38:55:53\n"
     ]
    }
   ],
   "source": [
    "N = int(input(\"Digite um valor inteiro: \"))\n",
    "\n",
    "horas = N//3600\n",
    "minutos = N%3600//60\n",
    "segundos = N%3600%60//1\n",
    "\n",
    "print(\"%i:%i:%i\" % (horas,minutos,segundos))"
   ]
  },
  {
   "cell_type": "markdown",
   "metadata": {
    "colab_type": "text",
    "id": "HINkGpyHAzTH"
   },
   "source": [
    "## Problema 10: Somátorio\n",
    "\n",
    "Leia um valor inteiro (**N**). Em seguida calcule a soma de todos números inteiros de 1 até n, ou seja, 1 + 2 + ... + N-1 + N .\n",
    "\n",
    "### Entrada\n",
    "\n",
    "O arquivo de entrada contém um valor inteiro N.\n",
    "\n",
    "### Saída\n",
    "\n",
    "Imprima a mensagem \"SOMA =\" e o resultado da soma de todos inteiro no intervalo fechado [1,N], conforme o exemplo fornecido.\n",
    "\n",
    "| **Exemplos de Entrada** | **Exemplos de Saída** |\n",
    "|:-|:-|\n",
    "| 75 | SOMA = 2850 |\n",
    "| 63 | SOMA = 2016 |\n",
    "| 99 | SOMA = 4950 |"
   ]
  },
  {
   "cell_type": "markdown",
   "metadata": {
    "colab_type": "text",
    "id": "C8h69D2JhpHB"
   },
   "source": [
    "$S_{n} = n*(a_{1} + a_{n})/2$"
   ]
  },
  {
   "cell_type": "code",
   "execution_count": null,
   "metadata": {
    "colab": {},
    "colab_type": "code",
    "id": "tdhHWV8uhpHC",
    "outputId": "d33b0c7d-e054-4459-b6b0-7a1aac1e7459"
   },
   "outputs": [
    {
     "name": "stdout",
     "output_type": "stream",
     "text": [
      "Digite um valor inteiro: 10000000\n",
      "SOMA = 50000005000000.0\n"
     ]
    }
   ],
   "source": [
    "N = int(input(\"Digite um valor inteiro: \"))\n",
    "\n",
    "SOMA = N*(1+N)/2\n",
    "\n",
    "print(\"SOMA =\",SOMA)"
   ]
  }
 ],
 "metadata": {
  "colab": {
   "collapsed_sections": [],
   "name": "Lista_1.ipynb",
   "provenance": [
    {
     "file_id": "https://github.com/psloliveirajr/Introducao_a_Python3/blob/master/listas/Lista_1.ipynb",
     "timestamp": 1594540376528
    }
   ]
  },
  "kernelspec": {
   "display_name": "Python 3",
   "language": "python",
   "name": "python3"
  },
  "language_info": {
   "codemirror_mode": {
    "name": "ipython",
    "version": 3
   },
   "file_extension": ".py",
   "mimetype": "text/x-python",
   "name": "python",
   "nbconvert_exporter": "python",
   "pygments_lexer": "ipython3",
   "version": "3.8.5"
  },
  "nbTranslate": {
   "displayLangs": [
    "fr",
    "en"
   ],
   "hotkey": "alt-t",
   "langInMainMenu": true,
   "sourceLang": "en",
   "targetLang": "fr",
   "useGoogleTranslate": true
  },
  "toc": {
   "base_numbering": 1,
   "nav_menu": {},
   "number_sections": false,
   "sideBar": true,
   "skip_h1_title": false,
   "title_cell": "Table of Contents",
   "title_sidebar": "Contents",
   "toc_cell": false,
   "toc_position": {},
   "toc_section_display": true,
   "toc_window_display": true
  },
  "varInspector": {
   "cols": {
    "lenName": 16,
    "lenType": 16,
    "lenVar": 40
   },
   "kernels_config": {
    "python": {
     "delete_cmd_postfix": "",
     "delete_cmd_prefix": "del ",
     "library": "var_list.py",
     "varRefreshCmd": "print(var_dic_list())"
    },
    "r": {
     "delete_cmd_postfix": ") ",
     "delete_cmd_prefix": "rm(",
     "library": "var_list.r",
     "varRefreshCmd": "cat(var_dic_list()) "
    }
   },
   "types_to_exclude": [
    "module",
    "function",
    "builtin_function_or_method",
    "instance",
    "_Feature"
   ],
   "window_display": false
  }
 },
 "nbformat": 4,
 "nbformat_minor": 1
}
