{
 "cells": [
  {
   "cell_type": "markdown",
   "metadata": {},
   "source": [
    "<!--NAVIGATION-->\n",
    "< [Mais operadores](03.Mais_operadores.ipynb) | [Sumario](00.Sumario.ipynb) | [Funções básicas](05.Funcoes_basicas.ipynb) >\n",
    "\n",
    "<a href=\"https://colab.research.google.com/github/psloliveirajr/Introducao_a_Python3/blob/master/04.Manipulacao_de_variaveis.ipynb\"><img align=\"left\" src=\"https://colab.research.google.com/assets/colab-badge.svg\" alt=\"Open in Colab\" title=\"Open and Execute in Google Colaboratory\"></a>"
   ]
  },
  {
   "cell_type": "markdown",
   "metadata": {},
   "source": [
    "## Manipulação de variáveis"
   ]
  },
  {
   "cell_type": "markdown",
   "metadata": {},
   "source": [
    "### Atribuição\n",
    "\n",
    "Uma **estrutura de atribuição** (=) cria uma nova variável e fornece um valor.\n",
    "\n",
    "![atribuir](img/estrutura_atribuir.png)\n",
    "\n",
    "Uma maneira comum de representar variáveis no papel é escrever o nome com uma seta apontando para o seu valor. Esse tipo de figura é chamado de **diagrama de estados** porque mostra em que estado cada uma das variáveis está.\n",
    "\n",
    "![diagramaestado](img/diagrama_estado.png)"
   ]
  },
  {
   "cell_type": "code",
   "execution_count": null,
   "metadata": {
    "ExecuteTime": {
     "end_time": "2020-08-29T08:18:05.321632Z",
     "start_time": "2020-08-29T08:18:05.313649Z"
    }
   },
   "outputs": [],
   "source": [
    "# Atribuição simples\n",
    "x = 20\n",
    "x"
   ]
  },
  {
   "cell_type": "code",
   "execution_count": null,
   "metadata": {
    "ExecuteTime": {
     "end_time": "2020-08-29T08:18:05.402231Z",
     "start_time": "2020-08-29T08:18:05.339415Z"
    }
   },
   "outputs": [],
   "source": [
    "# Atribuição multipla\n",
    "x,y,z = 10,5,20\n",
    "x,y,z"
   ]
  },
  {
   "cell_type": "markdown",
   "metadata": {},
   "source": [
    "### Nomes das variáveis\n",
    "\n",
    "Os nomes das variáveis podem ser do tamanho que bem entendermos, entretanto não devem conter acentos e devem possuir apenas caracteres alfa-numéricos. O caractere sublinhado (_) pode aparecer em um nome. Ele é frequentemente usado em nomes com várias palavras, como nome_laboratorio ou curso_ifrj.\n",
    "\n",
    "\n",
    "Os nomes dás variáveis não podem começar com números, não podem ter \"@\" no nome e não podem ser nenhuma das **palavras-chave**\n",
    "\n",
    "|        |          | Palavras-chave|          |        |\n",
    "|:------:|:--------:|:--------:|:--------:|:------:|\n",
    "|  False |   await  |   else   |  import  |  pass  |\n",
    "|  None  |   break  |  except  |    in    |  raise |\n",
    "|  True  |   class  |  finally |    is    | return |\n",
    "|   and  | continue |    for   |  lambda  |   try  |\n",
    "|   as   |    def   |   from   | nonlocal |  while |\n",
    "| assert |    del   |  global  |    not   |  with  |\n",
    "|  async |   elif   |    if    |    or    |  yield |\n",
    "\n",
    "Na maioria dos ambientes de desenvolvimento, palavras-chave são exibidos em uma cor diferente. Podemos ver alguns exemplos abaixo:"
   ]
  },
  {
   "cell_type": "code",
   "execution_count": null,
   "metadata": {
    "ExecuteTime": {
     "end_time": "2020-08-29T08:18:05.474755Z",
     "start_time": "2020-08-29T08:18:05.404619Z"
    }
   },
   "outputs": [],
   "source": [
    "28laboratorio = \"LISComp\""
   ]
  },
  {
   "cell_type": "code",
   "execution_count": null,
   "metadata": {
    "ExecuteTime": {
     "end_time": "2020-08-29T08:18:05.476743Z",
     "start_time": "2020-08-29T08:18:05.392Z"
    }
   },
   "outputs": [],
   "source": [
    "laboratorio@ = \"LISComp\""
   ]
  },
  {
   "cell_type": "code",
   "execution_count": null,
   "metadata": {
    "ExecuteTime": {
     "end_time": "2020-08-29T08:18:05.477858Z",
     "start_time": "2020-08-29T08:18:05.417Z"
    }
   },
   "outputs": [],
   "source": [
    "class = \"Turma do Paulinho\""
   ]
  },
  {
   "cell_type": "markdown",
   "metadata": {},
   "source": [
    "### Tipagem dinâmica\n",
    "\n",
    "**Tipagem dinâmica** é uma característica de determinadas linguagens de programação, que não exigem estruturas de tipos de dados, pois são capazes de escolher que tipo utilizar dinamicamente para cada variável, podendo alterá-lo durante a compilação ou a execução do programa."
   ]
  },
  {
   "cell_type": "code",
   "execution_count": null,
   "metadata": {
    "ExecuteTime": {
     "end_time": "2020-08-29T08:18:05.478964Z",
     "start_time": "2020-08-29T08:18:05.450Z"
    }
   },
   "outputs": [],
   "source": [
    "x = 10\n",
    "x"
   ]
  },
  {
   "cell_type": "code",
   "execution_count": null,
   "metadata": {
    "ExecuteTime": {
     "end_time": "2020-08-29T08:18:05.480010Z",
     "start_time": "2020-08-29T08:18:05.473Z"
    }
   },
   "outputs": [],
   "source": [
    "x = 'Maria'\n",
    "x"
   ]
  },
  {
   "cell_type": "code",
   "execution_count": null,
   "metadata": {
    "ExecuteTime": {
     "end_time": "2020-08-29T08:18:05.585150Z",
     "start_time": "2020-08-29T08:18:05.581668Z"
    }
   },
   "outputs": [],
   "source": [
    "x = True\n",
    "x"
   ]
  },
  {
   "cell_type": "code",
   "execution_count": null,
   "metadata": {
    "ExecuteTime": {
     "end_time": "2020-08-29T08:18:05.657148Z",
     "start_time": "2020-08-29T08:18:05.587910Z"
    }
   },
   "outputs": [],
   "source": [
    "x = 14.5\n",
    "x"
   ]
  },
  {
   "cell_type": "markdown",
   "metadata": {},
   "source": [
    "### Operadores de atribuição\n",
    "\n",
    "Para somar, subtrair, etc., em uma mesma variavél podemos operar assim:"
   ]
  },
  {
   "cell_type": "code",
   "execution_count": null,
   "metadata": {
    "ExecuteTime": {
     "end_time": "2020-08-29T08:18:05.727301Z",
     "start_time": "2020-08-29T08:18:05.658874Z"
    }
   },
   "outputs": [],
   "source": [
    "x = 10\n",
    "x = x + 5\n",
    "x"
   ]
  },
  {
   "cell_type": "code",
   "execution_count": null,
   "metadata": {
    "ExecuteTime": {
     "end_time": "2020-08-29T08:18:05.801684Z",
     "start_time": "2020-08-29T08:18:05.729577Z"
    }
   },
   "outputs": [],
   "source": [
    "y = 6.5\n",
    "x = x+y\n",
    "x"
   ]
  },
  {
   "cell_type": "markdown",
   "metadata": {},
   "source": [
    "Entretanto, podemos realizar operações desse tipo de uma forma abreviada"
   ]
  },
  {
   "cell_type": "code",
   "execution_count": null,
   "metadata": {
    "ExecuteTime": {
     "end_time": "2020-08-29T08:18:05.858657Z",
     "start_time": "2020-08-29T08:18:05.804905Z"
    }
   },
   "outputs": [],
   "source": [
    "x = 10"
   ]
  },
  {
   "cell_type": "code",
   "execution_count": null,
   "metadata": {
    "ExecuteTime": {
     "end_time": "2020-08-29T08:18:05.931370Z",
     "start_time": "2020-08-29T08:18:05.861298Z"
    }
   },
   "outputs": [],
   "source": [
    "x += 5\n",
    "x"
   ]
  },
  {
   "cell_type": "code",
   "execution_count": null,
   "metadata": {
    "ExecuteTime": {
     "end_time": "2020-08-29T08:18:05.998497Z",
     "start_time": "2020-08-29T08:18:05.933098Z"
    }
   },
   "outputs": [],
   "source": [
    "x -= 6\n",
    "x"
   ]
  },
  {
   "cell_type": "code",
   "execution_count": null,
   "metadata": {
    "ExecuteTime": {
     "end_time": "2020-08-29T08:18:06.073039Z",
     "start_time": "2020-08-29T08:18:06.000444Z"
    }
   },
   "outputs": [],
   "source": [
    "x *= 2\n",
    "x"
   ]
  },
  {
   "cell_type": "code",
   "execution_count": null,
   "metadata": {
    "ExecuteTime": {
     "end_time": "2020-08-29T08:18:06.142679Z",
     "start_time": "2020-08-29T08:18:06.075141Z"
    }
   },
   "outputs": [],
   "source": [
    "x /= 12\n",
    "x"
   ]
  },
  {
   "cell_type": "code",
   "execution_count": null,
   "metadata": {
    "ExecuteTime": {
     "end_time": "2020-08-29T08:18:06.213728Z",
     "start_time": "2020-08-29T08:18:06.147231Z"
    }
   },
   "outputs": [],
   "source": [
    "x **= 3\n",
    "x"
   ]
  },
  {
   "cell_type": "code",
   "execution_count": null,
   "metadata": {
    "ExecuteTime": {
     "end_time": "2020-08-29T08:18:06.285406Z",
     "start_time": "2020-08-29T08:18:06.216759Z"
    }
   },
   "outputs": [],
   "source": [
    "x //= 3\n",
    "x"
   ]
  },
  {
   "cell_type": "code",
   "execution_count": null,
   "metadata": {
    "ExecuteTime": {
     "end_time": "2020-08-29T08:18:06.355375Z",
     "start_time": "2020-08-29T08:18:06.288109Z"
    },
    "scrolled": true
   },
   "outputs": [],
   "source": [
    "x %= 3\n",
    "x"
   ]
  },
  {
   "cell_type": "markdown",
   "metadata": {},
   "source": [
    "<!--NAVIGATION-->\n",
    "< [Mais operadores](03.Mais_operadores.ipynb) | [Sumario](00.Sumario.ipynb) | [Funções básicas](05.Funcoes_basicas.ipynb) >\n",
    "\n",
    "<a href=\"https://colab.research.google.com/github/psloliveirajr/Introducao_a_Python3/blob/master/04.Manipulacao_de_variaveis.ipynb\"><img align=\"left\" src=\"https://colab.research.google.com/assets/colab-badge.svg\" alt=\"Open in Colab\" title=\"Open and Execute in Google Colaboratory\"></a>"
   ]
  }
 ],
 "metadata": {
  "kernelspec": {
   "display_name": "Python 3",
   "language": "python",
   "name": "python3"
  },
  "language_info": {
   "codemirror_mode": {
    "name": "ipython",
    "version": 3
   },
   "file_extension": ".py",
   "mimetype": "text/x-python",
   "name": "python",
   "nbconvert_exporter": "python",
   "pygments_lexer": "ipython3",
   "version": "3.8.5"
  },
  "nbTranslate": {
   "displayLangs": [
    "fr",
    "en"
   ],
   "hotkey": "alt-t",
   "langInMainMenu": true,
   "sourceLang": "en",
   "targetLang": "fr",
   "useGoogleTranslate": true
  },
  "toc": {
   "base_numbering": 1,
   "nav_menu": {},
   "number_sections": true,
   "sideBar": true,
   "skip_h1_title": false,
   "title_cell": "Table of Contents",
   "title_sidebar": "Contents",
   "toc_cell": false,
   "toc_position": {},
   "toc_section_display": true,
   "toc_window_display": false
  },
  "varInspector": {
   "cols": {
    "lenName": 16,
    "lenType": 16,
    "lenVar": 40
   },
   "kernels_config": {
    "python": {
     "delete_cmd_postfix": "",
     "delete_cmd_prefix": "del ",
     "library": "var_list.py",
     "varRefreshCmd": "print(var_dic_list())"
    },
    "r": {
     "delete_cmd_postfix": ") ",
     "delete_cmd_prefix": "rm(",
     "library": "var_list.r",
     "varRefreshCmd": "cat(var_dic_list()) "
    }
   },
   "types_to_exclude": [
    "module",
    "function",
    "builtin_function_or_method",
    "instance",
    "_Feature"
   ],
   "window_display": false
  }
 },
 "nbformat": 4,
 "nbformat_minor": 4
}
