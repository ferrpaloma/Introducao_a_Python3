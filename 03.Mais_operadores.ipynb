{
 "cells": [
  {
   "cell_type": "markdown",
   "metadata": {},
   "source": [
    "<!--NAVIGATION-->\n",
    "< [Tipos de objetos básicos](02.Tipos_de_objetos_basicos.ipynb) | [Sumario](00.Sumario.ipynb) | [Manipulação de variáveis](04.Manipulacao_de_variaveis.ipynb) >\n",
    "\n",
    "<a href=\"https://colab.research.google.com/github/psloliveirajr/Introducao_a_Python3/blob/master/03.Mais_operadores.ipynb\"><img align=\"left\" src=\"https://colab.research.google.com/assets/colab-badge.svg\" alt=\"Open in Colab\" title=\"Open and Execute in Google Colaboratory\"></a>"
   ]
  },
  {
   "cell_type": "markdown",
   "metadata": {},
   "source": [
    "## Mais operadores "
   ]
  },
  {
   "cell_type": "markdown",
   "metadata": {},
   "source": [
    "### Operadores de comparação"
   ]
  },
  {
   "cell_type": "code",
   "execution_count": null,
   "metadata": {
    "ExecuteTime": {
     "end_time": "2020-08-29T08:00:08.031341Z",
     "start_time": "2020-08-29T08:00:08.012649Z"
    }
   },
   "outputs": [],
   "source": [
    "# Exatamente menor que (<)\n",
    "15 < 7"
   ]
  },
  {
   "cell_type": "code",
   "execution_count": null,
   "metadata": {
    "ExecuteTime": {
     "end_time": "2020-08-29T08:00:08.085810Z",
     "start_time": "2020-08-29T08:00:08.046599Z"
    }
   },
   "outputs": [],
   "source": [
    "# Menor que ou igual (<=)\n",
    "15 <= 7"
   ]
  },
  {
   "cell_type": "code",
   "execution_count": null,
   "metadata": {
    "ExecuteTime": {
     "end_time": "2020-08-29T08:00:08.181224Z",
     "start_time": "2020-08-29T08:00:08.087873Z"
    }
   },
   "outputs": [],
   "source": [
    "# Exatamente maior que (>)\n",
    "15 > 7"
   ]
  },
  {
   "cell_type": "code",
   "execution_count": null,
   "metadata": {
    "ExecuteTime": {
     "end_time": "2020-08-29T08:00:08.249419Z",
     "start_time": "2020-08-29T08:00:08.184181Z"
    }
   },
   "outputs": [],
   "source": [
    "# Maior que ou igual (>=)\n",
    "15 >= 7"
   ]
  },
  {
   "cell_type": "code",
   "execution_count": null,
   "metadata": {
    "ExecuteTime": {
     "end_time": "2020-08-29T08:00:08.319955Z",
     "start_time": "2020-08-29T08:00:08.251954Z"
    }
   },
   "outputs": [],
   "source": [
    "# Igual (==)\n",
    "15 == 15"
   ]
  },
  {
   "cell_type": "code",
   "execution_count": null,
   "metadata": {
    "ExecuteTime": {
     "end_time": "2020-08-29T08:00:08.391921Z",
     "start_time": "2020-08-29T08:00:08.322208Z"
    }
   },
   "outputs": [],
   "source": [
    "# Não é igual (!=)\n",
    "15 != 15"
   ]
  },
  {
   "cell_type": "markdown",
   "metadata": {},
   "source": [
    "### Operadores booleanos\n",
    "\n",
    "- a **and** b: True, se a e b são verdadeiros e False nos outros casos."
   ]
  },
  {
   "cell_type": "code",
   "execution_count": null,
   "metadata": {
    "ExecuteTime": {
     "end_time": "2020-08-29T08:00:08.455930Z",
     "start_time": "2020-08-29T08:00:08.397636Z"
    }
   },
   "outputs": [],
   "source": [
    "15 > 7 and 15 < 20"
   ]
  },
  {
   "cell_type": "code",
   "execution_count": null,
   "metadata": {
    "ExecuteTime": {
     "end_time": "2020-08-29T08:00:08.526715Z",
     "start_time": "2020-08-29T08:00:08.459789Z"
    }
   },
   "outputs": [],
   "source": [
    "15 > 7 and 15 > 20"
   ]
  },
  {
   "cell_type": "markdown",
   "metadata": {},
   "source": [
    "- a **or** b: True, se a e b são True ou algum valor de a ou b são verdadeiros, nos outros casos False."
   ]
  },
  {
   "cell_type": "code",
   "execution_count": null,
   "metadata": {
    "ExecuteTime": {
     "end_time": "2020-08-29T08:00:08.601030Z",
     "start_time": "2020-08-29T08:00:08.530619Z"
    }
   },
   "outputs": [],
   "source": [
    "15 > 7 or 15 < 20"
   ]
  },
  {
   "cell_type": "code",
   "execution_count": null,
   "metadata": {
    "ExecuteTime": {
     "end_time": "2020-08-29T08:00:08.676100Z",
     "start_time": "2020-08-29T08:00:08.603456Z"
    }
   },
   "outputs": [],
   "source": [
    "15 > 7 or 15 > 20"
   ]
  },
  {
   "cell_type": "code",
   "execution_count": null,
   "metadata": {
    "ExecuteTime": {
     "end_time": "2020-08-29T08:00:08.742534Z",
     "start_time": "2020-08-29T08:00:08.678753Z"
    }
   },
   "outputs": [],
   "source": [
    "15 < 7 or 15 > 20"
   ]
  },
  {
   "cell_type": "markdown",
   "metadata": {},
   "source": [
    "- **not** a: True se for False e False se for True."
   ]
  },
  {
   "cell_type": "code",
   "execution_count": null,
   "metadata": {
    "ExecuteTime": {
     "end_time": "2020-08-29T08:00:08.816883Z",
     "start_time": "2020-08-29T08:00:08.745313Z"
    },
    "scrolled": true
   },
   "outputs": [],
   "source": [
    "not True"
   ]
  },
  {
   "cell_type": "markdown",
   "metadata": {},
   "source": [
    "### Prioridade dos operadores\n",
    "\n",
    "1. Expressões entre Parênteses ( ) – Maior Prioridade;\n",
    "2. Potenciação (**);\n",
    "3. Unários (+, -);\n",
    "4. Binários Multiplicativos (*, /, %, //);\n",
    "5. Binários Aditivos (+, -);\n",
    "6. Comparação (==, !=, <, >, <=, >=);\n",
    "7. Lógico not;\n",
    "8. Lógico and;\n",
    "9. Lógico or – Menor Prioridade."
   ]
  },
  {
   "cell_type": "code",
   "execution_count": null,
   "metadata": {
    "ExecuteTime": {
     "end_time": "2020-08-29T08:00:08.894134Z",
     "start_time": "2020-08-29T08:00:08.823764Z"
    }
   },
   "outputs": [],
   "source": [
    "-10**2"
   ]
  },
  {
   "cell_type": "code",
   "execution_count": null,
   "metadata": {
    "ExecuteTime": {
     "end_time": "2020-08-29T08:00:08.969391Z",
     "start_time": "2020-08-29T08:00:08.896655Z"
    },
    "scrolled": true
   },
   "outputs": [],
   "source": [
    "(-10)**2"
   ]
  },
  {
   "cell_type": "code",
   "execution_count": null,
   "metadata": {
    "ExecuteTime": {
     "end_time": "2020-08-29T08:00:09.043362Z",
     "start_time": "2020-08-29T08:00:08.976417Z"
    }
   },
   "outputs": [],
   "source": [
    "(-10)**2/-5"
   ]
  },
  {
   "cell_type": "code",
   "execution_count": null,
   "metadata": {
    "ExecuteTime": {
     "end_time": "2020-08-29T08:00:09.135026Z",
     "start_time": "2020-08-29T08:00:09.050450Z"
    }
   },
   "outputs": [],
   "source": [
    "(-10)**2/-5+4"
   ]
  },
  {
   "cell_type": "code",
   "execution_count": null,
   "metadata": {
    "ExecuteTime": {
     "end_time": "2020-08-29T08:00:09.223675Z",
     "start_time": "2020-08-29T08:00:09.145144Z"
    }
   },
   "outputs": [],
   "source": [
    "# A expressão à esquerda equivale a expressão à direita\n",
    "(3.75 + 25/7 - 15**2/10) == (3.75 + (25/7) - (15**2)/10)"
   ]
  },
  {
   "cell_type": "markdown",
   "metadata": {},
   "source": [
    "<!--NAVIGATION-->\n",
    "< [Tipo de objetos basicos](02.Tipo_de_objetos_basicos.ipynb) | [Sumario](00.Sumario.ipynb) | [Manipulação de variáveis](04.Manipulacao_de_variaveis.ipynb) >\n",
    "\n",
    "<a href=\"https://colab.research.google.com/github/psloliveirajr/Introducao_a_Python3/blob/master/03.Mais_operadores.ipynb\"><img align=\"left\" src=\"https://colab.research.google.com/assets/colab-badge.svg\" alt=\"Open in Colab\" title=\"Open and Execute in Google Colaboratory\"></a>"
   ]
  }
 ],
 "metadata": {
  "kernelspec": {
   "display_name": "Python 3",
   "language": "python",
   "name": "python3"
  },
  "language_info": {
   "codemirror_mode": {
    "name": "ipython",
    "version": 3
   },
   "file_extension": ".py",
   "mimetype": "text/x-python",
   "name": "python",
   "nbconvert_exporter": "python",
   "pygments_lexer": "ipython3",
   "version": "3.8.5"
  },
  "nbTranslate": {
   "displayLangs": [
    "fr",
    "en"
   ],
   "hotkey": "alt-t",
   "langInMainMenu": true,
   "sourceLang": "en",
   "targetLang": "fr",
   "useGoogleTranslate": true
  },
  "toc": {
   "base_numbering": 1,
   "nav_menu": {},
   "number_sections": true,
   "sideBar": true,
   "skip_h1_title": false,
   "title_cell": "Table of Contents",
   "title_sidebar": "Contents",
   "toc_cell": false,
   "toc_position": {},
   "toc_section_display": true,
   "toc_window_display": false
  },
  "varInspector": {
   "cols": {
    "lenName": 16,
    "lenType": 16,
    "lenVar": 40
   },
   "kernels_config": {
    "python": {
     "delete_cmd_postfix": "",
     "delete_cmd_prefix": "del ",
     "library": "var_list.py",
     "varRefreshCmd": "print(var_dic_list())"
    },
    "r": {
     "delete_cmd_postfix": ") ",
     "delete_cmd_prefix": "rm(",
     "library": "var_list.r",
     "varRefreshCmd": "cat(var_dic_list()) "
    }
   },
   "types_to_exclude": [
    "module",
    "function",
    "builtin_function_or_method",
    "instance",
    "_Feature"
   ],
   "window_display": false
  }
 },
 "nbformat": 4,
 "nbformat_minor": 4
}
