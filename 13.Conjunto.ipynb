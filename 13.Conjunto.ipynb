{
 "cells": [
  {
   "cell_type": "markdown",
   "metadata": {},
   "source": [
    "<!--NAVIGATION-->\n",
    "< [Arquivos de texto](12.Arquivos_de_texto.ipynb) | [Sumario](00.Sumario.ipynb) | [Dicionario](14.Dicionario.ipynb) >\n",
    "\n",
    "<a href=\"https://colab.research.google.com/github/psloliveirajr/Introducao_a_Python3/blob/master/13.Conjunto.ipynb\"><img align=\"left\" src=\"https://colab.research.google.com/assets/colab-badge.svg\" alt=\"Open in Colab\" title=\"Open and Execute in Google Colaboratory\"></a>"
   ]
  },
  {
   "cell_type": "markdown",
   "metadata": {},
   "source": [
    "## Conjunto\n",
    "\n",
    "Um conjunto (**set**) é uma coleção não ordenada de objetos distintos imutável(áveis), tais como números inteiros e de ponto flutuante, Strings e Tuplas. Os usos comuns incluem: teste de associação, remoção de duplicatas de uma sequência e computação de operações matemáticas como interseção, união, diferença e diferença simétrica.\n",
    "\n",
    "Como outras coleções, os conjuntos suportam `x in set`, `len (set)` e `for x in set`. Sendo uma coleção não ordenada, os conjuntos não registram a posição do elemento ou a ordem de inserção. Consequentemente, os conjuntos não suportam indexação, fatiamento ou outro comportamento semelhante a sequência.\n",
    "\n",
    "Atualmente, existem dois tipos de conjuntos *build-in*, **set** e **frozenset**. O tipo de conjunto *set* é mutável - o conteúdo pode ser alterado usando métodos como add() e remove(). O tipo *frozenset* é imutável - seu conteúdo não pode ser alterado após a criação."
   ]
  },
  {
   "cell_type": "markdown",
   "metadata": {},
   "source": [
    "### Iniciar um set"
   ]
  },
  {
   "cell_type": "code",
   "execution_count": null,
   "metadata": {
    "ExecuteTime": {
     "end_time": "2020-08-29T08:24:37.925675Z",
     "start_time": "2020-08-29T08:24:37.915231Z"
    }
   },
   "outputs": [],
   "source": [
    "# Iniciar com chaves {}\n",
    "conjunto1 = {1    ,    8, 8, 5, 2, 4, 3, 3, 6, 8}\n",
    "conjunto1"
   ]
  },
  {
   "cell_type": "code",
   "execution_count": null,
   "metadata": {
    "ExecuteTime": {
     "end_time": "2020-08-29T08:24:38.074810Z",
     "start_time": "2020-08-29T08:24:37.976097Z"
    }
   },
   "outputs": [],
   "source": [
    "# Iniciar com set()\n",
    "lista = [2, 9, 9, 7, 1, 5, 4, 9, 5, 5]\n",
    "conjunto2 = set(lista)\n",
    "conjunto2"
   ]
  },
  {
   "cell_type": "markdown",
   "metadata": {},
   "source": [
    "### Operações em um conjunto set"
   ]
  },
  {
   "cell_type": "code",
   "execution_count": null,
   "metadata": {
    "ExecuteTime": {
     "end_time": "2020-08-29T08:24:38.150922Z",
     "start_time": "2020-08-29T08:24:38.082124Z"
    }
   },
   "outputs": [],
   "source": [
    "# x in s testa se um elemento x pertence a s\n",
    "9 in conjunto1"
   ]
  },
  {
   "cell_type": "code",
   "execution_count": null,
   "metadata": {
    "ExecuteTime": {
     "end_time": "2020-08-29T08:24:38.215994Z",
     "start_time": "2020-08-29T08:24:38.152998Z"
    }
   },
   "outputs": [],
   "source": [
    "# x in s testa se um elemento x não pertence a s\n",
    "9 not in conjunto2"
   ]
  },
  {
   "cell_type": "code",
   "execution_count": null,
   "metadata": {
    "ExecuteTime": {
     "end_time": "2020-08-29T08:24:38.293428Z",
     "start_time": "2020-08-29T08:24:38.217977Z"
    }
   },
   "outputs": [],
   "source": [
    "conjunto1 = {1,2,3,4,5,6,7,8,9}\n",
    "conjunto2 = {4,5,6,7}"
   ]
  },
  {
   "cell_type": "code",
   "execution_count": null,
   "metadata": {
    "ExecuteTime": {
     "end_time": "2020-08-29T08:24:38.413407Z",
     "start_time": "2020-08-29T08:24:38.295167Z"
    }
   },
   "outputs": [],
   "source": [
    "# set <= other Testa se todos os elementos do set estão em outro.\n",
    "conjunto2 <= conjunto1"
   ]
  },
  {
   "cell_type": "code",
   "execution_count": null,
   "metadata": {
    "ExecuteTime": {
     "end_time": "2020-08-29T08:24:38.480969Z",
     "start_time": "2020-08-29T08:24:38.416060Z"
    }
   },
   "outputs": [],
   "source": [
    "# set < other Testa se o set é um subconjunto de outro, ou seja, set <= other e set! = other.\n",
    "conjunto2 < conjunto1"
   ]
  },
  {
   "cell_type": "code",
   "execution_count": null,
   "metadata": {
    "ExecuteTime": {
     "end_time": "2020-08-29T08:24:38.585873Z",
     "start_time": "2020-08-29T08:24:38.482974Z"
    }
   },
   "outputs": [],
   "source": [
    "# set >= other Testa se todos os elementos no outro estão no conjunto.\n",
    "conjunto1 >= conjunto2"
   ]
  },
  {
   "cell_type": "code",
   "execution_count": null,
   "metadata": {
    "ExecuteTime": {
     "end_time": "2020-08-29T08:24:38.655131Z",
     "start_time": "2020-08-29T08:24:38.587745Z"
    }
   },
   "outputs": [],
   "source": [
    "# set > other Testa se o conjunto é um superconjunto de other, ou seja, set >= other e set != other.\n",
    "conjunto1 > conjunto2"
   ]
  },
  {
   "cell_type": "code",
   "execution_count": null,
   "metadata": {
    "ExecuteTime": {
     "end_time": "2020-08-29T08:24:38.728736Z",
     "start_time": "2020-08-29T08:24:38.658279Z"
    }
   },
   "outputs": [],
   "source": [
    "conjunto1 = {1,2,3,4,5,6}\n",
    "conjunto2 = {5,6,7,8,9,10}"
   ]
  },
  {
   "cell_type": "code",
   "execution_count": null,
   "metadata": {
    "ExecuteTime": {
     "end_time": "2020-08-29T08:24:38.820618Z",
     "start_time": "2020-08-29T08:24:38.730898Z"
    }
   },
   "outputs": [],
   "source": [
    "# set | other | ... Retorne um novo conjunto com elementos do set e do other.\n",
    "conjunto1 | conjunto2"
   ]
  },
  {
   "cell_type": "code",
   "execution_count": null,
   "metadata": {
    "ExecuteTime": {
     "end_time": "2020-08-29T08:24:38.902227Z",
     "start_time": "2020-08-29T08:24:38.822866Z"
    }
   },
   "outputs": [],
   "source": [
    "# set & other & ... Retorna um novo conjunto com elementos comuns ao set e do other.\n",
    "conjunto1 & conjunto2"
   ]
  },
  {
   "cell_type": "code",
   "execution_count": null,
   "metadata": {
    "ExecuteTime": {
     "end_time": "2020-08-29T08:24:38.962269Z",
     "start_time": "2020-08-29T08:24:38.904510Z"
    }
   },
   "outputs": [],
   "source": [
    "# set - other - ... Retorna um novo conjunto com elementos no set e que não estão no other.\n",
    "conjunto1 - conjunto2"
   ]
  },
  {
   "cell_type": "code",
   "execution_count": null,
   "metadata": {
    "ExecuteTime": {
     "end_time": "2020-08-29T08:24:39.029212Z",
     "start_time": "2020-08-29T08:24:38.965291Z"
    }
   },
   "outputs": [],
   "source": [
    "# set ^ other Retorna um novo conjunto com elementos no set ou em other, mas não em ambos\n",
    "conjunto1 ^ conjunto2"
   ]
  },
  {
   "cell_type": "code",
   "execution_count": null,
   "metadata": {
    "ExecuteTime": {
     "end_time": "2020-08-29T08:24:39.103944Z",
     "start_time": "2020-08-29T08:24:39.032813Z"
    }
   },
   "outputs": [],
   "source": [
    "# set |= other | ... Atualiza o set, adicionando elementos de todos do other.\n",
    "conjunto = set()\n",
    "conjunto |= conjunto1\n",
    "conjunto"
   ]
  },
  {
   "cell_type": "code",
   "execution_count": null,
   "metadata": {
    "ExecuteTime": {
     "end_time": "2020-08-29T08:24:39.169519Z",
     "start_time": "2020-08-29T08:24:39.106428Z"
    }
   },
   "outputs": [],
   "source": [
    "# set &= other & ... Atualiza o set, mantendo apenas os elementos encontrados nele e em other.\n",
    "conjunto &= conjunto2\n",
    "conjunto"
   ]
  },
  {
   "cell_type": "code",
   "execution_count": null,
   "metadata": {
    "ExecuteTime": {
     "end_time": "2020-08-29T08:24:39.236433Z",
     "start_time": "2020-08-29T08:24:39.171638Z"
    }
   },
   "outputs": [],
   "source": [
    "#set -= other | ... Atualiza o set, removendo elementos encontrados em other.\n",
    "conjunto = conjunto1.copy()\n",
    "conjunto -= conjunto2\n",
    "conjunto"
   ]
  },
  {
   "cell_type": "code",
   "execution_count": null,
   "metadata": {
    "ExecuteTime": {
     "end_time": "2020-08-29T08:24:39.302990Z",
     "start_time": "2020-08-29T08:24:39.238567Z"
    }
   },
   "outputs": [],
   "source": [
    "# set ^= other Atualiza o set, mantendo apenas os elementos encontrados em cada conjunto, mas não em ambos.\n",
    "conjunto = conjunto1.copy()\n",
    "conjunto ^= conjunto2\n",
    "conjunto"
   ]
  },
  {
   "cell_type": "markdown",
   "metadata": {},
   "source": [
    "### Métodos em um conjunto set"
   ]
  },
  {
   "cell_type": "code",
   "execution_count": null,
   "metadata": {
    "ExecuteTime": {
     "end_time": "2020-08-29T08:24:39.367440Z",
     "start_time": "2020-08-29T08:24:39.305581Z"
    }
   },
   "outputs": [],
   "source": [
    "conjunto1 = {1,2,3,4,5,6,7,8,9}\n",
    "conjunto2 = {4,5,6,7}"
   ]
  },
  {
   "cell_type": "code",
   "execution_count": null,
   "metadata": {
    "ExecuteTime": {
     "end_time": "2020-08-29T08:24:39.428382Z",
     "start_time": "2020-08-29T08:24:39.369819Z"
    }
   },
   "outputs": [],
   "source": [
    "# set.isdisjoint(other) Testa se o set não tem elementos em comum com other. Os conjuntos são disjuntos se e somente se a interseção for o conjunto vazio.\n",
    "conjunto1.isdisjoint(conjunto2)"
   ]
  },
  {
   "cell_type": "code",
   "execution_count": null,
   "metadata": {
    "ExecuteTime": {
     "end_time": "2020-08-29T08:24:39.498352Z",
     "start_time": "2020-08-29T08:24:39.431594Z"
    }
   },
   "outputs": [],
   "source": [
    "# set.issubset(other) Testa se o conjunto é um subconjunto de other, ou seja, set <= other e set != other.\n",
    "conjunto2.issubset(conjunto1)"
   ]
  },
  {
   "cell_type": "code",
   "execution_count": null,
   "metadata": {
    "ExecuteTime": {
     "end_time": "2020-08-29T08:24:39.592296Z",
     "start_time": "2020-08-29T08:24:39.500041Z"
    }
   },
   "outputs": [],
   "source": [
    "# set.issuperset(other) Testa se o conjunto é um superconjunto de other, ou seja, set >= other e set != other.\n",
    "conjunto1.issuperset(conjunto2)"
   ]
  },
  {
   "cell_type": "code",
   "execution_count": null,
   "metadata": {
    "ExecuteTime": {
     "end_time": "2020-08-29T08:24:39.720090Z",
     "start_time": "2020-08-29T08:24:39.594159Z"
    }
   },
   "outputs": [],
   "source": [
    "conjunto1 = {1,2,3,4,5,6}\n",
    "conjunto2 = {5,6,7,8,9,10}"
   ]
  },
  {
   "cell_type": "code",
   "execution_count": null,
   "metadata": {
    "ExecuteTime": {
     "end_time": "2020-08-29T08:24:39.855528Z",
     "start_time": "2020-08-29T08:24:39.721946Z"
    },
    "scrolled": true
   },
   "outputs": [],
   "source": [
    "# set.union(*others) Retorne um novo conjunto com elementos do set e do other.\n",
    "conjunto1.union(conjunto2)"
   ]
  },
  {
   "cell_type": "code",
   "execution_count": null,
   "metadata": {
    "ExecuteTime": {
     "end_time": "2020-08-29T08:24:39.937583Z",
     "start_time": "2020-08-29T08:24:39.857715Z"
    },
    "scrolled": true
   },
   "outputs": [],
   "source": [
    "conjunto1"
   ]
  },
  {
   "cell_type": "code",
   "execution_count": null,
   "metadata": {
    "ExecuteTime": {
     "end_time": "2020-08-29T08:24:40.007269Z",
     "start_time": "2020-08-29T08:24:39.939070Z"
    }
   },
   "outputs": [],
   "source": [
    "# set.intersection(*others) Retorna um novo conjunto com elementos comuns ao set e do other.\n",
    "conjunto1.intersection(conjunto2)"
   ]
  },
  {
   "cell_type": "code",
   "execution_count": null,
   "metadata": {
    "ExecuteTime": {
     "end_time": "2020-08-29T08:24:40.094481Z",
     "start_time": "2020-08-29T08:24:40.008942Z"
    },
    "scrolled": true
   },
   "outputs": [],
   "source": [
    "# set.difference(*others) Retorna um novo conjunto com elementos no set e que não estão no other.\n",
    "conjunto1.difference(conjunto2)"
   ]
  },
  {
   "cell_type": "code",
   "execution_count": null,
   "metadata": {
    "ExecuteTime": {
     "end_time": "2020-08-29T08:24:40.165900Z",
     "start_time": "2020-08-29T08:24:40.100187Z"
    }
   },
   "outputs": [],
   "source": [
    "# set.symmetric_difference(other) Retorna um novo conjunto com elementos no set ou em other, mas não em ambos\n",
    "conjunto1.symmetric_difference(conjunto2)"
   ]
  },
  {
   "cell_type": "code",
   "execution_count": null,
   "metadata": {
    "ExecuteTime": {
     "end_time": "2020-08-29T08:24:40.232213Z",
     "start_time": "2020-08-29T08:24:40.167869Z"
    }
   },
   "outputs": [],
   "source": [
    "# set.update(*others) Atualiza o set, adicionando elementos de todos do other.\n",
    "conjunto = set()\n",
    "conjunto.update(conjunto1)\n",
    "conjunto"
   ]
  },
  {
   "cell_type": "code",
   "execution_count": null,
   "metadata": {
    "ExecuteTime": {
     "end_time": "2020-08-29T08:24:40.347734Z",
     "start_time": "2020-08-29T08:24:40.233985Z"
    }
   },
   "outputs": [],
   "source": [
    "# set.intersection_update(*others)  Atualiza o set, mantendo apenas os elementos encontrados nele e em other.\n",
    "conjunto.intersection_update(conjunto2)\n",
    "conjunto"
   ]
  },
  {
   "cell_type": "code",
   "execution_count": null,
   "metadata": {
    "ExecuteTime": {
     "end_time": "2020-08-29T08:24:40.414728Z",
     "start_time": "2020-08-29T08:24:40.350066Z"
    }
   },
   "outputs": [],
   "source": [
    "# set.difference_update(*others) Atualiza o set, removendo elementos encontrados em other.\n",
    "conjunto = conjunto1.copy()\n",
    "conjunto.difference_update(conjunto2)\n",
    "conjunto"
   ]
  },
  {
   "cell_type": "code",
   "execution_count": null,
   "metadata": {
    "ExecuteTime": {
     "end_time": "2020-08-29T08:24:40.488607Z",
     "start_time": "2020-08-29T08:24:40.416594Z"
    }
   },
   "outputs": [],
   "source": [
    "# set.symmetric_difference_update(other) Atualiza o set, mantendo apenas os elementos encontrados em cada conjunto, mas não em ambos.\n",
    "conjunto = conjunto1.copy()\n",
    "conjunto.symmetric_difference_update(conjunto2)\n",
    "conjunto"
   ]
  },
  {
   "cell_type": "code",
   "execution_count": null,
   "metadata": {
    "ExecuteTime": {
     "end_time": "2020-08-29T08:24:40.562632Z",
     "start_time": "2020-08-29T08:24:40.491090Z"
    }
   },
   "outputs": [],
   "source": [
    "conjunto = set()\n",
    "conjunto"
   ]
  },
  {
   "cell_type": "code",
   "execution_count": null,
   "metadata": {
    "ExecuteTime": {
     "end_time": "2020-08-29T08:24:40.664196Z",
     "start_time": "2020-08-29T08:24:40.566527Z"
    }
   },
   "outputs": [],
   "source": [
    "# set.add(elem) Adicionar um novo elemento elem ao set\n",
    "conjunto.add(3)\n",
    "conjunto.add(5)\n",
    "conjunto.add(9)\n",
    "conjunto.add(7)\n",
    "conjunto"
   ]
  },
  {
   "cell_type": "code",
   "execution_count": null,
   "metadata": {
    "ExecuteTime": {
     "end_time": "2020-08-29T08:24:40.737464Z",
     "start_time": "2020-08-29T08:24:40.666504Z"
    }
   },
   "outputs": [],
   "source": [
    "# set.remove(elem) Remove oz elemento elem do set\n",
    "conjunto.remove(5)\n",
    "conjunto"
   ]
  },
  {
   "cell_type": "code",
   "execution_count": null,
   "metadata": {
    "ExecuteTime": {
     "end_time": "2020-08-29T08:24:40.850174Z",
     "start_time": "2020-08-29T08:24:40.739966Z"
    }
   },
   "outputs": [],
   "source": [
    "# set.discard(elem) Remove o elemento elem do set se presente\n",
    "conjunto.discard(5)\n",
    "conjunto"
   ]
  },
  {
   "cell_type": "code",
   "execution_count": null,
   "metadata": {
    "ExecuteTime": {
     "end_time": "2020-08-29T08:24:40.918839Z",
     "start_time": "2020-08-29T08:24:40.852585Z"
    }
   },
   "outputs": [],
   "source": [
    "# set.pop() Remove e retorna um elemento arbitrario do set\n",
    "conjunto.pop()"
   ]
  },
  {
   "cell_type": "code",
   "execution_count": null,
   "metadata": {
    "ExecuteTime": {
     "end_time": "2020-08-29T08:24:40.988808Z",
     "start_time": "2020-08-29T08:24:40.921258Z"
    }
   },
   "outputs": [],
   "source": [
    "# set.clear() Remove todos os elementos do set\n",
    "conjunto.clear()\n",
    "conjunto"
   ]
  },
  {
   "cell_type": "markdown",
   "metadata": {},
   "source": [
    "<!--NAVIGATION-->\n",
    "< [Arquivos de texto](12.Arquivos_de_texto.ipynb) | [Sumario](00.Sumario.ipynb) | [Dicionario](14.Dicionario.ipynb) >\n",
    "\n",
    "<a href=\"https://colab.research.google.com/github/psloliveirajr/Introducao_a_Python3/blob/master/13.Conjunto.ipynb\"><img align=\"left\" src=\"https://colab.research.google.com/assets/colab-badge.svg\" alt=\"Open in Colab\" title=\"Open and Execute in Google Colaboratory\"></a>"
   ]
  }
 ],
 "metadata": {
  "kernelspec": {
   "display_name": "Python 3",
   "language": "python",
   "name": "python3"
  },
  "language_info": {
   "codemirror_mode": {
    "name": "ipython",
    "version": 3
   },
   "file_extension": ".py",
   "mimetype": "text/x-python",
   "name": "python",
   "nbconvert_exporter": "python",
   "pygments_lexer": "ipython3",
   "version": "3.8.5"
  },
  "nbTranslate": {
   "displayLangs": [
    "fr",
    "en"
   ],
   "hotkey": "alt-t",
   "langInMainMenu": true,
   "sourceLang": "en",
   "targetLang": "fr",
   "useGoogleTranslate": true
  },
  "toc": {
   "base_numbering": 1,
   "nav_menu": {},
   "number_sections": true,
   "sideBar": true,
   "skip_h1_title": false,
   "title_cell": "Table of Contents",
   "title_sidebar": "Contents",
   "toc_cell": false,
   "toc_position": {},
   "toc_section_display": true,
   "toc_window_display": false
  },
  "varInspector": {
   "cols": {
    "lenName": 16,
    "lenType": 16,
    "lenVar": 40
   },
   "kernels_config": {
    "python": {
     "delete_cmd_postfix": "",
     "delete_cmd_prefix": "del ",
     "library": "var_list.py",
     "varRefreshCmd": "print(var_dic_list())"
    },
    "r": {
     "delete_cmd_postfix": ") ",
     "delete_cmd_prefix": "rm(",
     "library": "var_list.r",
     "varRefreshCmd": "cat(var_dic_list()) "
    }
   },
   "types_to_exclude": [
    "module",
    "function",
    "builtin_function_or_method",
    "instance",
    "_Feature"
   ],
   "window_display": false
  }
 },
 "nbformat": 4,
 "nbformat_minor": 4
}
