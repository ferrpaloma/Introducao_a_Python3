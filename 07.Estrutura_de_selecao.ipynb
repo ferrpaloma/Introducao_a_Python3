{
 "cells": [
  {
   "cell_type": "markdown",
   "metadata": {},
   "source": [
    "<!--NAVIGATION-->\n",
    "< [Debugging](06.Debugging.ipynb) | [Sumario](00.Sumario.ipynb) | [Funções](08.Funcoes.ipynb) >\n",
    "\n",
    "<a href=\"https://colab.research.google.com/github/psloliveirajr/Introducao_a_Python3/blob/master/07.Estrutura_de_selecao.ipynb\"><img align=\"left\" src=\"https://colab.research.google.com/assets/colab-badge.svg\" alt=\"Open in Colab\" title=\"Open and Execute in Google Colaboratory\"></a>"
   ]
  },
  {
   "cell_type": "markdown",
   "metadata": {},
   "source": [
    "## Estrutura de seleção"
   ]
  },
  {
   "cell_type": "markdown",
   "metadata": {},
   "source": [
    "### Condições \n",
    "\n",
    "As condições são expressões realizadas entre objetos utilizando [operadores de comparação](#Operadores-de-comparação) e/ou [operadores booleanos](#Operadores-booleanos). Condições verdadeiras denotamos como **True** e condições falsas denotamos como **False**. "
   ]
  },
  {
   "cell_type": "markdown",
   "metadata": {},
   "source": [
    "### Suite\n",
    "\n",
    "Em Python, um bloco de comandos contendo um ou mais comandos é chamado de ***suite***. No exemplo abaixo, temos uma suite com cinco comandos em sequência."
   ]
  },
  {
   "cell_type": "code",
   "execution_count": null,
   "metadata": {
    "ExecuteTime": {
     "end_time": "2020-08-29T08:20:32.567309Z",
     "start_time": "2020-08-29T08:20:20.926660Z"
    }
   },
   "outputs": [],
   "source": [
    "x = int(input(\"Digite o primeiro valor: \"))\n",
    "y = int(input(\"Digite o segundo valor: \"))\n",
    "soma = x + y\n",
    "prod = x * y\n",
    "print(\"A Soma =\", soma, \"e o Produto =\", prod)"
   ]
  },
  {
   "cell_type": "markdown",
   "metadata": {},
   "source": [
    "### Execução Condicional (if)\n",
    "\n",
    "Para escrever programas úteis, quase sempre precisamos verificar as condições e alterar o comportamento do programa de acordo. Estruturas condicionais nos dão essa capacidade. A forma mais simples é a estrutura if:\n",
    "\n",
    "![traducaoif](img/traducao_if.png)\n",
    "\n",
    "![estruturaif](img/estrutura_if.png)"
   ]
  },
  {
   "cell_type": "code",
   "execution_count": null,
   "metadata": {
    "ExecuteTime": {
     "end_time": "2020-08-29T08:20:40.699612Z",
     "start_time": "2020-08-29T08:20:32.575851Z"
    }
   },
   "outputs": [],
   "source": [
    "# Estrutura condicional de um if\n",
    "x = int(input(\"Digite um número: \")) # Lê o número fornecido\n",
    "if x > 0: # Testa a condição x > 0\n",
    "    print('x é positivo') # Se x > 0 == True imprime a frase"
   ]
  },
  {
   "cell_type": "code",
   "execution_count": null,
   "metadata": {
    "ExecuteTime": {
     "end_time": "2020-08-29T08:20:47.677357Z",
     "start_time": "2020-08-29T08:20:40.709275Z"
    }
   },
   "outputs": [],
   "source": [
    "# Estrutura condicional de dois if\n",
    "x = int(input(\"Digite um número: \")) # Lê o número fornecido\n",
    "if x > 0: # Testa a condição x > 0\n",
    "    print('x é positivo')  # Se x > 0 == True imprime a frase\n",
    "    \n",
    "if x < 0: # Testa a condição x < 0\n",
    "    print('x é negativo')  # Se x < 0 == True imprime a frase"
   ]
  },
  {
   "cell_type": "markdown",
   "metadata": {},
   "source": [
    "### Execução Alternativa (if-else)\n",
    "\n",
    "Uma segunda forma da instrução if é “execução alternativa”, na qual existem duas possibilidades e a condição determina qual delas é executada. A sintaxe é assim:\n",
    "\n",
    "![traducaoelse](img/traducao_else.png)\n",
    "\n",
    "![estruturaifelse](img/estrutura_ifelse.png)"
   ]
  },
  {
   "cell_type": "code",
   "execution_count": null,
   "metadata": {
    "ExecuteTime": {
     "end_time": "2020-08-29T08:20:54.512032Z",
     "start_time": "2020-08-29T08:20:47.683998Z"
    }
   },
   "outputs": [],
   "source": [
    "# Estrutura condicional de if-else\n",
    "x = int(input(\"Digite um número: \")) # Lê o número fornecido\n",
    "if x > 0: # Testa a condição x > 0\n",
    "    print('x é positivo') # Se x > 0 == True imprime a frase\n",
    "else: # Qualquer caso diferente de x > 0 \n",
    "    print('x é negativo ou é igual a zero') # Se x > 0 == False imprime a frase"
   ]
  },
  {
   "cell_type": "markdown",
   "metadata": {},
   "source": [
    "### Condicionais encadeados (if-elif-else)\n",
    "\n",
    "Às vezes, existem mais de duas possibilidades e precisamos de mais de dois ramos. Uma maneira de expressar uma computação como essa é um condicional encadeado:\n",
    "\n",
    "![estruturaifelifelse](img/estrutura_ifelifelse.png)"
   ]
  },
  {
   "cell_type": "code",
   "execution_count": null,
   "metadata": {
    "ExecuteTime": {
     "end_time": "2020-08-29T08:21:03.701630Z",
     "start_time": "2020-08-29T08:20:54.520389Z"
    }
   },
   "outputs": [],
   "source": [
    "# Estrutura condicional de if-elif-else\n",
    "x = int(input(\"Digite um número: \")) # Lê o número fornecido\n",
    "if x > 0: # Testa a condição x > 0\n",
    "    print('x é positivo') # Se x > 0 == True imprime a frase\n",
    "elif x < 0: # Testa a condição x < 0 caso x > 0 == False\n",
    "    print('x é negativo') # Se x < 0 == True imprime a frase\n",
    "else: # Qualquer caso diferente de x > 0 e x < 0\n",
    "    print('x é igual a 0')"
   ]
  },
  {
   "cell_type": "code",
   "execution_count": null,
   "metadata": {
    "ExecuteTime": {
     "end_time": "2020-08-29T08:21:17.900007Z",
     "start_time": "2020-08-29T08:21:03.704089Z"
    }
   },
   "outputs": [],
   "source": [
    "# Estrutura condicional de if-if-else\n",
    "x = int(input(\"Digite um número: \")) # Lê o número fornecido\n",
    "if x > 0: # Testa a condição x > 0\n",
    "    print('x é positivo') # Se x > 0 == True imprime a frase\n",
    "if x < 0: # Testa a condição x < 0\n",
    "    print('x é negativo') # Se x < 0 == True imprime a frase\n",
    "else:\n",
    "    print('x é igual a 0') # Se x < 0 == False imprime a frase"
   ]
  },
  {
   "cell_type": "markdown",
   "metadata": {},
   "source": [
    "### Condicionais aninhados\n",
    "\n",
    "Um condicional também pode ser aninhado dentro de outro. Poderíamos ter escrito o exemplo na seção anterior assim:"
   ]
  },
  {
   "cell_type": "code",
   "execution_count": null,
   "metadata": {
    "ExecuteTime": {
     "end_time": "2020-08-29T08:21:39.052165Z",
     "start_time": "2020-08-29T08:21:34.659089Z"
    }
   },
   "outputs": [],
   "source": [
    "x = int(input(\"Digite um número: \")) # Lê o número fornecido\n",
    "if x == 0:\n",
    "    print('x é igual a 0')\n",
    "else:\n",
    "    if x > 0:\n",
    "        print('x é positivo')\n",
    "    else:\n",
    "        print('x é negativo')"
   ]
  },
  {
   "cell_type": "markdown",
   "metadata": {},
   "source": [
    "<!--NAVIGATION-->\n",
    "< [Debugging](06.Debugging.ipynb) | [Sumario](00.Sumario.ipynb) | [Funções](08.Funcoes.ipynb) >\n",
    "\n",
    "<a href=\"https://colab.research.google.com/github/psloliveirajr/Introducao_a_Python3/blob/master/07.Estrutura_de_selecao.ipynb\"><img align=\"left\" src=\"https://colab.research.google.com/assets/colab-badge.svg\" alt=\"Open in Colab\" title=\"Open and Execute in Google Colaboratory\"></a>"
   ]
  }
 ],
 "metadata": {
  "kernelspec": {
   "display_name": "Python 3",
   "language": "python",
   "name": "python3"
  },
  "language_info": {
   "codemirror_mode": {
    "name": "ipython",
    "version": 3
   },
   "file_extension": ".py",
   "mimetype": "text/x-python",
   "name": "python",
   "nbconvert_exporter": "python",
   "pygments_lexer": "ipython3",
   "version": "3.8.5"
  },
  "nbTranslate": {
   "displayLangs": [
    "fr",
    "en"
   ],
   "hotkey": "alt-t",
   "langInMainMenu": true,
   "sourceLang": "en",
   "targetLang": "fr",
   "useGoogleTranslate": true
  },
  "toc": {
   "base_numbering": 1,
   "nav_menu": {},
   "number_sections": true,
   "sideBar": true,
   "skip_h1_title": false,
   "title_cell": "Table of Contents",
   "title_sidebar": "Contents",
   "toc_cell": false,
   "toc_position": {},
   "toc_section_display": true,
   "toc_window_display": false
  },
  "varInspector": {
   "cols": {
    "lenName": 16,
    "lenType": 16,
    "lenVar": 40
   },
   "kernels_config": {
    "python": {
     "delete_cmd_postfix": "",
     "delete_cmd_prefix": "del ",
     "library": "var_list.py",
     "varRefreshCmd": "print(var_dic_list())"
    },
    "r": {
     "delete_cmd_postfix": ") ",
     "delete_cmd_prefix": "rm(",
     "library": "var_list.r",
     "varRefreshCmd": "cat(var_dic_list()) "
    }
   },
   "types_to_exclude": [
    "module",
    "function",
    "builtin_function_or_method",
    "instance",
    "_Feature"
   ],
   "window_display": false
  }
 },
 "nbformat": 4,
 "nbformat_minor": 4
}
