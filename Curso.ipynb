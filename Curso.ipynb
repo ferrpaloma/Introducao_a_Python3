{
 "cells": [
  {
   "cell_type": "markdown",
   "metadata": {
    "toc": true
   },
   "source": [
    "<h1>Sumário<span class=\"tocSkip\"></span></h1>\n",
    "<div class=\"toc\"><ul class=\"toc-item\"><li><span><a href=\"#Introdução\" data-toc-modified-id=\"Introdução-1\"><span class=\"toc-item-num\">1&nbsp;&nbsp;</span>Introdução</a></span><ul class=\"toc-item\"><li><span><a href=\"#Programa\" data-toc-modified-id=\"Programa-1.1\"><span class=\"toc-item-num\">1.1&nbsp;&nbsp;</span>Programa</a></span><ul class=\"toc-item\"><li><span><a href=\"#Algoritmo\" data-toc-modified-id=\"Algoritmo-1.1.1\"><span class=\"toc-item-num\">1.1.1&nbsp;&nbsp;</span>Algoritmo</a></span></li></ul></li><li><span><a href=\"#Programação-Estruturada\" data-toc-modified-id=\"Programação-Estruturada-1.2\"><span class=\"toc-item-num\">1.2&nbsp;&nbsp;</span>Programação Estruturada</a></span></li><li><span><a href=\"#Ciclo-de-Vida-de-um-Software\" data-toc-modified-id=\"Ciclo-de-Vida-de-um-Software-1.3\"><span class=\"toc-item-num\">1.3&nbsp;&nbsp;</span>Ciclo de Vida de um Software</a></span></li><li><span><a href=\"#Características-da-linguagem-Python-3.x\" data-toc-modified-id=\"Características-da-linguagem-Python-3.x-1.4\"><span class=\"toc-item-num\">1.4&nbsp;&nbsp;</span>Características da linguagem Python 3.x</a></span></li><li><span><a href=\"#Objetos\" data-toc-modified-id=\"Objetos-1.5\"><span class=\"toc-item-num\">1.5&nbsp;&nbsp;</span>Objetos</a></span></li><li><span><a href=\"#A-hierarquia-conceitual-do-Python\" data-toc-modified-id=\"A-hierarquia-conceitual-do-Python-1.6\"><span class=\"toc-item-num\">1.6&nbsp;&nbsp;</span>A hierarquia conceitual do Python</a></span></li></ul></li><li><span><a href=\"#Tipos-de-objetos-básicos\" data-toc-modified-id=\"Tipos-de-objetos-básicos-2\"><span class=\"toc-item-num\">2&nbsp;&nbsp;</span>Tipos de objetos básicos</a></span><ul class=\"toc-item\"><li><span><a href=\"#Números\" data-toc-modified-id=\"Números-2.1\"><span class=\"toc-item-num\">2.1&nbsp;&nbsp;</span>Números</a></span><ul class=\"toc-item\"><li><span><a href=\"#Inteiros-(int)\" data-toc-modified-id=\"Inteiros-(int)-2.1.1\"><span class=\"toc-item-num\">2.1.1&nbsp;&nbsp;</span>Inteiros (int)</a></span></li><li><span><a href=\"#Real-(float)\" data-toc-modified-id=\"Real-(float)-2.1.2\"><span class=\"toc-item-num\">2.1.2&nbsp;&nbsp;</span>Real (float)</a></span></li><li><span><a href=\"#Complexo-(complex)\" data-toc-modified-id=\"Complexo-(complex)-2.1.3\"><span class=\"toc-item-num\">2.1.3&nbsp;&nbsp;</span>Complexo (complex)</a></span></li><li><span><a href=\"#Operadores-unários-em-números\" data-toc-modified-id=\"Operadores-unários-em-números-2.1.4\"><span class=\"toc-item-num\">2.1.4&nbsp;&nbsp;</span>Operadores unários em números</a></span></li><li><span><a href=\"#Operadores-matemáticos-em-números\" data-toc-modified-id=\"Operadores-matemáticos-em-números-2.1.5\"><span class=\"toc-item-num\">2.1.5&nbsp;&nbsp;</span>Operadores matemáticos em números</a></span></li></ul></li><li><span><a href=\"#String\" data-toc-modified-id=\"String-2.2\"><span class=\"toc-item-num\">2.2&nbsp;&nbsp;</span>String</a></span><ul class=\"toc-item\"><li><span><a href=\"#Operadores-matemáticos-em-string\" data-toc-modified-id=\"Operadores-matemáticos-em-string-2.2.1\"><span class=\"toc-item-num\">2.2.1&nbsp;&nbsp;</span>Operadores matemáticos em string</a></span></li></ul></li></ul></li><li><span><a href=\"#Mais-operadores\" data-toc-modified-id=\"Mais-operadores-3\"><span class=\"toc-item-num\">3&nbsp;&nbsp;</span>Mais operadores</a></span><ul class=\"toc-item\"><li><span><a href=\"#Operadores-de-comparação\" data-toc-modified-id=\"Operadores-de-comparação-3.1\"><span class=\"toc-item-num\">3.1&nbsp;&nbsp;</span>Operadores de comparação</a></span></li><li><span><a href=\"#Operadores-booleanos\" data-toc-modified-id=\"Operadores-booleanos-3.2\"><span class=\"toc-item-num\">3.2&nbsp;&nbsp;</span>Operadores booleanos</a></span></li><li><span><a href=\"#Prioridade-dos-operadores\" data-toc-modified-id=\"Prioridade-dos-operadores-3.3\"><span class=\"toc-item-num\">3.3&nbsp;&nbsp;</span>Prioridade dos operadores</a></span></li></ul></li><li><span><a href=\"#Manipulação-de-variáveis\" data-toc-modified-id=\"Manipulação-de-variáveis-4\"><span class=\"toc-item-num\">4&nbsp;&nbsp;</span>Manipulação de variáveis</a></span><ul class=\"toc-item\"><li><span><a href=\"#Atribuição\" data-toc-modified-id=\"Atribuição-4.1\"><span class=\"toc-item-num\">4.1&nbsp;&nbsp;</span>Atribuição</a></span></li><li><span><a href=\"#Nomes-das-variáveis\" data-toc-modified-id=\"Nomes-das-variáveis-4.2\"><span class=\"toc-item-num\">4.2&nbsp;&nbsp;</span>Nomes das variáveis</a></span></li><li><span><a href=\"#Tipagem-dinâmica\" data-toc-modified-id=\"Tipagem-dinâmica-4.3\"><span class=\"toc-item-num\">4.3&nbsp;&nbsp;</span>Tipagem dinâmica</a></span></li><li><span><a href=\"#Operadores-de-atribuição\" data-toc-modified-id=\"Operadores-de-atribuição-4.4\"><span class=\"toc-item-num\">4.4&nbsp;&nbsp;</span>Operadores de atribuição</a></span></li></ul></li><li><span><a href=\"#Funções-básicas\" data-toc-modified-id=\"Funções-básicas-5\"><span class=\"toc-item-num\">5&nbsp;&nbsp;</span>Funções básicas</a></span><ul class=\"toc-item\"><li><span><a href=\"#Função-de-saída-padrão\" data-toc-modified-id=\"Função-de-saída-padrão-5.1\"><span class=\"toc-item-num\">5.1&nbsp;&nbsp;</span>Função de saída padrão</a></span></li><li><span><a href=\"#Função-de-entrada-padrão\" data-toc-modified-id=\"Função-de-entrada-padrão-5.2\"><span class=\"toc-item-num\">5.2&nbsp;&nbsp;</span>Função de entrada padrão</a></span></li><li><span><a href=\"#Fuções-padrões\" data-toc-modified-id=\"Fuções-padrões-5.3\"><span class=\"toc-item-num\">5.3&nbsp;&nbsp;</span>Fuções padrões</a></span></li></ul></li><li><span><a href=\"#Debugging\" data-toc-modified-id=\"Debugging-6\"><span class=\"toc-item-num\">6&nbsp;&nbsp;</span>Debugging</a></span><ul class=\"toc-item\"><li><span><a href=\"#Syntax-error\" data-toc-modified-id=\"Syntax-error-6.1\"><span class=\"toc-item-num\">6.1&nbsp;&nbsp;</span>Syntax error</a></span></li><li><span><a href=\"#Runtime-error\" data-toc-modified-id=\"Runtime-error-6.2\"><span class=\"toc-item-num\">6.2&nbsp;&nbsp;</span>Runtime error</a></span></li><li><span><a href=\"#Semantic-error\" data-toc-modified-id=\"Semantic-error-6.3\"><span class=\"toc-item-num\">6.3&nbsp;&nbsp;</span>Semantic error</a></span></li></ul></li><li><span><a href=\"#Funções\" data-toc-modified-id=\"Funções-7\"><span class=\"toc-item-num\">7&nbsp;&nbsp;</span>Funções</a></span><ul class=\"toc-item\"><li><span><a href=\"#Módulos\" data-toc-modified-id=\"Módulos-7.1\"><span class=\"toc-item-num\">7.1&nbsp;&nbsp;</span>Módulos</a></span></li><li><span><a href=\"#Bloco-de-comandos\" data-toc-modified-id=\"Bloco-de-comandos-7.2\"><span class=\"toc-item-num\">7.2&nbsp;&nbsp;</span>Bloco de comandos</a></span></li><li><span><a href=\"#Adicionando-novas-funções\" data-toc-modified-id=\"Adicionando-novas-funções-7.3\"><span class=\"toc-item-num\">7.3&nbsp;&nbsp;</span>Adicionando novas funções</a></span></li><li><span><a href=\"#Passagem-de-argumentos\" data-toc-modified-id=\"Passagem-de-argumentos-7.4\"><span class=\"toc-item-num\">7.4&nbsp;&nbsp;</span>Passagem de argumentos</a></span></li><li><span><a href=\"#Escopo\" data-toc-modified-id=\"Escopo-7.5\"><span class=\"toc-item-num\">7.5&nbsp;&nbsp;</span>Escopo</a></span></li></ul></li><li><span><a href=\"#Estrutura-de-seleção\" data-toc-modified-id=\"Estrutura-de-seleção-8\"><span class=\"toc-item-num\">8&nbsp;&nbsp;</span>Estrutura de seleção</a></span><ul class=\"toc-item\"><li><span><a href=\"#Execução-Condicional-(if)\" data-toc-modified-id=\"Execução-Condicional-(if)-8.1\"><span class=\"toc-item-num\">8.1&nbsp;&nbsp;</span>Execução Condicional (if)</a></span></li><li><span><a href=\"#Execução-Alternativa-(if-else)\" data-toc-modified-id=\"Execução-Alternativa-(if-else)-8.2\"><span class=\"toc-item-num\">8.2&nbsp;&nbsp;</span>Execução Alternativa (if-else)</a></span></li><li><span><a href=\"#Condicionais-encadeados-(if-elif-else)\" data-toc-modified-id=\"Condicionais-encadeados-(if-elif-else)-8.3\"><span class=\"toc-item-num\">8.3&nbsp;&nbsp;</span>Condicionais encadeados (if-elif-else)</a></span></li><li><span><a href=\"#Condicionais-aninhados\" data-toc-modified-id=\"Condicionais-aninhados-8.4\"><span class=\"toc-item-num\">8.4&nbsp;&nbsp;</span>Condicionais aninhados</a></span></li></ul></li><li><span><a href=\"#Recursividade\" data-toc-modified-id=\"Recursividade-9\"><span class=\"toc-item-num\">9&nbsp;&nbsp;</span>Recursividade</a></span><ul class=\"toc-item\"><li><span><a href=\"#Pilha-de-ativação\" data-toc-modified-id=\"Pilha-de-ativação-9.1\"><span class=\"toc-item-num\">9.1&nbsp;&nbsp;</span>Pilha de ativação</a></span></li><li><span><a href=\"#Recursão\" data-toc-modified-id=\"Recursão-9.2\"><span class=\"toc-item-num\">9.2&nbsp;&nbsp;</span>Recursão</a></span></li></ul></li><li><span><a href=\"#Estrutura-de-repetição\" data-toc-modified-id=\"Estrutura-de-repetição-10\"><span class=\"toc-item-num\">10&nbsp;&nbsp;</span>Estrutura de repetição</a></span><ul class=\"toc-item\"><li><span><a href=\"#While-Loop\" data-toc-modified-id=\"While-Loop-10.1\"><span class=\"toc-item-num\">10.1&nbsp;&nbsp;</span>While Loop</a></span><ul class=\"toc-item\"><li><span><a href=\"#While-pass\" data-toc-modified-id=\"While-pass-10.1.1\"><span class=\"toc-item-num\">10.1.1&nbsp;&nbsp;</span>While-pass</a></span></li><li><span><a href=\"#While-continue\" data-toc-modified-id=\"While-continue-10.1.2\"><span class=\"toc-item-num\">10.1.2&nbsp;&nbsp;</span>While-continue</a></span></li><li><span><a href=\"#While-break\" data-toc-modified-id=\"While-break-10.1.3\"><span class=\"toc-item-num\">10.1.3&nbsp;&nbsp;</span>While-break</a></span></li></ul></li><li><span><a href=\"#For-Loop\" data-toc-modified-id=\"For-Loop-10.2\"><span class=\"toc-item-num\">10.2&nbsp;&nbsp;</span>For Loop</a></span><ul class=\"toc-item\"><li><span><a href=\"#Range\" data-toc-modified-id=\"Range-10.2.1\"><span class=\"toc-item-num\">10.2.1&nbsp;&nbsp;</span>Range</a></span></li><li><span><a href=\"#For\" data-toc-modified-id=\"For-10.2.2\"><span class=\"toc-item-num\">10.2.2&nbsp;&nbsp;</span>For</a></span></li></ul></li></ul></li><li><span><a href=\"#Sequência-de-objetos\" data-toc-modified-id=\"Sequência-de-objetos-11\"><span class=\"toc-item-num\">11&nbsp;&nbsp;</span>Sequência de objetos</a></span><ul class=\"toc-item\"><li><span><a href=\"#Sequência\" data-toc-modified-id=\"Sequência-11.1\"><span class=\"toc-item-num\">11.1&nbsp;&nbsp;</span>Sequência</a></span><ul class=\"toc-item\"><li><span><a href=\"#Índice-(Index)\" data-toc-modified-id=\"Índice-(Index)-11.1.1\"><span class=\"toc-item-num\">11.1.1&nbsp;&nbsp;</span>Índice (Index)</a></span></li><li><span><a href=\"#Fatiar-(Slice)\" data-toc-modified-id=\"Fatiar-(Slice)-11.1.2\"><span class=\"toc-item-num\">11.1.2&nbsp;&nbsp;</span>Fatiar (Slice)</a></span></li><li><span><a href=\"#Operações-comuns-das-sequências\" data-toc-modified-id=\"Operações-comuns-das-sequências-11.1.3\"><span class=\"toc-item-num\">11.1.3&nbsp;&nbsp;</span>Operações comuns das sequências</a></span></li><li><span><a href=\"#Funções-comuns-das-sequências\" data-toc-modified-id=\"Funções-comuns-das-sequências-11.1.4\"><span class=\"toc-item-num\">11.1.4&nbsp;&nbsp;</span>Funções comuns das sequências</a></span></li><li><span><a href=\"#Métodos-comuns-das-sequências\" data-toc-modified-id=\"Métodos-comuns-das-sequências-11.1.5\"><span class=\"toc-item-num\">11.1.5&nbsp;&nbsp;</span>Métodos comuns das sequências</a></span></li></ul></li><li><span><a href=\"#Lista\" data-toc-modified-id=\"Lista-11.2\"><span class=\"toc-item-num\">11.2&nbsp;&nbsp;</span>Lista</a></span><ul class=\"toc-item\"><li><span><a href=\"#Listas-em-for\" data-toc-modified-id=\"Listas-em-for-11.2.1\"><span class=\"toc-item-num\">11.2.1&nbsp;&nbsp;</span>Listas em for</a></span></li><li><span><a href=\"#Operações-em-listas\" data-toc-modified-id=\"Operações-em-listas-11.2.2\"><span class=\"toc-item-num\">11.2.2&nbsp;&nbsp;</span>Operações em listas</a></span></li><li><span><a href=\"#Tipagem-dinâmica-em-lista\" data-toc-modified-id=\"Tipagem-dinâmica-em-lista-11.2.3\"><span class=\"toc-item-num\">11.2.3&nbsp;&nbsp;</span>Tipagem dinâmica em lista</a></span></li><li><span><a href=\"#Métodos-em-listas\" data-toc-modified-id=\"Métodos-em-listas-11.2.4\"><span class=\"toc-item-num\">11.2.4&nbsp;&nbsp;</span>Métodos em listas</a></span></li><li><span><a href=\"#Lista-de-Lista\" data-toc-modified-id=\"Lista-de-Lista-11.2.5\"><span class=\"toc-item-num\">11.2.5&nbsp;&nbsp;</span>Lista de Lista</a></span></li></ul></li><li><span><a href=\"#Tuplas-(tuples)\" data-toc-modified-id=\"Tuplas-(tuples)-11.3\"><span class=\"toc-item-num\">11.3&nbsp;&nbsp;</span>Tuplas (tuples)</a></span><ul class=\"toc-item\"><li><span><a href=\"#Tuplas-são-imutáveis\" data-toc-modified-id=\"Tuplas-são-imutáveis-11.3.1\"><span class=\"toc-item-num\">11.3.1&nbsp;&nbsp;</span>Tuplas são imutáveis</a></span></li><li><span><a href=\"#Tuplas-em-for\" data-toc-modified-id=\"Tuplas-em-for-11.3.2\"><span class=\"toc-item-num\">11.3.2&nbsp;&nbsp;</span>Tuplas em for</a></span></li></ul></li><li><span><a href=\"#String-como-sequência\" data-toc-modified-id=\"String-como-sequência-11.4\"><span class=\"toc-item-num\">11.4&nbsp;&nbsp;</span>String como sequência</a></span><ul class=\"toc-item\"><li><span><a href=\"#Strings-são-imutaveis\" data-toc-modified-id=\"Strings-são-imutaveis-11.4.1\"><span class=\"toc-item-num\">11.4.1&nbsp;&nbsp;</span>Strings são imutaveis</a></span></li><li><span><a href=\"#Strings-em-for\" data-toc-modified-id=\"Strings-em-for-11.4.2\"><span class=\"toc-item-num\">11.4.2&nbsp;&nbsp;</span>Strings em for</a></span></li><li><span><a href=\"#Comparações-em-string\" data-toc-modified-id=\"Comparações-em-string-11.4.3\"><span class=\"toc-item-num\">11.4.3&nbsp;&nbsp;</span>Comparações em string</a></span></li><li><span><a href=\"#Métodos-de-String\" data-toc-modified-id=\"Métodos-de-String-11.4.4\"><span class=\"toc-item-num\">11.4.4&nbsp;&nbsp;</span>Métodos de String</a></span></li></ul></li></ul></li><li><span><a href=\"#Arquivos-de-texto\" data-toc-modified-id=\"Arquivos-de-texto-12\"><span class=\"toc-item-num\">12&nbsp;&nbsp;</span>Arquivos de texto</a></span><ul class=\"toc-item\"><li><span><a href=\"#Abrindo-arquivo-texto\" data-toc-modified-id=\"Abrindo-arquivo-texto-12.1\"><span class=\"toc-item-num\">12.1&nbsp;&nbsp;</span>Abrindo arquivo texto</a></span></li><li><span><a href=\"#Fechando-arquivo-texto\" data-toc-modified-id=\"Fechando-arquivo-texto-12.2\"><span class=\"toc-item-num\">12.2&nbsp;&nbsp;</span>Fechando arquivo texto</a></span></li><li><span><a href=\"#Lendo-arquivo-texto\" data-toc-modified-id=\"Lendo-arquivo-texto-12.3\"><span class=\"toc-item-num\">12.3&nbsp;&nbsp;</span>Lendo arquivo texto</a></span></li><li><span><a href=\"#Escrevendo-em-arquivo-texto\" data-toc-modified-id=\"Escrevendo-em-arquivo-texto-12.4\"><span class=\"toc-item-num\">12.4&nbsp;&nbsp;</span>Escrevendo em arquivo texto</a></span><ul class=\"toc-item\"><li><span><a href=\"#Escrita-modo-anexo\" data-toc-modified-id=\"Escrita-modo-anexo-12.4.1\"><span class=\"toc-item-num\">12.4.1&nbsp;&nbsp;</span>Escrita modo anexo</a></span></li><li><span><a href=\"#Escrita-em-modo-escrita\" data-toc-modified-id=\"Escrita-em-modo-escrita-12.4.2\"><span class=\"toc-item-num\">12.4.2&nbsp;&nbsp;</span>Escrita em modo escrita</a></span></li></ul></li></ul></li><li><span><a href=\"#Conjunto\" data-toc-modified-id=\"Conjunto-13\"><span class=\"toc-item-num\">13&nbsp;&nbsp;</span>Conjunto</a></span><ul class=\"toc-item\"><li><span><a href=\"#Iniciar-um-set\" data-toc-modified-id=\"Iniciar-um-set-13.1\"><span class=\"toc-item-num\">13.1&nbsp;&nbsp;</span>Iniciar um set</a></span></li><li><span><a href=\"#Operações-em-um-conjunto-set\" data-toc-modified-id=\"Operações-em-um-conjunto-set-13.2\"><span class=\"toc-item-num\">13.2&nbsp;&nbsp;</span>Operações em um conjunto set</a></span></li><li><span><a href=\"#Métodos-em-um-conjunto-set\" data-toc-modified-id=\"Métodos-em-um-conjunto-set-13.3\"><span class=\"toc-item-num\">13.3&nbsp;&nbsp;</span>Métodos em um conjunto set</a></span></li></ul></li><li><span><a href=\"#Dicionário\" data-toc-modified-id=\"Dicionário-14\"><span class=\"toc-item-num\">14&nbsp;&nbsp;</span>Dicionário</a></span><ul class=\"toc-item\"><li><span><a href=\"#Iniciando-um-dicionário\" data-toc-modified-id=\"Iniciando-um-dicionário-14.1\"><span class=\"toc-item-num\">14.1&nbsp;&nbsp;</span>Iniciando um dicionário</a></span></li><li><span><a href=\"#Operações-em-dicionário\" data-toc-modified-id=\"Operações-em-dicionário-14.2\"><span class=\"toc-item-num\">14.2&nbsp;&nbsp;</span>Operações em dicionário</a></span></li><li><span><a href=\"#Métodos-em-dicionário\" data-toc-modified-id=\"Métodos-em-dicionário-14.3\"><span class=\"toc-item-num\">14.3&nbsp;&nbsp;</span>Métodos em dicionário</a></span></li></ul></li></ul></div>"
   ]
  },
  {
   "cell_type": "markdown",
   "metadata": {},
   "source": [
    "## Introdução"
   ]
  },
  {
   "cell_type": "code",
   "execution_count": null,
   "metadata": {},
   "outputs": [],
   "source": [
    "\"Sejam todos bem vindos ao curso: Fundamentos de Linguaguem de Programação em Python\""
   ]
  },
  {
   "cell_type": "markdown",
   "metadata": {},
   "source": [
    "Em seu primera experiência com Python, faça a seguinte questão: \n",
    "1. Crie uma célula e imprima a seguinte frase: **Hello, World!**"
   ]
  },
  {
   "cell_type": "markdown",
   "metadata": {},
   "source": [
    "### Programa\n",
    "\n",
    "Um programa é uma sequência de instruções que especifica como executar uma computação. A computação pode ser algo matemático, como resolver um sistema de equações ou encontrar as raízes de um polinômio, mas também pode ser uma computação simbólica, como pesquisar e substituir um texto em um documento ou em algo gráfico, como processamento de uma imagem ou reproduzindo um vídeo.\n",
    "\n",
    "> Downey, Allen. Think Python. \" O'Reilly Media, Inc.\", 2012.\n",
    "\n",
    "![Programa](img/Programa.png)\n",
    "\n",
    "- ***Algoritmo***: é a descrição de um padrão de comportamento, especificado em termos de um conjunto bem definido e finito de ações primitivas que podem ser executadas.\n",
    "\n",
    "- ***Estruturas de dados***: é um modo particular de armazenamento e organização de dados em um computador de modo que possam ser usados eficientemente.\n",
    "\n",
    "> Guimarães, Lages. Algoritmos  e Estruturas de Dados, LTC, 1994 "
   ]
  },
  {
   "cell_type": "markdown",
   "metadata": {},
   "source": [
    "#### Algoritmo\n",
    "\n",
    "\n",
    "Algoritmo para fazer uma Lasanha.\n",
    "\n",
    "**início**\n",
    "\n",
    "    Providencie todos os ingredientes da receita.\n",
    "    Lasanha:\n",
    "        Cozinhe a massa de acordo com as instruções da embalagem.\n",
    "        Pegue um recipiente\n",
    "        Encha o recipiente com água fria. \n",
    "        Coloque a massa no recipiente até o momento de montar. \n",
    "    Molho Bolonhesa:\n",
    "        Pegue uma panela\n",
    "        Coloque óleo na panela\n",
    "        Aqueça a panela\n",
    "        Coloque carne na panela\n",
    "        Refogue a carne\n",
    "        Junte a cebola, a cenoura e o salsão na panela\n",
    "        Deixe a carne refogar na panela até murchar.\n",
    "        Dissolva o tablete de caldo de carne em  em 1 xícara (chá) de água quente\n",
    "        Acrescente o caldo e a polpa de tomate na panela\n",
    "        Deixe a panela cozinhar 10 minutos ou até apurar o molho.\n",
    "        Reserve.\n",
    "    Molho Branco:\n",
    "        Pegue uma panela\n",
    "        Coloque manteiga na panela\n",
    "        Derreta a manteiga\n",
    "        Junte farinha de trigo na panela\n",
    "        Deixe a farinha de trigo dourar\n",
    "        Aos poucos junte o Leite na panela, mexendo sempre para não formar grumos.\n",
    "        Acrescente noz moscada, o sal, e a pimenta-do-reino na panela.\n",
    "        Quando adquirir consistência cremosa, retire do fogo\n",
    "        Acrescente o Creme de Leite \n",
    "        Misture bem\n",
    "        Reserve.  \n",
    "    Montagem:\n",
    "        Pegue um recipiente refratário (20 x 30 cm)\n",
    "        Repita os seguintes passos\n",
    "            Coloque uma porção de molho bolonhesa no recipiente\n",
    "            Cubra o molho com uma camada de massa, e uma porção de molho branco\n",
    "            Coloque o queijo mozarela.\n",
    "        Repita as camadas até a borda do recipiente.\n",
    "        Coloque queijo parmesão ralado\n",
    "        Leve ao forno alto (220°C), preaquecido, por cerca de 20 minutos ou até dourar. \n",
    "        Sirva.\n",
    "**fim**"
   ]
  },
  {
   "cell_type": "markdown",
   "metadata": {},
   "source": [
    "### Programação Estruturada\n",
    "\n",
    "- Metodologia de projeto de programas que visa:\n",
    "    1. Facilitar o desenvolvimento dos programas \n",
    "    2. Facilitar a leitura (entendimento) dos programas\n",
    "    3. Permitir a validação a priori dos programas\n",
    "    4. Facilitar a manutenção e modificação dos programas\n",
    "\n",
    "> Guimarães, Lages. Algoritmos  e Estruturas de Dados, LTC, 1994"
   ]
  },
  {
   "cell_type": "markdown",
   "metadata": {},
   "source": [
    "### Ciclo de Vida de um Software\n",
    "\n",
    "![Software](img/Software.png)\n",
    "\n",
    "**1. Especificar os requisitos do problema**\n",
    "    - Preparar uma especificação completa e não ambígua.\n",
    "    \n",
    "    \n",
    "**2. Analisar o problema**\n",
    "    - Entender o problema.\n",
    "    - Avaliar soluções alternativas.\n",
    "    - Escolher soluções mais adequadas.\n",
    "    \n",
    "    \n",
    "**3. Projetar o programa para solucionar o problema**\n",
    "    - Fazer o projeto de cima para baixo (top-down) do sistema.\n",
    "    - Para cada módulo, identificar as principais estruturas de dados e subprogramas associados.\n",
    "    - Desenvolver algoritmos e estruturas de dados dos subprogramas.\n",
    "    \n",
    "    \n",
    "**4. Implementar o projeto**\n",
    "    - Codificar a solução.\n",
    "    - Corrigir erros de codificação.\n",
    "    \n",
    "    \n",
    "**5. Testar e validar o programa**\n",
    "    - Testar o código e validá-lo, se correto.\n",
    "    \n",
    "    \n",
    "**6. Manter e atualizar o programa**\n",
    "    - Executar o sistema;\n",
    "    - Avaliar seu desempenho;\n",
    "    - Remover novos erros identificados, assim que detectados;\n",
    "    - Realizar modificações de forma a manter o sistema atualizado;\n",
    "    - Validar as modificações.\n",
    "\n",
    "> Koffman, Elliot B. Turbo Pascal 7.0, Addison-Wesley, 1994"
   ]
  },
  {
   "cell_type": "markdown",
   "metadata": {},
   "source": [
    "### Características da linguagem Python 3.x\n",
    "\n",
    "- Linguagem de programação de alto nível\n",
    "- Multiparadigma (procedural, funcional e orientado a objetos )\n",
    "- Multiplataforma (Windows, Linux, iOS, etc.)\n",
    "- Interpretada (Scripts ou interativo)\n",
    "- Tipagem dinâmica\n",
    "- Gerência de memória automatizada(coletor de lixo)"
   ]
  },
  {
   "cell_type": "markdown",
   "metadata": {},
   "source": [
    "### Objetos\n",
    "\n",
    "Todos dados em um programa Python são representados por objetos e pelas relações entre objetos. Cada objeto no Python possui três características:\n",
    "- **Tipo (classe)**: números, string, lista,etc.\n",
    "- **Valor**: Valores podem ser números, palavras, etc.\n",
    "- **Identidade**: Parte da memória do computador que o objeto ocupa\n",
    "\n",
    "![hierarquia](img/Hierarquia_objetos_python.png)"
   ]
  },
  {
   "cell_type": "markdown",
   "metadata": {},
   "source": [
    "### A hierarquia conceitual do Python\n",
    "\n",
    "De uma perspectiva mais concreta, os programas Python podem ser decompostos em módulos, instruções, expressões e objetos, da seguinte maneira:\n",
    "1. Os programas são compostos de módulos.\n",
    "2. Módulos contêm estruturas.\n",
    "3. Estruturas contêm expressões.\n",
    "4. Expressões criam e processam objetos."
   ]
  },
  {
   "cell_type": "markdown",
   "metadata": {},
   "source": [
    "## Tipos de objetos básicos\n",
    "\n",
    "### Números\n",
    "\n",
    "#### Inteiros (int)"
   ]
  },
  {
   "cell_type": "code",
   "execution_count": null,
   "metadata": {
    "scrolled": false
   },
   "outputs": [],
   "source": [
    "type(5)"
   ]
  },
  {
   "cell_type": "markdown",
   "metadata": {},
   "source": [
    "Transforma um string, booleano ou ponto-flutuante para inteiro: **int()**"
   ]
  },
  {
   "cell_type": "markdown",
   "metadata": {},
   "source": [
    "#### Real (float)"
   ]
  },
  {
   "cell_type": "code",
   "execution_count": null,
   "metadata": {},
   "outputs": [],
   "source": [
    "type(7.9)"
   ]
  },
  {
   "cell_type": "markdown",
   "metadata": {},
   "source": [
    "Transforma um string, booleano ou inteiro para ponto-flutuante: **float()**"
   ]
  },
  {
   "cell_type": "markdown",
   "metadata": {},
   "source": [
    "#### Complexo (complex)"
   ]
  },
  {
   "cell_type": "code",
   "execution_count": null,
   "metadata": {},
   "outputs": [],
   "source": [
    "type(5+3j)"
   ]
  },
  {
   "cell_type": "markdown",
   "metadata": {},
   "source": [
    "Transforma um inteiro ou ponto-flutuante para complexo: **complex()**"
   ]
  },
  {
   "cell_type": "markdown",
   "metadata": {},
   "source": [
    "#### Operadores unários em números"
   ]
  },
  {
   "cell_type": "code",
   "execution_count": null,
   "metadata": {},
   "outputs": [],
   "source": [
    "# Operador numérico positivo (+)\n",
    "+5"
   ]
  },
  {
   "cell_type": "code",
   "execution_count": null,
   "metadata": {},
   "outputs": [],
   "source": [
    "# Operador numérico negativo(-)\n",
    "-(-5)"
   ]
  },
  {
   "cell_type": "markdown",
   "metadata": {},
   "source": [
    "#### Operadores matemáticos em números"
   ]
  },
  {
   "cell_type": "code",
   "execution_count": null,
   "metadata": {},
   "outputs": [],
   "source": [
    "# soma (+)\n",
    "18.2 + 7"
   ]
  },
  {
   "cell_type": "code",
   "execution_count": null,
   "metadata": {},
   "outputs": [],
   "source": [
    "# subtração (-)\n",
    "12 - 5"
   ]
  },
  {
   "cell_type": "code",
   "execution_count": null,
   "metadata": {},
   "outputs": [],
   "source": [
    "# mutiplicação (*)\n",
    "15 * 3.5"
   ]
  },
  {
   "cell_type": "code",
   "execution_count": null,
   "metadata": {},
   "outputs": [],
   "source": [
    "# potenciação (**)\n",
    "15 ** 2"
   ]
  },
  {
   "cell_type": "code",
   "execution_count": null,
   "metadata": {},
   "outputs": [],
   "source": [
    "# divisão (/)\n",
    "15 / 7"
   ]
  },
  {
   "cell_type": "markdown",
   "metadata": {},
   "source": [
    "![divisao](img/divisao.png)"
   ]
  },
  {
   "cell_type": "code",
   "execution_count": null,
   "metadata": {},
   "outputs": [],
   "source": [
    "# divisão inteira (//)\n",
    "15 // 7"
   ]
  },
  {
   "cell_type": "code",
   "execution_count": null,
   "metadata": {},
   "outputs": [],
   "source": [
    "# resto inteiro da divisao (%)\n",
    "15 % 7"
   ]
  },
  {
   "cell_type": "code",
   "execution_count": null,
   "metadata": {},
   "outputs": [],
   "source": [
    "# Prova da divisao inteira e do resto\n",
    "(15 // 7) + (15 % 7)/7"
   ]
  },
  {
   "cell_type": "markdown",
   "metadata": {},
   "source": [
    "### String\n",
    "\n",
    "Os dados textuais no Python são manipulados com objetos str, ou *strings*. Strings são sequências imutáveis de caracteres. Strings podem ser escritos de várias maneiras:\n",
    "\n",
    "- Aspas simples: 'permite aspas \"duplas\" incorporadas'\n",
    "\n",
    "- Aspas duplas: \"permite aspas 'simples' incorporadas\".\n",
    "\n",
    "- Triplo entre aspas: '''três aspas simples''', \"\"\"três aspas duplas\"\"\"\n",
    "\n",
    "Sequência de caracteres triplas entre aspas podem abranger várias linhas - todos os espaços em branco associados serão incluídos na literal da sequência. Normalmente usados quando queremos deixar varias linhas de código comentado"
   ]
  },
  {
   "cell_type": "code",
   "execution_count": null,
   "metadata": {},
   "outputs": [],
   "source": [
    "'LISComp \"IFRJ\"'"
   ]
  },
  {
   "cell_type": "code",
   "execution_count": null,
   "metadata": {},
   "outputs": [],
   "source": [
    "\"LISComp 'IFRJ'\""
   ]
  },
  {
   "cell_type": "code",
   "execution_count": null,
   "metadata": {},
   "outputs": [],
   "source": [
    "'''LISComp IFRJ'''"
   ]
  },
  {
   "cell_type": "code",
   "execution_count": null,
   "metadata": {},
   "outputs": [],
   "source": [
    "\"\"\"LISComp IFRJ\"\"\""
   ]
  },
  {
   "cell_type": "markdown",
   "metadata": {},
   "source": [
    "#### Operadores matemáticos em string"
   ]
  },
  {
   "cell_type": "code",
   "execution_count": null,
   "metadata": {},
   "outputs": [],
   "source": [
    "# Concatenação (+)\n",
    "\"LISComp\" + \"IFRJ\" + \"28\" +\"2020\""
   ]
  },
  {
   "cell_type": "code",
   "execution_count": null,
   "metadata": {},
   "outputs": [],
   "source": [
    "# Repetição (*)\n",
    "\"IFRJ \"*5"
   ]
  },
  {
   "cell_type": "markdown",
   "metadata": {},
   "source": [
    "## Mais operadores "
   ]
  },
  {
   "cell_type": "markdown",
   "metadata": {},
   "source": [
    "### Operadores de comparação"
   ]
  },
  {
   "cell_type": "code",
   "execution_count": null,
   "metadata": {},
   "outputs": [],
   "source": [
    "# Exatamente menor que (<)\n",
    "15 < 7"
   ]
  },
  {
   "cell_type": "code",
   "execution_count": null,
   "metadata": {},
   "outputs": [],
   "source": [
    "# Menor que ou igual (<=)\n",
    "15 <= 7"
   ]
  },
  {
   "cell_type": "code",
   "execution_count": null,
   "metadata": {},
   "outputs": [],
   "source": [
    "# Exatamente maior que (>)\n",
    "15 > 7"
   ]
  },
  {
   "cell_type": "code",
   "execution_count": null,
   "metadata": {},
   "outputs": [],
   "source": [
    "# Maior que ou igual (>=)\n",
    "15 >= 7"
   ]
  },
  {
   "cell_type": "code",
   "execution_count": null,
   "metadata": {},
   "outputs": [],
   "source": [
    "# Igual (==)\n",
    "15 == 15"
   ]
  },
  {
   "cell_type": "code",
   "execution_count": null,
   "metadata": {},
   "outputs": [],
   "source": [
    "# Não é igual (!=)\n",
    "15 != 15"
   ]
  },
  {
   "cell_type": "markdown",
   "metadata": {},
   "source": [
    "### Operadores booleanos\n",
    "\n",
    "- a **and** b: True, se a e b são verdadeiros e False nos outros casos."
   ]
  },
  {
   "cell_type": "code",
   "execution_count": null,
   "metadata": {},
   "outputs": [],
   "source": [
    "15 > 7 and 15 < 20"
   ]
  },
  {
   "cell_type": "code",
   "execution_count": null,
   "metadata": {},
   "outputs": [],
   "source": [
    "15 > 7 and 15 > 20"
   ]
  },
  {
   "cell_type": "markdown",
   "metadata": {},
   "source": [
    "- a **or** b: True, se a e b são True ou algum valor de a ou b são verdadeiros, nos outros casos False."
   ]
  },
  {
   "cell_type": "code",
   "execution_count": null,
   "metadata": {},
   "outputs": [],
   "source": [
    "15 > 7 or 15 < 20"
   ]
  },
  {
   "cell_type": "code",
   "execution_count": null,
   "metadata": {},
   "outputs": [],
   "source": [
    "15 > 7 or 15 > 20"
   ]
  },
  {
   "cell_type": "code",
   "execution_count": null,
   "metadata": {},
   "outputs": [],
   "source": [
    "15 < 7 or 15 > 20"
   ]
  },
  {
   "cell_type": "markdown",
   "metadata": {},
   "source": [
    "- **not** a: True se for False e False se for True."
   ]
  },
  {
   "cell_type": "code",
   "execution_count": null,
   "metadata": {
    "scrolled": true
   },
   "outputs": [],
   "source": [
    "not True"
   ]
  },
  {
   "cell_type": "markdown",
   "metadata": {},
   "source": [
    "### Prioridade dos operadores\n",
    "\n",
    "1. Expressões entre Parênteses ( ) – Maior Prioridade;\n",
    "2. Potenciação (**);\n",
    "3. Unários (+, -);\n",
    "4. Binários Multiplicativos (*, /, %, //);\n",
    "5. Binários Aditivos (+, -);\n",
    "6. Comparação (==, !=, <, >, <=, >=);\n",
    "7. Lógico not;\n",
    "8. Lógico and;\n",
    "9. Lógico or – Menor Prioridade."
   ]
  },
  {
   "cell_type": "code",
   "execution_count": null,
   "metadata": {},
   "outputs": [],
   "source": [
    "-10**2"
   ]
  },
  {
   "cell_type": "code",
   "execution_count": null,
   "metadata": {
    "scrolled": true
   },
   "outputs": [],
   "source": [
    "(-10)**2"
   ]
  },
  {
   "cell_type": "code",
   "execution_count": null,
   "metadata": {},
   "outputs": [],
   "source": [
    "(-10)**2/-5"
   ]
  },
  {
   "cell_type": "code",
   "execution_count": null,
   "metadata": {},
   "outputs": [],
   "source": [
    "(-10)**2/-5+4"
   ]
  },
  {
   "cell_type": "code",
   "execution_count": null,
   "metadata": {},
   "outputs": [],
   "source": [
    "# A expressão à esquerda equivale a expressão à direita\n",
    "(3.75 + 25/7 - 15**2/10) == (3.75 + (25/7) - (15**2)/10)"
   ]
  },
  {
   "cell_type": "markdown",
   "metadata": {},
   "source": [
    "## Manipulação de variáveis"
   ]
  },
  {
   "cell_type": "markdown",
   "metadata": {},
   "source": [
    "### Atribuição\n",
    "\n",
    "Uma **estrutura de atribuição** (=) cria uma nova variável e fornece um valor.\n",
    "\n",
    "![atribuir](img/estrutura_atribuir.png)\n",
    "\n",
    "Uma maneira comum de representar variáveis no papel é escrever o nome com uma seta apontando para o seu valor. Esse tipo de figura é chamado de **diagrama de estados** porque mostra em que estado cada uma das variáveis está.\n",
    "\n",
    "![diagramaestado](img/diagrama_estado.png)"
   ]
  },
  {
   "cell_type": "code",
   "execution_count": null,
   "metadata": {},
   "outputs": [],
   "source": [
    "# Atribuição simples\n",
    "x = 20\n",
    "x"
   ]
  },
  {
   "cell_type": "code",
   "execution_count": null,
   "metadata": {},
   "outputs": [],
   "source": [
    "# Atribuição multipla\n",
    "x,y,z = 10,5,20\n",
    "x,y,z"
   ]
  },
  {
   "cell_type": "markdown",
   "metadata": {},
   "source": [
    "### Nomes das variáveis\n",
    "\n",
    "Os nomes das variáveis podem ser do tamanho que bem entendermos, entretanto não devem conter acentos e devem possuir apenas caracteres alfa-numéricos. O caractere sublinhado (_) pode aparecer em um nome. Ele é frequentemente usado em nomes com várias palavras, como nome_laboratorio ou curso_ifrj.\n",
    "\n",
    "\n",
    "Os nomes dás variáveis não podem começar com números, não podem ter \"@\" no nome e não podem ser nenhuma das **palavras-chave**\n",
    "\n",
    "|        |          | Palavras-chave|          |        |\n",
    "|:------:|:--------:|:--------:|:--------:|:------:|\n",
    "|  False |   await  |   else   |  import  |  pass  |\n",
    "|  None  |   break  |  except  |    in    |  raise |\n",
    "|  True  |   class  |  finally |    is    | return |\n",
    "|   and  | continue |    for   |  lambda  |   try  |\n",
    "|   as   |    def   |   from   | nonlocal |  while |\n",
    "| assert |    del   |  global  |    not   |  with  |\n",
    "|  async |   elif   |    if    |    or    |  yield |\n",
    "\n",
    "Na maioria dos ambientes de desenvolvimento, palavras-chave são exibidos em uma cor diferente. Podemos ver alguns exemplos abaixo:"
   ]
  },
  {
   "cell_type": "code",
   "execution_count": null,
   "metadata": {},
   "outputs": [],
   "source": [
    "28laboratorio = \"LISComp\""
   ]
  },
  {
   "cell_type": "code",
   "execution_count": null,
   "metadata": {},
   "outputs": [],
   "source": [
    "laboratorio@ = \"LISComp\""
   ]
  },
  {
   "cell_type": "code",
   "execution_count": null,
   "metadata": {},
   "outputs": [],
   "source": [
    "class = \"Turma do Paulinho\""
   ]
  },
  {
   "cell_type": "markdown",
   "metadata": {},
   "source": [
    "### Tipagem dinâmica\n",
    "\n",
    "**Tipagem dinâmica** é uma característica de determinadas linguagens de programação, que não exigem estruturas de tipos de dados, pois são capazes de escolher que tipo utilizar dinamicamente para cada variável, podendo alterá-lo durante a compilação ou a execução do programa."
   ]
  },
  {
   "cell_type": "code",
   "execution_count": null,
   "metadata": {},
   "outputs": [],
   "source": [
    "x = 10\n",
    "x"
   ]
  },
  {
   "cell_type": "code",
   "execution_count": null,
   "metadata": {},
   "outputs": [],
   "source": [
    "x = 'Maria'\n",
    "x"
   ]
  },
  {
   "cell_type": "code",
   "execution_count": null,
   "metadata": {},
   "outputs": [],
   "source": [
    "x = True\n",
    "x"
   ]
  },
  {
   "cell_type": "code",
   "execution_count": null,
   "metadata": {},
   "outputs": [],
   "source": [
    "x = 14.5\n",
    "x"
   ]
  },
  {
   "cell_type": "markdown",
   "metadata": {},
   "source": [
    "### Operadores de atribuição\n",
    "\n",
    "Para somar, subtrair, etc., em uma mesma variavél podemos operar assim:"
   ]
  },
  {
   "cell_type": "code",
   "execution_count": null,
   "metadata": {},
   "outputs": [],
   "source": [
    "x = 10\n",
    "x = x + 5\n",
    "x"
   ]
  },
  {
   "cell_type": "code",
   "execution_count": null,
   "metadata": {},
   "outputs": [],
   "source": [
    "y = 6.5\n",
    "x = x+y\n",
    "x"
   ]
  },
  {
   "cell_type": "markdown",
   "metadata": {},
   "source": [
    "Entretanto, podemos realizar operações desse tipo de uma forma abreviada"
   ]
  },
  {
   "cell_type": "code",
   "execution_count": null,
   "metadata": {},
   "outputs": [],
   "source": [
    "x = 10"
   ]
  },
  {
   "cell_type": "code",
   "execution_count": null,
   "metadata": {},
   "outputs": [],
   "source": [
    "x += 5\n",
    "x"
   ]
  },
  {
   "cell_type": "code",
   "execution_count": null,
   "metadata": {},
   "outputs": [],
   "source": [
    "x -= 6\n",
    "x"
   ]
  },
  {
   "cell_type": "code",
   "execution_count": null,
   "metadata": {},
   "outputs": [],
   "source": [
    "x *= 2\n",
    "x"
   ]
  },
  {
   "cell_type": "code",
   "execution_count": null,
   "metadata": {},
   "outputs": [],
   "source": [
    "x /= 12\n",
    "x"
   ]
  },
  {
   "cell_type": "code",
   "execution_count": null,
   "metadata": {},
   "outputs": [],
   "source": [
    "x **= 3\n",
    "x"
   ]
  },
  {
   "cell_type": "code",
   "execution_count": null,
   "metadata": {},
   "outputs": [],
   "source": [
    "x //= 3\n",
    "x"
   ]
  },
  {
   "cell_type": "code",
   "execution_count": null,
   "metadata": {
    "scrolled": true
   },
   "outputs": [],
   "source": [
    "x %= 3\n",
    "x"
   ]
  },
  {
   "cell_type": "markdown",
   "metadata": {},
   "source": [
    "## Funções básicas"
   ]
  },
  {
   "cell_type": "markdown",
   "metadata": {},
   "source": [
    "### Função de saída padrão"
   ]
  },
  {
   "cell_type": "code",
   "execution_count": null,
   "metadata": {},
   "outputs": [],
   "source": [
    "# No Python 3.x usamos a função print() para visualizar, no terminal, os objetos atribuidos a uma variável ou expressão\n",
    "print(5)\n",
    "print(85962)\n",
    "print(x,y,z)\n",
    "print(x+y+z)"
   ]
  },
  {
   "cell_type": "code",
   "execution_count": null,
   "metadata": {},
   "outputs": [],
   "source": [
    "# Imprimir textos e variaveis\n",
    "print(\"O valor da operacao é:\",10.528743)"
   ]
  },
  {
   "cell_type": "code",
   "execution_count": null,
   "metadata": {},
   "outputs": [],
   "source": [
    "# Podemos formatar a saída\n",
    "print(\"O valor da %.4f operacao é:\" % 10.528743)"
   ]
  },
  {
   "cell_type": "markdown",
   "metadata": {},
   "source": [
    "### Função de entrada padrão"
   ]
  },
  {
   "cell_type": "code",
   "execution_count": null,
   "metadata": {
    "slideshow": {
     "slide_type": "-"
    }
   },
   "outputs": [],
   "source": [
    "# No Python 3.x usamos a função input() para atribuir a uma variável uma string fornecida pelo usuário através do teclado\n",
    "x = int(input())\n",
    "print(x)"
   ]
  },
  {
   "cell_type": "code",
   "execution_count": null,
   "metadata": {},
   "outputs": [],
   "source": [
    "# Tipo da classe do objeto atribuido\n",
    "type(x)"
   ]
  },
  {
   "cell_type": "code",
   "execution_count": null,
   "metadata": {},
   "outputs": [],
   "source": [
    "# Também podemos colocar uma mensagem na saída do vídeo\n",
    "x = input(\"Forneça a posição x:\")\n",
    "print(x)"
   ]
  },
  {
   "cell_type": "markdown",
   "metadata": {},
   "source": [
    "### Fuções padrões"
   ]
  },
  {
   "cell_type": "markdown",
   "metadata": {},
   "source": [
    "|               |             | [Built-in Functions](https://docs.python.org/3/library/functions.html?#built-in-functions) |              |                |\n",
    "|:-------------:|:-----------:|:------------------:|:------------:|:--------------:|\n",
    "|      abs()    |  delattr()  |       hash()       | memoryview() |       set()    |\n",
    "|      all()    |    dict()   |       help()       |     min()    |     setattr()  |\n",
    "|      any()    |    dir()    |        hex()      |    next()    |     slice()   |\n",
    "|     ascii()   |   divmod()  |        id()       |   object()   |    sorted()    |\n",
    "|     bin()    | enumerate() |       input()      |     oct()    | staticmethod() |\n",
    "|     bool()    |    eval()   |        int()       |    open()    |      str()     |\n",
    "|  breakpoint() |    exec()   |     isistance()    |     ord()    |      sum()     |\n",
    "|  bytearray()  |   filter()  |    issubclass()    |     pow()    |     super()    |\n",
    "|    bytes()    |   float()   |       iter()       |    print()   |     tuple()    |\n",
    "|   callable()  |   format()  |        len()       |  property()  |     type()     |\n",
    "|     chr()     | frozenset() |       list()       |    range()   |     vars()     |\n",
    "| classmethod() |  getattr()  |      locals()      |    repr()    |      zip()     |\n",
    "|   complie()   |  globals()  |        map()       |  reserved()  |  __import__()  |\n",
    "|   complex()   |  hasattr()  |        max()       |    round()   |                |"
   ]
  },
  {
   "cell_type": "code",
   "execution_count": null,
   "metadata": {},
   "outputs": [],
   "source": [
    "# Traz informacoes a cerca da funcao\n",
    "help(abs)"
   ]
  },
  {
   "cell_type": "code",
   "execution_count": null,
   "metadata": {},
   "outputs": [],
   "source": [
    "abs(-5)"
   ]
  },
  {
   "cell_type": "markdown",
   "metadata": {},
   "source": [
    "## Debugging\n",
    "\n",
    "### Syntax error\n",
    "\"Sintaxe\" refere-se à estrutura de um programa e às regras sobre essa estrutura. Por exemplo, os parênteses precisam vir em pares correspondentes, portanto (1 + 2) é legal, mas 8) é um erro de sintaxe.\n",
    "\n",
    "Se houver um erro de sintaxe em qualquer lugar do seu programa, o Python exibirá uma mensagem de erro e será encerrada, e você não poderá executar o programa. Durante as primeiras semanas de sua carreira em programação, você pode gastar muito tempo rastreando erros de sintaxe. À medida que você ganha experiência, cometerá menos erros e os encontrará mais rapidamente."
   ]
  },
  {
   "cell_type": "code",
   "execution_count": null,
   "metadata": {},
   "outputs": [],
   "source": [
    "28laboratorio = \"LISComp\""
   ]
  },
  {
   "cell_type": "markdown",
   "metadata": {},
   "source": [
    "### Runtime error\n",
    "O segundo tipo de erro é um erro de tempo de execução, assim chamado porque o erro não aparece até depois que o programa foi iniciado. Esses erros também são chamados de exceções porque geralmente indicam que algo de excepcional (e ruim) aconteceu."
   ]
  },
  {
   "cell_type": "code",
   "execution_count": null,
   "metadata": {},
   "outputs": [],
   "source": [
    "10/0"
   ]
  },
  {
   "cell_type": "markdown",
   "metadata": {},
   "source": [
    "### Semantic error\n",
    "O terceiro tipo de erro é \"semântico\", o que significa relacionado ao significado. Se houver um erro semântico no seu programa, ele será executado sem gerar mensagens de erro, mas não fará a coisa certa. Isso fará outra coisa. Especificamente, ele fará o que você pediu. Identificar erros semânticos pode ser complicado, pois exige que você trabalhe para trás, observando a saída do programa e tentando descobrir o que está fazendo."
   ]
  },
  {
   "cell_type": "markdown",
   "metadata": {},
   "source": [
    "> Downey, Allen. Think Python. \" O'Reilly Media, Inc.\", 2012."
   ]
  },
  {
   "cell_type": "markdown",
   "metadata": {},
   "source": [
    "Alguns erros em programação podém tirar de você algumas horas de sono, mas, as vezes, para a nossa felicidade alguém já teve o mesmo erro e perguntou no [Stack Overflows](https://pt.stackoverflow.com/). É um site referência para tirar dúvidas, é o Yahoo da programação."
   ]
  },
  {
   "cell_type": "markdown",
   "metadata": {},
   "source": [
    "## Funções\n",
    "\n",
    "Em termos simples, uma função é um dispositivo que agrupa um conjunto de instruções para que possam ser executadas mais de uma vez em um programa - um procedimento empacotado chamado pelo nome. As funções também podem calcular um valor de resultado e vamos especificar parâmetros que servem como entradas de função e podem diferir cada vez que o código é executado. Codificar uma operação como uma função a torna uma ferramenta geralmente útil, que podemos usar em vários contextos. "
   ]
  },
  {
   "cell_type": "markdown",
   "metadata": {},
   "source": [
    "### Módulos\n",
    "\n",
    "Um módulo é um arquivo que contém uma coleção de funções. O Python tem diversas funções base e milhares de funções criadas por usuários, funções essas que tornam o Python umas das linguagens de programação mais usada do mundo. No final do curso veremos 2 módulos essenciais, numpy e pandas.\n",
    "\n",
    "Para usarmos as funções contidas nos módulos temos que o importa usando a **estrutura import**"
   ]
  },
  {
   "cell_type": "code",
   "execution_count": null,
   "metadata": {},
   "outputs": [],
   "source": [
    "# Calcular o seno e o cosseno de um ângulo\n",
    "import math # importa o módulo de funções matemáticas\n",
    "graus = int(input(\"Digite um grau inteiro: \")) # Recebe o grau\n",
    "radianos = math.radians(graus) # Converte em radianos\n",
    "print(\"Seno de \",graus,\" graus é \",math.sin(radianos)) # imprime o seno\n",
    "print(\"Cosseno de \",graus,\" graus é \",math.cos(radianos)) # imprime o cosseno"
   ]
  },
  {
   "cell_type": "code",
   "execution_count": null,
   "metadata": {},
   "outputs": [],
   "source": [
    "# Podemos usar o help para trazer o docstring(um documento do módulo ou função)\n",
    "help(math)"
   ]
  },
  {
   "cell_type": "markdown",
   "metadata": {},
   "source": [
    "Importa um módulo inteiro não é o mais aconselhavél, já que ira consumir mais da sua memória ram, então podemos importar somente algumas funções com as estruturas **from** e **import**"
   ]
  },
  {
   "cell_type": "code",
   "execution_count": null,
   "metadata": {},
   "outputs": [],
   "source": [
    "# Calcular o seno e o cosseno de um ângulo\n",
    "from math import radians,sin,cos # importa o módulo de funções matemáticas\n",
    "graus = int(input(\"Digite um grau inteiro: \")) # Recebe o grau\n",
    "radianos = math.radians(graus) # Converte em radianos\n",
    "print(\"Seno de \",graus,\" graus é \",math.sin(radianos)) # imprime o seno\n",
    "print(\"Cosseno de \",graus,\" graus é \",math.cos(radianos)) # imprime o cosseno"
   ]
  },
  {
   "cell_type": "markdown",
   "metadata": {},
   "source": [
    "### Bloco de comandos\n",
    "\n",
    "Em Python, um bloco de comandos contendo um ou mais comandos é chamado de ***suite***. No exemplo abaixo, temos uma suite com cinco comandos em sequência."
   ]
  },
  {
   "cell_type": "code",
   "execution_count": null,
   "metadata": {},
   "outputs": [],
   "source": [
    "x = int(input(\"Digite o primeiro valor: \"))\n",
    "y = int(input(\"Digite o segundo valor: \"))\n",
    "soma = x + y\n",
    "prod = x * y\n",
    "print(\"A Soma =\", soma, \"e o Produto =\", prod)"
   ]
  },
  {
   "cell_type": "markdown",
   "metadata": {},
   "source": [
    "### Adicionando novas funções\n",
    "\n",
    "Motivos par adicionarmos novas funções\n",
    "\n",
    "- Maximizamos a reutilização de código e minimizando a redundância\n",
    "- Decomposição processual\n",
    "\n",
    "![função](img/funcao.png)"
   ]
  },
  {
   "cell_type": "markdown",
   "metadata": {},
   "source": [
    "### Passagem de argumentos"
   ]
  },
  {
   "cell_type": "code",
   "execution_count": null,
   "metadata": {},
   "outputs": [],
   "source": [
    "# Definir uma função de mutiplicação de duas variaveis:\n",
    "def multi(x,y):\n",
    "    \"\"\"\n",
    "    Retorna a mutiplicação dos argumentos (x*y) \n",
    "    \"\"\"\n",
    "    z = 0 \n",
    "    print(\"x:\",x,\"y:\",y) # imprimi os argumentos\n",
    "    for u in range(x): # itera no range(x)\n",
    "        z += y # soma y em z \n",
    "    return z # retorna o valor de z\n",
    "\n",
    "# Definir uma função da subtração de duas variaveis:\n",
    "def sub(x,y):\n",
    "    \"\"\"\n",
    "    Retorna a soma dos argumentos (x*y) \n",
    "    \"\"\"\n",
    "    return x-y"
   ]
  },
  {
   "cell_type": "code",
   "execution_count": null,
   "metadata": {},
   "outputs": [],
   "source": [
    "# Retorna o docstring da função se houver\n",
    "help(multi)"
   ]
  },
  {
   "cell_type": "code",
   "execution_count": null,
   "metadata": {},
   "outputs": [],
   "source": [
    "# Chamar função multi com os argumentos\n",
    "x = int(input(\"Digite o primeiro valor: \"))\n",
    "y = int(input(\"Digite o segundo valor: \"))\n",
    "multi(x, y) #"
   ]
  },
  {
   "cell_type": "code",
   "execution_count": null,
   "metadata": {},
   "outputs": [],
   "source": [
    "# Retorna o docstring da função se houver\n",
    "help(sub)"
   ]
  },
  {
   "cell_type": "code",
   "execution_count": null,
   "metadata": {},
   "outputs": [],
   "source": [
    "# Chamar função sub com os argumentos\n",
    "x = int(input(\"Digite o primeiro valor: \"))\n",
    "y = int(input(\"Digite o segundo valor: \"))\n",
    "sub(x, y) # Muda a ordem influência no resultado?"
   ]
  },
  {
   "cell_type": "markdown",
   "metadata": {},
   "source": [
    "### Escopo\n",
    "\n",
    "Quando você usa um nome em um programa, o Python cria, altera ou consulta o nome no que é conhecido como *namespace* - um local onde os nomes residem. Quando falamos sobre a pesquisa do valor de um nome em relação ao código, o termo **escopo** refere-se a um *namespace*: ou seja, o local da atribuição de um nome em seu código-fonte determina o escopo da visibilidade do nome em seu código.\n",
    "\n",
    "Sendo assim, uma mesma variavél pode se referir a diferentes objetos, em um mesmo código mas esses objetos tem que estar em escopos diferentes. Em Python temos o total de 4 escopos, *local* (L), *enclosing function* (E), *global* (G) e *built-in* (B), formando a regra **LEGB**.\n",
    "\n",
    "![escopo](img/Escopo.png)"
   ]
  },
  {
   "cell_type": "code",
   "execution_count": null,
   "metadata": {},
   "outputs": [],
   "source": [
    "# Exemplo de escopos para o pi  \n",
    "from math import pi # Escopo built-in\n",
    "print(pi)\n",
    "# O resultado de pi importado da biblioteca não aparece, pois o escopo global sobressai\n",
    "pi = 'variavel global pi' \n",
    "def enclosed(): \n",
    "    pi = 'variavel enclosed pi' \n",
    "    def local(): \n",
    "        pi = 'variavel local pi' \n",
    "        print(pi) \n",
    "        \n",
    "    local()\n",
    "    print(pi)\n",
    "\n",
    "enclosed()\n",
    "print(pi)"
   ]
  },
  {
   "cell_type": "markdown",
   "metadata": {},
   "source": [
    "## Estrutura de seleção\n",
    "\n",
    "### Execução Condicional (if)\n",
    "\n",
    "Para escrever programas úteis, quase sempre precisamos verificar as condições e alterar o comportamento do programa de acordo. Estruturas condicionais nos dão essa capacidade. A forma mais simples é a estrutura if:\n",
    "\n",
    "![estruturaif](img/estrutura_if.png)"
   ]
  },
  {
   "cell_type": "code",
   "execution_count": null,
   "metadata": {},
   "outputs": [],
   "source": [
    "# Estrutura condicional de um if\n",
    "x = int(input(\"Digite um número: \")) # Lê o número fornecido\n",
    "if x > 0: # Testa a condição x > 0\n",
    "    print('x é positivo') # Se x > 0 == True imprime a frase"
   ]
  },
  {
   "cell_type": "code",
   "execution_count": null,
   "metadata": {},
   "outputs": [],
   "source": [
    "# Estrutura condicional de dois if\n",
    "x = int(input(\"Digite um número: \")) # Lê o número fornecido\n",
    "if x > 0: # Testa a condição x > 0\n",
    "    print('x é positivo')  # Se x > 0 == True imprime a frase\n",
    "if x < 0: # Testa a condição x < 0\n",
    "    print('x é negativo')  # Se x < 0 == True imprime a frase"
   ]
  },
  {
   "cell_type": "code",
   "execution_count": null,
   "metadata": {},
   "outputs": [],
   "source": [
    "# Estrutura condicional de dois if\n",
    "x = int(input(\"Digite um número: \")) # Lê o número fornecido\n",
    "if x > 0: # Testa a condição x > 0\n",
    "    print('x é positivo') # Se x > 0 == True imprime a frase\n",
    "if x < 0: # Testa a condição x < 0\n",
    "    pass # Se x < 0 == True não faz nenhum comando nesse suite"
   ]
  },
  {
   "cell_type": "markdown",
   "metadata": {},
   "source": [
    "### Execução Alternativa (if-else)\n",
    "\n",
    "Uma segunda forma da instrução if é “execução alternativa”, na qual existem duas possibilidades e a condição determina qual delas é executada. A sintaxe é assim:\n",
    "\n",
    "![estruturaifelse](img/estrutura_ifelse.png)"
   ]
  },
  {
   "cell_type": "code",
   "execution_count": null,
   "metadata": {},
   "outputs": [],
   "source": [
    "# Estrutura condicional de if-else\n",
    "x = int(input(\"Digite um número: \")) # Lê o número fornecido\n",
    "if x > 0: # Testa a condição x > 0\n",
    "    print('x é positivo') # Se x > 0 == True imprime a frase\n",
    "else: # Qualquer caso diferente de x > 0 \n",
    "    print('x é negativo ou é igual a zero') # Se x > 0 == False imprime a frase"
   ]
  },
  {
   "cell_type": "markdown",
   "metadata": {},
   "source": [
    "### Condicionais encadeados (if-elif-else)\n",
    "\n",
    "Às vezes, existem mais de duas possibilidades e precisamos de mais de dois ramos. Uma maneira de expressar uma computação como essa é um condicional encadeado:\n",
    "\n",
    "![estruturaifelifelse](img/estrutura_ifelifelse.png)"
   ]
  },
  {
   "cell_type": "code",
   "execution_count": null,
   "metadata": {},
   "outputs": [],
   "source": [
    "# Estrutura condicional de if-elif-else\n",
    "x = int(input(\"Digite um número: \")) # Lê o número fornecido\n",
    "if x > 0: # Testa a condição x > 0\n",
    "    print('x é positivo') # Se x > 0 == True imprime a frase\n",
    "elif x < 0: # Testa a condição x < 0 caso x > 0 == False\n",
    "    print('x é negativo') # Se x < 0 == True imprime a frase\n",
    "else: # Qualquer caso diferente de x > 0 e x < 0\n",
    "    print('x é igual a 0')"
   ]
  },
  {
   "cell_type": "code",
   "execution_count": null,
   "metadata": {},
   "outputs": [],
   "source": [
    "# Estrutura condicional de if-if-else\n",
    "x = int(input(\"Digite um número: \")) # Lê o número fornecido\n",
    "if x > 0: # Testa a condição x > 0\n",
    "    print('x é positivo') # Se x > 0 == True imprime a frase\n",
    "if x < 0: # Testa a condição x < 0\n",
    "    print('x é negativo') # Se x < 0 == True imprime a frase\n",
    "else:\n",
    "    print('x é igual a 0') # Se x < 0 == False imprime a frase"
   ]
  },
  {
   "cell_type": "markdown",
   "metadata": {},
   "source": [
    "### Condicionais aninhados\n",
    "\n",
    "Um condicional também pode ser aninhado dentro de outro. Poderíamos ter escrito o exemplo na seção anterior assim:"
   ]
  },
  {
   "cell_type": "code",
   "execution_count": null,
   "metadata": {},
   "outputs": [],
   "source": [
    "# Condicionais aninhados\n",
    "x = int(input(\"Digite um número: \")) # Lê o número fornecido\n",
    "if x == 0:\n",
    "    print('x é igual a 0')\n",
    "else:\n",
    "    if x > 0:\n",
    "        print('x é positivo')\n",
    "    else:\n",
    "        print('x é negativo')"
   ]
  },
  {
   "cell_type": "markdown",
   "metadata": {},
   "source": [
    "## Recursividade\n",
    "\n",
    "### Pilha de ativação\n",
    "\n",
    "Quando uma função é chamada, duas tarefas são executadas:\n",
    "\n",
    "- Criação de um espaço de memória para as variáveis locais e parâmetros;\n",
    "- Passagem efetiva de parâmetros.\n",
    "\n",
    "Durante a execução de um programa uma área especial da memória é organizada em forma de pilha (“stack”). Ela é utilizada para armazenar os valores das variáveis locais e parâmetros das funções. Outra área é organizada para manter as variáveis globais do programa principal.\n",
    "\n",
    "Quando o programa principal é iniciado, um espaço é criado para manter as variáveis globais. Sempre que uma função é ativada, um espaço contendo os valores das variáveis locais e dos parâmetros é reservado no topo da pilha. Ao fim de uma função, seu espaço é automaticamente eliminado do topo da pilha, podendo ser reutilizado.\n",
    "\n",
    "![pilha](img/pilha.png)"
   ]
  },
  {
   "cell_type": "code",
   "execution_count": null,
   "metadata": {},
   "outputs": [],
   "source": [
    "# Programa Completo\n",
    "\n",
    "# Subprograma\n",
    "def soma(x,y):\n",
    "    \"\"\"\n",
    "    Retorna a soma dos números atribuidos\n",
    "    \"\"\"\n",
    "    return x + y\n",
    "\n",
    "# Programa Principal\n",
    "x = 2\n",
    "y = 3\n",
    "z = soma(x,y)\n",
    "print(z)"
   ]
  },
  {
   "cell_type": "markdown",
   "metadata": {},
   "source": [
    "### Recursão\n",
    "\n",
    "Recursão é um método de resolução de problemas que envolve quebrar um problema em subproblemas menores e menores até chegar a um problema pequeno o suficiente para que ele possa ser resolvido trivialmente. Normalmente recursão envolve uma função que chama a si mesma. Embora possa não parecer muito, a recursão nos permite escrever soluções elegantes para problemas que, de outra forma, podem ser muito difíceis de programar.\n",
    "\n",
    "EX: **FATORIAL**\n",
    "\n",
    "![recursividade1](img/recursividade1.png)\n",
    "![recursividade2](img/recursividade2.png)\n",
    "![recursividade3](img/recursividade3.png)\n",
    "![recursividade4](img/recursividade4.png)"
   ]
  },
  {
   "cell_type": "code",
   "execution_count": null,
   "metadata": {},
   "outputs": [],
   "source": [
    "def fat(n):\n",
    "    \"\"\"\n",
    "    Retorna o fatorial do número atribuido\n",
    "    \"\"\"\n",
    "    if n == 0: # condição de parada\n",
    "        return 1\n",
    "    else:\n",
    "        return n*fat(n-1) # chamada recursiva\n",
    "\n",
    "x = fat(int(input(\"Digite um número inteiro positivo: \")))\n",
    "print(x)"
   ]
  },
  {
   "cell_type": "markdown",
   "metadata": {},
   "source": [
    "## Estrutura de repetição\n",
    "\n",
    "### While Loop\n",
    "\n",
    "A estrutura while do Python é a construção de iteração mais geral na linguagem. Em termos simples, ela executa repetidamente um suite, desde que um teste na parte superior continue o avaliando como um valor verdadeiro.\n",
    "\n",
    "![estruturawhile](img/estrutura_while.png)"
   ]
  },
  {
   "cell_type": "code",
   "execution_count": null,
   "metadata": {},
   "outputs": [],
   "source": [
    "# Imprimir os valores no intervalo [a,b[\n",
    "a=0; b=10 # Atribuimos valores a as variaveis\n",
    "while a < b: # Loop enquanto a for menor que b\n",
    "    print(a, end=' ') # Imprimir a varaivel 'a' sem pular linha\n",
    "    a += 1 # somar +1 no valor de a"
   ]
  },
  {
   "cell_type": "markdown",
   "metadata": {},
   "source": [
    "#### While-pass\n",
    "\n",
    "A estrutura pass é um espaço reservado para realizar nenhuma operação que é quando a sintaxe exige uma estrutura, mas você não tem nada útil a dizer."
   ]
  },
  {
   "cell_type": "code",
   "execution_count": null,
   "metadata": {},
   "outputs": [],
   "source": [
    "# exemplo 1\n",
    "while True: # Aperte no botão \"Stop\" caso estaja em um notebook\n",
    "    pass"
   ]
  },
  {
   "cell_type": "markdown",
   "metadata": {},
   "source": [
    "#### While-continue\n",
    "\n",
    "A estrutura continue causa um salto imediato para o topo de um loop. Às vezes, também evita o aninhamento de instruções."
   ]
  },
  {
   "cell_type": "code",
   "execution_count": null,
   "metadata": {},
   "outputs": [],
   "source": [
    "# Imprimir os valores pares\n",
    "x = 10 # Atribui um valor a variavel\n",
    "while x != 0: # Loop enquando x for diferente de zero\n",
    "    x -= 1 # subtrai 1 do valor da variavel\n",
    "    if x % 2 != 0: # verifica se o valor é impar\n",
    "        continue # se impar voltemos ao inicio\n",
    "    print(x, end=' ') # imprimi os valores pares"
   ]
  },
  {
   "cell_type": "markdown",
   "metadata": {},
   "source": [
    "#### While-break\n",
    "\n",
    "A estrutura break causa uma saída imediata de um loop."
   ]
  },
  {
   "cell_type": "code",
   "execution_count": null,
   "metadata": {},
   "outputs": [],
   "source": [
    "# Imprimir as informacoes fornecidas\n",
    "while True: # Loop infinito\n",
    "    nome = input(\"Qual é o seu nome (digite 'stop' para parar):\") # Lê o nome\n",
    "    if nome == \"stop\": # verifica se (nome == stop) == True\n",
    "            break # Se nome == stop termina o while\n",
    "    idade = input(\"Qual é a sua idade: \") # Lê a idade\n",
    "    print(\"O {name} tem {age} anos\\n\".format(name = nome,age = idade))"
   ]
  },
  {
   "cell_type": "markdown",
   "metadata": {},
   "source": [
    "### For Loop\n",
    "\n",
    "O loop for é um **iterador** genérico no Python: ele pode percorrer os itens em qualquer sequência ordenada ou outro objeto iterável. A estrutura for funciona em listas, tuplas, strings e outros iteráveis internos.\n",
    "\n",
    "![estruturafor](img/estrutura_for.png)"
   ]
  },
  {
   "cell_type": "markdown",
   "metadata": {},
   "source": [
    "#### Range\n",
    "\n",
    "O range representa uma sequência imutável de números e é comumente usado para repetir um número específico de vezes em loops.\n",
    "\n",
    "**range**(*stop*)\n",
    "\n",
    "**range**(*start*,*stop*[, *step*])\n",
    "\n",
    "- **start**: O valor do parâmetro inicio (ou 0 se o parâmetro não foi fornecido)\n",
    "\n",
    "- **stop**: O valor do parâmetro parada\n",
    "\n",
    "- **step**: O valor do parâmetro passos (ou 1 se o parâmetro não foi fornecido)\n",
    "\n",
    "A vantagem do range em relação a uma lista ou tupla (veremos mais a diante) é que um objeto range sempre terá a mesma quantidade (pequena) de memória, independentemente do tamanho do intervalo que representa,pois armazena apenas os valores de início, parada e etapa , calculando itens e subfaixas individuais, conforme necessário."
   ]
  },
  {
   "cell_type": "markdown",
   "metadata": {},
   "source": [
    "#### For"
   ]
  },
  {
   "cell_type": "code",
   "execution_count": null,
   "metadata": {},
   "outputs": [],
   "source": [
    "# exemplo 1\n",
    "for i in range(10):\n",
    "    print(i)"
   ]
  },
  {
   "cell_type": "code",
   "execution_count": null,
   "metadata": {},
   "outputs": [],
   "source": [
    "# exemplo 2\n",
    "for i in range(1,10):\n",
    "    print(i)"
   ]
  },
  {
   "cell_type": "code",
   "execution_count": null,
   "metadata": {},
   "outputs": [],
   "source": [
    "# exemplo 3\n",
    "for i in range(1,10,2):\n",
    "    print(i)"
   ]
  },
  {
   "cell_type": "code",
   "execution_count": null,
   "metadata": {},
   "outputs": [],
   "source": [
    "# examplo 4\n",
    "for i in range(10,1,-2):\n",
    "    print(i)"
   ]
  },
  {
   "cell_type": "code",
   "execution_count": null,
   "metadata": {},
   "outputs": [],
   "source": [
    "# Fatorial\n",
    "num = int(input(\"Digite um valor inteiro e positivo: \"))\n",
    "fat = 1\n",
    "for i in range(1,num+1):\n",
    "      fat = fat * i\n",
    "print(\"\\nO fatorial de\", num, \"=\", fat)"
   ]
  },
  {
   "cell_type": "markdown",
   "metadata": {},
   "source": [
    "## Sequência de objetos"
   ]
  },
  {
   "cell_type": "markdown",
   "metadata": {},
   "source": [
    "### Sequência\n",
    "\n",
    "A sequência é uma coleção de objetos ordenados por posições.Existem três tipos básicos de sequência: **lists**, **tuples** e **ranges**. Além destas exite seqüências de texto (**string**). Sequências são **iteraveis**\n",
    "\n",
    "\n",
    "![sequencencia](img/sequencia.png)\n"
   ]
  },
  {
   "cell_type": "markdown",
   "metadata": {},
   "source": [
    "#### Índice (Index)"
   ]
  },
  {
   "cell_type": "code",
   "execution_count": null,
   "metadata": {},
   "outputs": [],
   "source": [
    "itens = [45, 81, 13, 20, 45, 98]\n",
    "new = [59, 97, 35]"
   ]
  },
  {
   "cell_type": "code",
   "execution_count": null,
   "metadata": {},
   "outputs": [],
   "source": [
    "# Índice representa a posição do elemento\n",
    "itens[3]"
   ]
  },
  {
   "cell_type": "markdown",
   "metadata": {},
   "source": [
    "#### Fatiar (Slice)\n",
    "\n",
    "![fatiar](img/slice.png)"
   ]
  },
  {
   "cell_type": "code",
   "execution_count": null,
   "metadata": {},
   "outputs": [],
   "source": [
    "# Fatia a sequência de i até j\n",
    "itens[0:4]"
   ]
  },
  {
   "cell_type": "code",
   "execution_count": null,
   "metadata": {},
   "outputs": [],
   "source": [
    "# Fatia a sequência de i até j com k passos\n",
    "itens[1:6:2]"
   ]
  },
  {
   "cell_type": "markdown",
   "metadata": {},
   "source": [
    "#### Operações comuns das sequências"
   ]
  },
  {
   "cell_type": "code",
   "execution_count": null,
   "metadata": {},
   "outputs": [],
   "source": [
    "# in verifica se um objeto existe em outra sequência\n",
    "10 in itens"
   ]
  },
  {
   "cell_type": "code",
   "execution_count": null,
   "metadata": {},
   "outputs": [],
   "source": [
    "# not in verifica se um objeto não existe em outra sequência\n",
    "10 not in itens"
   ]
  },
  {
   "cell_type": "code",
   "execution_count": null,
   "metadata": {},
   "outputs": [],
   "source": [
    "# \"+\"\" concatena uma sequência com outra sequência\n",
    "itens + new"
   ]
  },
  {
   "cell_type": "code",
   "execution_count": null,
   "metadata": {},
   "outputs": [],
   "source": [
    "# \"*\" repete uma sequência n vezes\n",
    "print(new*2)"
   ]
  },
  {
   "cell_type": "markdown",
   "metadata": {},
   "source": [
    "Sequências do mesmo tipo também suportam comparações. Em particular, **listas** e **tuplas** são comparadas lexicograficamente através da comparação dos elementos correspondentes.\n",
    "\n",
    "![comparacaolista](img/comparacao_lista.png)"
   ]
  },
  {
   "cell_type": "code",
   "execution_count": null,
   "metadata": {},
   "outputs": [],
   "source": [
    "# Comparação\n",
    "new >= itens"
   ]
  },
  {
   "cell_type": "markdown",
   "metadata": {},
   "source": [
    "#### Funções comuns das sequências "
   ]
  },
  {
   "cell_type": "code",
   "execution_count": null,
   "metadata": {},
   "outputs": [],
   "source": [
    "# len(itens) retorna o tamanho da sequência\n",
    "len(itens)"
   ]
  },
  {
   "cell_type": "code",
   "execution_count": null,
   "metadata": {},
   "outputs": [],
   "source": [
    "# min(itens) retorna o menor objeto da sequência\n",
    "min(itens)"
   ]
  },
  {
   "cell_type": "code",
   "execution_count": null,
   "metadata": {},
   "outputs": [],
   "source": [
    "# max(itens) retorna o maior objeto da sequência\n",
    "max(itens)"
   ]
  },
  {
   "cell_type": "markdown",
   "metadata": {},
   "source": [
    "#### Métodos comuns das sequências"
   ]
  },
  {
   "cell_type": "code",
   "execution_count": null,
   "metadata": {},
   "outputs": [],
   "source": [
    "# sequence.index(x[, i[, j]]) retorna o indice da primeira ocorrencia do x (no ou depois do índice i e antes do índice j)\n",
    "itens.index(45) # i e j são opcionais"
   ]
  },
  {
   "cell_type": "code",
   "execution_count": null,
   "metadata": {},
   "outputs": [],
   "source": [
    "# sequence.count(x) retorna o numero de ocorrencias de x na sequências\n",
    "itens.count(45)"
   ]
  },
  {
   "cell_type": "markdown",
   "metadata": {},
   "source": [
    "### Lista\n",
    "\n",
    "As listas ([**list**](https://docs.python.org/3/library/stdtypes.html#list)) são sequências **mutáveis**, normalmente usadas para armazenar coleções de itens homogêneos (podendo ser uma lista heterogênea dependendo da aplicação)."
   ]
  },
  {
   "cell_type": "code",
   "execution_count": null,
   "metadata": {},
   "outputs": [],
   "source": [
    "# list() podemos criar uma lista ou tranformar uma sequencia em lista\n",
    "lista1 = list() \n",
    "lista1"
   ]
  },
  {
   "cell_type": "code",
   "execution_count": null,
   "metadata": {},
   "outputs": [],
   "source": [
    "# [] podemos criar uma lista em branco\n",
    "lista2 = [] \n",
    "lista2"
   ]
  },
  {
   "cell_type": "code",
   "execution_count": null,
   "metadata": {},
   "outputs": [],
   "source": [
    "# Exemplo de lista\n",
    "alunos = [\"Paulo\",\"Gabriel\",\"Paloma\",\"Bruna\",\"Thiago\",\"Pedro\"]\n",
    "alunos"
   ]
  },
  {
   "cell_type": "markdown",
   "metadata": {},
   "source": [
    "#### Listas em for"
   ]
  },
  {
   "cell_type": "code",
   "execution_count": null,
   "metadata": {},
   "outputs": [],
   "source": [
    "# exemplo de for 1\n",
    "for i in range(len(alunos)):\n",
    "    print(i,alunos[i])"
   ]
  },
  {
   "cell_type": "code",
   "execution_count": null,
   "metadata": {},
   "outputs": [],
   "source": [
    "# exemplo de for 2\n",
    "for aluno in alunos:\n",
    "    print(aluno)"
   ]
  },
  {
   "cell_type": "markdown",
   "metadata": {},
   "source": [
    "#### Operações em listas\n",
    "\n",
    "Por se tratar de uma seguência mutavél, além das [operações comuns das sequência](#Operações-comuns-das-sequências), também podemos realizar as operações abaixo:"
   ]
  },
  {
   "cell_type": "code",
   "execution_count": null,
   "metadata": {},
   "outputs": [],
   "source": [
    "# s[i] = x o objeto na posição i de s é trocado por x\n",
    "itens = [45, 81, 13, 20, 45, 98]\n",
    "itens[0] = 35\n",
    "itens"
   ]
  },
  {
   "cell_type": "code",
   "execution_count": null,
   "metadata": {},
   "outputs": [],
   "source": [
    "# s[i:j] = t a fatia da lista de i a j é substituída pelo conteúdo de t\n",
    "itens = [45, 81, 13, 20, 45, 98]\n",
    "itens[2:5] = [28, 79, 92]\n",
    "itens"
   ]
  },
  {
   "cell_type": "code",
   "execution_count": null,
   "metadata": {},
   "outputs": [],
   "source": [
    "# del s[i:j] deleta a fatia da sequencia\n",
    "itens = [45, 81, 13, 20, 45, 98]\n",
    "del itens[2:5] # itens[2:5] = []\n",
    "itens"
   ]
  },
  {
   "cell_type": "code",
   "execution_count": null,
   "metadata": {},
   "outputs": [],
   "source": [
    "# s[i:j:k] = t a fatia da lista de i a j é substituída pelo conteúdo de t\n",
    "itens = [45, 81, 13, 20, 45, 98]\n",
    "itens[0:6:2] = [28, 79, 92]\n",
    "itens"
   ]
  },
  {
   "cell_type": "code",
   "execution_count": null,
   "metadata": {},
   "outputs": [],
   "source": [
    "# del s[i:j] deleta a fatia da sequência\n",
    "itens = [45, 81, 13, 20, 45, 98]\n",
    "del itens[0:6:2] # itens[0:6:2] = []\n",
    "itens"
   ]
  },
  {
   "cell_type": "markdown",
   "metadata": {},
   "source": [
    "#### Tipagem dinâmica em lista\n",
    "\n",
    "Na tipagem dinâmica variavéis e objetos são armazenados em partes diferentes da memória e sempre estão ligados. Variavéis sempre são ligados a um objeto, nunca a outra variavél\n",
    "\n",
    "**Expectativa**\n",
    "![tipagem1](img/tipagemdinamica1.png)\n",
    "\n",
    "**Realidade**\n",
    "![tipagem2](img/tipagemdinamica2.png)"
   ]
  },
  {
   "cell_type": "code",
   "execution_count": null,
   "metadata": {},
   "outputs": [],
   "source": [
    "# Atribuímos L1 em L2\n",
    "L1 = [33, 86, 97]\n",
    "L2 = L1\n",
    "\n",
    "# Modificamos o objeto atribuido a L2\n",
    "L2[1] = 55\n",
    "L1"
   ]
  },
  {
   "cell_type": "code",
   "execution_count": null,
   "metadata": {},
   "outputs": [],
   "source": [
    "# Atribuímos L1 em L2\n",
    "L1 = [33, 86, 97]\n",
    "L2 = L1\n",
    "\n",
    "# Modificamos o objeto atribuido a L1\n",
    "L1[1] = 55\n",
    "L2"
   ]
  },
  {
   "cell_type": "code",
   "execution_count": null,
   "metadata": {},
   "outputs": [],
   "source": [
    "# Atribuímos L1 em L2\n",
    "L1 = [33, 86, 97]\n",
    "L2 = L1\n",
    "\n",
    "# Atribuímos outro objeto a L1\n",
    "L1 = [11, 84, 29]\n",
    "L2"
   ]
  },
  {
   "cell_type": "code",
   "execution_count": null,
   "metadata": {},
   "outputs": [],
   "source": [
    "# As duas variavéis se referem a uma mesma lista \n",
    "L1 = [33, 86, 97]\n",
    "L2 = L1 # Shallow copy\n",
    "\n",
    "L1 == L2, L1 is L2"
   ]
  },
  {
   "cell_type": "code",
   "execution_count": null,
   "metadata": {},
   "outputs": [],
   "source": [
    "# As duas variáveis se referem a uma lista com os mesmos itens\n",
    "L1 = [33, 86, 97]\n",
    "L2 = [33, 86, 97]\n",
    "\n",
    "L1 == L2, L1 is L2"
   ]
  },
  {
   "cell_type": "markdown",
   "metadata": {},
   "source": [
    "#### Métodos em listas\n",
    "\n",
    "Listas implementam todas os [métodos comuns das sequências](#Métodos-comuns-das-sequências), juntamente com os métodos adicionais abaixo."
   ]
  },
  {
   "cell_type": "code",
   "execution_count": null,
   "metadata": {},
   "outputs": [],
   "source": [
    "L1 = [33, 86, 97]"
   ]
  },
  {
   "cell_type": "code",
   "execution_count": null,
   "metadata": {},
   "outputs": [],
   "source": [
    "# s.append(x) adiciona x no final da sequencia (igual a s[len(s):len(s)] = [x])\n",
    "L1.append(33)\n",
    "L1"
   ]
  },
  {
   "cell_type": "code",
   "execution_count": null,
   "metadata": {},
   "outputs": [],
   "source": [
    "# s.pop(i) retorna o item na posição i e retira o item de s\n",
    "L1.pop(3),L1"
   ]
  },
  {
   "cell_type": "code",
   "execution_count": null,
   "metadata": {},
   "outputs": [],
   "source": [
    "# s.insert(i,x) insere x em s na posição dada pelo índice i\n",
    "L1.insert(1,50)\n",
    "L1"
   ]
  },
  {
   "cell_type": "code",
   "execution_count": null,
   "metadata": {},
   "outputs": [],
   "source": [
    "# s.remove(x) remove o primeiro item de s onde s[i] é igual x\n",
    "L1.remove(97)\n",
    "L1"
   ]
  },
  {
   "cell_type": "code",
   "execution_count": null,
   "metadata": {},
   "outputs": [],
   "source": [
    "# s.extend(t) extende s com os conteudos de t\n",
    "L2 = [43, 22, 85]\n",
    "L1.extend([L2])\n",
    "L1"
   ]
  },
  {
   "cell_type": "code",
   "execution_count": null,
   "metadata": {},
   "outputs": [],
   "source": [
    "# Podemos ter uma lista dentro de outra lista\n",
    "L1[3][1]"
   ]
  },
  {
   "cell_type": "code",
   "execution_count": null,
   "metadata": {},
   "outputs": [],
   "source": [
    "# s.copy() cria uma deep copy de s (igual a s[:])\n",
    "L2 = L1.copy()\n",
    "L2"
   ]
  },
  {
   "cell_type": "code",
   "execution_count": null,
   "metadata": {},
   "outputs": [],
   "source": [
    "# s.clear() remove todos os itens de s (igual a  del s[:])\n",
    "L2.clear()\n",
    "L2"
   ]
  },
  {
   "cell_type": "code",
   "execution_count": null,
   "metadata": {},
   "outputs": [],
   "source": [
    "# s.reverse() inverte os itens de s de lugar\n",
    "L1.reverse()\n",
    "L1"
   ]
  },
  {
   "cell_type": "markdown",
   "metadata": {},
   "source": [
    "Veja que L1 não teve alteração nos valores como teve L2, porque realizamos uma cópia *Deep* "
   ]
  },
  {
   "cell_type": "markdown",
   "metadata": {},
   "source": [
    "#### Lista de Lista\n",
    "\n",
    "![listadelista](img/listadelista.png)"
   ]
  },
  {
   "cell_type": "code",
   "execution_count": null,
   "metadata": {},
   "outputs": [],
   "source": [
    "# Exemplo\n",
    "mercado = [[\"pera\",100,4.9],[\"manga\",20,3.9],[\"uva\",30,5.9],[\"caju\",15,3.5]]\n",
    "mercado[2][0]"
   ]
  },
  {
   "cell_type": "markdown",
   "metadata": {},
   "source": [
    "### Tuplas (tuples)\n",
    "\n",
    "Tuplas são sequências imutáveis, normalmente usadas para armazenar coleções de dados heterogêneos. As tuplas também são usadas nos casos em que é necessária uma sequência imutável de dados homogêneos."
   ]
  },
  {
   "cell_type": "markdown",
   "metadata": {},
   "source": [
    "As tuplas podem ser construídas de várias maneiras:\n",
    "\n",
    "- Usando um par de parênteses para indicar a tupla vazia: ()\n",
    "\n",
    "- Usando uma vírgula à direita para uma tupla de um item (singleton): a, ou (a,)\n",
    "\n",
    "- Separando itens por vírgulas: a, b, c ou (a, b, c)\n",
    "\n",
    "- Usando a tupla () incorporada: tupla () ou tupla (iterável)"
   ]
  },
  {
   "cell_type": "code",
   "execution_count": null,
   "metadata": {},
   "outputs": [],
   "source": [
    "x,y = 5,\"cinco\"\n",
    "x,y"
   ]
  },
  {
   "cell_type": "code",
   "execution_count": null,
   "metadata": {},
   "outputs": [],
   "source": [
    "(x,y) = (5,\"cinco\")\n",
    "(x,y)"
   ]
  },
  {
   "cell_type": "code",
   "execution_count": null,
   "metadata": {},
   "outputs": [],
   "source": [
    "t = (81, 88, 65, 37, 44, 70, 23, 66)\n",
    "t"
   ]
  },
  {
   "cell_type": "code",
   "execution_count": null,
   "metadata": {},
   "outputs": [],
   "source": [
    "# Indexar\n",
    "t[5]"
   ]
  },
  {
   "cell_type": "code",
   "execution_count": null,
   "metadata": {},
   "outputs": [],
   "source": [
    "# Fatiar\n",
    "t[2:7:1]"
   ]
  },
  {
   "cell_type": "code",
   "execution_count": null,
   "metadata": {},
   "outputs": [],
   "source": [
    "# len()\n",
    "len(t)"
   ]
  },
  {
   "cell_type": "markdown",
   "metadata": {},
   "source": [
    "#### Tuplas são imutáveis\n",
    "\n",
    "Por se tratar de uma sequência imutavel somente podemos realizar somente [operações comuns das sequência](#Operações-comuns-das-sequências)"
   ]
  },
  {
   "cell_type": "code",
   "execution_count": null,
   "metadata": {},
   "outputs": [],
   "source": [
    "t[3] = 15"
   ]
  },
  {
   "cell_type": "markdown",
   "metadata": {},
   "source": [
    "#### Tuplas em for"
   ]
  },
  {
   "cell_type": "code",
   "execution_count": null,
   "metadata": {},
   "outputs": [],
   "source": [
    "# exemplo 1\n",
    "for x,y in [(10, 1), (8, 7), (4, 7), (4, 0), (9, 3)]:\n",
    "    print(x,y)"
   ]
  },
  {
   "cell_type": "code",
   "execution_count": null,
   "metadata": {},
   "outputs": [],
   "source": [
    "# exemplo 2\n",
    "for x,y,z in [(10, 8, 5), (3, 0, 10), (10, 2, 5), (6, 5, 9), (9, 5, 6)]:\n",
    "    print(x,y,z)"
   ]
  },
  {
   "cell_type": "code",
   "execution_count": null,
   "metadata": {},
   "outputs": [],
   "source": [
    "# zip(iteravel,iteravel,...) Agrega itens em uma mesma posição formando seguências de tuplas\n",
    "for ponto in zip([1, 1, 2, 9, 0], [4, 7, 10, 7, 5]):\n",
    "    print(ponto)"
   ]
  },
  {
   "cell_type": "code",
   "execution_count": null,
   "metadata": {},
   "outputs": [],
   "source": [
    "# exemplo 4\n",
    "itens = [45, 81, 13, 20, 45, 98]\n",
    "for (i,item) in enumerate(itens):\n",
    "    print(i,item)"
   ]
  },
  {
   "cell_type": "markdown",
   "metadata": {},
   "source": [
    "### String como sequência\n",
    "\n",
    "Os dados textuais no Python são manipulados com objetos str, ou *strings*. Strings são sequências imutáveis de caracteres. Strings podem ser escritos de várias maneiras:\n",
    "\n",
    "- Aspas simples: 'permite aspas \"duplas\" incorporadas'\n",
    "\n",
    "- Aspas duplas: \"permite aspas 'simples' incorporadas\".\n",
    "\n",
    "- Triplo entre aspas: '''três aspas simples''', \"\"\"três aspas duplas\"\"\"\n",
    "\n",
    "Sequência de caracteres triplas entre aspas podem abranger várias linhas - todos os espaços em branco associados serão incluídos na literal da sequência. Normalmente usados quando queremos deixar varias linhas de código comentado"
   ]
  },
  {
   "cell_type": "code",
   "execution_count": null,
   "metadata": {},
   "outputs": [],
   "source": [
    "\"LISComp 'IFRJ'\""
   ]
  },
  {
   "cell_type": "code",
   "execution_count": null,
   "metadata": {},
   "outputs": [],
   "source": [
    "'LISComp \"IFRJ\"'"
   ]
  },
  {
   "cell_type": "code",
   "execution_count": null,
   "metadata": {},
   "outputs": [],
   "source": [
    "\"\"\"LISComp IFRJ\"\"\""
   ]
  },
  {
   "cell_type": "code",
   "execution_count": null,
   "metadata": {},
   "outputs": [],
   "source": [
    "'''LISComp IFRJ'''"
   ]
  },
  {
   "cell_type": "markdown",
   "metadata": {},
   "source": [
    "![string](img/string.png)"
   ]
  },
  {
   "cell_type": "code",
   "execution_count": null,
   "metadata": {},
   "outputs": [],
   "source": [
    "lab = \"LISComp\""
   ]
  },
  {
   "cell_type": "code",
   "execution_count": null,
   "metadata": {},
   "outputs": [],
   "source": [
    "# Indexar\n",
    "lab[3] "
   ]
  },
  {
   "cell_type": "code",
   "execution_count": null,
   "metadata": {},
   "outputs": [],
   "source": [
    "# Fatiar\n",
    "lab[1:6]"
   ]
  },
  {
   "cell_type": "code",
   "execution_count": null,
   "metadata": {},
   "outputs": [],
   "source": [
    "# Tamanho da string, espacos brancos contam tambem\n",
    "len(lab)"
   ]
  },
  {
   "cell_type": "markdown",
   "metadata": {},
   "source": [
    "#### Strings são imutaveis\n",
    "\n",
    "Por se tratar de uma sequência imutável somente podemos realizar somente [operações comuns das sequência](#Operações-comuns-das-sequências)"
   ]
  },
  {
   "cell_type": "code",
   "execution_count": null,
   "metadata": {},
   "outputs": [],
   "source": [
    "lab[3] = \"b\""
   ]
  },
  {
   "cell_type": "markdown",
   "metadata": {},
   "source": [
    "#### Strings em for"
   ]
  },
  {
   "cell_type": "code",
   "execution_count": null,
   "metadata": {},
   "outputs": [],
   "source": [
    "lab = \"LISComp\""
   ]
  },
  {
   "cell_type": "code",
   "execution_count": null,
   "metadata": {},
   "outputs": [],
   "source": [
    "for pos in range(len(lab)):\n",
    "    print(pos,lab[pos])"
   ]
  },
  {
   "cell_type": "code",
   "execution_count": null,
   "metadata": {},
   "outputs": [],
   "source": [
    "for pos,letra in enumerate(lab):\n",
    "    print(pos,letra)"
   ]
  },
  {
   "cell_type": "code",
   "execution_count": null,
   "metadata": {},
   "outputs": [],
   "source": [
    "# exemplo 3\n",
    "for letra in lab:\n",
    "    print(letra)"
   ]
  },
  {
   "cell_type": "markdown",
   "metadata": {},
   "source": [
    "#### Comparações em string\n",
    "\n",
    "As comparações em strings são feitas de acordo com a ordem alfabética do das palavras"
   ]
  },
  {
   "cell_type": "code",
   "execution_count": null,
   "metadata": {},
   "outputs": [],
   "source": [
    "\"Douglitas\" > \"Paulinho\""
   ]
  },
  {
   "cell_type": "markdown",
   "metadata": {},
   "source": [
    "A ordem alfabética em Python é: **abcdefghijklmnopqrstuvwxyzABCDEFGHIJKLMNOPQRSTUVWXYZ** "
   ]
  },
  {
   "cell_type": "markdown",
   "metadata": {},
   "source": [
    "#### Métodos de String\n",
    "\n",
    "Strings implementam todas os [métodos comuns das sequências](#Métodos-comuns-das-sequências), juntamente com os métodos adicionais abaixo."
   ]
  },
  {
   "cell_type": "markdown",
   "metadata": {},
   "source": [
    "|              |                | String Methods |              |                  |\n",
    "|:------------:|:--------------:|:--------------:|:------------:|:----------------:|\n",
    "| capitalize() |     index()    |  isprintable() |   replace()  |   startswith()   |\n",
    "|  casefold()  |    isalnum()   |    isspace()   |    rfind()   |      strip()     |\n",
    "|   center()   |    isalpha()   |    istitle()   |   rindex()   |    swapcase()    |\n",
    "|   encode()   |    isascii()   |    isupper()   |    rjust()   |      title()     |\n",
    "|  endswith()  |   isdecimal()  |     join()     | rpartition() | translate(table) |\n",
    "| expandtabs() |    isdigit()   |     ljust()    |   rsplit()   |      upper()     |\n",
    "|    find()    | isidentifier() |     lower()    |   rstrip()   |      zfill()     |\n",
    "|   format()   |    islower()   |    lstrip()    |    split()   |                  |\n",
    "| format_map() |   isnumeric()  |   partition()  | splitlines() |                  |"
   ]
  },
  {
   "cell_type": "code",
   "execution_count": null,
   "metadata": {},
   "outputs": [],
   "source": [
    "lab = \"Laboratorio de Instrumentacao e Simulacao Computacional\"\n",
    "lab"
   ]
  },
  {
   "cell_type": "code",
   "execution_count": null,
   "metadata": {},
   "outputs": [],
   "source": [
    "# string.upper() Converte todas as letras para maiúsculas\n",
    "lab.upper()"
   ]
  },
  {
   "cell_type": "code",
   "execution_count": null,
   "metadata": {},
   "outputs": [],
   "source": [
    "# string.lower() Converte todas as letras para minúsculas\n",
    "lab.lower()"
   ]
  },
  {
   "cell_type": "code",
   "execution_count": null,
   "metadata": {},
   "outputs": [],
   "source": [
    "# string.title() Converte as letras iniciais de cada palavra para maiúsculas\n",
    "lab.title()"
   ]
  },
  {
   "cell_type": "code",
   "execution_count": null,
   "metadata": {},
   "outputs": [],
   "source": [
    "# string.split(sep=None, maxsplit=-1) \n",
    "# Retorna uma lista de palavras de acordo com o sep e quantas vezes o maxsplit indicar\n",
    "print(lab.split())\n",
    "print(lab.split(\" \"))\n",
    "print(lab.split(sep = \" \", maxsplit = 2))"
   ]
  },
  {
   "cell_type": "code",
   "execution_count": null,
   "metadata": {},
   "outputs": [],
   "source": [
    "# string.split([chars])\n",
    "# Retornar uma copia do string com os caracteres iniciais e finais removidos\n",
    "comment_string = '#....... Section 3.2.1 Issue #32 .......'\n",
    "comment_string.strip('.#! ')"
   ]
  },
  {
   "cell_type": "code",
   "execution_count": null,
   "metadata": {},
   "outputs": [],
   "source": [
    "# string.format()\n",
    "# retorna uma nova sequencia com os campos de substituicao substituidos por seus argumentos formatados adequadamente.\n",
    "print(\"Primeiro, contara ate {0}\".format(5,7,10)) # Referencia ao primeiro argumento \n",
    "print(\"Traga-me um {}\".format(\"tomate\",\"batata\")) # Implicitamente se refere ao primeiro argumento \n",
    "print(\"De {} a {} qual e o nivel de dor?\".format(0,10)) # Igual a \"De {0} a {1}\"\n",
    "print(\"Eu busco o {name}\".format(name=\"Paulo\",idade=22)) # Argumento da palavra-chave de referencias 'name'References keyword argument 'name'\n",
    "print(\"Unidades destruídas: {players[0]}\".format(players = [5,8,10])) # Primeiro elemento do argumento da palavra-chave 'players'."
   ]
  },
  {
   "cell_type": "markdown",
   "metadata": {},
   "source": [
    "## Arquivos de texto\n",
    "\n",
    "Um arquivo texto é uma sequência de caracteres, organizada em linhas, que reside em uma área de armazenamento (e.g., disco rígido, pen drive, CD/DVD) sob nome. Nós só trabalharemos com arquivos textos do tipo \".txt\", bastante usado no armazenamento de dados. Outro tipo de arquivo texto muito utilizado é o \".csv\", aqueles que irão trabalhar com muitos dados frenquentemente usarão esse tipo de arquivo texto.\n",
    "\n",
    "Veremos algumas funções que nós permite trabalhar com esses arquivos texto \".txt\", sejá, ler, editar ou criar\n",
    "\n",
    "### Abrindo arquivo texto\n",
    "\n",
    "![arquivo](img/arquivo.png)\n",
    "\n",
    "dados = **open**(“teste.txt”, “r”) \n",
    "- **Caso o arquivo exista**: Abre o arquivo “teste.txt” no modo leitura. A leitura começará sobre o primeiro caractere da primeira linha do arquivo.\n",
    "- **Caso ele não exista**: causa erro **FileNotFoundError**.\n",
    "\n",
    "dados = **open**(“teste.txt”, “w”)\n",
    "- **Caso o arquivo exista**: Apaga o conteúdo atual do arquivo \"teste.txt\" e abre o arquivo no modo escrita. A escrita começará no início do arquivo.\n",
    "- **Caso ele não exista**: Cria o arquivo \"teste.txt\" no diretório e abre o arquivo no modo escrita. A escrita começará no início do arquivo.\n",
    "\n",
    "dados = **open**(“teste.txt”, “a”)\n",
    "- **Caso o arquivo exista**: Abre o arquivo \"teste.txt\" no modo anexo sem apagar o conteúdo atual. A escrita começará ao final do arquivo. Isto é: Podemos anexar novas informações ao arquivo.\n",
    "- **Caso ele não exista**: Cria o arquivo \"teste.txt\" no diretório e abre o arquivo no modo anexo. A escrita começará no final do arquivo que no caso é o início do arquivo.\n",
    "\n",
    "### Fechando arquivo texto\n",
    "\n",
    "dados.**close()**\n",
    "- Fecha o arquivo texto aberto e não permite qualquer outra ação no arquivo. Todo arquivo deve ser fechado assim que não sera mais usado nas proximas linhas de código. Arquivos abertos sem nenhuma utilidade ocupam a mémoria ram do computador."
   ]
  },
  {
   "cell_type": "code",
   "execution_count": null,
   "metadata": {},
   "outputs": [],
   "source": [
    "# Exemplo\n",
    "dados = open(\"teste.txt\",\"w\")\n",
    "\n",
    "\"...\"\n",
    "\n",
    "dados.close()"
   ]
  },
  {
   "cell_type": "markdown",
   "metadata": {},
   "source": [
    "### Lendo arquivo texto"
   ]
  },
  {
   "cell_type": "code",
   "execution_count": null,
   "metadata": {},
   "outputs": [],
   "source": [
    "# Abrir arquivo no modo leitura\n",
    "dados = open(\"data/exemplo.txt\",\"r\")"
   ]
  },
  {
   "cell_type": "markdown",
   "metadata": {},
   "source": [
    "![arquivor](img/arquivo_r.png)"
   ]
  },
  {
   "cell_type": "code",
   "execution_count": null,
   "metadata": {},
   "outputs": [],
   "source": [
    "# dados.readline() Retorna a linha de texto aonde a \"cabeça\" de leitura está \n",
    "linha = dados.readline()\n",
    "linha "
   ]
  },
  {
   "cell_type": "code",
   "execution_count": null,
   "metadata": {},
   "outputs": [],
   "source": [
    "# strip() com esse método podemos elimitar da linha o caracter especial \"\\n\"(ele é responsavél por pular linhas)\n",
    "linha.strip()"
   ]
  },
  {
   "cell_type": "markdown",
   "metadata": {},
   "source": [
    "![arquivor](img/arquivo_read.png)"
   ]
  },
  {
   "cell_type": "code",
   "execution_count": null,
   "metadata": {},
   "outputs": [],
   "source": [
    "# Podemos iterar nos dados\n",
    "for linha in dados:\n",
    "    print(linha)\n",
    "\n",
    "print(\"fim\")\n",
    "dados.close()"
   ]
  },
  {
   "cell_type": "code",
   "execution_count": null,
   "metadata": {},
   "outputs": [],
   "source": [
    "# Colocando o comando strip() veremos que não terá mais espaços entre as linhas\n",
    "dados = open(\"data/exemplo.txt\",\"r\")\n",
    "for linha in dados:\n",
    "    print(linha.strip())\n",
    "dados.close()"
   ]
  },
  {
   "cell_type": "markdown",
   "metadata": {},
   "source": [
    "### Escrevendo em arquivo texto\n",
    "\n",
    "#### Escrita modo anexo"
   ]
  },
  {
   "cell_type": "code",
   "execution_count": null,
   "metadata": {},
   "outputs": [],
   "source": [
    "# Abrir o arquivo no modo anexo\n",
    "dados = open(\"data/exemplo.txt\",\"a\")"
   ]
  },
  {
   "cell_type": "markdown",
   "metadata": {},
   "source": [
    "![arquivoa](img/arquivo_a.png)"
   ]
  },
  {
   "cell_type": "code",
   "execution_count": null,
   "metadata": {},
   "outputs": [],
   "source": [
    "# dados.write(\"texto\\n\") Escreve no arquivo na posição que a \"cabeça\" de escrita esta posicionada\n",
    "dados.write(\"sexta linha\\n\")\n",
    "dados.write(\"setima linha\\n\")\n",
    "dados.close()"
   ]
  },
  {
   "cell_type": "code",
   "execution_count": null,
   "metadata": {},
   "outputs": [],
   "source": [
    "# Ler o conteúdo do arquivo\n",
    "dados = open(\"data/exemplo.txt\",\"r\")\n",
    "for linha in dados:\n",
    "    print(linha.strip())\n",
    "dados.close()"
   ]
  },
  {
   "cell_type": "markdown",
   "metadata": {},
   "source": [
    "#### Escrita em modo escrita"
   ]
  },
  {
   "cell_type": "code",
   "execution_count": null,
   "metadata": {},
   "outputs": [],
   "source": [
    "# Abrir o arquivo no modo escrita\n",
    "dados = open(\"data/exemplo.txt\",\"w\")"
   ]
  },
  {
   "cell_type": "markdown",
   "metadata": {},
   "source": [
    "![arquivow](img/arquivo_w.png)"
   ]
  },
  {
   "cell_type": "code",
   "execution_count": null,
   "metadata": {},
   "outputs": [],
   "source": [
    "# Ler o conteúdo do arquivo\n",
    "dados = open(\"data/exemplo.txt\",\"r\")\n",
    "if dados.readline() == \"\":\n",
    "    print(\"Arquivo sem contéudo\")\n",
    "dados.close()"
   ]
  },
  {
   "cell_type": "code",
   "execution_count": null,
   "metadata": {},
   "outputs": [],
   "source": [
    "# Reescrever o conteúdo original do arquivo\n",
    "dados = open(\"data/exemplo.txt\",\"w\")\n",
    "dados.write(\"primeira linha\\nsegunda linha\\nterceira linha\\nquarta linha\\nquinta linha\")\n",
    "dados.close()"
   ]
  },
  {
   "cell_type": "code",
   "execution_count": null,
   "metadata": {},
   "outputs": [],
   "source": [
    "# Ler o conteúdo do arquivo\n",
    "dados = open(\"data/exemplo.txt\",\"r\")\n",
    "for linha in dados:\n",
    "    print(linha.strip())\n",
    "dados.close()"
   ]
  },
  {
   "cell_type": "markdown",
   "metadata": {},
   "source": [
    "## Conjunto\n",
    "\n",
    "Um conjunto (**set**) é uma coleção não ordenada de objetos distintos imutável(áveis), tais como números inteiros e de ponto flutuante, Strings e Tuplas. Os usos comuns incluem: teste de associação, remoção de duplicatas de uma sequência e computação de operações matemáticas como interseção, união, diferença e diferença simétrica.\n",
    "\n",
    "Como outras coleções, os conjuntos suportam `x in set`, `len (set)` e `for x in set`. Sendo uma coleção não ordenada, os conjuntos não registram a posição do elemento ou a ordem de inserção. Consequentemente, os conjuntos não suportam indexação, fatiamento ou outro comportamento semelhante a sequência.\n",
    "\n",
    "Atualmente, existem dois tipos de conjuntos *build-in*, **set** e **frozenset**. O tipo de conjunto *set* é mutável - o conteúdo pode ser alterado usando métodos como add() e remove(). O tipo *frozenset* é imutável - seu conteúdo não pode ser alterado após a criação."
   ]
  },
  {
   "cell_type": "markdown",
   "metadata": {},
   "source": [
    "### Iniciar um set"
   ]
  },
  {
   "cell_type": "code",
   "execution_count": null,
   "metadata": {},
   "outputs": [],
   "source": [
    "# Iniciar com chaves {}\n",
    "conjunto1 = {1, 8, 8, 5, 2, 4, 3, 3, 6, 8}\n",
    "conjunto1"
   ]
  },
  {
   "cell_type": "code",
   "execution_count": null,
   "metadata": {},
   "outputs": [],
   "source": [
    "# Iniciar com set()\n",
    "lista = [2, 9, 9, 7, 1, 5, 4, 9, 5, 5]\n",
    "conjunto2 = set(lista)\n",
    "conjunto2"
   ]
  },
  {
   "cell_type": "markdown",
   "metadata": {},
   "source": [
    "### Operações em um conjunto set"
   ]
  },
  {
   "cell_type": "code",
   "execution_count": null,
   "metadata": {},
   "outputs": [],
   "source": [
    "# x in s testa se um elemento x pertence a s\n",
    "9 in conjunto1"
   ]
  },
  {
   "cell_type": "code",
   "execution_count": null,
   "metadata": {},
   "outputs": [],
   "source": [
    "# x in s testa se um elemento x não pertence a s\n",
    "9 not in conjunto2"
   ]
  },
  {
   "cell_type": "code",
   "execution_count": null,
   "metadata": {},
   "outputs": [],
   "source": [
    "conjunto1 = {1,2,3,4,5,6,7,8,9}\n",
    "conjunto2 = {4,5,6,7}"
   ]
  },
  {
   "cell_type": "code",
   "execution_count": null,
   "metadata": {},
   "outputs": [],
   "source": [
    "# set <= other Testa se todos os elementos do set estão em outro.\n",
    "conjunto2 <= conjunto1"
   ]
  },
  {
   "cell_type": "code",
   "execution_count": null,
   "metadata": {},
   "outputs": [],
   "source": [
    "# set <other Testa se o set é um subconjunto de outro, ou seja, set <= other e set! = other.\n",
    "conjunto2 < conjunto1"
   ]
  },
  {
   "cell_type": "code",
   "execution_count": null,
   "metadata": {},
   "outputs": [],
   "source": [
    "# set >= other set> = other Testa se todos os elementos no outro estão no conjunto.\n",
    "conjunto1 >= conjunto2"
   ]
  },
  {
   "cell_type": "code",
   "execution_count": null,
   "metadata": {},
   "outputs": [],
   "source": [
    "# set > other Testa se o conjunto é um superconjunto de other, ou seja, set >= other e set != other.\n",
    "conjunto1 > conjunto2"
   ]
  },
  {
   "cell_type": "code",
   "execution_count": null,
   "metadata": {},
   "outputs": [],
   "source": [
    "conjunto1 = {1,2,3,4,5,6}\n",
    "conjunto2 = {5,6,7,8,9,10}"
   ]
  },
  {
   "cell_type": "code",
   "execution_count": null,
   "metadata": {},
   "outputs": [],
   "source": [
    "# set | other | ... Retorne um novo conjunto com elementos do set e do other.\n",
    "conjunto1 | conjunto2"
   ]
  },
  {
   "cell_type": "code",
   "execution_count": null,
   "metadata": {},
   "outputs": [],
   "source": [
    "# set & other & ... Retorna um novo conjunto com elementos comuns ao set e do other.\n",
    "conjunto1 & conjunto2"
   ]
  },
  {
   "cell_type": "code",
   "execution_count": null,
   "metadata": {},
   "outputs": [],
   "source": [
    "# set - other - ... Retorna um novo conjunto com elementos no set e que não estão no other.\n",
    "conjunto1 - conjunto2"
   ]
  },
  {
   "cell_type": "code",
   "execution_count": null,
   "metadata": {},
   "outputs": [],
   "source": [
    "# set ^ other Retorna um novo conjunto com elementos no set ou em other, mas não em ambos\n",
    "conjunto1 ^ conjunto2"
   ]
  },
  {
   "cell_type": "code",
   "execution_count": null,
   "metadata": {},
   "outputs": [],
   "source": [
    "# set |= other | ... Atualiza o set, adicionando elementos de todos do other.\n",
    "conjunto = set()\n",
    "conjunto |= conjunto1\n",
    "conjunto"
   ]
  },
  {
   "cell_type": "code",
   "execution_count": null,
   "metadata": {},
   "outputs": [],
   "source": [
    "# set &= other & ... Atualiza o set, mantendo apenas os elementos encontrados nele e em other.\n",
    "conjunto &= conjunto2\n",
    "conjunto"
   ]
  },
  {
   "cell_type": "code",
   "execution_count": null,
   "metadata": {},
   "outputs": [],
   "source": [
    "#set -= other | ... Atualiza o set, removendo elementos encontrados em other.\n",
    "conjunto = conjunto1\n",
    "conjunto -= conjunto2\n",
    "conjunto"
   ]
  },
  {
   "cell_type": "code",
   "execution_count": null,
   "metadata": {},
   "outputs": [],
   "source": [
    "# set ^= other Atualiza o set, mantendo apenas os elementos encontrados em cada conjunto, mas não em ambos.\n",
    "conjunto = conjunto1\n",
    "conjunto ^= conjunto2\n",
    "conjunto"
   ]
  },
  {
   "cell_type": "markdown",
   "metadata": {},
   "source": [
    "### Métodos em um conjunto set"
   ]
  },
  {
   "cell_type": "code",
   "execution_count": null,
   "metadata": {},
   "outputs": [],
   "source": [
    "conjunto1 = {1,2,3,4,5,6,7,8,9}\n",
    "conjunto2 = {4,5,6,7}"
   ]
  },
  {
   "cell_type": "code",
   "execution_count": null,
   "metadata": {},
   "outputs": [],
   "source": [
    "# set.isdisjoint(other) Testa se o set não tiver elementos em comum com other. Os conjuntos são disjuntos se e somente se a interseção for o conjunto vazio.\n",
    "conjunto1.isdisjoint(conjunto2)"
   ]
  },
  {
   "cell_type": "code",
   "execution_count": null,
   "metadata": {},
   "outputs": [],
   "source": [
    "# set.issubset(other) Testa se o conjunto é um subconjunto de other, ou seja, set >= other e set != other.\n",
    "conjunto2.issubset(conjunto1)"
   ]
  },
  {
   "cell_type": "code",
   "execution_count": null,
   "metadata": {},
   "outputs": [],
   "source": [
    "# set.issuperset(other) Testa se o conjunto é um superconjunto de other, ou seja, set >= other e set != other.\n",
    "conjunto1.issuperset(conjunto2)"
   ]
  },
  {
   "cell_type": "code",
   "execution_count": null,
   "metadata": {},
   "outputs": [],
   "source": [
    "conjunto1 = {1,2,3,4,5,6}\n",
    "conjunto2 = {5,6,7,8,9,10}"
   ]
  },
  {
   "cell_type": "code",
   "execution_count": null,
   "metadata": {},
   "outputs": [],
   "source": [
    "# set.union(*others) Retorne um novo conjunto com elementos do set e do other.\n",
    "conjunto1.union(conjunto2)"
   ]
  },
  {
   "cell_type": "code",
   "execution_count": null,
   "metadata": {},
   "outputs": [],
   "source": [
    "# set.intersection(*others) Retorna um novo conjunto com elementos comuns ao set e do other.\n",
    "conjunto1.intersection(conjunto2)"
   ]
  },
  {
   "cell_type": "code",
   "execution_count": null,
   "metadata": {},
   "outputs": [],
   "source": [
    "# set.difference(*others) Retorna um novo conjunto com elementos no set e que não estão no other.\n",
    "conjunto1.difference(conjunto2)"
   ]
  },
  {
   "cell_type": "code",
   "execution_count": null,
   "metadata": {},
   "outputs": [],
   "source": [
    "# set.symmetric_difference(other) Retorna um novo conjunto com elementos no set ou em other, mas não em ambos\n",
    "conjunto1.symmetric_difference(conjunto2)"
   ]
  },
  {
   "cell_type": "code",
   "execution_count": null,
   "metadata": {},
   "outputs": [],
   "source": [
    "# set.update(*others) Atualiza o set, adicionando elementos de todos do other.\n",
    "conjunto = set()\n",
    "conjunto |= conjunto1\n",
    "conjunto"
   ]
  },
  {
   "cell_type": "code",
   "execution_count": null,
   "metadata": {},
   "outputs": [],
   "source": [
    "# set.intersection_update(*others)  Atualiza o set, mantendo apenas os elementos encontrados nele e em other.\n",
    "conjunto.intersection_update(conjunto2)\n",
    "conjunto"
   ]
  },
  {
   "cell_type": "code",
   "execution_count": null,
   "metadata": {},
   "outputs": [],
   "source": [
    "# set.difference_update(*others) Atualiza o set, removendo elementos encontrados em other.\n",
    "conjunto = conjunto1\n",
    "conjunto.difference_update(conjunto2)\n",
    "conjunto"
   ]
  },
  {
   "cell_type": "code",
   "execution_count": null,
   "metadata": {},
   "outputs": [],
   "source": [
    "# set.symmetric_difference_update(other) Atualiza o set, mantendo apenas os elementos encontrados em cada conjunto, mas não em ambos.\n",
    "conjunto = conjunto1\n",
    "conjunto.symmetric_difference_update(conjunto2)\n",
    "conjunto"
   ]
  },
  {
   "cell_type": "code",
   "execution_count": null,
   "metadata": {},
   "outputs": [],
   "source": [
    "conjunto = set()\n",
    "conjunto"
   ]
  },
  {
   "cell_type": "code",
   "execution_count": null,
   "metadata": {},
   "outputs": [],
   "source": [
    "# set.add(elem) Adicionar um novo elemento elem ao set\n",
    "conjunto.add(3)\n",
    "conjunto.add(5)\n",
    "conjunto.add(9)\n",
    "conjunto.add(7)\n",
    "conjunto"
   ]
  },
  {
   "cell_type": "code",
   "execution_count": null,
   "metadata": {},
   "outputs": [],
   "source": [
    "# set.remove(elem) Remove o elemento elem do set\n",
    "conjunto.remove(5)\n",
    "conjunto"
   ]
  },
  {
   "cell_type": "code",
   "execution_count": null,
   "metadata": {},
   "outputs": [],
   "source": [
    "# set.discard(elem) Remove o elemento elem do set se presente\n",
    "conjunto.discard(5)\n",
    "conjunto"
   ]
  },
  {
   "cell_type": "code",
   "execution_count": null,
   "metadata": {},
   "outputs": [],
   "source": [
    "# set.pop() Remove e retorrna um elemento arbitrario do set\n",
    "conjunto.pop()"
   ]
  },
  {
   "cell_type": "code",
   "execution_count": null,
   "metadata": {},
   "outputs": [],
   "source": [
    "# set.clear() Remove todos os elementos do set\n",
    "conjunto.clear()\n",
    "conjunto"
   ]
  },
  {
   "cell_type": "markdown",
   "metadata": {},
   "source": [
    "## Dicionário\n",
    "\n",
    "O tipo de dado dicionário (**dict**), é uma estrutura de dados eficiente e mutável, acessada por uma chave, não repetida, que pode ser de qualquer tipo imutável, tal como número, String ou Tupla. O uso básico deste tipo de dado ocorre quando se faz necessária a obtenção de uma estrutura eficiente para armazenamento de pares chave:valor. Para se recuperar um valor, basta informar sua chave.\n",
    "\n",
    "Dicionários tem pares, compostos de chave:valor, iteráveis sobre a chave, podendo seus elementos serem acessados por uma estrutura **for**.\n",
    "\n"
   ]
  },
  {
   "cell_type": "markdown",
   "metadata": {},
   "source": [
    "### Iniciando um dicionário"
   ]
  },
  {
   "cell_type": "code",
   "execution_count": null,
   "metadata": {},
   "outputs": [],
   "source": [
    "a = dict(um=1, dois=2, tres=3)\n",
    "b = {'um': 1, 'dois': 2, 'tres': 3}\n",
    "c = dict([('dois', 2), ('um', 1), ('tres', 3)])\n",
    "d = dict({'tres': 3, 'um': 1, 'dois': 2})\n",
    "a == b == c == d"
   ]
  },
  {
   "cell_type": "markdown",
   "metadata": {},
   "source": [
    "### Operações em dicionário"
   ]
  },
  {
   "cell_type": "code",
   "execution_count": null,
   "metadata": {},
   "outputs": [],
   "source": [
    "# d[key] = value Adiciona um novo item ao dicionário\n",
    "d[\"quatro\"] = 4\n",
    "d"
   ]
  },
  {
   "cell_type": "code",
   "execution_count": null,
   "metadata": {},
   "outputs": [],
   "source": [
    "# del d[key] Deleta o item de d\n",
    "del d[\"um\"]\n",
    "d"
   ]
  },
  {
   "cell_type": "code",
   "execution_count": null,
   "metadata": {},
   "outputs": [],
   "source": [
    "# key in d testa se há a chave key em d\n",
    "\"quatro\" in d"
   ]
  },
  {
   "cell_type": "code",
   "execution_count": null,
   "metadata": {},
   "outputs": [],
   "source": [
    "# key in d testa se não há a chave key em d\n",
    "\"um\" not in d"
   ]
  },
  {
   "cell_type": "markdown",
   "metadata": {},
   "source": [
    "### Métodos em dicionário"
   ]
  },
  {
   "cell_type": "code",
   "execution_count": null,
   "metadata": {},
   "outputs": [],
   "source": [
    "d = dict(nome=\"Paulo\",idade=22,sexo=\"Masculino\",nacionalidade=\"Brasileiro\")\n",
    "d"
   ]
  },
  {
   "cell_type": "code",
   "execution_count": null,
   "metadata": {},
   "outputs": [],
   "source": [
    "# d.copy() retorna uma cópia deep do dicionário\n",
    "new = d.copy()\n",
    "new"
   ]
  },
  {
   "cell_type": "code",
   "execution_count": null,
   "metadata": {},
   "outputs": [],
   "source": [
    "# d.clear() Remove todos os itens do dicionário\n",
    "new.clear()\n",
    "new"
   ]
  },
  {
   "cell_type": "code",
   "execution_count": null,
   "metadata": {},
   "outputs": [],
   "source": [
    "# d.get(key[, default]) Retorna o valor para a chave key se existe key no dicionario, também podemos adicionar \n",
    "# um comentário caso não tenha key\n",
    "d.get(\"nome\"),d.get(\"estado civil\",\"Vazio\")"
   ]
  },
  {
   "cell_type": "code",
   "execution_count": null,
   "metadata": {},
   "outputs": [],
   "source": [
    "# d.items() Retornar uma nova exibição dos itens do dicionário ((key, value) pares)\n",
    "d.items() # é um objeto iterável"
   ]
  },
  {
   "cell_type": "code",
   "execution_count": null,
   "metadata": {},
   "outputs": [],
   "source": [
    "# d.keys() Retorna uma nova exibição das chaves do dicionário\n",
    "d.keys() # é um objeto iterável"
   ]
  },
  {
   "cell_type": "code",
   "execution_count": null,
   "metadata": {},
   "outputs": [],
   "source": [
    "# d.pop(key[, default]) Remove e retorna o valor para a chave key se existe key no dicionario, também podemos adicionar \n",
    "# um comentário caso não tenha key\n",
    "d.pop(\"nome\"),d.pop(\"estado civil\",\"Vazio\")"
   ]
  },
  {
   "cell_type": "code",
   "execution_count": null,
   "metadata": {},
   "outputs": [],
   "source": [
    "# d.popitem() Remove e retorna um par (key, value) do dicionário.\n",
    "d.popitem()"
   ]
  },
  {
   "cell_type": "code",
   "execution_count": null,
   "metadata": {},
   "outputs": [],
   "source": [
    "# d.update({others}) Atualiza o dicionário com os pares key/values de others, substituindo chaves existentes.\n",
    "meus_contatos = {'Yan': '1234-5678','Ana': '8765-4321', 'João': '8887-7778'}\n",
    "contatos_do_pedro = {'Yan': '5678-5678', 'Fernando': '4345-5434','Luiza': '4567-7654'}\n",
    "\n",
    "meus_contatos.update(contatos_do_pedro)\n",
    "print(meus_contatos)"
   ]
  },
  {
   "cell_type": "code",
   "execution_count": null,
   "metadata": {},
   "outputs": [],
   "source": [
    "# d.values() Retornar uma nova visualização dos valores do dicionário\n",
    "d.values() # é um objeto iterável"
   ]
  },
  {
   "cell_type": "code",
   "execution_count": null,
   "metadata": {},
   "outputs": [],
   "source": []
  }
 ],
 "metadata": {
  "kernelspec": {
   "display_name": "Python 3",
   "language": "python",
   "name": "python3"
  },
  "language_info": {
   "codemirror_mode": {
    "name": "ipython",
    "version": 3
   },
   "file_extension": ".py",
   "mimetype": "text/x-python",
   "name": "python",
   "nbconvert_exporter": "python",
   "pygments_lexer": "ipython3",
   "version": "3.7.7"
  },
  "toc": {
   "base_numbering": 1,
   "nav_menu": {},
   "number_sections": true,
   "sideBar": true,
   "skip_h1_title": false,
   "title_cell": "Sumário",
   "title_sidebar": "Contents",
   "toc_cell": true,
   "toc_position": {},
   "toc_section_display": true,
   "toc_window_display": false
  },
  "varInspector": {
   "cols": {
    "lenName": 16,
    "lenType": 16,
    "lenVar": 40
   },
   "kernels_config": {
    "python": {
     "delete_cmd_postfix": "",
     "delete_cmd_prefix": "del ",
     "library": "var_list.py",
     "varRefreshCmd": "print(var_dic_list())"
    },
    "r": {
     "delete_cmd_postfix": ") ",
     "delete_cmd_prefix": "rm(",
     "library": "var_list.r",
     "varRefreshCmd": "cat(var_dic_list()) "
    }
   },
   "position": {
    "height": "518px",
    "left": "518px",
    "right": "20px",
    "top": "120px",
    "width": "420px"
   },
   "types_to_exclude": [
    "module",
    "function",
    "builtin_function_or_method",
    "instance",
    "_Feature"
   ],
   "window_display": false
  }
 },
 "nbformat": 4,
 "nbformat_minor": 4
}
