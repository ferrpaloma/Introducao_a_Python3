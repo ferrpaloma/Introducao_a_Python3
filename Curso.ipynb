{
 "cells": [
  {
   "cell_type": "markdown",
   "metadata": {},
   "source": [
    "- [Introdução](#Introdução)\n",
    "    - [Programa](#Programa)\n",
    "    - [Programação Estruturada](#Programação-Estruturada)\n",
    "    - [Ciclo de Vida de um Software](#Ciclo-de-Vida-de-um-Software)\n",
    "    - [Características da linguagem Python 3.x](#Características-da-linguagem-Python-3.x)\n",
    "    - [Objetos](#Objetos)\n",
    "    - [A hierarquia conceitual do Python](#A-hierarquia-conceitual-do-Python)\n",
    "- [Alguns Tipos](#Alguns-Tipos)\n",
    "    - [Números](#Números)\n",
    "        - [Inteiros (int)](#Inteiros-(int))\n",
    "        - [Real (float)](#Real-(float))\n",
    "        - [Complexo (complex)](#Complexo-(complex))\n",
    "        - [Operadores unários números](#Operadores-unários-números)\n",
    "        - [Operadores matemáticos números](#Operadores-matemáticos-números)\n",
    "    - [String](#String)\n",
    "        - [Operadores matemáticos em string](#Operadores-matemáticos-em-string)\n",
    "- [Operadores booleanos](#Operadores-booleanos)\n",
    "- [Operadores de comparação](#Operadores-de-comparação)\n",
    "- [Prioridade dos operadores](#Prioridade-dos-operadores)\n",
    "- [Manipulação de variáveis](#Manipulação-de-variáveis)\n",
    "    - [Atribuição](#Atribuição)\n",
    "    - [Nomes das variáveis](#Nomes-das-variáveis)\n",
    "    - [Tipagem dinâmica](#Tipagem-dinâmica)\n",
    "    - [Operadores de atribuição](#Operadores-de-atribuição)\n",
    "- [Funções básicas](#Funções-básicas)\n",
    "    - [Função de saída padrão](#Função-de-saída-padrão)\n",
    "    - [Função de entrada padrão](#Função-de-entrada-padrão)\n",
    "    - [Funções de ajuda](#Funções-de-ajuda)\n",
    "    - [Fuções padrões](#Fuções-padrões)\n",
    "- [Bloco de comandos](#Bloco-de-comandos)\n",
    "- [Estruturas](#Estruturas)\n",
    "    - [Estrutura condicional (if-else-elif)](#Estrutura-condicional-(if-else-elif))\n",
    "        - [Execução Condicional (if)](#Execução-Condicional-(if))\n",
    "        - [Execução Alternativa (if-else)](#Execução-Alternativa-(if-else))\n",
    "        - [Condicionais encadeados (if-elif-else)](#Condicionais-encadeados-(if-elif-else))\n",
    "        - [Condicionais aninhados](#Condicionais-aninhados)\n",
    "    - [Estrutura de looping](#Estrutura-de-looping)\n",
    "        - [While Loop](#While-Loop)\n",
    "        - [While-pass](#While-pass)\n",
    "        - [While-continue](#While-continue)\n",
    "        - [While-break](#While-break)\n",
    "        - [While-else](#While-else)\n",
    "        - [For Loop](#For-Loop)\n",
    "            - [Range](#Range)\n",
    "            - [For](#For)\n",
    "- [Função](#Função)\n",
    "    - [Escopo](#Escopo)\n",
    "    - [Passagem de argumentos](#Passagem-de-argumentos)\n",
    "    - [Pilha de ativação](#Pilha-de-ativação)\n",
    "    - [Recursão](#Recursão)\n",
    "- [Sequencia de objetos](#Sequencia-de-objetos)\n",
    "    - [Sequencia](#Sequencia)\n",
    "        - [Índice (Index)](#Índice-(Index))\n",
    "        - [Fatiar (Slice)](#Fatiar-(Slice))\n",
    "        - [Operações comuns das sequências](#Operações-comuns-das-sequências)\n",
    "        - [Funções comuns das sequências](#Funções-comuns-das-sequências)\n",
    "        - [Métodos comuns das sequências](#Métodos-comuns-das-sequências)\n",
    "    - [Lista](#Lista)\n",
    "        - [Listas em for](#Listas-em-for)\n",
    "        - [Operações em listas](#Operações-em-listas)\n",
    "        - [Tipagem dinâmica em lista](#Tipagem-dinâmica-em-lista)\n",
    "        - [Métodos em listas](#Métodos-em-listas)\n",
    "        - [Lista de Lista](#Lista-de-Lista)\n",
    "        - [Compreensão de listas](#Compreensão-de-listas)\n",
    "    - [Tuplas (tuples)](#Tuplas-(tuples))\n",
    "        - [Tuplas são imutáveis](#Tuplas-são-imutáveis)\n",
    "        - [Tuplas em for](#Tuplas-em-for)\n",
    "    - [String](#String)\n",
    "        - [Strings são imutáveis](#Strings-são-imutáveis)\n",
    "        - [Strings em for](#Strings-em-for)\n",
    "        - [Comparações em string](#Comparações-em-string)\n",
    "        - [Métodos de String](#Métodos-de-String)\n",
    "- [Arquivos de texto](#Arquivos-de-texto)\n",
    "    - [Abrindo arquivo texto](#Abrindo-arquivo-texto)\n",
    "    - [Fechando arquivo texto](#Fechando-arquivo-texto)\n",
    "    - [Lendo arquivo texto](#Lendo-arquivo-texto)\n",
    "    - [Escrevendo em arquivo texto](#Escrevendo-em-arquivo-texto)\n",
    "        - [Escrita modo anexo](#Escrita-modo-anexo)\n",
    "        - [Escrita em modo escrita](#Escrita-em-modo-escrita)\n",
    "- [Conjunto](#Conjunto)\n",
    "    - [Iniciar um set](#Iniciar-um-set)\n",
    "    - [Operações em um conjunto set](#Operações-em-um-conjunto-set)\n",
    "    - [Métodos em um conjunto set](#Métodos-em-um-conjunto-set)\n",
    "- [Dicionário](#Dicionário)\n",
    "    - [Iniciando um dicionário](#Iniciando-um-dicionário)\n",
    "    - [Operações em dicionário](#Operações-em-dicionário)\n",
    "    - [Métodos em dicionário](#Métodos-em-dicionário)\n"
   ]
  },
  {
   "cell_type": "markdown",
   "metadata": {},
   "source": [
    "## Introdução"
   ]
  },
  {
   "cell_type": "markdown",
   "metadata": {},
   "source": [
    "Em seu primera experiência com Python, faça a seguinte questão: \n",
    "1. Crie uma célula e imprima a seguinte frase: **Hello, World!**"
   ]
  },
  {
   "cell_type": "code",
   "execution_count": null,
   "metadata": {},
   "outputs": [],
   "source": [
    "\"Sejam todos bem vindos ao curso: Fundamentos de Linguaguem de Programação em Python\""
   ]
  },
  {
   "cell_type": "markdown",
   "metadata": {},
   "source": [
    "### Programa\n",
    "\n",
    "![Programa](img/Programa.png)\n",
    "\n",
    "- ***Algoritmo***: é a descrição de um padrão de comportamento, especificado em termos de um conjunto bem definido e finito de ações primitivas que podem ser executadas.\n",
    "\n",
    "\n",
    "- ***Estrutura***: de dados é um modo particular de armazenamento e organização de dados em um computador de modo que possam ser usados eficientemente.\n",
    "\n",
    "> Guimarães, Lages. Algortimos  e Estruturas de Dados, LTC, 1994 "
   ]
  },
  {
   "cell_type": "markdown",
   "metadata": {},
   "source": [
    "### Programação Estruturada\n",
    "\n",
    "- Metodologia de projeto de programas que visa:\n",
    "    1. Facilitar o desenvolvimento dos programas \n",
    "    2. Facilitar a leitura (entendimento) dos programas\n",
    "    3. Permitir a validação a priori dos programas\n",
    "    4. Facilitar a manutenção e modificação dos programas\n",
    "\n",
    "> Guimarães, Lages. Algortimos  e Estruturas de Dados, LTC, 1994"
   ]
  },
  {
   "cell_type": "markdown",
   "metadata": {},
   "source": [
    "### Ciclo de Vida de um Software\n",
    "\n",
    "![Software](img/Software.png)\n",
    "\n",
    "**1. Especificar os requisitos do problema**\n",
    "    - Preparar uma especificação completa e não ambígua.\n",
    "    \n",
    "    \n",
    "**2. Analisar o problema**\n",
    "    - Entender o problema.\n",
    "    - Avaliar soluções alternativas.\n",
    "    - Escolher soluções mais adequadas.\n",
    "    \n",
    "    \n",
    "**3. Projetar o programa para solucionar o problema**\n",
    "    - Fazer o projeto de cima para baixo (top-down) do sistema.\n",
    "    - Para cada módulo, identificar as principais estruturas de dados e subprogramas associados.\n",
    "    - Desenvolver algoritmos e estruturas de dados dos subprogramas.\n",
    "    \n",
    "    \n",
    "**4. Implementar o projeto**\n",
    "    - Codificar a solução.\n",
    "    - Corrigir erros de codificação.\n",
    "    \n",
    "    \n",
    "**5. Testar e validar o programa**\n",
    "    - Testar o código e validá-lo, se correto.\n",
    "    \n",
    "    \n",
    "**6. Manter e atulalizar o programa**\n",
    "    - Executar o sistema;\n",
    "    - Avaliar seu desempenho;\n",
    "    - Remover novos erros identificados, assim que detectados;\n",
    "    - Realizar modificações de forma a manter o sistema atualizado;\n",
    "    - Validar as modificações.\n",
    "\n",
    "> Koffman, Elliot B. Turbo Pascal 7.0, Addison-Wesley, 1994"
   ]
  },
  {
   "cell_type": "markdown",
   "metadata": {},
   "source": [
    "### Características da linguagem Python 3.x\n",
    "\n",
    "- Linguagem de programação de alto nível\n",
    "- Multiparadigma (procedural, funcional e orientado a objetos )\n",
    "- Multiplataforma (Windows, Linux, iOS, etc.)\n",
    "- Interpretada (padrão ou interativo)\n",
    "- Tipagem dinâmica\n",
    "- Gerência de memória automatizada(coletor de lixo)"
   ]
  },
  {
   "cell_type": "markdown",
   "metadata": {},
   "source": [
    "### Objetos\n",
    "\n",
    "Todos dados em um programa Python são representados por objetos e pelas relações entre objetos. Cada objeto no Python possui três características:\n",
    "- **Tipo (classe)**: números, string, lista,etc.\n",
    "- **Valor**: Valores podem ser números, palavras, etc.\n",
    "- **Identidade**: Parte da memória do computador que o objeto ocupa\n",
    "\n",
    "![hierarquia](img/Hierarquia_objetos_python.png)"
   ]
  },
  {
   "cell_type": "markdown",
   "metadata": {},
   "source": [
    "### A hierarquia conceitual do Python\n",
    "\n",
    "De uma perspectiva mais concreta, os programas Python podem ser decompostos em módulos, instruções, expressões e objetos, da seguinte maneira:\n",
    "1. Os programas são compostos de módulos.\n",
    "2. Módulos contêm estruturas.\n",
    "3. Estruturas contêm expressões.\n",
    "4. Expressões criam e processam objetos."
   ]
  },
  {
   "cell_type": "markdown",
   "metadata": {},
   "source": [
    "## Alguns Tipos\n",
    "\n",
    "### Números\n",
    "\n",
    "#### Inteiros (int)"
   ]
  },
  {
   "cell_type": "code",
   "execution_count": null,
   "metadata": {},
   "outputs": [],
   "source": [
    "type(5)"
   ]
  },
  {
   "cell_type": "markdown",
   "metadata": {},
   "source": [
    "Transforma um string, booleano ou ponto-flutuante para inteiro: **int()**"
   ]
  },
  {
   "cell_type": "markdown",
   "metadata": {},
   "source": [
    "#### Real (float)"
   ]
  },
  {
   "cell_type": "code",
   "execution_count": null,
   "metadata": {},
   "outputs": [],
   "source": [
    "type(7.9)"
   ]
  },
  {
   "cell_type": "markdown",
   "metadata": {},
   "source": [
    "Transforma um string, booleano ou inteiro para ponto-flutuante: **float()**"
   ]
  },
  {
   "cell_type": "markdown",
   "metadata": {},
   "source": [
    "#### Complexo (complex)"
   ]
  },
  {
   "cell_type": "code",
   "execution_count": null,
   "metadata": {},
   "outputs": [],
   "source": [
    "type(5+3j)"
   ]
  },
  {
   "cell_type": "markdown",
   "metadata": {},
   "source": [
    "Transforma um inteiro ou ponto-flutuante para complexo: **complex()**"
   ]
  },
  {
   "cell_type": "markdown",
   "metadata": {},
   "source": [
    "#### Operadores unários em números"
   ]
  },
  {
   "cell_type": "code",
   "execution_count": null,
   "metadata": {},
   "outputs": [],
   "source": [
    "# Operador numérico positivo (+)\n",
    "+5"
   ]
  },
  {
   "cell_type": "code",
   "execution_count": null,
   "metadata": {},
   "outputs": [],
   "source": [
    "# Operador numérico negativo(-)\n",
    "-(-5)"
   ]
  },
  {
   "cell_type": "markdown",
   "metadata": {},
   "source": [
    "#### Operadores matemáticos em números"
   ]
  },
  {
   "cell_type": "code",
   "execution_count": null,
   "metadata": {},
   "outputs": [],
   "source": [
    "# soma (+)\n",
    "18.2 + 7"
   ]
  },
  {
   "cell_type": "code",
   "execution_count": null,
   "metadata": {},
   "outputs": [],
   "source": [
    "# subtração (-)\n",
    "12 - 5"
   ]
  },
  {
   "cell_type": "code",
   "execution_count": null,
   "metadata": {},
   "outputs": [],
   "source": [
    "# mutiplicação (*)\n",
    "15 * 3.5"
   ]
  },
  {
   "cell_type": "code",
   "execution_count": null,
   "metadata": {},
   "outputs": [],
   "source": [
    "# potenciação (**)\n",
    "15 ** 2"
   ]
  },
  {
   "cell_type": "code",
   "execution_count": null,
   "metadata": {},
   "outputs": [],
   "source": [
    "# divisão (/)\n",
    "15 / 7"
   ]
  },
  {
   "cell_type": "code",
   "execution_count": null,
   "metadata": {},
   "outputs": [],
   "source": [
    "# divisão inteira (//)\n",
    "15 // 7"
   ]
  },
  {
   "cell_type": "code",
   "execution_count": null,
   "metadata": {},
   "outputs": [],
   "source": [
    "# resto inteiro da divisao (%)\n",
    "15 % 7"
   ]
  },
  {
   "cell_type": "code",
   "execution_count": null,
   "metadata": {},
   "outputs": [],
   "source": [
    "# Prova da divisao inteira e do resto\n",
    "(15 // 7) + (15 % 7)/7"
   ]
  },
  {
   "cell_type": "markdown",
   "metadata": {},
   "source": [
    "### String\n",
    "\n",
    "Os dados textuais no Python são manipulados com objetos str, ou *strings*. Strings são sequências imutáveis de caracteres. Strings podem ser escritos de várias maneiras:\n",
    "\n",
    "- Aspas simples: 'permite aspas \"duplas\" incorporadas'\n",
    "\n",
    "- Aspas duplas: \"permite aspas 'simples' incorporadas\".\n",
    "\n",
    "- Triplo entre aspas: '''três aspas simples''', \"\"\"três aspas duplas\"\"\"\n",
    "\n",
    "Sequência de caracteres triplas entre aspas podem abranger várias linhas - todos os espaços em branco associados serão incluídos na literal da sequência. Normalmente usados quando queremos deixar varias linhas de código comentado"
   ]
  },
  {
   "cell_type": "code",
   "execution_count": null,
   "metadata": {},
   "outputs": [],
   "source": [
    "'LISComp \"IFRJ\"'"
   ]
  },
  {
   "cell_type": "code",
   "execution_count": null,
   "metadata": {},
   "outputs": [],
   "source": [
    "\"LISComp 'IFRJ'\""
   ]
  },
  {
   "cell_type": "code",
   "execution_count": null,
   "metadata": {},
   "outputs": [],
   "source": [
    "'''LISComp IFRJ'''"
   ]
  },
  {
   "cell_type": "code",
   "execution_count": null,
   "metadata": {},
   "outputs": [],
   "source": [
    "\"\"\"LISComp IFRJ\"\"\""
   ]
  },
  {
   "cell_type": "markdown",
   "metadata": {},
   "source": [
    "#### Operadores matemáticos em string"
   ]
  },
  {
   "cell_type": "code",
   "execution_count": null,
   "metadata": {},
   "outputs": [],
   "source": [
    "# Concatenação (+)\n",
    "\"LISComp \" + \"IFRJ\""
   ]
  },
  {
   "cell_type": "code",
   "execution_count": null,
   "metadata": {},
   "outputs": [],
   "source": [
    "# Repetição (*)\n",
    "\"IFRJ \"*5"
   ]
  },
  {
   "cell_type": "markdown",
   "metadata": {},
   "source": [
    "## Operadores booleanos\n",
    "\n",
    "\n",
    "- a **and** b: True, se a e b são verdadeiros e False nos outros casos.\n",
    "- a **or** b: True, se a e b são True ou algum valor de a ou b são verdadeiros, nos outros casos False.\n",
    "- **not** a: True se for False e False se for True."
   ]
  },
  {
   "cell_type": "markdown",
   "metadata": {},
   "source": [
    "## Operadores de comparação"
   ]
  },
  {
   "cell_type": "code",
   "execution_count": null,
   "metadata": {},
   "outputs": [],
   "source": [
    "# Estritamente menor que (<)\n",
    "15 < 7"
   ]
  },
  {
   "cell_type": "code",
   "execution_count": null,
   "metadata": {},
   "outputs": [],
   "source": [
    "# Menor que ou igual (<=)\n",
    "15 <= 7"
   ]
  },
  {
   "cell_type": "code",
   "execution_count": null,
   "metadata": {},
   "outputs": [],
   "source": [
    "# Estritamente maior que (>)\n",
    "15 > 7"
   ]
  },
  {
   "cell_type": "code",
   "execution_count": null,
   "metadata": {},
   "outputs": [],
   "source": [
    "# Maior que ou igual (>=)\n",
    "15 >= 7"
   ]
  },
  {
   "cell_type": "code",
   "execution_count": null,
   "metadata": {},
   "outputs": [],
   "source": [
    "# Igual (==)\n",
    "15 == 7"
   ]
  },
  {
   "cell_type": "code",
   "execution_count": null,
   "metadata": {},
   "outputs": [],
   "source": [
    "# Não é igual (!=)\n",
    "15 != 7"
   ]
  },
  {
   "cell_type": "code",
   "execution_count": null,
   "metadata": {},
   "outputs": [],
   "source": [
    "# Identidade do objeto (is)\n",
    "15 is 7"
   ]
  },
  {
   "cell_type": "code",
   "execution_count": null,
   "metadata": {},
   "outputs": [],
   "source": [
    "# Identidade do objeto negada (is not)\n",
    "15 is not 7"
   ]
  },
  {
   "cell_type": "markdown",
   "metadata": {},
   "source": [
    "## Prioridade dos operadores\n",
    "\n",
    "1. Expressões entre Parênteses ( ) – Maior Prioridade;\n",
    "2. Potenciação (**);\n",
    "3. Unários (+, -);\n",
    "4. Binários Multiplicativos (*, /, %, //);\n",
    "5. Binários Aditivos (+, -);\n",
    "6. Relacionais (==, !=, <, >, <=, >=);\n",
    "7. Lógico is,not;\n",
    "8. Lógico and;\n",
    "9. Lógico or – Menor Prioridade."
   ]
  },
  {
   "cell_type": "code",
   "execution_count": null,
   "metadata": {},
   "outputs": [],
   "source": [
    "# A expressão à esquerda equivale a expressão à direita\n",
    "3.75 + 25/7 - 15**2/10 == 3.75 + (25/7) - (15**2)/10"
   ]
  },
  {
   "cell_type": "markdown",
   "metadata": {},
   "source": [
    "## Manipulação de variáveis"
   ]
  },
  {
   "cell_type": "markdown",
   "metadata": {},
   "source": [
    "### Atribuição\n",
    "\n",
    "Uma **estrutura de atribuição** (=) cria uma nova variável e fornece um valor.\n",
    "\n",
    "![atribuir](img/estrutura_atribuir.png)\n",
    "\n",
    "Uma maneira comum de representar variáveis no papel é escrever o nome com uma seta apontando para o seu valor. Esse tipo de figura é chamado de **diagrama de estados** porque mostra em que estado cada uma das variáveis está.\n",
    "\n",
    "![diagramaestado](img/diagrama_estado.png)"
   ]
  },
  {
   "cell_type": "code",
   "execution_count": null,
   "metadata": {},
   "outputs": [],
   "source": [
    "# Atribuição simples\n",
    "x = 20\n",
    "x"
   ]
  },
  {
   "cell_type": "code",
   "execution_count": null,
   "metadata": {},
   "outputs": [],
   "source": [
    "# Atribuição multipla\n",
    "x,y,z = 10,5,20\n",
    "x,y,z"
   ]
  },
  {
   "cell_type": "markdown",
   "metadata": {},
   "source": [
    "### Nomes das variáveis\n",
    "\n",
    "Os nomes das variáveis podem ser do tamanho que bem entendermos, entretanto não devem conter acentos e devem possuir apenas caracteres alfa-numéricos. O caractere sublinhado (_) pode aparecer em um nome. Ele é frequentemente usado em nomes com várias palavras, como nome_laboratorio ou curso_ifrj.\n",
    "\n",
    "\n",
    "Os nomes dás variáveis não podem começar com números, não podem ter \"@\" no nome e não podem ser nenhuma das **palavras-chave**\n",
    "\n",
    "|        |          | Palavras-chave|          |        |\n",
    "|:------:|:--------:|:--------:|:--------:|:------:|\n",
    "|  False |   await  |   else   |  import  |  pass  |\n",
    "|  None  |   break  |  except  |    in    |  raise |\n",
    "|  True  |   class  |  finally |    is    | return |\n",
    "|   and  | continue |    for   |  lambda  |   try  |\n",
    "|   as   |    def   |   from   | nonlocal |  while |\n",
    "| assert |    del   |  global  |    not   |  with  |\n",
    "|  async |   elif   |    if    |    or    |  yield |\n",
    "\n",
    "Na maioria dos ambientes de desenvolvimento, palavras-chave são exibidos em uma cor diferente. Podemos ver alguns exemplos abaixo:"
   ]
  },
  {
   "cell_type": "code",
   "execution_count": null,
   "metadata": {},
   "outputs": [],
   "source": [
    "28laboratorio = \"LISComp\""
   ]
  },
  {
   "cell_type": "code",
   "execution_count": null,
   "metadata": {},
   "outputs": [],
   "source": [
    "laboratorio@ = \"LISComp\""
   ]
  },
  {
   "cell_type": "code",
   "execution_count": null,
   "metadata": {},
   "outputs": [],
   "source": [
    "class = \"Turma do Paulinho\""
   ]
  },
  {
   "cell_type": "markdown",
   "metadata": {},
   "source": [
    "### Tipagem dinâmica\n",
    "\n",
    "**Tipagem dinâmica** é uma característica de determinadas linguagens de programação, que não exigem estruturas de tipos de dados, pois são capazes de escolher que tipo utilizar dinamicamente para cada variável, podendo alterá-lo durante a compilação ou a execução do programa."
   ]
  },
  {
   "cell_type": "code",
   "execution_count": null,
   "metadata": {},
   "outputs": [],
   "source": [
    "x = 10\n",
    "x"
   ]
  },
  {
   "cell_type": "code",
   "execution_count": null,
   "metadata": {},
   "outputs": [],
   "source": [
    "x = 'Maria'\n",
    "x"
   ]
  },
  {
   "cell_type": "code",
   "execution_count": null,
   "metadata": {},
   "outputs": [],
   "source": [
    "x = True\n",
    "x"
   ]
  },
  {
   "cell_type": "code",
   "execution_count": null,
   "metadata": {},
   "outputs": [],
   "source": [
    "x = 14.5\n",
    "x"
   ]
  },
  {
   "cell_type": "code",
   "execution_count": null,
   "metadata": {},
   "outputs": [],
   "source": [
    "y = 6.5\n",
    "x = x+y\n",
    "x"
   ]
  },
  {
   "cell_type": "markdown",
   "metadata": {},
   "source": [
    "### Operadores de atribuição\n",
    "\n",
    "Para somar, subtrair, etc., em uma mesma variavél podemos operar assim:"
   ]
  },
  {
   "cell_type": "code",
   "execution_count": null,
   "metadata": {},
   "outputs": [],
   "source": [
    "x = 10\n",
    "x = x + 5\n",
    "x"
   ]
  },
  {
   "cell_type": "markdown",
   "metadata": {},
   "source": [
    "Entretanto, podemos realizar operações desse tipo de uma forma abreviada"
   ]
  },
  {
   "cell_type": "code",
   "execution_count": null,
   "metadata": {},
   "outputs": [],
   "source": [
    "x += 15\n",
    "x"
   ]
  },
  {
   "cell_type": "code",
   "execution_count": null,
   "metadata": {},
   "outputs": [],
   "source": [
    "x -= 6\n",
    "x"
   ]
  },
  {
   "cell_type": "code",
   "execution_count": null,
   "metadata": {},
   "outputs": [],
   "source": [
    "x *= 2\n",
    "x"
   ]
  },
  {
   "cell_type": "code",
   "execution_count": null,
   "metadata": {},
   "outputs": [],
   "source": [
    "x /= 12\n",
    "x"
   ]
  },
  {
   "cell_type": "code",
   "execution_count": null,
   "metadata": {},
   "outputs": [],
   "source": [
    "x **= 3\n",
    "x"
   ]
  },
  {
   "cell_type": "code",
   "execution_count": null,
   "metadata": {},
   "outputs": [],
   "source": [
    "x //= 12\n",
    "x"
   ]
  },
  {
   "cell_type": "code",
   "execution_count": null,
   "metadata": {},
   "outputs": [],
   "source": [
    "x %= 3\n",
    "x"
   ]
  },
  {
   "cell_type": "markdown",
   "metadata": {},
   "source": [
    "## Funções básicas"
   ]
  },
  {
   "cell_type": "markdown",
   "metadata": {},
   "source": [
    "### Função de saída padrão"
   ]
  },
  {
   "cell_type": "code",
   "execution_count": null,
   "metadata": {},
   "outputs": [],
   "source": [
    "# No Python 3.x usamos a função print() para visualizar, no terminal, os objetos atribuidos a uma variável ou expressão\n",
    "print(5)\n",
    "print(85962)\n",
    "print(x,y,z)\n",
    "print(x+y+z)"
   ]
  },
  {
   "cell_type": "code",
   "execution_count": null,
   "metadata": {},
   "outputs": [],
   "source": [
    "# Podemos formatar a saída\n",
    "print(\"%s\" % \"Python\")\n",
    "print(\"%d\" % 10.528743)\n",
    "print(\"%.7f\" % 10.528743)"
   ]
  },
  {
   "cell_type": "markdown",
   "metadata": {},
   "source": [
    "### Função de entrada padrão"
   ]
  },
  {
   "cell_type": "code",
   "execution_count": null,
   "metadata": {
    "slideshow": {
     "slide_type": "-"
    }
   },
   "outputs": [],
   "source": [
    "# No Python 3.x usamos a função input() para atribuir a uma variável uma string fornecida pelo usuário através do teclado\n",
    "x = input()\n",
    "x"
   ]
  },
  {
   "cell_type": "code",
   "execution_count": null,
   "metadata": {},
   "outputs": [],
   "source": [
    "# Tipo da classe do objeto atribuido\n",
    "type(x)"
   ]
  },
  {
   "cell_type": "code",
   "execution_count": null,
   "metadata": {},
   "outputs": [],
   "source": [
    "# Também podemos colocar uma mensagem na saída do vídeo\n",
    "x = input(\"Forneça a posição x:\")\n",
    "x"
   ]
  },
  {
   "cell_type": "markdown",
   "metadata": {},
   "source": [
    "### Funções de ajuda"
   ]
  },
  {
   "cell_type": "code",
   "execution_count": null,
   "metadata": {},
   "outputs": [],
   "source": [
    "# Função que retorna uma lista de um atributos,função e/ou método\n",
    "dir(int)"
   ]
  },
  {
   "cell_type": "code",
   "execution_count": null,
   "metadata": {
    "scrolled": false
   },
   "outputs": [],
   "source": [
    "# Função que retorna uma docstring de um atributos,função ou método\n",
    "help(int.to_bytes)"
   ]
  },
  {
   "cell_type": "code",
   "execution_count": null,
   "metadata": {},
   "outputs": [],
   "source": [
    "# Exemplo do uso da função\n",
    "x = 10\n",
    "x.to_bytes(5,\"big\")"
   ]
  },
  {
   "cell_type": "markdown",
   "metadata": {},
   "source": [
    "### Fuções padrões"
   ]
  },
  {
   "cell_type": "markdown",
   "metadata": {},
   "source": [
    "|               |             | Built-in Functions |              |                |\n",
    "|:-------------:|:-----------:|:------------------:|:------------:|:--------------:|\n",
    "|     [abs()](https://docs.python.org/3/library/functions.html?highlight=built#abs)     |  [delattr()](https://docs.python.org/3/library/functions.html?highlight=built#delattr)  |       [hash()](https://docs.python.org/3/library/functions.html?highlight=built#hash)       | [memoryview()](https://docs.python.org/3/library/functions.html?highlight=built#memoryview) |      [set()](https://docs.python.org/3/library/functions.html?highlight=built#set)     |\n",
    "|      [all()](https://docs.python.org/3/library/functions.html?highlight=built#all)    |    [dict()](https://docs.python.org/3/library/functions.html?highlight=built#dict)   |       [help()](https://docs.python.org/3/library/functions.html?highlight=built#help)       |     [min()](https://docs.python.org/3/library/functions.html?highlight=built#min)    |    [setattr()](https://docs.python.org/3/library/functions.html?highlight=built#setattr)   |\n",
    "|     [any()](https://docs.python.org/3/library/functions.html?highlight=built#any)     |    [dir()](https://docs.python.org/3/library/functions.html?highlight=built#dir)    |        [hex()](https://docs.python.org/3/library/functions.html?highlight=built#hex)       |    [next()](https://docs.python.org/3/library/functions.html?highlight=built#next)    |     [slice()](https://docs.python.org/3/library/functions.html?highlight=built#slice)    |\n",
    "|    [ascii()](https://docs.python.org/3/library/functions.html?highlight=built#ascii)    |   [divmod()](https://docs.python.org/3/library/functions.html?highlight=built#divmod)  |        [id()](https://docs.python.org/3/library/functions.html?highlight=built#id)        |   [object()](https://docs.python.org/3/library/functions.html?highlight=built#object)   |    [sorted()](https://docs.python.org/3/library/functions.html?highlight=built#sorted)    |\n",
    "|     [bin()](https://docs.python.org/3/library/functions.html?highlight=built#bin)     | enumerate() |       input()      |     oct()    | staticmethod() |\n",
    "|     bool()    |    eval()   |        int()       |    open()    |      str()     |\n",
    "|  breakpoint() |    exec()   |     isistance()    |     ord()    |      sum()     |\n",
    "|  bytearray()  |   filter()  |    issubclass()    |     pow()    |     super()    |\n",
    "|    bytes()    |   float()   |       iter()       |    print()   |     tuple()    |\n",
    "|   callable()  |   format()  |        len()       |  property()  |     type()     |\n",
    "|     chr()     | frozenset() |       list()       |    range()   |     vars()     |\n",
    "| classmethod() |  getattr()  |      locals()      |    repr()    |      zip()     |\n",
    "|   complie()   |  globals()  |        map()       |  reserved()  |  __import__()  |\n",
    "|   complex()   |  hasattr()  |        max()       |    round()   |                |"
   ]
  },
  {
   "cell_type": "markdown",
   "metadata": {},
   "source": [
    "## Bloco de comandos\n",
    "\n",
    "Em Python, um bloco de comandos contendo um ou mais comandos é chamado de ***suite***. No exemplo abaixo, temos uma suite com cinco comandos em sequência."
   ]
  },
  {
   "cell_type": "code",
   "execution_count": null,
   "metadata": {},
   "outputs": [],
   "source": [
    "x = int(input(\"Digite o primeiro valor: \"))\n",
    "y = int(input(\"Digite o segundo valor: \"))\n",
    "soma = x + y\n",
    "prod = x * y\n",
    "print(\"A Soma =\", soma, \"e o Produto =\", prod)"
   ]
  },
  {
   "cell_type": "markdown",
   "metadata": {},
   "source": [
    "## Estruturas\n",
    "\n",
    "Em termos simples, *estruturas* são as \"coisas\" que você escreve para dizer ao Python o que seus programas devem fazer. Se os programas “fazem coisas com coisas”, as instruções são como você especifica que tipo de \"coisas\" um programa faz. Menos informalmente, o Python é uma linguagem processual baseada em instruções; combinando instruções, você especifica um procedimento que o Python executa para satisfazer os objetivos de um programa.\n",
    "\n",
    "**OBS:** Neste curso não iremos falar das estruturas de exceção, são elas, try,except,finally,raise,assert.\n",
    "\n",
    "\n",
    "| Estrutura | Função |\n",
    "|:-|:-|\n",
    "| Atribuição                  | Criando referências                              |\n",
    "| Chamadas e outras expressões| Executar de Função                               |\n",
    "| Chamadas de impressão       | Imprimir de Objetos                              |\n",
    "| if/elif/else                | Selecionar ações                                 |\n",
    "| for/else                    | Iterar                                           |\n",
    "| while/else                  | Loops gerais                                     |\n",
    "| pass                        | Espaço reservado vazio                           |\n",
    "| break                       | Saída em loop                                    |\n",
    "| continue                    | Continue em Loop                                 |\n",
    "| def                         | Funções e métodos                                |\n",
    "| return                      | Resultados de funções                            |\n",
    "| yield                       | Funções do gerador                               |\n",
    "| global                      | Namespaces                                       |\n",
    "| nonlocal                    | Namespaces (3.X)                                 |\n",
    "| import                      | Acesso ao módulo                                 |\n",
    "| from                        | Acesso a atributos                               |\n",
    "| class                       | Objetos de construção                            |\n",
    "| try/except/ finally         | Capturando exceções                              |\n",
    "| raise                       | Disparando exceções                              |\n",
    "| assert                      | Verificações de depuração                        |\n",
    "| with/as                     | Gerenciadores de contexto (3.X, 2.6 ou superior) |\n",
    "| del                         | Excluindo referências                            |"
   ]
  },
  {
   "cell_type": "markdown",
   "metadata": {},
   "source": [
    "### Estrutura condicional (if-else-elif)\n",
    "\n",
    "#### Execução Condicional (if)\n",
    "\n",
    "Para escrever programas úteis, quase sempre precisamos verificar as condições e alterar o comportamento do programa de acordo. Estruturas condicionais nos dão essa capacidade. A forma mais simples é a estrutura if:\n",
    "\n",
    "![estruturaif](img/estrutura_if.png)"
   ]
  },
  {
   "cell_type": "code",
   "execution_count": null,
   "metadata": {},
   "outputs": [],
   "source": [
    "# Estrutura condicional de um if\n",
    "x = int(input(\"Digite um número: \")) # Lê o número fornecido\n",
    "if x > 0: # Testa a condição x > 0\n",
    "    print('x é positivo') # Se x > 0 == True imprime a frase"
   ]
  },
  {
   "cell_type": "code",
   "execution_count": null,
   "metadata": {},
   "outputs": [],
   "source": [
    "# Estrutura condicional de dois if\n",
    "x = int(input(\"Digite um número: \")) # Lê o número fornecido\n",
    "if x > 0: # Testa a condição x > 0\n",
    "    print('x é positivo')  # Se x > 0 == True imprime a frase\n",
    "if x < 0: # Testa a condição x < 0\n",
    "    print('x é negativo')  # Se x < 0 == True imprime a frase"
   ]
  },
  {
   "cell_type": "code",
   "execution_count": null,
   "metadata": {},
   "outputs": [],
   "source": [
    "# Estrutura condicional de dois if\n",
    "x = int(input(\"Digite um número: \")) # Lê o número fornecido\n",
    "if x > 0: # Testa a condição x > 0\n",
    "    print('x é positivo') # Se x > 0 == True imprime a frase\n",
    "if x < 0: # Testa a condição x < 0\n",
    "    pass # Se x < 0 == True não faz nenhum comando nesse suite"
   ]
  },
  {
   "cell_type": "markdown",
   "metadata": {},
   "source": [
    "#### Execução Alternativa (if-else)\n",
    "\n",
    "Uma segunda forma da instrução if é “execução alternativa”, na qual existem duas possibilidades e a condição determina qual delas é executada. A sintaxe é assim:\n",
    "\n",
    "![estruturaifelse](img/estrutura_ifelse.png)"
   ]
  },
  {
   "cell_type": "code",
   "execution_count": null,
   "metadata": {},
   "outputs": [],
   "source": [
    "# Estrutura condicional de if-else\n",
    "x = int(input(\"Digite um número: \")) # Lê o número fornecido\n",
    "if x > 0: # Testa a condição x > 0\n",
    "    print('x é positivo') # Se x > 0 == True imprime a frase\n",
    "else: # Qualquer caso diferente de x > 0 \n",
    "    print('x é negativo ou é igual a zero') # Se x > 0 == False imprime a frase"
   ]
  },
  {
   "cell_type": "markdown",
   "metadata": {},
   "source": [
    "#### Condicionais encadeados (if-elif-else)\n",
    "\n",
    "Às vezes, existem mais de duas possibilidades e precisamos de mais de dois ramos. Uma maneira de expressar uma computação como essa é um condicional encadeado:\n",
    "\n",
    "![estruturaifelifelse](img/estrutura_ifelifelse.png)"
   ]
  },
  {
   "cell_type": "code",
   "execution_count": null,
   "metadata": {},
   "outputs": [],
   "source": [
    "# Estrutura condicional de if-elif-else\n",
    "x = int(input(\"Digite um número: \")) # Lê o número fornecido\n",
    "if x > 0: # Testa a condição x > 0\n",
    "    print('x é positivo') # Se x > 0 == True imprime a frase\n",
    "elif x < 0: # Testa a condição x < 0 caso x > 0 == False\n",
    "    print('x é negativo') # Se x < 0 == True imprime a frase\n",
    "else: # Qualquer caso diferente de x > 0 e x < 0\n",
    "    print('x é igual a 0')"
   ]
  },
  {
   "cell_type": "code",
   "execution_count": null,
   "metadata": {},
   "outputs": [],
   "source": [
    "# Estrutura condicional de if-if-else\n",
    "x = int(input(\"Digite um número: \")) # Lê o número fornecido\n",
    "if x > 0: # Testa a condição x > 0\n",
    "    print('x é positivo') # Se x > 0 == True imprime a frase\n",
    "if x < 0: # Testa a condição x < 0\n",
    "    print('x é negativo') # Se x < 0 == True imprime a frase\n",
    "else:\n",
    "    print('x é igual a 0') # Se x < 0 == False imprime a frase"
   ]
  },
  {
   "cell_type": "markdown",
   "metadata": {},
   "source": [
    "#### Condicionais aninhados\n",
    "\n",
    "Um condicional também pode ser aninhado dentro de outro. Poderíamos ter escrito o exemplo na seção anterior assim:"
   ]
  },
  {
   "cell_type": "code",
   "execution_count": null,
   "metadata": {},
   "outputs": [],
   "source": [
    "# Condicionais aninhados\n",
    "x = int(input(\"Digite um número: \")) # Lê o número fornecido\n",
    "if x == 0:\n",
    "    print('x é igual a 0')\n",
    "else:\n",
    "    if x > 0:\n",
    "        print('x é positivo')\n",
    "    else:\n",
    "        print('x é negativo')"
   ]
  },
  {
   "cell_type": "markdown",
   "metadata": {},
   "source": [
    "### Estrutura de looping\n",
    "\n",
    "#### While Loop\n",
    "\n",
    "A instrução while do Python é a construção de iteração mais geral na linguagem. Em termos simples, ela executa repetidamente um suite, desde que um teste na parte superior continue o avaliando como um valor verdadeiro.\n",
    "\n",
    "![estruturawhile](img/estrutura_while.png)"
   ]
  },
  {
   "cell_type": "code",
   "execution_count": null,
   "metadata": {},
   "outputs": [],
   "source": [
    "# Imprimir os valores no intervalo [a,b[\n",
    "a=0; b=10 # Atribuimos valores a as variaveis\n",
    "while a < b: # Loop enquanto a for menor que b\n",
    "    print(a, end=' ') # Imprimir a varaivel 'a' sem pular linha\n",
    "    a += 1 # somar +1 no valor de a"
   ]
  },
  {
   "cell_type": "markdown",
   "metadata": {},
   "source": [
    "##### While-pass\n",
    "\n",
    "A estrutura pass é um espaço reservado para realizar nenhuma operação que é quando a sintaxe exige uma estrutura, mas você não tem nada útil a dizer."
   ]
  },
  {
   "cell_type": "code",
   "execution_count": null,
   "metadata": {},
   "outputs": [],
   "source": [
    "# exemplo 1\n",
    "while True: # Aperte 'Ctrl+c' para sair\n",
    "    pass"
   ]
  },
  {
   "cell_type": "markdown",
   "metadata": {},
   "source": [
    "##### While-continue\n",
    "\n",
    "A estrutura continue causa um salto imediato para o topo de um loop. Às vezes, também evita o aninhamento de instruções."
   ]
  },
  {
   "cell_type": "code",
   "execution_count": null,
   "metadata": {},
   "outputs": [],
   "source": [
    "# Imprimir os valores pares\n",
    "x = 10 # Atribui um valor a variavel\n",
    "while x != 0: # Loop enquando x for diferente de zero\n",
    "    x -= 1 # subtrai 1 do valor da variavel\n",
    "    if x % 2 != 0: # verifica se o valor é impar\n",
    "        continue # se impar voltemos ao inicio\n",
    "    print(x, end=' ') # imprimi os valores pares"
   ]
  },
  {
   "cell_type": "markdown",
   "metadata": {},
   "source": [
    "##### While-break\n",
    "\n",
    "A estrutura break causa uma saída imediata de um loop."
   ]
  },
  {
   "cell_type": "code",
   "execution_count": null,
   "metadata": {},
   "outputs": [],
   "source": [
    "# Imprimir as informacoes fornecidas\n",
    "while True: # Loop infinito\n",
    "    nome = input(\"Qual é o seu nome (digite 'stop' para parar):\") # Lê o nome\n",
    "    if nome == \"stop\": # verifica se (nome == stop) == True\n",
    "            break # Se nome == stop termina o while\n",
    "    idade = input(\"Qual é a sua idade: \") # Lê a idade\n",
    "    print(\"O {name} tem {age} anos\\n\".format(name = nome,age = idade))"
   ]
  },
  {
   "cell_type": "markdown",
   "metadata": {},
   "source": [
    "##### While-else\n",
    "\n",
    "O suite do else só executa se, e somente se, o loop for encerrado normalmente (ou seja, sem pressionar um break)"
   ]
  },
  {
   "cell_type": "code",
   "execution_count": null,
   "metadata": {},
   "outputs": [],
   "source": [
    "# verifica se o numero é primo ou qual é seu fator\n",
    "y = int(input(\"Forneça um valor inteiro:\")) # Lê o valor fornecido\n",
    "x = y // 2 # divisão inteira\n",
    "while x > 1: # Loop enquanto x > 1\n",
    "    if y % x == 0: # verifica se y divisivel por outro numero além dele mesmo\n",
    "        print(y, 'tem um fator', x) # imprime o maior numero que divide y\n",
    "        break # Finaliza o loop e impede a entrada no while\n",
    "    x -= 1 # subtrai 1 do valor da variavél\n",
    "else: # caso termine o while sem passar pelo break, ou seja, x > 1 == False\n",
    "    print(y, 'é primo') # imprime caso o valor seja primo"
   ]
  },
  {
   "cell_type": "markdown",
   "metadata": {},
   "source": [
    "#### For Loop\n",
    "\n",
    "O loop for é um **iterador** genérico no Python: ele pode percorrer os itens em qualquer sequência ordenada ou outro objeto iterável. A estrutura for funciona em listas, tuplas, strings e outros iteráveis internos.\n",
    "\n",
    "![estruturafor](img/estrutura_for.png)"
   ]
  },
  {
   "cell_type": "markdown",
   "metadata": {},
   "source": [
    "##### Range\n",
    "\n",
    "O range representa uma sequência imutável de números e é comumente usado para repetir um número específico de vezes em loops.\n",
    "\n",
    "**range**(*stop*)\n",
    "\n",
    "**range**(*start*,*stop*[, *step*])\n",
    "\n",
    "- **start**: O valor do parâmetro inicio (ou 0 se o parâmetro não foi fornecido)\n",
    "\n",
    "- **stop**: O valor do parâmetro parada\n",
    "\n",
    "- **step**: O valor do parâmetro passos (ou 1 se o parâmetro não foi fornecido)\n",
    "\n",
    "A vantagem do range em relação a uma lista ou tupla (veremos mais a diante) é que um objeto range sempre terá a mesma quantidade (pequena) de memória, independentemente do tamanho do intervalo que representa,pois armazena apenas os valores de início, parada e etapa , calculando itens e subfaixas individuais, conforme necessário."
   ]
  },
  {
   "cell_type": "markdown",
   "metadata": {},
   "source": [
    "##### For"
   ]
  },
  {
   "cell_type": "code",
   "execution_count": null,
   "metadata": {},
   "outputs": [],
   "source": [
    "# exemplo 1\n",
    "for i in range(10):\n",
    "    print(i)"
   ]
  },
  {
   "cell_type": "code",
   "execution_count": null,
   "metadata": {},
   "outputs": [],
   "source": [
    "# exemplo 2\n",
    "for i in range(1,10):\n",
    "    print(i)"
   ]
  },
  {
   "cell_type": "code",
   "execution_count": null,
   "metadata": {},
   "outputs": [],
   "source": [
    "# exemplo 3\n",
    "for i in range(1,10,2):\n",
    "    print(i)"
   ]
  },
  {
   "cell_type": "code",
   "execution_count": null,
   "metadata": {},
   "outputs": [],
   "source": [
    "# examplo 4\n",
    "for i in range(10,1,-2):\n",
    "    print(i)"
   ]
  },
  {
   "cell_type": "code",
   "execution_count": null,
   "metadata": {},
   "outputs": [],
   "source": [
    "# Fatorial\n",
    "num = int(input(\"Digite um valor inteiro e positivo: \"))\n",
    "fat = 1\n",
    "for i in range(1,num+1):\n",
    "      fat = fat * i\n",
    "print(\"\\nO fatorial de\", num, \"=\", fat)"
   ]
  },
  {
   "cell_type": "markdown",
   "metadata": {},
   "source": [
    "## Função\n",
    "\n",
    "Em termos simples, uma função é um dispositivo que agrupa um conjunto de instruções para que possam ser executadas mais de uma vez em um programa - um procedimento empacotado chamado pelo nome. As funções também podem calcular um valor de resultado e vamos especificar parâmetros que servem como entradas de função e podem diferir cada vez que o código é executado. Codificar uma operação como uma função a torna uma ferramenta geralmente útil, que podemos usar em vários contextos. \n",
    "\n",
    "- Maximizando a reutilização de código e minimizando a redundância\n",
    "- Decomposição processual\n",
    "\n",
    "![função](img/funcao.png)"
   ]
  },
  {
   "cell_type": "markdown",
   "metadata": {},
   "source": [
    "### Escopo\n",
    "\n",
    "Quando você usa um nome em um programa, o Python cria, altera ou consulta o nome no que é conhecido como *namespace* - um local onde os nomes residem. Quando falamos sobre a pesquisa do valor de um nome em relação ao código, o termo **escopo** refere-se a um *namespace*: ou seja, o local da atribuição de um nome em seu código-fonte determina o escopo da visibilidade do nome em seu código.\n",
    "\n",
    "Sendo assim, uma mesma variavél pode se referir a diferentes objetos, em um mesmo código mas esses objetos tem que estar em escopos diferentes. Em Python temos o total de 4 escopos, *local* (L), *enclosing function* (E), *global* (G) e *built-in* (B), formando a regra **LEGB**.\n",
    "\n",
    "![escopo](img/Escopo.png)"
   ]
  },
  {
   "cell_type": "code",
   "execution_count": null,
   "metadata": {},
   "outputs": [],
   "source": [
    "# Exemplo de escopos para o pi  \n",
    "from math import pi # Escopo built-in\n",
    "# O resultado de pi importado da biblioteca não aparece, pois o escopo global sobressai\n",
    "pi = 'global pi variable' \n",
    "def outer(): \n",
    "    pi = 'outer pi variable' \n",
    "    def inner(): \n",
    "        pi = 'inner pi variable' \n",
    "        print(pi) \n",
    "    inner()\n",
    "    print(pi)\n",
    "outer()\n",
    "print(pi)"
   ]
  },
  {
   "cell_type": "markdown",
   "metadata": {},
   "source": [
    "### Passagem de argumentos"
   ]
  },
  {
   "cell_type": "code",
   "execution_count": null,
   "metadata": {},
   "outputs": [],
   "source": [
    "# Definir uma função de mutiplicação que recebe números e retorna a mutiplicação deles\n",
    "def multi(x,y):\n",
    "    \"\"\"\n",
    "    Retorna a mutiplicação dos argumentos (x*y) \n",
    "    \"\"\"\n",
    "    z = 0 \n",
    "    print(\"x:\",x,\"y:\",y) # imprimi os argumentos\n",
    "    for u in range(x): # itera no range(x)\n",
    "        z += y # soma y em z \n",
    "    return z # retorna o valor de z"
   ]
  },
  {
   "cell_type": "code",
   "execution_count": null,
   "metadata": {},
   "outputs": [],
   "source": [
    "# Retorna o docstring da função se houver\n",
    "help(multi)"
   ]
  },
  {
   "cell_type": "code",
   "execution_count": null,
   "metadata": {},
   "outputs": [],
   "source": [
    "# Chamar função multi com os argumentos x = 20, y = 200 \n",
    "multi(20, 200)"
   ]
  },
  {
   "cell_type": "code",
   "execution_count": null,
   "metadata": {},
   "outputs": [],
   "source": [
    "# Chamar função multi com os argumentos x = 10, y = 100 \n",
    "multi(10, 100)"
   ]
  },
  {
   "cell_type": "code",
   "execution_count": null,
   "metadata": {},
   "outputs": [],
   "source": [
    "# Chamar função multi com os argumentos x = 45, y = 60, podemos colocar os argumento em ordens diferentes\n",
    "# Se feita a atribuição com o mesmo nome das variáveis usadas na função\n",
    "multi(y = 45, x = 60)"
   ]
  },
  {
   "cell_type": "markdown",
   "metadata": {},
   "source": [
    "### Pilha de ativação\n",
    "\n",
    "Quando uma função é chamada, duas tarefas são executadas:\n",
    "\n",
    "- Criação de um espaço de memória para as variáveis locais e parâmetros;\n",
    "- Passagem efetiva de parâmetros.\n",
    "\n",
    "Durante a execução de um programa uma área especial da memória é organizada em forma de pilha (“stack”). Ela é utilizada para armazenar os valores das variáveis locais e parâmetros das funções. Outra área é organizada para manter as variáveis globais do programa principal.\n",
    "\n",
    "Quando o programa principal é iniciado, um espaço é criado para manter as variáveis globais. Sempre que uma função é ativada, um espaço contendo os valores das variáveis locais e dos parâmetros é reservado no topo da pilha. Ao fim de uma função, seu espaço é automaticamente eliminado do topo da pilha, podendo ser reutilizado.\n",
    "\n",
    "![pilha](img/pilha.png)"
   ]
  },
  {
   "cell_type": "code",
   "execution_count": null,
   "metadata": {},
   "outputs": [],
   "source": [
    "# Programa Completo\n",
    "\n",
    "# Subprograma\n",
    "def soma(a,b):\n",
    "    \"\"\"\n",
    "    Retorna a soma dos números atribuidos\n",
    "    \"\"\"\n",
    "    return a + b\n",
    "\n",
    "# Programa Principal\n",
    "x = 2\n",
    "y = 3\n",
    "z = soma(x,y)\n",
    "print(z)"
   ]
  },
  {
   "cell_type": "markdown",
   "metadata": {},
   "source": [
    "### Recursão\n",
    "\n",
    "Recursão é um método de resolução de problemas que envolve quebrar um problema em subproblemas menores e menores até chegar a um problema pequeno o suficiente para que ele possa ser resolvido trivialmente. Normalmente recursão envolve uma função que chama a si mesma. Embora possa não parecer muito, a recursão nos permite escrever soluções elegantes para problemas que, de outra forma, podem ser muito difíceis de programar.\n",
    "\n",
    "EX: **FATORIAL**\n",
    "\n",
    "![recursividade1](img/recursividade1.png)\n",
    "![recursividade2](img/recursividade2.png)\n",
    "![recursividade3](img/recursividade3.png)\n",
    "![recursividade4](img/recursividade4.png)"
   ]
  },
  {
   "cell_type": "code",
   "execution_count": null,
   "metadata": {},
   "outputs": [],
   "source": [
    "def fat(n):\n",
    "    \"\"\"\n",
    "    Retorna o fatorial do número atribuido\n",
    "    \"\"\"\n",
    "    if n == 0: # condição de parada\n",
    "        return 1\n",
    "    else:\n",
    "        return n*fat(n-1) # chamada recursiva\n",
    "\n",
    "x = fat(int(input(\"Digite um número inteiro positivo: \")))\n",
    "print(x)"
   ]
  },
  {
   "cell_type": "markdown",
   "metadata": {},
   "source": [
    "## Sequência de objetos"
   ]
  },
  {
   "cell_type": "markdown",
   "metadata": {},
   "source": [
    "### Sequência\n",
    "\n",
    "A sequência é uma coleção de objetos ordenados por posições.Existem três tipos básicos de sequência: **lists**, **tuples** e **ranges**. Além destas exite seqüências de texto (**string**). Sequências são **iteraveis**\n",
    "\n",
    "\n",
    "![sequencencia](img/sequencia.png)\n"
   ]
  },
  {
   "cell_type": "markdown",
   "metadata": {},
   "source": [
    "#### Índice (Index)"
   ]
  },
  {
   "cell_type": "code",
   "execution_count": null,
   "metadata": {},
   "outputs": [],
   "source": [
    "itens = [45, 81, 13, 20, 45, 98]\n",
    "new = [59, 97, 35]"
   ]
  },
  {
   "cell_type": "code",
   "execution_count": null,
   "metadata": {},
   "outputs": [],
   "source": [
    "# Índice representa a posição do elemento\n",
    "itens[3]"
   ]
  },
  {
   "cell_type": "markdown",
   "metadata": {},
   "source": [
    "#### Fatiar (Slice)\n",
    "\n",
    "![fatiar](img/slice.png)"
   ]
  },
  {
   "cell_type": "code",
   "execution_count": null,
   "metadata": {},
   "outputs": [],
   "source": [
    "# Fatia a sequência de i até j\n",
    "itens[0:4]"
   ]
  },
  {
   "cell_type": "code",
   "execution_count": null,
   "metadata": {},
   "outputs": [],
   "source": [
    "# Fatia a sequência de i até j com k passos\n",
    "itens[1:6:2]"
   ]
  },
  {
   "cell_type": "markdown",
   "metadata": {},
   "source": [
    "#### Operações comuns das sequências"
   ]
  },
  {
   "cell_type": "code",
   "execution_count": null,
   "metadata": {},
   "outputs": [],
   "source": [
    "# in verifica se um objeto existe em outra sequência\n",
    "10 in itens"
   ]
  },
  {
   "cell_type": "code",
   "execution_count": null,
   "metadata": {},
   "outputs": [],
   "source": [
    "# not in verifica se um objeto não existe em outra sequência\n",
    "10 not in itens"
   ]
  },
  {
   "cell_type": "code",
   "execution_count": null,
   "metadata": {},
   "outputs": [],
   "source": [
    "# \"+\"\" concatena uma sequência com outra sequência\n",
    "itens + new"
   ]
  },
  {
   "cell_type": "code",
   "execution_count": null,
   "metadata": {},
   "outputs": [],
   "source": [
    "# \"*\" repete uma sequência n vezes\n",
    "print(new*2)"
   ]
  },
  {
   "cell_type": "markdown",
   "metadata": {},
   "source": [
    "Sequências do mesmo tipo também suportam comparações. Em particular, **listas** e **tuplas** são comparadas lexicograficamente através da comparação dos elementos correspondentes.\n",
    "\n",
    "![comparacaolista](img/comparacao_lista.png)"
   ]
  },
  {
   "cell_type": "code",
   "execution_count": null,
   "metadata": {},
   "outputs": [],
   "source": [
    "# Comparação\n",
    "new >= itens"
   ]
  },
  {
   "cell_type": "markdown",
   "metadata": {},
   "source": [
    "#### Funções comuns das sequências "
   ]
  },
  {
   "cell_type": "code",
   "execution_count": null,
   "metadata": {},
   "outputs": [],
   "source": [
    "# len(itens) retorna o tamanho da sequência\n",
    "len(itens)"
   ]
  },
  {
   "cell_type": "code",
   "execution_count": null,
   "metadata": {},
   "outputs": [],
   "source": [
    "# min(itens) retorna o menor objeto da sequência\n",
    "min(itens)"
   ]
  },
  {
   "cell_type": "code",
   "execution_count": null,
   "metadata": {},
   "outputs": [],
   "source": [
    "# max(itens) retorna o maior objeto da sequência\n",
    "max(itens)"
   ]
  },
  {
   "cell_type": "markdown",
   "metadata": {},
   "source": [
    "#### Métodos comuns das sequências"
   ]
  },
  {
   "cell_type": "code",
   "execution_count": null,
   "metadata": {},
   "outputs": [],
   "source": [
    "# sequence.index(x[, i[, j]]) retorna o indice da primeira ocorrencia do x (no ou depois do índice i e antes do índice j)\n",
    "itens.index(45) # i e j são opcionais"
   ]
  },
  {
   "cell_type": "code",
   "execution_count": null,
   "metadata": {},
   "outputs": [],
   "source": [
    "# sequence.count(x) retorna o numero de ocorrencias de x na sequências\n",
    "itens.count(45)"
   ]
  },
  {
   "cell_type": "markdown",
   "metadata": {},
   "source": [
    "### Lista\n",
    "\n",
    "As listas ([**list**](https://docs.python.org/3/library/stdtypes.html#list)) são sequências **mutáveis**, normalmente usadas para armazenar coleções de itens homogêneos (podendo ser uma lista heterogênea dependendo da aplicação)."
   ]
  },
  {
   "cell_type": "code",
   "execution_count": null,
   "metadata": {},
   "outputs": [],
   "source": [
    "# list() podemos criar uma lista ou tranformar uma sequencia em lista\n",
    "lista1 = list() \n",
    "lista1"
   ]
  },
  {
   "cell_type": "code",
   "execution_count": null,
   "metadata": {},
   "outputs": [],
   "source": [
    "# [] podemos criar uma lista em branco\n",
    "lista2 = [] \n",
    "lista2"
   ]
  },
  {
   "cell_type": "code",
   "execution_count": null,
   "metadata": {},
   "outputs": [],
   "source": [
    "# Exemplo de lista\n",
    "alunos = [\"Paulo\",\"Gabriel\",\"Paloma\",\"Bruna\",\"Thiago\",\"Pedro\"]\n",
    "alunos"
   ]
  },
  {
   "cell_type": "markdown",
   "metadata": {},
   "source": [
    "#### Listas em for"
   ]
  },
  {
   "cell_type": "code",
   "execution_count": null,
   "metadata": {},
   "outputs": [],
   "source": [
    "# exemplo de for 1\n",
    "for i in range(len(alunos)):\n",
    "    print(i,alunos[i])"
   ]
  },
  {
   "cell_type": "code",
   "execution_count": null,
   "metadata": {},
   "outputs": [],
   "source": [
    "# exemplo de for 2\n",
    "for aluno in alunos:\n",
    "    print(aluno)"
   ]
  },
  {
   "cell_type": "markdown",
   "metadata": {},
   "source": [
    "#### Operações em listas\n",
    "\n",
    "Por se tratar de uma seguência mutavél, além das [operações comuns das sequência](#Operações-comuns-das-sequências), também podemos realizar as operações abaixo:"
   ]
  },
  {
   "cell_type": "code",
   "execution_count": null,
   "metadata": {},
   "outputs": [],
   "source": [
    "# s[i] = x o objeto na posição i de s é trocado por x\n",
    "itens = [45, 81, 13, 20, 45, 98]\n",
    "itens[0] = 35\n",
    "itens"
   ]
  },
  {
   "cell_type": "code",
   "execution_count": null,
   "metadata": {},
   "outputs": [],
   "source": [
    "# s[i:j] = t a fatia da lista de i a j é substituída pelo conteúdo de t\n",
    "itens = [45, 81, 13, 20, 45, 98]\n",
    "itens[2:5] = [28, 79, 92]\n",
    "itens"
   ]
  },
  {
   "cell_type": "code",
   "execution_count": null,
   "metadata": {},
   "outputs": [],
   "source": [
    "# del s[i:j] deleta a fatia da sequencia\n",
    "itens = [45, 81, 13, 20, 45, 98]\n",
    "del itens[2:5] # itens[2:5] = []\n",
    "itens"
   ]
  },
  {
   "cell_type": "code",
   "execution_count": null,
   "metadata": {},
   "outputs": [],
   "source": [
    "# s[i:j:k] = t a fatia da lista de i a j é substituída pelo conteúdo de t\n",
    "itens = [45, 81, 13, 20, 45, 98]\n",
    "itens[0:6:2] = [28, 79, 92]\n",
    "itens"
   ]
  },
  {
   "cell_type": "code",
   "execution_count": null,
   "metadata": {},
   "outputs": [],
   "source": [
    "# del s[i:j] deleta a fatia da sequência\n",
    "itens = [45, 81, 13, 20, 45, 98]\n",
    "del itens[0:6:2] # itens[0:6:2] = []\n",
    "itens"
   ]
  },
  {
   "cell_type": "markdown",
   "metadata": {},
   "source": [
    "#### Tipagem dinâmica em lista\n",
    "\n",
    "Na tipagem dinâmica variavéis e objetos são armazenados em partes diferentes da memória e sempre estão ligados. Variavéis sempre são ligados a um objeto, nunca a outra variavél\n",
    "\n",
    "**Expectativa**\n",
    "![tipagem1](img/tipagemdinamica1.png)\n",
    "\n",
    "**Realidade**\n",
    "![tipagem2](img/tipagemdinamica2.png)"
   ]
  },
  {
   "cell_type": "code",
   "execution_count": null,
   "metadata": {},
   "outputs": [],
   "source": [
    "# Atribuímos L1 em L2\n",
    "L1 = [33, 86, 97]\n",
    "L2 = L1\n",
    "\n",
    "# Modificamos o objeto atribuido a L2\n",
    "L2[1] = 55\n",
    "L1"
   ]
  },
  {
   "cell_type": "code",
   "execution_count": null,
   "metadata": {},
   "outputs": [],
   "source": [
    "# Atribuímos L1 em L2\n",
    "L1 = [33, 86, 97]\n",
    "L2 = L1\n",
    "\n",
    "# Modificamos o objeto atribuido a L1\n",
    "L1[1] = 55\n",
    "L2"
   ]
  },
  {
   "cell_type": "code",
   "execution_count": null,
   "metadata": {},
   "outputs": [],
   "source": [
    "# Atribuímos L1 em L2\n",
    "L1 = [33, 86, 97]\n",
    "L2 = L1\n",
    "\n",
    "# Atribuímos outro objeto a L1\n",
    "L1 = [11, 84, 29]\n",
    "L2"
   ]
  },
  {
   "cell_type": "code",
   "execution_count": null,
   "metadata": {},
   "outputs": [],
   "source": [
    "# As duas variavéis se referem a uma mesma lista \n",
    "L1 = [33, 86, 97]\n",
    "L2 = L1 # Shallow copy\n",
    "\n",
    "L1 == L2, L1 is L2"
   ]
  },
  {
   "cell_type": "code",
   "execution_count": null,
   "metadata": {},
   "outputs": [],
   "source": [
    "# As duas variáveis se referem a uma lista com os mesmos itens\n",
    "L1 = [33, 86, 97]\n",
    "L2 = [33, 86, 97]\n",
    "\n",
    "L1 == L2, L1 is L2"
   ]
  },
  {
   "cell_type": "markdown",
   "metadata": {},
   "source": [
    "#### Métodos em listas\n",
    "\n",
    "Listas implementam todas os [métodos comuns das sequências](#Métodos-comuns-das-sequências), juntamente com os métodos adicionais abaixo."
   ]
  },
  {
   "cell_type": "code",
   "execution_count": null,
   "metadata": {},
   "outputs": [],
   "source": [
    "L1 = [33, 86, 97]"
   ]
  },
  {
   "cell_type": "code",
   "execution_count": null,
   "metadata": {},
   "outputs": [],
   "source": [
    "# s.append(x) adiciona x no final da sequencia (igual a s[len(s):len(s)] = [x])\n",
    "L1.append(33)\n",
    "L1"
   ]
  },
  {
   "cell_type": "code",
   "execution_count": null,
   "metadata": {},
   "outputs": [],
   "source": [
    "# s.pop(i) retorna o item na posição i e retira o item de s\n",
    "L1.pop(3),L1"
   ]
  },
  {
   "cell_type": "code",
   "execution_count": null,
   "metadata": {},
   "outputs": [],
   "source": [
    "# s.insert(i,x) insere x em s na posição dada pelo índice i\n",
    "L1.insert(1,50)\n",
    "L1"
   ]
  },
  {
   "cell_type": "code",
   "execution_count": null,
   "metadata": {},
   "outputs": [],
   "source": [
    "# s.remove(x) remove o primeiro item de s onde s[i] é igual x\n",
    "L1.remove(97)\n",
    "L1"
   ]
  },
  {
   "cell_type": "code",
   "execution_count": null,
   "metadata": {},
   "outputs": [],
   "source": [
    "# s.extend(t) extende s com os conteudos de t\n",
    "L2 = [43, 22, 85]\n",
    "L1.extend([L2])\n",
    "L1"
   ]
  },
  {
   "cell_type": "code",
   "execution_count": null,
   "metadata": {},
   "outputs": [],
   "source": [
    "# Podemos ter uma lista dentro de outra lista\n",
    "L1[3][1]"
   ]
  },
  {
   "cell_type": "code",
   "execution_count": null,
   "metadata": {},
   "outputs": [],
   "source": [
    "# s.copy() cria uma deep copy de s (igual a s[:])\n",
    "L2 = L1.copy()\n",
    "L2"
   ]
  },
  {
   "cell_type": "code",
   "execution_count": null,
   "metadata": {},
   "outputs": [],
   "source": [
    "# s.clear() remove todos os itens de s (igual a  del s[:])\n",
    "L2.clear()\n",
    "L2"
   ]
  },
  {
   "cell_type": "code",
   "execution_count": null,
   "metadata": {},
   "outputs": [],
   "source": [
    "# s.reverse() inverte os itens de s de lugar\n",
    "L1.reverse()\n",
    "L1"
   ]
  },
  {
   "cell_type": "markdown",
   "metadata": {},
   "source": [
    "Veja que L1 não teve alteração nos valores como teve L2, porque realizamos uma cópia *Deep* "
   ]
  },
  {
   "cell_type": "markdown",
   "metadata": {},
   "source": [
    "#### Lista de Lista\n",
    "\n",
    "![listadelista](img/listadelista.png)"
   ]
  },
  {
   "cell_type": "code",
   "execution_count": null,
   "metadata": {},
   "outputs": [],
   "source": [
    "# Exemplo\n",
    "mercado = [[\"pera\",100,4.9],[\"manga\",20,3.9],[\"uva\",30,5.9],[\"caju\",15,3.5]]\n",
    "mercado[2][0]"
   ]
  },
  {
   "cell_type": "markdown",
   "metadata": {},
   "source": [
    "#### Compreensão de listas\n",
    "\n",
    "Muito rápido e elegante"
   ]
  },
  {
   "cell_type": "code",
   "execution_count": null,
   "metadata": {},
   "outputs": [],
   "source": [
    "# Média por lista\n",
    "media = 0\n",
    "valores = [9, 3, 0, 8, 9, 1, 4, 3, 6, 10]\n",
    "for valor in valores:\n",
    "    media += valor/len(valores)\n",
    "media"
   ]
  },
  {
   "cell_type": "code",
   "execution_count": null,
   "metadata": {},
   "outputs": [],
   "source": [
    "# Média por funções\n",
    "valores = [9, 3, 0, 8, 9, 1, 4, 3, 6, 10]\n",
    "sum(valores)/len(valores)"
   ]
  },
  {
   "cell_type": "code",
   "execution_count": null,
   "metadata": {},
   "outputs": [],
   "source": [
    "# Média por compreensão de listas\n",
    "media = 0\n",
    "valores = [9, 3, 0, 8, 9, 1, 4, 3, 6, 10]\n",
    "media = [valor/len(valores) for valor in valores]\n",
    "print(media)\n",
    "print(sum(media))"
   ]
  },
  {
   "cell_type": "code",
   "execution_count": null,
   "metadata": {},
   "outputs": [],
   "source": [
    "# Tabuada por compreensão de lista\n",
    "tabuada = [[i*j for i in range(1,11)] for j in range(1,11)]\n",
    "tabuada"
   ]
  },
  {
   "cell_type": "markdown",
   "metadata": {},
   "source": [
    "Compreensão de lista com condições"
   ]
  },
  {
   "cell_type": "code",
   "execution_count": null,
   "metadata": {},
   "outputs": [],
   "source": [
    "# Tirar somentes os valores impares de uma lista\n",
    "valores = [58,35,24,1,63,99,21,57,23,7,68,20,8,86,7,62,6,12,55,31]\n",
    "valores_impares = [valor for valor in valores if valor%2 != 0]\n",
    "valores_impares"
   ]
  },
  {
   "cell_type": "code",
   "execution_count": null,
   "metadata": {},
   "outputs": [],
   "source": [
    "# Tirar somentes os valores pares de uma lista\n",
    "valores = [58,35,24,1,63,99,21,57,23,7,68,20,8,86,7,62,6,12,55,31]\n",
    "valores_pares = [valor for valor in valores if valor%2 == 0]\n",
    "valores_pares"
   ]
  },
  {
   "cell_type": "markdown",
   "metadata": {},
   "source": [
    "### Tuplas (tuples)\n",
    "\n",
    "Tuplas são sequências imutáveis, normalmente usadas para armazenar coleções de dados heterogêneos. As tuplas também são usadas nos casos em que é necessária uma sequência imutável de dados homogêneos."
   ]
  },
  {
   "cell_type": "markdown",
   "metadata": {},
   "source": [
    "As tuplas podem ser construídas de várias maneiras:\n",
    "\n",
    "- Usando um par de parênteses para indicar a tupla vazia: ()\n",
    "\n",
    "- Usando uma vírgula à direita para uma tupla de um item (singleton): a, ou (a,)\n",
    "\n",
    "- Separando itens por vírgulas: a, b, c ou (a, b, c)\n",
    "\n",
    "- Usando a tupla () incorporada: tupla () ou tupla (iterável)"
   ]
  },
  {
   "cell_type": "code",
   "execution_count": null,
   "metadata": {},
   "outputs": [],
   "source": [
    "x,y = 5,\"cinco\"\n",
    "x,y"
   ]
  },
  {
   "cell_type": "code",
   "execution_count": null,
   "metadata": {},
   "outputs": [],
   "source": [
    "(x,y) = (5,\"cinco\")\n",
    "(x,y)"
   ]
  },
  {
   "cell_type": "code",
   "execution_count": null,
   "metadata": {},
   "outputs": [],
   "source": [
    "t = (81, 88, 65, 37, 44, 70, 23, 66)\n",
    "t"
   ]
  },
  {
   "cell_type": "code",
   "execution_count": null,
   "metadata": {},
   "outputs": [],
   "source": [
    "# Indexar\n",
    "t[5]"
   ]
  },
  {
   "cell_type": "code",
   "execution_count": null,
   "metadata": {},
   "outputs": [],
   "source": [
    "# Fatiar\n",
    "t[2:7:1]"
   ]
  },
  {
   "cell_type": "code",
   "execution_count": null,
   "metadata": {},
   "outputs": [],
   "source": [
    "# len()\n",
    "len(t)"
   ]
  },
  {
   "cell_type": "markdown",
   "metadata": {},
   "source": [
    "#### Tuplas são imutáveis\n",
    "\n",
    "Por se tratar de uma sequência imutavel somente podemos realizar somente [operações comuns das sequência](#Operações-comuns-das-sequências)"
   ]
  },
  {
   "cell_type": "code",
   "execution_count": null,
   "metadata": {},
   "outputs": [],
   "source": [
    "t[3] = 15"
   ]
  },
  {
   "cell_type": "markdown",
   "metadata": {},
   "source": [
    "#### Tuplas em for"
   ]
  },
  {
   "cell_type": "code",
   "execution_count": null,
   "metadata": {},
   "outputs": [],
   "source": [
    "# exemplo 1\n",
    "for x,y in [(10, 1), (8, 7), (4, 7), (4, 0), (9, 3)]:\n",
    "    print(x,y)"
   ]
  },
  {
   "cell_type": "code",
   "execution_count": null,
   "metadata": {},
   "outputs": [],
   "source": [
    "# exemplo 2\n",
    "for x,y,z in [(10, 8, 5), (3, 0, 10), (10, 2, 5), (6, 5, 9), (9, 5, 6)]:\n",
    "    print(x,y,z)"
   ]
  },
  {
   "cell_type": "code",
   "execution_count": null,
   "metadata": {},
   "outputs": [],
   "source": [
    "# zip(iteravel,iteravel,...) Agrega itens em uma mesma posição formando seguências de tuplas\n",
    "for ponto in zip([1, 1, 2, 9, 0], [4, 7, 10, 7, 5]):\n",
    "    print(ponto)"
   ]
  },
  {
   "cell_type": "code",
   "execution_count": null,
   "metadata": {},
   "outputs": [],
   "source": [
    "# exemplo 4\n",
    "itens = [45, 81, 13, 20, 45, 98]\n",
    "for (i,item) in enumerate(itens):\n",
    "    print(i,item)"
   ]
  },
  {
   "cell_type": "markdown",
   "metadata": {},
   "source": [
    "### String como sequência\n",
    "\n",
    "Os dados textuais no Python são manipulados com objetos str, ou *strings*. Strings são sequências imutáveis de caracteres. Strings podem ser escritos de várias maneiras:\n",
    "\n",
    "- Aspas simples: 'permite aspas \"duplas\" incorporadas'\n",
    "\n",
    "- Aspas duplas: \"permite aspas 'simples' incorporadas\".\n",
    "\n",
    "- Triplo entre aspas: '''três aspas simples''', \"\"\"três aspas duplas\"\"\"\n",
    "\n",
    "Sequência de caracteres triplas entre aspas podem abranger várias linhas - todos os espaços em branco associados serão incluídos na literal da sequência. Normalmente usados quando queremos deixar varias linhas de código comentado"
   ]
  },
  {
   "cell_type": "code",
   "execution_count": null,
   "metadata": {},
   "outputs": [],
   "source": [
    "\"LISComp 'IFRJ'\""
   ]
  },
  {
   "cell_type": "code",
   "execution_count": null,
   "metadata": {},
   "outputs": [],
   "source": [
    "'LISComp \"IFRJ\"'"
   ]
  },
  {
   "cell_type": "code",
   "execution_count": null,
   "metadata": {},
   "outputs": [],
   "source": [
    "\"\"\"LISComp IFRJ\"\"\""
   ]
  },
  {
   "cell_type": "code",
   "execution_count": null,
   "metadata": {},
   "outputs": [],
   "source": [
    "'''LISComp IFRJ'''"
   ]
  },
  {
   "cell_type": "markdown",
   "metadata": {},
   "source": [
    "![string](img/string.png)"
   ]
  },
  {
   "cell_type": "code",
   "execution_count": null,
   "metadata": {},
   "outputs": [],
   "source": [
    "lab = \"LISComp\""
   ]
  },
  {
   "cell_type": "code",
   "execution_count": null,
   "metadata": {},
   "outputs": [],
   "source": [
    "# Indexar\n",
    "lab[3] "
   ]
  },
  {
   "cell_type": "code",
   "execution_count": null,
   "metadata": {},
   "outputs": [],
   "source": [
    "# Fatiar\n",
    "lab[1:6]"
   ]
  },
  {
   "cell_type": "code",
   "execution_count": null,
   "metadata": {},
   "outputs": [],
   "source": [
    "# Tamanho da string, espacos brancos contam tambem\n",
    "len(lab)"
   ]
  },
  {
   "cell_type": "markdown",
   "metadata": {},
   "source": [
    "#### Strings são imutaveis\n",
    "\n",
    "Por se tratar de uma sequência imutável somente podemos realizar somente [operações comuns das sequência](#Operações-comuns-das-sequências)"
   ]
  },
  {
   "cell_type": "code",
   "execution_count": null,
   "metadata": {},
   "outputs": [],
   "source": [
    "lab[3] = \"b\""
   ]
  },
  {
   "cell_type": "markdown",
   "metadata": {},
   "source": [
    "#### Strings em for"
   ]
  },
  {
   "cell_type": "code",
   "execution_count": null,
   "metadata": {},
   "outputs": [],
   "source": [
    "lab = \"LISComp\""
   ]
  },
  {
   "cell_type": "code",
   "execution_count": null,
   "metadata": {},
   "outputs": [],
   "source": [
    "for pos in range(len(lab)):\n",
    "    print(pos,lab[pos])"
   ]
  },
  {
   "cell_type": "code",
   "execution_count": null,
   "metadata": {},
   "outputs": [],
   "source": [
    "for pos,letra in enumerate(lab):\n",
    "    print(pos,letra)"
   ]
  },
  {
   "cell_type": "code",
   "execution_count": null,
   "metadata": {},
   "outputs": [],
   "source": [
    "# exemplo 3\n",
    "for letra in lab:\n",
    "    print(letra)"
   ]
  },
  {
   "cell_type": "markdown",
   "metadata": {},
   "source": [
    "#### Comparações em string\n",
    "\n",
    "As comparações em strings são feitas de acordo com a ordem alfabética do das palavras"
   ]
  },
  {
   "cell_type": "code",
   "execution_count": null,
   "metadata": {},
   "outputs": [],
   "source": [
    "\"Douglitas\" > \"Paulinho\""
   ]
  },
  {
   "cell_type": "markdown",
   "metadata": {},
   "source": [
    "A ordem alfabética em Python é: **abcdefghijklmnopqrstuvwxyzABCDEFGHIJKLMNOPQRSTUVWXYZ** "
   ]
  },
  {
   "cell_type": "markdown",
   "metadata": {},
   "source": [
    "#### Métodos de String\n",
    "\n",
    "Strings implementam todas os [métodos comuns das sequências](#Métodos-comuns-das-sequências), juntamente com os métodos adicionais abaixo."
   ]
  },
  {
   "cell_type": "markdown",
   "metadata": {},
   "source": [
    "|              |                | String Methods |              |                  |\n",
    "|:------------:|:--------------:|:--------------:|:------------:|:----------------:|\n",
    "| capitalize() |     index()    |  isprintable() |   replace()  |   startswith()   |\n",
    "|  casefold()  |    isalnum()   |    isspace()   |    rfind()   |      strip()     |\n",
    "|   center()   |    isalpha()   |    istitle()   |   rindex()   |    swapcase()    |\n",
    "|   encode()   |    isascii()   |    isupper()   |    rjust()   |      title()     |\n",
    "|  endswith()  |   isdecimal()  |     join()     | rpartition() | translate(table) |\n",
    "| expandtabs() |    isdigit()   |     ljust()    |   rsplit()   |      upper()     |\n",
    "|    find()    | isidentifier() |     lower()    |   rstrip()   |      zfill()     |\n",
    "|   format()   |    islower()   |    lstrip()    |    split()   |                  |\n",
    "| format_map() |   isnumeric()  |   partition()  | splitlines() |                  |"
   ]
  },
  {
   "cell_type": "code",
   "execution_count": null,
   "metadata": {},
   "outputs": [],
   "source": [
    "lab = \"Laboratorio de Instrumentacao e Simulacao Computacional\"\n",
    "lab"
   ]
  },
  {
   "cell_type": "code",
   "execution_count": null,
   "metadata": {},
   "outputs": [],
   "source": [
    "# string.upper() Converte todas as letras para maiúsculas\n",
    "lab.upper()"
   ]
  },
  {
   "cell_type": "code",
   "execution_count": null,
   "metadata": {},
   "outputs": [],
   "source": [
    "# string.lower() Converte todas as letras para minúsculas\n",
    "lab.lower()"
   ]
  },
  {
   "cell_type": "code",
   "execution_count": null,
   "metadata": {},
   "outputs": [],
   "source": [
    "# string.title() Converte as letras iniciais de cada palavra para maiúsculas\n",
    "lab.title()"
   ]
  },
  {
   "cell_type": "code",
   "execution_count": null,
   "metadata": {},
   "outputs": [],
   "source": [
    "# string.split(sep=None, maxsplit=-1) \n",
    "# Retorna uma lista de palavras de acordo com o sep e quantas vezes o maxsplit indicar\n",
    "print(lab.split())\n",
    "print(lab.split(\" \"))\n",
    "print(lab.split(sep = \" \", maxsplit = 2))"
   ]
  },
  {
   "cell_type": "code",
   "execution_count": null,
   "metadata": {},
   "outputs": [],
   "source": [
    "# string.split([chars])\n",
    "# Retornar uma copia do string com os caracteres iniciais e finais removidos\n",
    "comment_string = '#....... Section 3.2.1 Issue #32 .......'\n",
    "comment_string.strip('.#! ')"
   ]
  },
  {
   "cell_type": "code",
   "execution_count": null,
   "metadata": {},
   "outputs": [],
   "source": [
    "# string.format()\n",
    "# retorna uma nova sequencia com os campos de substituicao substituidos por seus argumentos formatados adequadamente.\n",
    "print(\"Primeiro, contara ate {0}\".format(5,7,10)) # Referencia ao primeiro argumento \n",
    "print(\"Traga-me um {}\".format(\"tomate\",\"batata\")) # Implicitamente se refere ao primeiro argumento \n",
    "print(\"De {} a {} qual e o nivel de dor?\".format(0,10)) # Igual a \"De {0} a {1}\"\n",
    "print(\"Eu busco o {name}\".format(name=\"Paulo\",idade=22)) # Argumento da palavra-chave de referencias 'name'References keyword argument 'name'\n",
    "print(\"Unidades destruídas: {players[0]}\".format(players = [5,8,10])) # Primeiro elemento do argumento da palavra-chave 'players'."
   ]
  },
  {
   "cell_type": "markdown",
   "metadata": {},
   "source": [
    "## Arquivos de texto\n",
    "\n",
    "Um arquivo texto é uma sequência de caracteres, organizada em linhas, que reside em uma área de armazenamento (e.g., disco rígido, pen drive, CD/DVD) sob nome. Nós só trabalharemos com arquivos textos do tipo \".txt\", bastante usado no armazenamento de dados. Outro tipo de arquivo texto muito utilizado é o \".csv\", aqueles que irão trabalhar com muitos dados frenquentemente usarão esse tipo de arquivo texto.\n",
    "\n",
    "Veremos algumas funções que nós permite trabalhar com esses arquivos texto \".txt\", sejá, ler, editar ou criar\n",
    "\n",
    "### Abrindo arquivo texto\n",
    "\n",
    "![arquivo](img/arquivo.png)\n",
    "\n",
    "dados = **open**(“teste.txt”, “r”) \n",
    "- **Caso o arquivo exista**: Abre o arquivo “teste.txt” no modo leitura. A leitura começará sobre o primeiro caractere da primeira linha do arquivo.\n",
    "- **Caso ele não exista**: causa erro **FileNotFoundError**.\n",
    "\n",
    "dados = **open**(“teste.txt”, “w”)\n",
    "- **Caso o arquivo exista**: Apaga o conteúdo atual do arquivo \"teste.txt\" e abre o arquivo no modo escrita. A escrita começará no início do arquivo.\n",
    "- **Caso ele não exista**: Cria o arquivo \"teste.txt\" no diretório e abre o arquivo no modo escrita. A escrita começará no início do arquivo.\n",
    "\n",
    "dados = **open**(“teste.txt”, “a”)\n",
    "- **Caso o arquivo exista**: Abre o arquivo \"teste.txt\" no modo anexo sem apagar o conteúdo atual. A escrita começará ao final do arquivo. Isto é: Podemos anexar novas informações ao arquivo.\n",
    "- **Caso ele não exista**: Cria o arquivo \"teste.txt\" no diretório e abre o arquivo no modo anexo. A escrita começará no final do arquivo que no caso é o início do arquivo.\n",
    "\n",
    "### Fechando arquivo texto\n",
    "\n",
    "dados.**close()**\n",
    "- Fecha o arquivo texto aberto e não permite qualquer outra ação no arquivo. Todo arquivo deve ser fechado assim que não sera mais usado nas proximas linhas de código. Arquivos abertos sem nenhuma utilidade ocupam a mémoria ram do computador."
   ]
  },
  {
   "cell_type": "code",
   "execution_count": null,
   "metadata": {},
   "outputs": [],
   "source": [
    "# Exemplo\n",
    "dados = open(\"teste.txt\",\"w\")\n",
    "\n",
    "\"...\"\n",
    "\n",
    "dados.close()"
   ]
  },
  {
   "cell_type": "markdown",
   "metadata": {},
   "source": [
    "### Lendo arquivo texto"
   ]
  },
  {
   "cell_type": "code",
   "execution_count": null,
   "metadata": {},
   "outputs": [],
   "source": [
    "# Abrir arquivo no modo leitura\n",
    "dados = open(\"data/exemplo.txt\",\"r\")"
   ]
  },
  {
   "cell_type": "markdown",
   "metadata": {},
   "source": [
    "![arquivor](img/arquivo_r.png)"
   ]
  },
  {
   "cell_type": "code",
   "execution_count": null,
   "metadata": {},
   "outputs": [],
   "source": [
    "# dados.readline() Retorna a linha de texto aonde a \"cabeça\" de leitura está \n",
    "linha = dados.readline()\n",
    "linha "
   ]
  },
  {
   "cell_type": "code",
   "execution_count": null,
   "metadata": {},
   "outputs": [],
   "source": [
    "# strip() com esse método podemos elimitar da linha o caracter especial \"\\n\"(ele é responsavél por pular linhas)\n",
    "linha.strip()"
   ]
  },
  {
   "cell_type": "markdown",
   "metadata": {},
   "source": [
    "![arquivor](img/arquivo_read.png)"
   ]
  },
  {
   "cell_type": "code",
   "execution_count": null,
   "metadata": {},
   "outputs": [],
   "source": [
    "# Podemos iterar nos dados\n",
    "for linha in dados:\n",
    "    print(linha)\n",
    "\n",
    "print(\"fim\")\n",
    "dados.close()"
   ]
  },
  {
   "cell_type": "code",
   "execution_count": null,
   "metadata": {},
   "outputs": [],
   "source": [
    "# Colocando o comando strip() veremos que não terá mais espaços entre as linhas\n",
    "dados = open(\"data/exemplo.txt\",\"r\")\n",
    "for linha in dados:\n",
    "    print(linha.strip())\n",
    "dados.close()"
   ]
  },
  {
   "cell_type": "markdown",
   "metadata": {},
   "source": [
    "### Escrevendo em arquivo texto\n",
    "\n",
    "#### Escrita modo anexo"
   ]
  },
  {
   "cell_type": "code",
   "execution_count": null,
   "metadata": {},
   "outputs": [],
   "source": [
    "# Abrir o arquivo no modo anexo\n",
    "dados = open(\"data/exemplo.txt\",\"a\")"
   ]
  },
  {
   "cell_type": "markdown",
   "metadata": {},
   "source": [
    "![arquivoa](img/arquivo_a.png)"
   ]
  },
  {
   "cell_type": "code",
   "execution_count": null,
   "metadata": {},
   "outputs": [],
   "source": [
    "# dados.write(\"texto\\n\") Escreve no arquivo na posição que a \"cabeça\" de escrita esta posicionada\n",
    "dados.write(\"sexta linha\\n\")\n",
    "dados.write(\"setima linha\\n\")\n",
    "dados.close()"
   ]
  },
  {
   "cell_type": "code",
   "execution_count": null,
   "metadata": {},
   "outputs": [],
   "source": [
    "# Ler o conteúdo do arquivo\n",
    "dados = open(\"data/exemplo.txt\",\"r\")\n",
    "for linha in dados:\n",
    "    print(linha.strip())\n",
    "dados.close()"
   ]
  },
  {
   "cell_type": "markdown",
   "metadata": {},
   "source": [
    "#### Escrita em modo escrita"
   ]
  },
  {
   "cell_type": "code",
   "execution_count": null,
   "metadata": {},
   "outputs": [],
   "source": [
    "# Abrir o arquivo no modo escrita\n",
    "dados = open(\"data/exemplo.txt\",\"w\")"
   ]
  },
  {
   "cell_type": "markdown",
   "metadata": {},
   "source": [
    "![arquivow](img/arquivo_w.png)"
   ]
  },
  {
   "cell_type": "code",
   "execution_count": null,
   "metadata": {},
   "outputs": [],
   "source": [
    "# Ler o conteúdo do arquivo\n",
    "dados = open(\"data/exemplo.txt\",\"r\")\n",
    "if dados.readline() == \"\":\n",
    "    print(\"Arquivo sem contéudo\")\n",
    "dados.close()"
   ]
  },
  {
   "cell_type": "code",
   "execution_count": null,
   "metadata": {},
   "outputs": [],
   "source": [
    "# Reescrever o conteúdo original do arquivo\n",
    "dados = open(\"data/exemplo.txt\",\"w\")\n",
    "dados.write(\"primeira linha\\nsegunda linha\\nterceira linha\\nquarta linha\\nquinta linha\")\n",
    "dados.close()"
   ]
  },
  {
   "cell_type": "code",
   "execution_count": null,
   "metadata": {},
   "outputs": [],
   "source": [
    "# Ler o conteúdo do arquivo\n",
    "dados = open(\"data/exemplo.txt\",\"r\")\n",
    "for linha in dados:\n",
    "    print(linha.strip())\n",
    "dados.close()"
   ]
  },
  {
   "cell_type": "markdown",
   "metadata": {},
   "source": [
    "## Conjunto\n",
    "\n",
    "Um conjunto (**set**) é uma coleção não ordenada de objetos distintos imutável(áveis), tais como números inteiros e de ponto flutuante, Strings e Tuplas. Os usos comuns incluem: teste de associação, remoção de duplicatas de uma sequência e computação de operações matemáticas como interseção, união, diferença e diferença simétrica.\n",
    "\n",
    "Como outras coleções, os conjuntos suportam `x in set`, `len (set)` e `for x in set`. Sendo uma coleção não ordenada, os conjuntos não registram a posição do elemento ou a ordem de inserção. Consequentemente, os conjuntos não suportam indexação, fatiamento ou outro comportamento semelhante a sequência.\n",
    "\n",
    "Atualmente, existem dois tipos de conjuntos *build-in*, **set** e **frozenset**. O tipo de conjunto *set* é mutável - o conteúdo pode ser alterado usando métodos como add() e remove(). O tipo *frozenset* é imutável - seu conteúdo não pode ser alterado após a criação."
   ]
  },
  {
   "cell_type": "markdown",
   "metadata": {},
   "source": [
    "### Iniciar um set"
   ]
  },
  {
   "cell_type": "code",
   "execution_count": null,
   "metadata": {},
   "outputs": [],
   "source": [
    "# Iniciar com chaves {}\n",
    "conjunto1 = {1, 8, 8, 5, 2, 4, 3, 3, 6, 8}\n",
    "conjunto1"
   ]
  },
  {
   "cell_type": "code",
   "execution_count": null,
   "metadata": {},
   "outputs": [],
   "source": [
    "# Iniciar com set()\n",
    "lista = [2, 9, 9, 7, 1, 5, 4, 9, 5, 5]\n",
    "conjunto2 = set(lista)\n",
    "conjunto2"
   ]
  },
  {
   "cell_type": "markdown",
   "metadata": {},
   "source": [
    "### Operações em um conjunto set"
   ]
  },
  {
   "cell_type": "code",
   "execution_count": null,
   "metadata": {},
   "outputs": [],
   "source": [
    "# x in s testa se um elemento x pertence a s\n",
    "9 in conjunto1"
   ]
  },
  {
   "cell_type": "code",
   "execution_count": null,
   "metadata": {},
   "outputs": [],
   "source": [
    "# x in s testa se um elemento x não pertence a s\n",
    "9 not in conjunto2"
   ]
  },
  {
   "cell_type": "code",
   "execution_count": null,
   "metadata": {},
   "outputs": [],
   "source": [
    "conjunto1 = {1,2,3,4,5,6,7,8,9}\n",
    "conjunto2 = {4,5,6,7}"
   ]
  },
  {
   "cell_type": "code",
   "execution_count": null,
   "metadata": {},
   "outputs": [],
   "source": [
    "# set <= other Testa se todos os elementos do set estão em outro.\n",
    "conjunto2 <= conjunto1"
   ]
  },
  {
   "cell_type": "code",
   "execution_count": null,
   "metadata": {},
   "outputs": [],
   "source": [
    "# set <other Testa se o set é um subconjunto de outro, ou seja, set <= other e set! = other.\n",
    "conjunto2 < conjunto1"
   ]
  },
  {
   "cell_type": "code",
   "execution_count": null,
   "metadata": {},
   "outputs": [],
   "source": [
    "# set >= other set> = other Testa se todos os elementos no outro estão no conjunto.\n",
    "conjunto1 >= conjunto2"
   ]
  },
  {
   "cell_type": "code",
   "execution_count": null,
   "metadata": {},
   "outputs": [],
   "source": [
    "# set > other Testa se o conjunto é um superconjunto de other, ou seja, set >= other e set != other.\n",
    "conjunto1 > conjunto2"
   ]
  },
  {
   "cell_type": "code",
   "execution_count": null,
   "metadata": {},
   "outputs": [],
   "source": [
    "conjunto1 = {1,2,3,4,5,6}\n",
    "conjunto2 = {5,6,7,8,9,10}"
   ]
  },
  {
   "cell_type": "code",
   "execution_count": null,
   "metadata": {},
   "outputs": [],
   "source": [
    "# set | other | ... Retorne um novo conjunto com elementos do set e do other.\n",
    "conjunto1 | conjunto2"
   ]
  },
  {
   "cell_type": "code",
   "execution_count": null,
   "metadata": {},
   "outputs": [],
   "source": [
    "# set & other & ... Retorna um novo conjunto com elementos comuns ao set e do other.\n",
    "conjunto1 & conjunto2"
   ]
  },
  {
   "cell_type": "code",
   "execution_count": null,
   "metadata": {},
   "outputs": [],
   "source": [
    "# set - other - ... Retorna um novo conjunto com elementos no set e que não estão no other.\n",
    "conjunto1 - conjunto2"
   ]
  },
  {
   "cell_type": "code",
   "execution_count": null,
   "metadata": {},
   "outputs": [],
   "source": [
    "# set ^ other Retorna um novo conjunto com elementos no set ou em other, mas não em ambos\n",
    "conjunto1 ^ conjunto2"
   ]
  },
  {
   "cell_type": "code",
   "execution_count": null,
   "metadata": {},
   "outputs": [],
   "source": [
    "# set |= other | ... Atualiza o set, adicionando elementos de todos do other.\n",
    "conjunto = set()\n",
    "conjunto |= conjunto1\n",
    "conjunto"
   ]
  },
  {
   "cell_type": "code",
   "execution_count": null,
   "metadata": {},
   "outputs": [],
   "source": [
    "# set &= other & ... Atualiza o set, mantendo apenas os elementos encontrados nele e em other.\n",
    "conjunto &= conjunto2\n",
    "conjunto"
   ]
  },
  {
   "cell_type": "code",
   "execution_count": null,
   "metadata": {},
   "outputs": [],
   "source": [
    "#set -= other | ... Atualiza o set, removendo elementos encontrados em other.\n",
    "conjunto = conjunto1\n",
    "conjunto -= conjunto2\n",
    "conjunto"
   ]
  },
  {
   "cell_type": "code",
   "execution_count": null,
   "metadata": {},
   "outputs": [],
   "source": [
    "# set ^= other Atualiza o set, mantendo apenas os elementos encontrados em cada conjunto, mas não em ambos.\n",
    "conjunto = conjunto1\n",
    "conjunto ^= conjunto2\n",
    "conjunto"
   ]
  },
  {
   "cell_type": "markdown",
   "metadata": {},
   "source": [
    "### Métodos em um conjunto set"
   ]
  },
  {
   "cell_type": "code",
   "execution_count": null,
   "metadata": {},
   "outputs": [],
   "source": [
    "conjunto1 = {1,2,3,4,5,6,7,8,9}\n",
    "conjunto2 = {4,5,6,7}"
   ]
  },
  {
   "cell_type": "code",
   "execution_count": null,
   "metadata": {},
   "outputs": [],
   "source": [
    "# set.isdisjoint(other) Testa se o set não tiver elementos em comum com other. Os conjuntos são disjuntos se e somente se a interseção for o conjunto vazio.\n",
    "conjunto1.isdisjoint(conjunto2)"
   ]
  },
  {
   "cell_type": "code",
   "execution_count": null,
   "metadata": {},
   "outputs": [],
   "source": [
    "# set.issubset(other) Testa se o conjunto é um subconjunto de other, ou seja, set >= other e set != other.\n",
    "conjunto2.issubset(conjunto1)"
   ]
  },
  {
   "cell_type": "code",
   "execution_count": null,
   "metadata": {},
   "outputs": [],
   "source": [
    "# set.issuperset(other) Testa se o conjunto é um superconjunto de other, ou seja, set >= other e set != other.\n",
    "conjunto1.issuperset(conjunto2)"
   ]
  },
  {
   "cell_type": "code",
   "execution_count": null,
   "metadata": {},
   "outputs": [],
   "source": [
    "conjunto1 = {1,2,3,4,5,6}\n",
    "conjunto2 = {5,6,7,8,9,10}"
   ]
  },
  {
   "cell_type": "code",
   "execution_count": null,
   "metadata": {},
   "outputs": [],
   "source": [
    "# set.union(*others) Retorne um novo conjunto com elementos do set e do other.\n",
    "conjunto1.union(conjunto2)"
   ]
  },
  {
   "cell_type": "code",
   "execution_count": null,
   "metadata": {},
   "outputs": [],
   "source": [
    "# set.intersection(*others) Retorna um novo conjunto com elementos comuns ao set e do other.\n",
    "conjunto1.intersection(conjunto2)"
   ]
  },
  {
   "cell_type": "code",
   "execution_count": null,
   "metadata": {},
   "outputs": [],
   "source": [
    "# set.difference(*others) Retorna um novo conjunto com elementos no set e que não estão no other.\n",
    "conjunto1.difference(conjunto2)"
   ]
  },
  {
   "cell_type": "code",
   "execution_count": null,
   "metadata": {},
   "outputs": [],
   "source": [
    "# set.symmetric_difference(other) Retorna um novo conjunto com elementos no set ou em other, mas não em ambos\n",
    "conjunto1.symmetric_difference(conjunto2)"
   ]
  },
  {
   "cell_type": "code",
   "execution_count": null,
   "metadata": {},
   "outputs": [],
   "source": [
    "# set.update(*others) Atualiza o set, adicionando elementos de todos do other.\n",
    "conjunto = set()\n",
    "conjunto |= conjunto1\n",
    "conjunto"
   ]
  },
  {
   "cell_type": "code",
   "execution_count": null,
   "metadata": {},
   "outputs": [],
   "source": [
    "# set.intersection_update(*others)  Atualiza o set, mantendo apenas os elementos encontrados nele e em other.\n",
    "conjunto.intersection_update(conjunto2)\n",
    "conjunto"
   ]
  },
  {
   "cell_type": "code",
   "execution_count": null,
   "metadata": {},
   "outputs": [],
   "source": [
    "# set.difference_update(*others) Atualiza o set, removendo elementos encontrados em other.\n",
    "conjunto = conjunto1\n",
    "conjunto.difference_update(conjunto2)\n",
    "conjunto"
   ]
  },
  {
   "cell_type": "code",
   "execution_count": null,
   "metadata": {},
   "outputs": [],
   "source": [
    "# set.symmetric_difference_update(other) Atualiza o set, mantendo apenas os elementos encontrados em cada conjunto, mas não em ambos.\n",
    "conjunto = conjunto1\n",
    "conjunto.symmetric_difference_update(conjunto2)\n",
    "conjunto"
   ]
  },
  {
   "cell_type": "code",
   "execution_count": null,
   "metadata": {},
   "outputs": [],
   "source": [
    "conjunto = set()\n",
    "conjunto"
   ]
  },
  {
   "cell_type": "code",
   "execution_count": null,
   "metadata": {},
   "outputs": [],
   "source": [
    "# set.add(elem) Adicionar um novo elemento elem ao set\n",
    "conjunto.add(3)\n",
    "conjunto.add(5)\n",
    "conjunto.add(9)\n",
    "conjunto.add(7)\n",
    "conjunto"
   ]
  },
  {
   "cell_type": "code",
   "execution_count": null,
   "metadata": {},
   "outputs": [],
   "source": [
    "# set.remove(elem) Remove o elemento elem do set\n",
    "conjunto.remove(5)\n",
    "conjunto"
   ]
  },
  {
   "cell_type": "code",
   "execution_count": null,
   "metadata": {},
   "outputs": [],
   "source": [
    "# set.discard(elem) Remove o elemento elem do set se presente\n",
    "conjunto.discard(5)\n",
    "conjunto"
   ]
  },
  {
   "cell_type": "code",
   "execution_count": null,
   "metadata": {},
   "outputs": [],
   "source": [
    "# set.pop() Remove e retorrna um elemento arbitrario do set\n",
    "conjunto.pop()"
   ]
  },
  {
   "cell_type": "code",
   "execution_count": null,
   "metadata": {},
   "outputs": [],
   "source": [
    "# set.clear() Remove todos os elementos do set\n",
    "conjunto.clear()\n",
    "conjunto"
   ]
  },
  {
   "cell_type": "markdown",
   "metadata": {},
   "source": [
    "## Dicionário\n",
    "\n",
    "O tipo de dado dicionário (**dict**), é uma estrutura de dados eficiente e mutável, acessada por uma chave, não repetida, que pode ser de qualquer tipo imutável, tal como número, String ou Tupla. O uso básico deste tipo de dado ocorre quando se faz necessária a obtenção de uma estrutura eficiente para armazenamento de pares chave:valor. Para se recuperar um valor, basta informar sua chave.\n",
    "\n",
    "Dicionários tem pares, compostos de chave:valor, iteráveis sobre a chave, podendo seus elementos serem acessados por uma estrutura **for**.\n",
    "\n"
   ]
  },
  {
   "cell_type": "markdown",
   "metadata": {},
   "source": [
    "### Iniciando um dicionário"
   ]
  },
  {
   "cell_type": "code",
   "execution_count": null,
   "metadata": {},
   "outputs": [],
   "source": [
    "a = dict(um=1, dois=2, tres=3)\n",
    "b = {'um': 1, 'dois': 2, 'tres': 3}\n",
    "c = dict([('dois', 2), ('um', 1), ('tres', 3)])\n",
    "d = dict({'tres': 3, 'um': 1, 'dois': 2})\n",
    "a == b == c == d"
   ]
  },
  {
   "cell_type": "markdown",
   "metadata": {},
   "source": [
    "### Operações em dicionário"
   ]
  },
  {
   "cell_type": "code",
   "execution_count": null,
   "metadata": {},
   "outputs": [],
   "source": [
    "# d[key] = value Adiciona um novo item ao dicionário\n",
    "d[\"quatro\"] = 4\n",
    "d"
   ]
  },
  {
   "cell_type": "code",
   "execution_count": null,
   "metadata": {},
   "outputs": [],
   "source": [
    "# del d[key] Deleta o item de d\n",
    "del d[\"um\"]\n",
    "d"
   ]
  },
  {
   "cell_type": "code",
   "execution_count": null,
   "metadata": {},
   "outputs": [],
   "source": [
    "# key in d testa se há a chave key em d\n",
    "\"quatro\" in d"
   ]
  },
  {
   "cell_type": "code",
   "execution_count": null,
   "metadata": {},
   "outputs": [],
   "source": [
    "# key in d testa se não há a chave key em d\n",
    "\"um\" not in d"
   ]
  },
  {
   "cell_type": "markdown",
   "metadata": {},
   "source": [
    "### Métodos em dicionário"
   ]
  },
  {
   "cell_type": "code",
   "execution_count": null,
   "metadata": {},
   "outputs": [],
   "source": [
    "d = dict(nome=\"Paulo\",idade=22,sexo=\"Masculino\",nacionalidade=\"Brasileiro\")\n",
    "d"
   ]
  },
  {
   "cell_type": "code",
   "execution_count": null,
   "metadata": {},
   "outputs": [],
   "source": [
    "# d.copy() retorna uma cópia deep do dicionário\n",
    "new = d.copy()\n",
    "new"
   ]
  },
  {
   "cell_type": "code",
   "execution_count": null,
   "metadata": {},
   "outputs": [],
   "source": [
    "# d.clear() Remove todos os itens do dicionário\n",
    "new.clear()\n",
    "new"
   ]
  },
  {
   "cell_type": "code",
   "execution_count": null,
   "metadata": {},
   "outputs": [],
   "source": [
    "# d.get(key[, default]) Retorna o valor para a chave key se existe key no dicionario, também podemos adicionar \n",
    "# um comentário caso não tenha key\n",
    "d.get(\"nome\"),d.get(\"estado civil\",\"Vazio\")"
   ]
  },
  {
   "cell_type": "code",
   "execution_count": null,
   "metadata": {},
   "outputs": [],
   "source": [
    "# d.items() Retornar uma nova exibição dos itens do dicionário ((key, value) pares)\n",
    "d.items() # é um objeto iterável"
   ]
  },
  {
   "cell_type": "code",
   "execution_count": null,
   "metadata": {},
   "outputs": [],
   "source": [
    "# d.keys() Retorna uma nova exibição das chaves do dicionário\n",
    "d.keys() # é um objeto iterável"
   ]
  },
  {
   "cell_type": "code",
   "execution_count": null,
   "metadata": {},
   "outputs": [],
   "source": [
    "# d.pop(key[, default]) Remove e retorna o valor para a chave key se existe key no dicionario, também podemos adicionar \n",
    "# um comentário caso não tenha key\n",
    "d.pop(\"nome\"),d.pop(\"estado civil\",\"Vazio\")"
   ]
  },
  {
   "cell_type": "code",
   "execution_count": null,
   "metadata": {},
   "outputs": [],
   "source": [
    "# d.popitem() Remove e retorna um par (key, value) do dicionário.\n",
    "d.popitem()"
   ]
  },
  {
   "cell_type": "code",
   "execution_count": null,
   "metadata": {},
   "outputs": [],
   "source": [
    "# d.update({others}) Atualiza o dicionário com os pares key/values de others, substituindo chaves existentes.\n",
    "meus_contatos = {'Yan': '1234-5678','Ana': '8765-4321', 'João': '8887-7778'}\n",
    "contatos_do_pedro = {'Yan': '5678-5678', 'Fernando': '4345-5434','Luiza': '4567-7654'}\n",
    "\n",
    "meus_contatos.update(contatos_do_pedro)\n",
    "print(meus_contatos)"
   ]
  },
  {
   "cell_type": "code",
   "execution_count": null,
   "metadata": {},
   "outputs": [],
   "source": [
    "# d.values() Retornar uma nova visualização dos valores do dicionário\n",
    "d.values() # é um objeto iterável"
   ]
  },
  {
   "cell_type": "code",
   "execution_count": null,
   "metadata": {},
   "outputs": [],
   "source": []
  }
 ],
 "metadata": {
  "kernelspec": {
   "display_name": "Python 3",
   "language": "python",
   "name": "python3"
  },
  "language_info": {
   "codemirror_mode": {
    "name": "ipython",
    "version": 3
   },
   "file_extension": ".py",
   "mimetype": "text/x-python",
   "name": "python",
   "nbconvert_exporter": "python",
   "pygments_lexer": "ipython3",
   "version": "3.7.6"
  }
 },
 "nbformat": 4,
 "nbformat_minor": 4
}
