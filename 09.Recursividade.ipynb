{
 "cells": [
  {
   "cell_type": "markdown",
   "metadata": {},
   "source": [
    "<!--NAVIGATION-->\n",
    "< [Funcoes](08.Funcoes.ipynb) | [Sumario](00.Sumario.ipynb) | [Estrutura de repetição](10.Estrutura_de_repeticao.ipynb) >\n",
    "\n",
    "<a href=\"https://colab.research.google.com/github/psloliveirajr/Introducao_a_Python3/blob/master/09.Recursividade.ipynb\"><img align=\"left\" src=\"https://colab.research.google.com/assets/colab-badge.svg\" alt=\"Open in Colab\" title=\"Open and Execute in Google Colaboratory\"></a>"
   ]
  },
  {
   "cell_type": "markdown",
   "metadata": {},
   "source": [
    "## Recursividade"
   ]
  },
  {
   "cell_type": "markdown",
   "metadata": {},
   "source": [
    "### Escopo\n",
    "\n",
    "Quando você usa um nome em um programa, o Python cria, altera ou consulta o nome de uma variavél no que é conhecido como *namespace* - um local onde os nomes residem. Quando falamos sobre a pesquisa do valor de uma variável em **relação ao código**, o termo **escopo** refere-se a um *namespace*: ou seja, o local da atribuição de um valor a uma variável no código determina o seu escopo de visibilidade no código.\n",
    "\n",
    "Sendo assim, uma mesma variável  pode se referir a diferentes objetos, em um mesmo código, mas essa variável tem que estar em escopos diferentes. Em Python temos o total de 4 escopos, *local* (**L**), *enclosed function* (**E**), *global* (**G**) e *built-in* (**B**), formando a regra **LEGB**. Trata-se de uma regra de prioridade para determinar qual escopo o Python irá acessar quando quiser cria, altera ou consulta o nome de uma variável, sendo a maior prioridade o *local* e menor prioridade *built-in*\n",
    "\n",
    "![escopo](img/Escopo.png)"
   ]
  },
  {
   "cell_type": "code",
   "execution_count": null,
   "metadata": {
    "ExecuteTime": {
     "end_time": "2020-08-29T08:22:06.166113Z",
     "start_time": "2020-08-29T08:22:06.079913Z"
    }
   },
   "outputs": [],
   "source": [
    "# Exemplo de escopos para o pi  \n",
    "# Escopo built-in\n",
    "print(pi) \n",
    "def enclosed(): \n",
    "    def local(): \n",
    "        print(pi)\n",
    "        return None\n",
    "    local()\n",
    "    print(pi)\n",
    "    return None\n",
    "enclosed()\n",
    "print(pi) # O resultado de pi importado da biblioteca não aparece, pois o escopo global sobressai"
   ]
  },
  {
   "cell_type": "markdown",
   "metadata": {},
   "source": [
    "![escopodiagrama](img/Escopo_diagrama.png)"
   ]
  },
  {
   "cell_type": "markdown",
   "metadata": {},
   "source": [
    "### Pilha de ativação\n",
    "\n",
    "Quando uma função é chamada, duas tarefas são executadas:\n",
    "\n",
    "- Criação de um escopo para as variáveis e parâmetros da função;\n",
    "- Passagem efetiva de parâmetros.\n",
    "\n",
    "Durante a execução de um programa uma área especial da memória é organizada em forma de pilha (“stack”). Ela é utilizada para armazenar os valores das variáveis e parâmetros das funções. Outra área é organizada para manter as variáveis globais do programa principal.\n",
    "\n",
    "Quando o programa principal é iniciado, um espaço é criado para manter as variáveis globais. Sempre que uma função é ativada, um espaço contendo os valores das variáveis locais e dos parâmetros é reservado no topo da pilha. Ao fim de uma função, seu espaço é automaticamente eliminado do topo da pilha, podendo ser reutilizado.\n",
    "\n",
    "![pilha](img/pilha.png)"
   ]
  },
  {
   "cell_type": "code",
   "execution_count": null,
   "metadata": {
    "ExecuteTime": {
     "end_time": "2020-08-29T08:22:06.168886Z",
     "start_time": "2020-08-29T08:22:05.761Z"
    }
   },
   "outputs": [],
   "source": [
    "# Programa Completo\n",
    "\n",
    "# Subprograma\n",
    "def soma(x,y):\n",
    "    \"\"\"\n",
    "    Retorna a soma dos números atribuidos\n",
    "    \"\"\"\n",
    "    return x + y\n",
    "\n",
    "# Programa Principal\n",
    "x = 2\n",
    "y = 3\n",
    "z = soma(x,y)\n",
    "print(z)"
   ]
  },
  {
   "cell_type": "markdown",
   "metadata": {},
   "source": [
    "### Recursão\n",
    "\n",
    "Recursão é um método de resolução de problemas que envolve quebrar um problema em subproblemas menores e menores até chegar a um problema pequeno o suficiente para que ele possa ser resolvido trivialmente. Normalmente recursão envolve uma função que chama a si mesma. Embora possa não parecer muito, a recursão nos permite escrever soluções elegantes para problemas que, de outra forma, podem ser muito difíceis de programar.\n",
    "\n",
    "EX: **FATORIAL**\n",
    "\n",
    "![recursividade1](img/recursividade1.png)\n",
    "![recursividade2](img/recursividade2.png)\n",
    "![recursividade3](img/recursividade3.png)\n",
    "![recursividade4](img/recursividade4.png)"
   ]
  },
  {
   "cell_type": "code",
   "execution_count": null,
   "metadata": {
    "ExecuteTime": {
     "end_time": "2020-08-29T08:22:06.170368Z",
     "start_time": "2020-08-29T08:22:05.809Z"
    }
   },
   "outputs": [],
   "source": [
    "def fat(n):\n",
    "    \"\"\"\n",
    "    Retorna o fatorial do número atribuido\n",
    "    \"\"\"\n",
    "    if n == 0: # condição de parada\n",
    "        return 1\n",
    "    else:\n",
    "        return n*fat(n-1) # chamada recursiva\n",
    "\n",
    "x = fat(int(input(\"Digite um número inteiro positivo: \")))\n",
    "print(x)"
   ]
  },
  {
   "cell_type": "markdown",
   "metadata": {},
   "source": [
    "<!--NAVIGATION-->\n",
    "< [Funcoes](08.Funcoes.ipynb) | [Sumario](00.Sumario.ipynb) | [Estrutura de repetição](10.Estrutura_de_repeticao.ipynb) >\n",
    "\n",
    "<a href=\"https://colab.research.google.com/github/psloliveirajr/Introducao_a_Python3/blob/master/09.Recursividade.ipynb\"><img align=\"left\" src=\"https://colab.research.google.com/assets/colab-badge.svg\" alt=\"Open in Colab\" title=\"Open and Execute in Google Colaboratory\"></a>"
   ]
  },
  {
   "cell_type": "code",
   "execution_count": null,
   "metadata": {},
   "outputs": [],
   "source": []
  }
 ],
 "metadata": {
  "kernelspec": {
   "display_name": "Python 3",
   "language": "python",
   "name": "python3"
  },
  "language_info": {
   "codemirror_mode": {
    "name": "ipython",
    "version": 3
   },
   "file_extension": ".py",
   "mimetype": "text/x-python",
   "name": "python",
   "nbconvert_exporter": "python",
   "pygments_lexer": "ipython3",
   "version": "3.8.5"
  },
  "nbTranslate": {
   "displayLangs": [
    "fr",
    "en"
   ],
   "hotkey": "alt-t",
   "langInMainMenu": true,
   "sourceLang": "en",
   "targetLang": "fr",
   "useGoogleTranslate": true
  },
  "toc": {
   "base_numbering": 1,
   "nav_menu": {},
   "number_sections": true,
   "sideBar": true,
   "skip_h1_title": false,
   "title_cell": "Table of Contents",
   "title_sidebar": "Contents",
   "toc_cell": false,
   "toc_position": {},
   "toc_section_display": true,
   "toc_window_display": false
  },
  "varInspector": {
   "cols": {
    "lenName": 16,
    "lenType": 16,
    "lenVar": 40
   },
   "kernels_config": {
    "python": {
     "delete_cmd_postfix": "",
     "delete_cmd_prefix": "del ",
     "library": "var_list.py",
     "varRefreshCmd": "print(var_dic_list())"
    },
    "r": {
     "delete_cmd_postfix": ") ",
     "delete_cmd_prefix": "rm(",
     "library": "var_list.r",
     "varRefreshCmd": "cat(var_dic_list()) "
    }
   },
   "types_to_exclude": [
    "module",
    "function",
    "builtin_function_or_method",
    "instance",
    "_Feature"
   ],
   "window_display": false
  }
 },
 "nbformat": 4,
 "nbformat_minor": 4
}
