{
 "cells": [
  {
   "cell_type": "markdown",
   "metadata": {},
   "source": [
    "# Fundamentos de Linguagem de Programação em Python\n",
    "\n",
    "![logo](img/logo_curso.png)\n",
    "\n",
    "*créditos:* Victor Hugo Mendes M. Gallo\n",
    "\n",
    "## Sumário\n",
    "\n",
    "### 1. [Introdução](01.Introducao.ipynb)\n",
    "### 2. [Tipos de objetos básicos](02.Tipos_de_objetos_basicos.ipynb)\n",
    "### 3. [Mais operadores](03.Mais_operadores.ipynb)\n",
    "### 4. [Manipulação de variáveis](04.Manipulacao_de_variaveis.ipynb)\n",
    "### 5. [Funções básicas](05.Funcoes_basicas.ipynb)\n",
    "### 6. [Debugging](06.Debugging.ipynb)\n",
    "### 7. [Estrutura de seleção](07.Estrutura_de_selecao.ipynb)\n",
    "### 8. [Funções](08.Funcoes.ipynb)\n",
    "### 9. [Recursividade](09.Recursividade.ipynb)\n",
    "### 10. [Estrutura de repetição](10.Estrutura_de_repeticao.ipynb)\n",
    "### 11. [Sequência de objetos](11.Sequencia_de_objetos.ipynb)\n",
    "### 12. [Arquivos de texto](12.Arquivos_de_texto.ipynb)\n",
    "### 13. [Conjunto](13.Conjunto.ipynb)\n",
    "### 14. [Dicionario](14.Dicionario.ipynb)\n",
    "### 15. [Módulos](15.Dicionario.ipynb)\n",
    "### 16. [Numpy](16.Numpy.ipynb)\n",
<<<<<<< HEAD
    "### 17. [Pandas](17.Pandas.ipynb)"
=======
    "### 17. [Pandas](17.Pandas.ipynb)\n",
>>>>>>> 0932d80e05a23ebaaf070d0120d0eae33c31270a
   ]
  },
  {
   "cell_type": "code",
   "execution_count": null,
   "metadata": {},
   "outputs": [],
   "source": []
  }
 ],
 "metadata": {
  "kernelspec": {
   "display_name": "Python 3",
   "language": "python",
   "name": "python3"
  },
  "language_info": {
   "codemirror_mode": {
    "name": "ipython",
    "version": 3
   },
   "file_extension": ".py",
   "mimetype": "text/x-python",
   "name": "python",
   "nbconvert_exporter": "python",
   "pygments_lexer": "ipython3",
   "version": "3.8.5"
  },
  "nbTranslate": {
   "displayLangs": [
    "fr",
    "en"
   ],
   "hotkey": "alt-t",
   "langInMainMenu": true,
   "sourceLang": "en",
   "targetLang": "fr",
   "useGoogleTranslate": true
  },
  "toc": {
   "base_numbering": 1,
   "nav_menu": {},
   "number_sections": false,
   "sideBar": true,
   "skip_h1_title": false,
   "title_cell": "Table of Contents",
   "title_sidebar": "Contents",
   "toc_cell": false,
   "toc_position": {},
   "toc_section_display": true,
   "toc_window_display": true
  },
  "varInspector": {
   "cols": {
    "lenName": 16,
    "lenType": 16,
    "lenVar": 40
   },
   "kernels_config": {
    "python": {
     "delete_cmd_postfix": "",
     "delete_cmd_prefix": "del ",
     "library": "var_list.py",
     "varRefreshCmd": "print(var_dic_list())"
    },
    "r": {
     "delete_cmd_postfix": ") ",
     "delete_cmd_prefix": "rm(",
     "library": "var_list.r",
     "varRefreshCmd": "cat(var_dic_list()) "
    }
   },
   "types_to_exclude": [
    "module",
    "function",
    "builtin_function_or_method",
    "instance",
    "_Feature"
   ],
   "window_display": false
  }
 },
 "nbformat": 4,
 "nbformat_minor": 4
}
