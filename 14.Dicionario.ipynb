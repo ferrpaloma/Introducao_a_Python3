{
 "cells": [
  {
   "cell_type": "markdown",
   "metadata": {},
   "source": [
    "<!--NAVIGATION-->\n",
    "< [Conjunto](13.Conjunto.ipynb) | [Sumario](00.Sumario.ipynb) | [Módulos](15.Modulos.ipynb) >\n",
    "\n",
    "<a href=\"https://colab.research.google.com/github/psloliveirajr/Introducao_a_Python3/blob/master/14.Dicionario.ipynb\"><img align=\"left\" src=\"https://colab.research.google.com/assets/colab-badge.svg\" alt=\"Open in Colab\" title=\"Open and Execute in Google Colaboratory\"></a>"
   ]
  },
  {
   "cell_type": "markdown",
   "metadata": {},
   "source": [
    "## Dicionário\n",
    "\n",
    "O tipo de dado dicionário (**dict**), é uma estrutura de dados eficiente e mutável, acessada por uma chave, não repetida, que pode ser de qualquer tipo imutável, tal como número, String ou Tupla. O uso básico deste tipo de dado ocorre quando se faz necessária a obtenção de uma estrutura eficiente para armazenamento de pares chave:valor. Para se recuperar um valor, basta informar sua chave.\n",
    "\n",
    "Dicionários tem pares, compostos de chave:valor, iteráveis sobre a chave, podendo seus elementos serem acessados por uma estrutura **for**.\n",
    "\n"
   ]
  },
  {
   "cell_type": "markdown",
   "metadata": {},
   "source": [
    "### Iniciando um dicionário"
   ]
  },
  {
   "cell_type": "code",
   "execution_count": null,
   "metadata": {},
   "outputs": [],
   "source": [
    "a = dict(um=1, dois=2, tres=3)\n",
    "b = {'um': 1, 'dois': 2, 'tres': 3}\n",
    "c = dict([('dois', 2), ('um', 1), ('tres', 3)])\n",
    "d = {'tres': 3, 'um': 1, 'dois': 2}\n",
    "a == b == c == d"
   ]
  },
  {
   "cell_type": "code",
   "execution_count": null,
   "metadata": {},
   "outputs": [],
   "source": [
    "d"
   ]
  },
  {
   "cell_type": "markdown",
   "metadata": {},
   "source": [
    "### Operações em dicionário"
   ]
  },
  {
   "cell_type": "code",
   "execution_count": null,
   "metadata": {},
   "outputs": [],
   "source": [
    "# d[key] = value Adiciona um novo item ao dicionário\n",
    "d[\"quatro\"] = 4\n",
    "d"
   ]
  },
  {
   "cell_type": "code",
   "execution_count": null,
   "metadata": {},
   "outputs": [],
   "source": [
    "# del d[key] Deleta o item de d\n",
    "del d[\"um\"]\n",
    "d"
   ]
  },
  {
   "cell_type": "code",
   "execution_count": null,
   "metadata": {},
   "outputs": [],
   "source": [
    "# key in d testa se há a chave key em d\n",
    "\"quatro\" in d"
   ]
  },
  {
   "cell_type": "code",
   "execution_count": null,
   "metadata": {},
   "outputs": [],
   "source": [
    "# key in d testa se não há a chave key em d\n",
    "\"um\" not in d"
   ]
  },
  {
   "cell_type": "markdown",
   "metadata": {},
   "source": [
    "### Métodos em dicionário"
   ]
  },
  {
   "cell_type": "code",
   "execution_count": null,
   "metadata": {},
   "outputs": [],
   "source": [
    "d = dict(nome=\"Paulo\",idade=22,sexo=\"Masculino\",nacionalidade=\"Brasileiro\",apelido=\"Paulinho\")\n",
    "d"
   ]
  },
  {
   "cell_type": "code",
   "execution_count": null,
   "metadata": {},
   "outputs": [],
   "source": [
    "# d.copy() retorna uma cópia deep do dicionário\n",
    "new = d.copy()\n",
    "new"
   ]
  },
  {
   "cell_type": "code",
   "execution_count": null,
   "metadata": {},
   "outputs": [],
   "source": [
    "# d.clear() Remove todos os itens do dicionário\n",
    "new.clear()\n",
    "new"
   ]
  },
  {
   "cell_type": "code",
   "execution_count": null,
   "metadata": {},
   "outputs": [],
   "source": [
    "# d.get(key[, default]) Retorna o valor para a chave key se existe key no dicionario, também podemos adicionar \n",
    "# um comentário caso não tenha key\n",
    "d.get(\"nome\"),d.get(\"estado civil\",\"Vazio\")"
   ]
  },
  {
   "cell_type": "code",
   "execution_count": null,
   "metadata": {},
   "outputs": [],
   "source": [
    "# d.items() Retornar uma nova exibição dos itens do dicionário ((key, value) pares)\n",
    "d.items() # é um objeto iterável"
   ]
  },
  {
   "cell_type": "code",
   "execution_count": null,
   "metadata": {},
   "outputs": [],
   "source": [
    "# d.keys() Retorna uma nova exibição das chaves do dicionário\n",
    "d.keys() # é um objeto iterável"
   ]
  },
  {
   "cell_type": "code",
   "execution_count": null,
   "metadata": {},
   "outputs": [],
   "source": [
    "# d.values() Retornar uma nova visualização dos valores do dicionário\n",
    "d.values() # é um objeto iterável"
   ]
  },
  {
   "cell_type": "code",
   "execution_count": null,
   "metadata": {},
   "outputs": [],
   "source": [
    "# d.pop(key[, default]) Remove e retorna o valor para a chave key se existe key no dicionario, também podemos adicionar \n",
    "# um comentário caso não tenha key\n",
    "d.pop(\"nome\"),d.pop(\"estado civil\",\"Vazio\")"
   ]
  },
  {
   "cell_type": "code",
   "execution_count": null,
   "metadata": {},
   "outputs": [],
   "source": [
    "# d.popitem() Remove e retorna um par (key, value) do dicionário.\n",
    "d.popitem()"
   ]
  },
  {
   "cell_type": "code",
   "execution_count": null,
   "metadata": {},
   "outputs": [],
   "source": [
    "# d.update({others}) Atualiza o dicionário com os pares key/values de others, substituindo chaves existentes.\n",
    "meus_contatos = {'Yan': '1234-5678','Ana': '8765-4321', 'João': '8887-7778'}\n",
    "contatos_do_pedro = {'Yan': '5678-5678', 'Fernando': '4345-5434','Luiza': '4567-7654'}\n",
    "\n",
    "meus_contatos.update(contatos_do_pedro)\n",
    "print(meus_contatos)"
   ]
  },
  {
   "cell_type": "markdown",
   "metadata": {},
   "source": [
    "### For em dicionário"
   ]
  },
  {
   "cell_type": "code",
   "execution_count": null,
   "metadata": {
    "ExecuteTime": {
     "end_time": "2020-08-28T09:03:28.719013Z",
     "start_time": "2020-08-28T09:03:28.713343Z"
    },
    "scrolled": true
   },
   "outputs": [],
   "source": [
    "informacao_paulinho = dict(nome=\"Paulo\",idade=22,sexo=\"Masculino\",nacionalidade=\"Brasileiro\")\n",
    "\n",
    "for values in informacao_paulinho.values():\n",
    "    print(values)"
   ]
  },
  {
   "cell_type": "markdown",
   "metadata": {},
   "source": [
    "<!--NAVIGATION-->\n",
    "< [Conjunto](13.Conjunto.ipynb) | [Sumario](00.Sumario.ipynb) | [Módulos](15.Modulos.ipynb) >\n",
    "\n",
    "<a href=\"https://colab.research.google.com/github/psloliveirajr/Introducao_a_Python3/blob/master/14.Dicionario.ipynb\"><img align=\"left\" src=\"https://colab.research.google.com/assets/colab-badge.svg\" alt=\"Open in Colab\" title=\"Open and Execute in Google Colaboratory\"></a>"
   ]
  }
 ],
 "metadata": {
  "kernelspec": {
   "display_name": "Python 3",
   "language": "python",
   "name": "python3"
  },
  "language_info": {
   "codemirror_mode": {
    "name": "ipython",
    "version": 3
   },
   "file_extension": ".py",
   "mimetype": "text/x-python",
   "name": "python",
   "nbconvert_exporter": "python",
   "pygments_lexer": "ipython3",
   "version": "3.8.5"
  },
  "nbTranslate": {
   "displayLangs": [
    "fr",
    "en"
   ],
   "hotkey": "alt-t",
   "langInMainMenu": true,
   "sourceLang": "en",
   "targetLang": "fr",
   "useGoogleTranslate": true
  },
  "toc": {
   "base_numbering": 1,
   "nav_menu": {},
   "number_sections": true,
   "sideBar": true,
   "skip_h1_title": false,
   "title_cell": "Table of Contents",
   "title_sidebar": "Contents",
   "toc_cell": false,
   "toc_position": {},
   "toc_section_display": true,
   "toc_window_display": false
  },
  "varInspector": {
   "cols": {
    "lenName": 16,
    "lenType": 16,
    "lenVar": 40
   },
   "kernels_config": {
    "python": {
     "delete_cmd_postfix": "",
     "delete_cmd_prefix": "del ",
     "library": "var_list.py",
     "varRefreshCmd": "print(var_dic_list())"
    },
    "r": {
     "delete_cmd_postfix": ") ",
     "delete_cmd_prefix": "rm(",
     "library": "var_list.r",
     "varRefreshCmd": "cat(var_dic_list()) "
    }
   },
   "types_to_exclude": [
    "module",
    "function",
    "builtin_function_or_method",
    "instance",
    "_Feature"
   ],
   "window_display": false
  }
 },
 "nbformat": 4,
 "nbformat_minor": 4
}
