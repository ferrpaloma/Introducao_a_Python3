{
 "cells": [
  {
   "cell_type": "markdown",
   "metadata": {},
   "source": [
    "<!--NAVIGATION-->\n",
    "< [Numpy](16.Numpy.ipynb) | [Sumario](00.Sumario.ipynb) |\n",
    "\n",
    "<a href=\"https://colab.research.google.com/github/psloliveirajr/Introducao_a_Python3/blob/master/17.Pandas.ipynb\"><img align=\"left\" src=\"https://colab.research.google.com/assets/colab-badge.svg\" alt=\"Open in Colab\" title=\"Open and Execute in Google Colaboratory\"></a>"
   ]
  },
  {
   "cell_type": "markdown",
   "metadata": {
    "ExecuteTime": {
     "end_time": "2020-08-28T02:14:11.946483Z",
     "start_time": "2020-08-28T02:14:11.850215Z"
    }
   },
   "source": [
    "# Introdução a Pandas\n",
    "\n",
    "Pandas é um pacote mais recente construído sobre NumPy e fornece uma implementação eficiente de um DataFrame. DataFrames são matrizes essencialmente multidimensionais com rótulos de linha e coluna anexados e, frequentemente, com tipos heterogêneos e/ou dados ausentes. Além de oferecer uma interface de armazenamento conveniente para dados rotulados, o Pandas implementa uma série de operações de dados poderosas, familiares aos usuários de estruturas de banco de dados e programas de planilha (Excel).\n",
    "\n",
    "O Pandas, e em particular seus objetos Series e DataFrame, baseia-se na estrutura de array NumPy e fornece acesso eficiente a esses tipos de tarefas de \"manipulação de dados\" que ocupam muito do tempo de um cientista de dados.\n",
    "\n",
    "No nível mais básico, os objetos Pandas podem ser considerados como versões aprimoradas de matrizes estruturadas NumPy nas quais as linhas e colunas são identificadas com rótulos em vez de índices inteiros simples. O Pandas fornece uma série de ferramentas, métodos e funcionalidades úteis além das estruturas de dados básicas, mas quase tudo o que se segue exigirá uma compreensão do que são essas estruturas. Portanto, antes de prosseguirmos, vamos introduzir essas três estruturas de dados fundamentais do Pandas: o `` Series``, o `` DataFrame`` e o `` Index``.\n",
    "\n",
    "Iniciaremos nossas sessões de código com as importações padrão de NumPy e Pandas:"
   ]
  },
  {
   "cell_type": "code",
   "execution_count": null,
   "metadata": {
    "ExecuteTime": {
     "end_time": "2020-08-29T08:29:08.358194Z",
     "start_time": "2020-08-29T08:29:08.177488Z"
    }
   },
   "outputs": [],
   "source": [
    "import numpy as np\n",
    "import pandas as pd"
   ]
  },
  {
   "cell_type": "markdown",
   "metadata": {},
   "source": [
    "# O objeto Series do Pandas\n",
    "\n",
    "Um Pandas `` Series`` é uma matriz unidimensional de dados indexados.\n",
    "Ele pode ser criado a partir de uma lista ou matriz da seguinte maneira:"
   ]
  },
  {
   "cell_type": "code",
   "execution_count": null,
   "metadata": {
    "ExecuteTime": {
     "end_time": "2020-08-29T08:29:08.554077Z",
     "start_time": "2020-08-29T08:29:08.537126Z"
    }
   },
   "outputs": [],
   "source": [
    "data = pd.Series([0.25, 0.5, 0.75, 1.0])\n",
    "data"
   ]
  },
  {
   "cell_type": "markdown",
   "metadata": {},
   "source": [
    "Como podemos ver na saída, o `` Series`` envolve uma sequência de valores e uma sequência de índices, que podemos acessar com os atributos `` values`` e `` index``.\n",
    "Os `` values`` são simplesmente uma matriz NumPy:"
   ]
  },
  {
   "cell_type": "code",
   "execution_count": null,
   "metadata": {
    "ExecuteTime": {
     "end_time": "2020-08-29T08:29:08.900922Z",
     "start_time": "2020-08-29T08:29:08.896966Z"
    }
   },
   "outputs": [],
   "source": [
    "data.values"
   ]
  },
  {
   "cell_type": "markdown",
   "metadata": {},
   "source": [
    "O `` index`` é um objeto semelhante a um array do tipo `` pd.Index``, que discutiremos em mais detalhes momentaneamente."
   ]
  },
  {
   "cell_type": "code",
   "execution_count": null,
   "metadata": {
    "ExecuteTime": {
     "end_time": "2020-08-29T08:29:09.250817Z",
     "start_time": "2020-08-29T08:29:09.246962Z"
    }
   },
   "outputs": [],
   "source": [
    "data.index"
   ]
  },
  {
   "cell_type": "markdown",
   "metadata": {},
   "source": [
    "Como com uma matriz NumPy, os dados podem ser acessados pelo índice associado por meio da conhecida notação de colchetes do Python:"
   ]
  },
  {
   "cell_type": "code",
   "execution_count": null,
   "metadata": {
    "ExecuteTime": {
     "end_time": "2020-08-29T08:29:09.600749Z",
     "start_time": "2020-08-29T08:29:09.597052Z"
    }
   },
   "outputs": [],
   "source": [
    "data[1]"
   ]
  },
  {
   "cell_type": "code",
   "execution_count": null,
   "metadata": {
    "ExecuteTime": {
     "end_time": "2020-08-29T08:29:09.799449Z",
     "start_time": "2020-08-29T08:29:09.792934Z"
    }
   },
   "outputs": [],
   "source": [
    "data[1:3]"
   ]
  },
  {
   "cell_type": "markdown",
   "metadata": {},
   "source": [
    "Como veremos, as `` Series`` Pandas é muito mais geral e flexível do que a matriz NumPy unidimensional que ele emula."
   ]
  },
  {
   "cell_type": "markdown",
   "metadata": {},
   "source": [
    "## ``Series`` como matriz NumPy generalizada"
   ]
  },
  {
   "cell_type": "markdown",
   "metadata": {},
   "source": [
    "Pelo que vimos até agora, pode parecer que o objeto `` Series`` é basicamente intercambiável com um array NumPy unidimensional. A diferença essencial é a presença do índice: enquanto o Numpy Array tem um índice inteiro *implicitamente definido* usado para acessar os valores, o Pandas `` Series`` tem um índice *explicitamente definido* associado aos valores.\n",
    "\n",
    "Esta definição de índice explícita dá ao objeto `` Series`` recursos adicionais. Por exemplo, o índice não precisa ser um número inteiro, mas pode consistir em valores de qualquer tipo desejado.\n",
    "Por exemplo, se desejarmos, podemos usar strings como um índice:"
   ]
  },
  {
   "cell_type": "code",
   "execution_count": null,
   "metadata": {
    "ExecuteTime": {
     "end_time": "2020-08-29T08:29:10.463794Z",
     "start_time": "2020-08-29T08:29:10.441238Z"
    }
   },
   "outputs": [],
   "source": [
    "data = pd.Series([0.25, 0.5, 0.75, 1.0],\n",
    "                 index=['a', 'b', 'c', 'd'])\n",
    "data"
   ]
  },
  {
   "cell_type": "markdown",
   "metadata": {},
   "source": [
    "E o acesso ao item funciona conforme o esperado:"
   ]
  },
  {
   "cell_type": "code",
   "execution_count": null,
   "metadata": {
    "ExecuteTime": {
     "end_time": "2020-08-29T08:29:10.799663Z",
     "start_time": "2020-08-29T08:29:10.794664Z"
    }
   },
   "outputs": [],
   "source": [
    "data['b']"
   ]
  },
  {
   "cell_type": "markdown",
   "metadata": {},
   "source": [
    "Podemos até usar índices não contíguos ou não sequenciais:"
   ]
  },
  {
   "cell_type": "code",
   "execution_count": null,
   "metadata": {
    "ExecuteTime": {
     "end_time": "2020-08-29T08:29:11.159221Z",
     "start_time": "2020-08-29T08:29:11.151204Z"
    }
   },
   "outputs": [],
   "source": [
    "data = pd.Series([0.25, 0.5, 0.75, 1.0],\n",
    "                 index=[2, 5, 3, 7])\n",
    "data"
   ]
  },
  {
   "cell_type": "code",
   "execution_count": null,
   "metadata": {
    "ExecuteTime": {
     "end_time": "2020-08-29T08:29:11.362367Z",
     "start_time": "2020-08-29T08:29:11.343006Z"
    }
   },
   "outputs": [],
   "source": [
    "data[5]"
   ]
  },
  {
   "cell_type": "markdown",
   "metadata": {
    "lang": "en"
   },
   "source": [
    "## Série como dicionário especializado\n",
    "\n",
    "Desta forma, você pode pensar em uma `` Series`` Pandas um pouco como uma especialização de um dicionário Python.\n",
    "Um dicionário é uma estrutura que mapeia chaves arbitrárias para um conjunto de valores arbitrários, e uma `` Série`` é uma estrutura que mapeia chaves digitadas para um conjunto de valores digitados.\n",
    "Essa digitação é importante: assim como o código compilado específico do tipo por trás de uma matriz NumPy o torna mais eficiente do que uma lista Python para certas operações, a informação de tipo de uma `` Series`` Pandas o torna muito mais eficiente do que os dicionários Python com certas operações.\n",
    "\n",
    "A analogia `` Series``como um dicionario pode ser ainda mais clara construindo um objeto `` Series`` diretamente de um dicionário Python:"
   ]
  },
  {
   "cell_type": "code",
   "execution_count": null,
   "metadata": {
    "ExecuteTime": {
     "end_time": "2020-08-29T08:29:11.635992Z",
     "start_time": "2020-08-29T08:29:11.628957Z"
    }
   },
   "outputs": [],
   "source": [
    "population_dict = {'California': 38332521,\n",
    "                   'Texas': 26448193,\n",
    "                   'New York': 19651127,\n",
    "                   'Florida': 19552860,\n",
    "                   'Illinois': 12882135}\n",
    "population = pd.Series(population_dict)\n",
    "population"
   ]
  },
  {
   "cell_type": "markdown",
   "metadata": {},
   "source": [
    "Por padrão, uma `` Series`` será criada onde o índice é extraído das chaves. A partir daqui, o acesso a um item é da mesma maneira que um dicionário:"
   ]
  },
  {
   "cell_type": "code",
   "execution_count": null,
   "metadata": {
    "ExecuteTime": {
     "end_time": "2020-08-29T08:29:11.983851Z",
     "start_time": "2020-08-29T08:29:11.978715Z"
    }
   },
   "outputs": [],
   "source": [
    "population['California']"
   ]
  },
  {
   "cell_type": "markdown",
   "metadata": {},
   "source": [
    "Ao contrário de um dicionário, o `` Series`` também suporta operações no estilo matriz, como o fatiamento:"
   ]
  },
  {
   "cell_type": "code",
   "execution_count": null,
   "metadata": {
    "ExecuteTime": {
     "end_time": "2020-08-29T08:29:12.330697Z",
     "start_time": "2020-08-29T08:29:12.323274Z"
    }
   },
   "outputs": [],
   "source": [
    "population['California':'Illinois']"
   ]
  },
  {
   "cell_type": "markdown",
   "metadata": {
    "lang": "pt"
   },
   "source": [
    "## Construindo objetos Series\n",
    "\n",
    "Já vimos algumas maneiras de construir uma `` Série`` Pandas do zero; todos eles são alguma versão do seguinte:\n",
    "\n",
    "```python\n",
    ">>> pd.Series (dados, index = index)\n",
    "```\n",
    "\n",
    "onde `` index`` é um argumento opcional, e `` dados`` pode ser uma de muitas entidades.\n",
    "\n",
    "Por exemplo, `` dados`` pode ser uma lista ou array NumPy, em cujo caso `` index`` é padronizado para uma sequência inteira:"
   ]
  },
  {
   "cell_type": "code",
   "execution_count": null,
   "metadata": {
    "ExecuteTime": {
     "end_time": "2020-08-29T08:29:12.686656Z",
     "start_time": "2020-08-29T08:29:12.678848Z"
    }
   },
   "outputs": [],
   "source": [
    "pd.Series([2, 4, 6])"
   ]
  },
  {
   "cell_type": "markdown",
   "metadata": {
    "lang": "pt"
   },
   "source": [
    "`` dados`` pode ser um escalar, que é repetido para preencher o índice especificado:"
   ]
  },
  {
   "cell_type": "code",
   "execution_count": null,
   "metadata": {
    "ExecuteTime": {
     "end_time": "2020-08-29T08:29:13.037278Z",
     "start_time": "2020-08-29T08:29:13.031680Z"
    }
   },
   "outputs": [],
   "source": [
    "pd.Series(5, index=[100, 200, 300])"
   ]
  },
  {
   "cell_type": "markdown",
   "metadata": {
    "lang": "pt"
   },
   "source": [
    "`` dados`` pode ser um dicionário, no qual `` index`` é padronizado para as chaves de dicionário classificadas:"
   ]
  },
  {
   "cell_type": "code",
   "execution_count": null,
   "metadata": {
    "ExecuteTime": {
     "end_time": "2020-08-29T08:29:13.385721Z",
     "start_time": "2020-08-29T08:29:13.378934Z"
    }
   },
   "outputs": [],
   "source": [
    "pd.Series({2:'a', 1:'b', 3:'c'})"
   ]
  },
  {
   "cell_type": "markdown",
   "metadata": {
    "lang": "pt"
   },
   "source": [
    "Em cada caso, o índice pode ser definido explicitamente se um resultado diferente for preferido:"
   ]
  },
  {
   "cell_type": "code",
   "execution_count": null,
   "metadata": {
    "ExecuteTime": {
     "end_time": "2020-08-29T08:29:13.746108Z",
     "start_time": "2020-08-29T08:29:13.739558Z"
    }
   },
   "outputs": [],
   "source": [
    "pd.Series({2:'a', 1:'b', 3:'c'}, index=[3, 2])"
   ]
  },
  {
   "cell_type": "markdown",
   "metadata": {
    "lang": "pt"
   },
   "source": [
    "Observe que, neste caso, a `` Series`` é preenchida apenas com as chaves explicitamente identificadas."
   ]
  },
  {
   "cell_type": "markdown",
   "metadata": {
    "lang": "pt"
   },
   "source": [
    "# O objeto DataFrame do Pandas\n",
    "\n",
    "A próxima estrutura fundamental no Pandas é o `` DataFrame``.\n",
    "Como o objeto `` Series`` discutido na seção anterior, o `` DataFrame`` pode ser pensado tanto como uma generalização de uma matriz NumPy, ou como uma especialização de um dicionário Python.\n",
    "Vamos agora dar uma olhada em cada uma dessas perspectivas."
   ]
  },
  {
   "cell_type": "markdown",
   "metadata": {
    "lang": "pt"
   },
   "source": [
    "## DataFrame como uma matriz NumPy generalizado\n",
    "\n",
    "Se um `` Series`` é um análogo de uma matriz unidimensional com índices flexíveis, um `` DataFrame`` é um análogo de uma matriz bidimensional com índices de linha flexíveis e nomes de coluna flexíveis.\n",
    "Assim como você pode pensar em uma matriz bidimensional como uma sequência ordenada de colunas unidimensionais alinhadas, você pode pensar em um `` DataFrame`` como uma sequência de objetos `` Series`` alinhados.\n",
    "Aqui, por \"alinhado\" queremos dizer que eles compartilham o mesmo índice.\n",
    "\n",
    "Para demonstrar isso, vamos primeiro construir uma nova `` Series`` listando a área de cada um dos cinco estados discutidos na seção anterior:"
   ]
  },
  {
   "cell_type": "code",
   "execution_count": null,
   "metadata": {
    "ExecuteTime": {
     "end_time": "2020-08-29T08:29:14.394447Z",
     "start_time": "2020-08-29T08:29:14.385723Z"
    }
   },
   "outputs": [],
   "source": [
    "area_dict = {'California': 423967, 'Texas': 695662, 'New York': 141297,\n",
    "             'Florida': 170312, 'Illinois': 149995}\n",
    "area = pd.Series(area_dict)\n",
    "area"
   ]
  },
  {
   "cell_type": "markdown",
   "metadata": {
    "lang": "pt"
   },
   "source": [
    "Agora que temos isso junto com a série `` population`` anterior, podemos usar um dicionário para construir um único objeto bidimensional contendo esta informação:"
   ]
  },
  {
   "cell_type": "code",
   "execution_count": null,
   "metadata": {
    "ExecuteTime": {
     "end_time": "2020-08-29T08:29:14.765310Z",
     "start_time": "2020-08-29T08:29:14.736965Z"
    }
   },
   "outputs": [],
   "source": [
    "states = pd.DataFrame({'population': population,\n",
    "                       'area': area})\n",
    "states"
   ]
  },
  {
   "cell_type": "markdown",
   "metadata": {
    "lang": "pt"
   },
   "source": [
    "Como o objeto `` Series``, o `` DataFrame`` tem um atributo `` index`` que dá acesso aos rótulos de índice:"
   ]
  },
  {
   "cell_type": "code",
   "execution_count": null,
   "metadata": {
    "ExecuteTime": {
     "end_time": "2020-08-29T08:29:15.100560Z",
     "start_time": "2020-08-29T08:29:15.095330Z"
    }
   },
   "outputs": [],
   "source": [
    "states.index"
   ]
  },
  {
   "cell_type": "markdown",
   "metadata": {
    "lang": "pt"
   },
   "source": [
    "Além disso, o `` DataFrame`` tem um atributo `` columns``, que é um objeto `` Index`` contendo os rótulos das colunas:"
   ]
  },
  {
   "cell_type": "code",
   "execution_count": null,
   "metadata": {
    "ExecuteTime": {
     "end_time": "2020-08-29T08:29:15.458391Z",
     "start_time": "2020-08-29T08:29:15.451635Z"
    }
   },
   "outputs": [],
   "source": [
    "states.columns"
   ]
  },
  {
   "cell_type": "markdown",
   "metadata": {
    "lang": "pt"
   },
   "source": [
    "Assim, o `` DataFrame`` pode ser pensado como uma generalização de uma matriz NumPy bidimensional, onde tanto as linhas quanto as colunas têm um índice generalizado para acessar os dados."
   ]
  },
  {
   "cell_type": "markdown",
   "metadata": {
    "lang": "pt"
   },
   "source": [
    "## DataFrame como dicionário especializado\n",
    "\n",
    "Da mesma forma, também podemos pensar em um `` DataFrame`` como uma especialização de um dicionário.\n",
    "Onde um dicionário mapeia uma chave para um valor, um `` DataFrame`` mapeia um nome de coluna para uma `` Série`` de dados de coluna.\n",
    "Por exemplo, pedir o atributo `` 'area'`` retorna o objeto `` Series`` contendo as áreas que vimos anteriormente:"
   ]
  },
  {
   "cell_type": "code",
   "execution_count": null,
   "metadata": {
    "ExecuteTime": {
     "end_time": "2020-08-29T08:29:15.967349Z",
     "start_time": "2020-08-29T08:29:15.962296Z"
    }
   },
   "outputs": [],
   "source": [
    "states['area']"
   ]
  },
  {
   "cell_type": "markdown",
   "metadata": {
    "lang": "pt"
   },
   "source": [
    "## Construindo objetos DataFrame\n",
    "\n",
    "Um `` DataFrame`` do Pandas pode ser construído de várias maneiras.\n",
    "Aqui, daremos vários exemplos."
   ]
  },
  {
   "cell_type": "markdown",
   "metadata": {
    "lang": "pt"
   },
   "source": [
    "### De um único objeto Series\n",
    "\n",
    "Um `` DataFrame`` é uma coleção de objetos `` Series``, e um `` DataFrame`` de coluna única pode ser construído a partir de um único `` Series``:"
   ]
  },
  {
   "cell_type": "code",
   "execution_count": null,
   "metadata": {
    "ExecuteTime": {
     "end_time": "2020-08-29T08:29:16.482482Z",
     "start_time": "2020-08-29T08:29:16.471927Z"
    }
   },
   "outputs": [],
   "source": [
    "pd.DataFrame(population, columns=['population'])"
   ]
  },
  {
   "cell_type": "markdown",
   "metadata": {
    "lang": "pt"
   },
   "source": [
    "### De uma lista de dicts\n",
    "\n",
    "Qualquer lista de dicionários pode ser transformada em um `` DataFrame``.\n",
    "Usaremos uma compreensão de lista simples para criar alguns dados:"
   ]
  },
  {
   "cell_type": "code",
   "execution_count": null,
   "metadata": {
    "ExecuteTime": {
     "end_time": "2020-08-29T08:29:16.859460Z",
     "start_time": "2020-08-29T08:29:16.831749Z"
    }
   },
   "outputs": [],
   "source": [
    "data = [{'a': i, 'b': 2 * i}\n",
    "        for i in range(3)]\n",
    "pd.DataFrame(data)"
   ]
  },
  {
   "cell_type": "markdown",
   "metadata": {
    "lang": "pt"
   },
   "source": [
    "Mesmo se algumas chaves no dicionário estiverem faltando, o Pandas irá preenchê-las com valores `` NaN`` (ou seja, \"não é um número\"):"
   ]
  },
  {
   "cell_type": "code",
   "execution_count": null,
   "metadata": {
    "ExecuteTime": {
     "end_time": "2020-08-29T08:29:17.208580Z",
     "start_time": "2020-08-29T08:29:17.195573Z"
    }
   },
   "outputs": [],
   "source": [
    "pd.DataFrame([{'a': 1, 'b': 2}, {'b': 3, 'c': 4}])"
   ]
  },
  {
   "cell_type": "markdown",
   "metadata": {
    "lang": "pt"
   },
   "source": [
    "### De um dicionário de objetos Series\n",
    "\n",
    "Como vimos antes, um `` DataFrame`` também pode ser construído a partir de um dicionário de objetos `` Series``:"
   ]
  },
  {
   "cell_type": "code",
   "execution_count": null,
   "metadata": {
    "ExecuteTime": {
     "end_time": "2020-08-29T08:29:17.564678Z",
     "start_time": "2020-08-29T08:29:17.554095Z"
    }
   },
   "outputs": [],
   "source": [
    "pd.DataFrame({'population': population,\n",
    "              'area': area})"
   ]
  },
  {
   "cell_type": "markdown",
   "metadata": {
    "lang": "pt"
   },
   "source": [
    "### De uma matriz NumPy bidimensional\n",
    "\n",
    "Dado uma matriz bidimensional de dados, podemos criar um `` DataFrame`` com qualquer coluna especificada e nomes de índice.\n",
    "Se omitido, um índice inteiro será usado para cada:"
   ]
  },
  {
   "cell_type": "code",
   "execution_count": null,
   "metadata": {
    "ExecuteTime": {
     "end_time": "2020-08-29T08:29:17.919276Z",
     "start_time": "2020-08-29T08:29:17.908329Z"
    }
   },
   "outputs": [],
   "source": [
    "pd.DataFrame(np.random.rand(3, 2),\n",
    "             columns=['foo', 'bar'],\n",
    "             index=['a', 'b', 'c'])"
   ]
  },
  {
   "cell_type": "markdown",
   "metadata": {
    "lang": "pt"
   },
   "source": [
    "### De uma matriz estruturada NumPy\n",
    "\n",
    "Cobrimos matrizes estruturadas em [Numpy](02.Numpy.ipynb).\n",
    "Um Pandas `` DataFrame`` opera muito como um array estruturado e pode ser criado diretamente a partir de um:"
   ]
  },
  {
   "cell_type": "code",
   "execution_count": null,
   "metadata": {
    "ExecuteTime": {
     "end_time": "2020-08-29T08:29:18.268327Z",
     "start_time": "2020-08-29T08:29:18.263498Z"
    }
   },
   "outputs": [],
   "source": [
    "A = np.zeros(3, dtype=[('A', 'i8'), ('B', 'f8')])\n",
    "A"
   ]
  },
  {
   "cell_type": "code",
   "execution_count": null,
   "metadata": {
    "ExecuteTime": {
     "end_time": "2020-08-29T08:29:18.466951Z",
     "start_time": "2020-08-29T08:29:18.458114Z"
    }
   },
   "outputs": [],
   "source": [
    "pd.DataFrame(A)"
   ]
  },
  {
   "cell_type": "markdown",
   "metadata": {
    "lang": "pt"
   },
   "source": [
    "# O objeto de índice Pandas\n",
    "\n",
    "Vimos aqui que os objetos `` Series`` e `` DataFrame`` contêm um *índice* explícito que permite referenciar e modificar os dados.\n",
    "Este objeto `` Index`` é uma estrutura interessante em si, e pode ser pensado tanto como uma *matriz imutável* ou como um *conjunto ordenado*.\n",
    "Essas visualizações têm algumas consequências interessantes nas operações disponíveis em objetos `` Index``.\n",
    "Como um exemplo simples, vamos construir um `` Index`` de uma lista de inteiros:"
   ]
  },
  {
   "cell_type": "code",
   "execution_count": null,
   "metadata": {
    "ExecuteTime": {
     "end_time": "2020-08-29T08:29:18.812364Z",
     "start_time": "2020-08-29T08:29:18.806485Z"
    }
   },
   "outputs": [],
   "source": [
    "ind = pd.Index([2, 3, 5, 7, 11])\n",
    "ind"
   ]
  },
  {
   "cell_type": "markdown",
   "metadata": {
    "lang": "pt"
   },
   "source": [
    "## Índice como matriz imutável\n",
    "\n",
    "O `` Index`` de muitas maneiras opera como um.\n",
    "Por exemplo, podemos usar a notação de indexação Python padrão para recuperar valores ou fatias:"
   ]
  },
  {
   "cell_type": "code",
   "execution_count": null,
   "metadata": {
    "ExecuteTime": {
     "end_time": "2020-08-29T08:29:19.159039Z",
     "start_time": "2020-08-29T08:29:19.154190Z"
    }
   },
   "outputs": [],
   "source": [
    "ind[1]"
   ]
  },
  {
   "cell_type": "code",
   "execution_count": null,
   "metadata": {
    "ExecuteTime": {
     "end_time": "2020-08-29T08:29:19.353215Z",
     "start_time": "2020-08-29T08:29:19.346765Z"
    }
   },
   "outputs": [],
   "source": [
    "ind[::2]"
   ]
  },
  {
   "cell_type": "markdown",
   "metadata": {
    "lang": "pt"
   },
   "source": [
    "Objetos `` Index`` também têm muitos dos atributos familiares dos arrays NumPy:"
   ]
  },
  {
   "cell_type": "code",
   "execution_count": null,
   "metadata": {
    "ExecuteTime": {
     "end_time": "2020-08-29T08:29:19.701458Z",
     "start_time": "2020-08-29T08:29:19.697511Z"
    }
   },
   "outputs": [],
   "source": [
    "print(ind.size, ind.shape, ind.ndim, ind.dtype)"
   ]
  },
  {
   "cell_type": "markdown",
   "metadata": {
    "lang": "pt"
   },
   "source": [
    "Uma diferença entre objetos `` Index`` e matrizes NumPy é que os índices são imutáveis ​​- isto é, eles não podem ser modificados pelos meios normais:"
   ]
  },
  {
   "cell_type": "code",
   "execution_count": null,
   "metadata": {
    "ExecuteTime": {
     "end_time": "2020-08-29T08:29:20.132922Z",
     "start_time": "2020-08-29T08:29:20.044128Z"
    }
   },
   "outputs": [],
   "source": [
    "ind[1] = 0"
   ]
  },
  {
   "cell_type": "markdown",
   "metadata": {
    "lang": "pt"
   },
   "source": [
    "Esta imutabilidade torna mais seguro compartilhar índices entre múltiplos `` DataFrame``s e arrays, sem o potencial de efeitos colaterais da modificação inadvertida do índice."
   ]
  },
  {
   "cell_type": "markdown",
   "metadata": {
    "lang": "pt"
   },
   "source": [
    "## Índice como conjunto ordenado\n",
    "\n",
    "Os objetos Pandas são projetados para facilitar operações, como junções entre conjuntos de dados, que dependem de muitos aspectos da aritmética de conjuntos.\n",
    "O objeto `` Index`` segue muitas das convenções usadas pela estrutura de dados `` set`` embutida do Python, de forma que uniões, interseções, diferenças e outras combinações podem ser calculadas de uma maneira familiar:"
   ]
  },
  {
   "cell_type": "code",
   "execution_count": null,
   "metadata": {
    "ExecuteTime": {
     "end_time": "2020-08-29T08:29:20.543845Z",
     "start_time": "2020-08-29T08:29:20.539917Z"
    }
   },
   "outputs": [],
   "source": [
    "indA = pd.Index([1, 3, 5, 7, 9])\n",
    "indB = pd.Index([2, 3, 5, 7, 11])"
   ]
  },
  {
   "cell_type": "code",
   "execution_count": null,
   "metadata": {
    "ExecuteTime": {
     "end_time": "2020-08-29T08:29:20.765792Z",
     "start_time": "2020-08-29T08:29:20.733434Z"
    },
    "lang": "en"
   },
   "outputs": [],
   "source": [
    "indA & indB  # interseção"
   ]
  },
  {
   "cell_type": "code",
   "execution_count": null,
   "metadata": {
    "ExecuteTime": {
     "end_time": "2020-08-29T08:29:20.928019Z",
     "start_time": "2020-08-29T08:29:20.923795Z"
    }
   },
   "outputs": [],
   "source": [
    "indA | indB  # união"
   ]
  },
  {
   "cell_type": "code",
   "execution_count": null,
   "metadata": {
    "ExecuteTime": {
     "end_time": "2020-08-29T08:29:21.116543Z",
     "start_time": "2020-08-29T08:29:21.111824Z"
    }
   },
   "outputs": [],
   "source": [
    "indA ^ indB  # diferença simetrica"
   ]
  },
  {
   "cell_type": "markdown",
   "metadata": {
    "lang": "pt"
   },
   "source": [
    "Estas operações também podem ser acessadas através de métodos de objeto, por exemplo `` indA.intersection (indB) ``."
   ]
  },
  {
   "cell_type": "markdown",
   "metadata": {
    "lang": "pt"
   },
   "source": [
    "# Indexação e seleção de dados"
   ]
  },
  {
   "cell_type": "markdown",
   "metadata": {
    "lang": "pt"
   },
   "source": [
    "## Seleção de dados em série\n",
    "\n",
    "Como vimos na seção anterior, um objeto `` Series`` atua de várias maneiras como um array NumPy unidimensional e de várias maneiras como um dicionário Python padrão.\n",
    "Se mantivermos essas duas analogias sobrepostas em mente, isso nos ajudará a entender os padrões de indexação e seleção de dados nessas matrizes."
   ]
  },
  {
   "cell_type": "markdown",
   "metadata": {
    "lang": "pt"
   },
   "source": [
    "### Série como dicionário\n",
    "\n",
    "Como um dicionário, o objeto `` Series`` fornece um mapeamento de uma coleção de chaves para uma coleção de valores:"
   ]
  },
  {
   "cell_type": "code",
   "execution_count": null,
   "metadata": {
    "ExecuteTime": {
     "end_time": "2020-08-29T08:29:21.911798Z",
     "start_time": "2020-08-29T08:29:21.906371Z"
    }
   },
   "outputs": [],
   "source": [
    "import pandas as pd\n",
    "data = pd.Series([0.25, 0.5, 0.75, 1.0],\n",
    "                 index=['a', 'b', 'c', 'd'])\n",
    "data"
   ]
  },
  {
   "cell_type": "code",
   "execution_count": null,
   "metadata": {
    "ExecuteTime": {
     "end_time": "2020-08-29T08:29:22.102034Z",
     "start_time": "2020-08-29T08:29:22.095907Z"
    }
   },
   "outputs": [],
   "source": [
    "data['b']"
   ]
  },
  {
   "cell_type": "markdown",
   "metadata": {
    "lang": "pt"
   },
   "source": [
    "Também podemos usar expressões e métodos Python semelhantes a um dicionário para examinar as chaves / índices e valores:"
   ]
  },
  {
   "cell_type": "code",
   "execution_count": null,
   "metadata": {
    "ExecuteTime": {
     "end_time": "2020-08-29T08:29:22.444463Z",
     "start_time": "2020-08-29T08:29:22.440544Z"
    }
   },
   "outputs": [],
   "source": [
    "'a' in data"
   ]
  },
  {
   "cell_type": "code",
   "execution_count": null,
   "metadata": {
    "ExecuteTime": {
     "end_time": "2020-08-29T08:29:22.635113Z",
     "start_time": "2020-08-29T08:29:22.628950Z"
    }
   },
   "outputs": [],
   "source": [
    "data.keys()"
   ]
  },
  {
   "cell_type": "code",
   "execution_count": null,
   "metadata": {
    "ExecuteTime": {
     "end_time": "2020-08-29T08:29:22.822032Z",
     "start_time": "2020-08-29T08:29:22.817600Z"
    }
   },
   "outputs": [],
   "source": [
    "list(data.items())"
   ]
  },
  {
   "cell_type": "markdown",
   "metadata": {
    "lang": "pt"
   },
   "source": [
    "Objetos `` Series`` podem até mesmo ser modificados com uma sintaxe semelhante a um dicionário.\n",
    "Assim como você pode estender um dicionário atribuindo a uma nova chave, você pode estender uma `` Série`` atribuindo a um novo valor de índice:"
   ]
  },
  {
   "cell_type": "code",
   "execution_count": null,
   "metadata": {
    "ExecuteTime": {
     "end_time": "2020-08-29T08:29:23.175606Z",
     "start_time": "2020-08-29T08:29:23.157132Z"
    }
   },
   "outputs": [],
   "source": [
    "data['e'] = 1.25\n",
    "data"
   ]
  },
  {
   "cell_type": "markdown",
   "metadata": {
    "lang": "pt"
   },
   "source": [
    "### Série como matriz unidimensional"
   ]
  },
  {
   "cell_type": "markdown",
   "metadata": {
    "lang": "pt"
   },
   "source": [
    "Uma `` Series`` se baseia nesta interface semelhante a um dicionário e fornece seleção de itens no estilo array por meio dos mesmos mecanismos básicos dos arrays NumPy - ou seja, *fatias*, *mascaramento* e *indexação sofisticada*.\n",
    "Os exemplos destes são os seguintes:"
   ]
  },
  {
   "cell_type": "code",
   "execution_count": null,
   "metadata": {
    "ExecuteTime": {
     "end_time": "2020-08-29T08:29:23.655189Z",
     "start_time": "2020-08-29T08:29:23.650391Z"
    },
    "lang": "pt"
   },
   "outputs": [],
   "source": [
    "# fatiamento por índice explícito\n",
    "data['a': 'c']"
   ]
  },
  {
   "cell_type": "code",
   "execution_count": null,
   "metadata": {
    "ExecuteTime": {
     "end_time": "2020-08-29T08:29:23.844051Z",
     "start_time": "2020-08-29T08:29:23.838883Z"
    }
   },
   "outputs": [],
   "source": [
    "# fatiamento por índice implicito\n",
    "data[0:2]"
   ]
  },
  {
   "cell_type": "code",
   "execution_count": null,
   "metadata": {
    "ExecuteTime": {
     "end_time": "2020-08-29T08:29:24.085969Z",
     "start_time": "2020-08-29T08:29:24.029153Z"
    }
   },
   "outputs": [],
   "source": [
    "(data > 0.3) & (data < 0.8)"
   ]
  },
  {
   "cell_type": "code",
   "execution_count": null,
   "metadata": {
    "ExecuteTime": {
     "end_time": "2020-08-29T08:29:24.225617Z",
     "start_time": "2020-08-29T08:29:24.217775Z"
    }
   },
   "outputs": [],
   "source": [
    "# mascaramento\n",
    "data[(data > 0.3) & (data < 0.8)]"
   ]
  },
  {
   "cell_type": "code",
   "execution_count": null,
   "metadata": {
    "ExecuteTime": {
     "end_time": "2020-08-29T08:29:24.412464Z",
     "start_time": "2020-08-29T08:29:24.406600Z"
    }
   },
   "outputs": [],
   "source": [
    "# indexação sofisticada\n",
    "data[['a', 'e']]"
   ]
  },
  {
   "cell_type": "markdown",
   "metadata": {
    "lang": "pt"
   },
   "source": [
    "Entre eles, fatiar pode ser a fonte de maior confusão.\n",
    "Observe que ao fatiar com um índice explícito (ou seja, `` dados ['a': 'c'] ``), o índice final é *incluído* na fatia, enquanto ao fatiar com um índice implícito ( ou seja, `` dados [0: 2] ``), o índice final é *excluído* da fatia."
   ]
  },
  {
   "cell_type": "markdown",
   "metadata": {
    "lang": "pt"
   },
   "source": [
    "### Indexadores: loc, iloc\n",
    "\n",
    "Essas convenções de segmentação e indexação podem ser uma fonte de confusão.\n",
    "Por exemplo, se sua `` Series`` tem um índice inteiro explícito, uma operação de indexação como `` dados [1] `` usará os índices explícitos, enquanto uma operação de fatiamento como `` dados [1: 3] `` usará o índice implícito no estilo Python."
   ]
  },
  {
   "cell_type": "code",
   "execution_count": null,
   "metadata": {
    "ExecuteTime": {
     "end_time": "2020-08-29T08:29:24.914721Z",
     "start_time": "2020-08-29T08:29:24.905859Z"
    }
   },
   "outputs": [],
   "source": [
    "data = pd.Series(['a', 'b', 'c'], index=[1, 3, 5])\n",
    "data"
   ]
  },
  {
   "cell_type": "code",
   "execution_count": null,
   "metadata": {
    "ExecuteTime": {
     "end_time": "2020-08-29T08:29:25.104837Z",
     "start_time": "2020-08-29T08:29:25.101218Z"
    }
   },
   "outputs": [],
   "source": [
    "# índice explicito quando indexamos\n",
    "data[1]"
   ]
  },
  {
   "cell_type": "code",
   "execution_count": null,
   "metadata": {
    "ExecuteTime": {
     "end_time": "2020-08-29T08:29:25.294375Z",
     "start_time": "2020-08-29T08:29:25.289562Z"
    },
    "scrolled": true
   },
   "outputs": [],
   "source": [
    "# índice implicito quando fatiamos\n",
    "data[:3]"
   ]
  },
  {
   "cell_type": "markdown",
   "metadata": {
    "lang": "pt"
   },
   "source": [
    "Por causa dessa confusão potencial no caso de índices inteiros, o Pandas fornece alguns atributos especiais de *indexador* que expõem explicitamente certos esquemas de indexação.\n",
    "Estes não são métodos funcionais, mas atributos que expõem uma interface de fatiamento particular para os dados na `` Série``.\n",
    "\n",
    "Primeiro, o atributo `` loc`` permite a indexação e divisão que sempre faz referência ao índice explícito:"
   ]
  },
  {
   "cell_type": "code",
   "execution_count": null,
   "metadata": {
    "ExecuteTime": {
     "end_time": "2020-08-29T08:29:25.653981Z",
     "start_time": "2020-08-29T08:29:25.647807Z"
    }
   },
   "outputs": [],
   "source": [
    "data.loc[1]"
   ]
  },
  {
   "cell_type": "code",
   "execution_count": null,
   "metadata": {
    "ExecuteTime": {
     "end_time": "2020-08-29T08:29:25.843161Z",
     "start_time": "2020-08-29T08:29:25.838248Z"
    }
   },
   "outputs": [],
   "source": [
    "data.loc[1:3]"
   ]
  },
  {
   "cell_type": "markdown",
   "metadata": {
    "lang": "pt"
   },
   "source": [
    "O atributo `` iloc`` permite indexação e fracionamento que sempre referencia o índice implícito no estilo Python:"
   ]
  },
  {
   "cell_type": "code",
   "execution_count": null,
   "metadata": {
    "ExecuteTime": {
     "end_time": "2020-08-29T08:29:26.181351Z",
     "start_time": "2020-08-29T08:29:26.177511Z"
    }
   },
   "outputs": [],
   "source": [
    "data.iloc[1]"
   ]
  },
  {
   "cell_type": "code",
   "execution_count": null,
   "metadata": {
    "ExecuteTime": {
     "end_time": "2020-08-29T08:29:26.372762Z",
     "start_time": "2020-08-29T08:29:26.368237Z"
    }
   },
   "outputs": [],
   "source": [
    "data.iloc[1:3]"
   ]
  },
  {
   "cell_type": "markdown",
   "metadata": {
    "lang": "pt"
   },
   "source": [
    "## Seleção de dados no DataFrame\n",
    "\n",
    "Lembre-se de que um `` DataFrame`` atua de várias maneiras como uma matriz bidimensional ou estruturado, e de outras maneiras como um dicionário de estruturas `` Series`` compartilhando o mesmo índice.\n",
    "Essas analogias podem ser úteis para manter em mente enquanto exploramos a seleção de dados dentro desta estrutura."
   ]
  },
  {
   "cell_type": "markdown",
   "metadata": {
    "lang": "pt"
   },
   "source": [
    "### DataFrame como um dicionário\n",
    "\n",
    "A primeira analogia que consideraremos é o `` DataFrame`` como um dicionário de objetos `` Series`` relacionados.\n",
    "Voltemos ao nosso exemplo de áreas e populações de estados:"
   ]
  },
  {
   "cell_type": "code",
   "execution_count": null,
   "metadata": {
    "ExecuteTime": {
     "end_time": "2020-08-29T08:29:26.878464Z",
     "start_time": "2020-08-29T08:29:26.864983Z"
    }
   },
   "outputs": [],
   "source": [
    "area = pd.Series({'California': 423967, 'Texas': 695662,\n",
    "                  'New York': 141297, 'Florida': 170312,\n",
    "                  'Illinois': 149995})\n",
    "pop = pd.Series({'California': 38332521, 'Texas': 26448193,\n",
    "                 'New York': 19651127, 'Florida': 19552860,\n",
    "                 'Illinois': 12882135})\n",
    "data = pd.DataFrame({'area':area, 'pop':pop})\n",
    "data"
   ]
  },
  {
   "cell_type": "markdown",
   "metadata": {
    "lang": "pt"
   },
   "source": [
    "A `` Series`` individual que compõe as colunas do `` DataFrame`` pode ser acessada via indexação de estilo de dicionário do nome da coluna:"
   ]
  },
  {
   "cell_type": "code",
   "execution_count": null,
   "metadata": {
    "ExecuteTime": {
     "end_time": "2020-08-29T08:29:27.215742Z",
     "start_time": "2020-08-29T08:29:27.210587Z"
    }
   },
   "outputs": [],
   "source": [
    "data['area']"
   ]
  },
  {
   "cell_type": "markdown",
   "metadata": {
    "lang": "pt"
   },
   "source": [
    "Da mesma forma, podemos usar o acesso de estilo de atributo com nomes de coluna que são strings:"
   ]
  },
  {
   "cell_type": "code",
   "execution_count": null,
   "metadata": {
    "ExecuteTime": {
     "end_time": "2020-08-29T08:29:27.560700Z",
     "start_time": "2020-08-29T08:29:27.555630Z"
    }
   },
   "outputs": [],
   "source": [
    "data.area"
   ]
  },
  {
   "cell_type": "markdown",
   "metadata": {
    "lang": "pt"
   },
   "source": [
    "Este acesso de coluna de estilo de atributo realmente acessa exatamente o mesmo objeto que o acesso de estilo de dicionário:"
   ]
  },
  {
   "cell_type": "code",
   "execution_count": null,
   "metadata": {
    "ExecuteTime": {
     "end_time": "2020-08-29T08:29:27.899082Z",
     "start_time": "2020-08-29T08:29:27.895189Z"
    }
   },
   "outputs": [],
   "source": [
    "data.area is data['area']"
   ]
  },
  {
   "cell_type": "markdown",
   "metadata": {
    "lang": "pt"
   },
   "source": [
    "Embora esta seja uma abreviatura útil, lembre-se de que não funciona para todos os casos!\n",
    "Por exemplo, se os nomes das colunas não são strings, ou se os nomes das colunas estão em conflito com os métodos do `` DataFrame``, este acesso de estilo de atributo não é possível.\n",
    "Por exemplo, o `` DataFrame`` tem um método `` pop () ``, então `` data.pop`` irá apontar para isso ao invés da coluna `` \"pop\" ``:"
   ]
  },
  {
   "cell_type": "code",
   "execution_count": null,
   "metadata": {
    "ExecuteTime": {
     "end_time": "2020-08-29T08:29:28.243325Z",
     "start_time": "2020-08-29T08:29:28.238326Z"
    }
   },
   "outputs": [],
   "source": [
    "data.pop is data['pop']"
   ]
  },
  {
   "cell_type": "markdown",
   "metadata": {
    "lang": "pt"
   },
   "source": [
    "Em particular, você deve evitar a tentação de tentar atribuição de coluna via atributo (ou seja, use `` data ['pop'] = z`` ao invés de `` data.pop = z``).\n",
    "\n",
    "Como com os objetos `` Series`` discutidos anteriormente, esta sintaxe de estilo de dicionário também pode ser usada para modificar o objeto, neste caso adicionando uma nova coluna:"
   ]
  },
  {
   "cell_type": "code",
   "execution_count": null,
   "metadata": {
    "ExecuteTime": {
     "end_time": "2020-08-29T08:29:28.593624Z",
     "start_time": "2020-08-29T08:29:28.583163Z"
    }
   },
   "outputs": [],
   "source": [
    "data['density'] = data['pop'] / data['area']\n",
    "data"
   ]
  },
  {
   "cell_type": "markdown",
   "metadata": {
    "lang": "pt"
   },
   "source": [
    "### DataFrame como matriz bidimensional\n",
    "\n",
    "Conforme mencionado anteriormente, também podemos ver o `` DataFrame`` como uma matriz bidimensional aprimorado.\n",
    "Podemos examinar a matriz de dados básicos brutos usando o atributo `` values``:"
   ]
  },
  {
   "cell_type": "code",
   "execution_count": null,
   "metadata": {
    "ExecuteTime": {
     "end_time": "2020-08-29T08:29:28.935466Z",
     "start_time": "2020-08-29T08:29:28.925197Z"
    }
   },
   "outputs": [],
   "source": [
    "data.values"
   ]
  },
  {
   "cell_type": "markdown",
   "metadata": {
    "lang": "pt"
   },
   "source": [
    "Com esta imagem em mente, muitas observações familiares semelhantes a matriz podem ser feitas no próprio `` DataFrame``.\n",
    "Por exemplo, podemos transpor todo o `` DataFrame`` para trocar linhas e colunas:"
   ]
  },
  {
   "cell_type": "code",
   "execution_count": null,
   "metadata": {
    "ExecuteTime": {
     "end_time": "2020-08-29T08:29:29.277803Z",
     "start_time": "2020-08-29T08:29:29.267064Z"
    }
   },
   "outputs": [],
   "source": [
    "data.T"
   ]
  },
  {
   "cell_type": "markdown",
   "metadata": {
    "lang": "pt"
   },
   "source": [
    "Quando se trata de indexação de objetos `` DataFrame``, no entanto, está claro que a indexação de colunas no estilo de dicionário impede nossa capacidade de simplesmente tratá-la como uma matriz NumPy.\n",
    "Em particular, passar um único índice para uma matriz acessa uma linha:"
   ]
  },
  {
   "cell_type": "code",
   "execution_count": null,
   "metadata": {
    "ExecuteTime": {
     "end_time": "2020-08-29T08:29:29.615124Z",
     "start_time": "2020-08-29T08:29:29.611165Z"
    }
   },
   "outputs": [],
   "source": [
    "data.values[0]"
   ]
  },
  {
   "cell_type": "markdown",
   "metadata": {
    "lang": "pt"
   },
   "source": [
    "e passar um único \"índice\" para um `` DataFrame`` acessa uma coluna:"
   ]
  },
  {
   "cell_type": "code",
   "execution_count": null,
   "metadata": {
    "ExecuteTime": {
     "end_time": "2020-08-29T08:29:29.957905Z",
     "start_time": "2020-08-29T08:29:29.952975Z"
    }
   },
   "outputs": [],
   "source": [
    "data['area']"
   ]
  },
  {
   "cell_type": "markdown",
   "metadata": {
    "lang": "pt"
   },
   "source": [
    "Portanto, para indexação de estilo de array, precisamos de outra convenção.\n",
    "Aqui, o Pandas usa novamente os indexadores `` loc``, `` iloc`` e `` ix`` mencionados anteriormente.\n",
    "Usando o indexador `` iloc``, podemos indexar o array subjacente como se fosse um array NumPy simples (usando o índice implícito no estilo Python), mas o índice `` DataFrame`` e os rótulos das colunas são mantidos no resultado:"
   ]
  },
  {
   "cell_type": "code",
   "execution_count": null,
   "metadata": {
    "ExecuteTime": {
     "end_time": "2020-08-29T08:29:30.308427Z",
     "start_time": "2020-08-29T08:29:30.296908Z"
    }
   },
   "outputs": [],
   "source": [
    "data.iloc[:3, :2]"
   ]
  },
  {
   "cell_type": "markdown",
   "metadata": {
    "lang": "pt"
   },
   "source": [
    "Da mesma forma, usando o indexador `` loc``, podemos indexar os dados subjacentes em um estilo de array, mas usando o índice explícito e os nomes das colunas:"
   ]
  },
  {
   "cell_type": "code",
   "execution_count": null,
   "metadata": {
    "ExecuteTime": {
     "end_time": "2020-08-29T08:29:30.649048Z",
     "start_time": "2020-08-29T08:29:30.642147Z"
    },
    "scrolled": true
   },
   "outputs": [],
   "source": [
    "data.loc[:'Illinois', :'pop']"
   ]
  },
  {
   "cell_type": "markdown",
   "metadata": {
    "lang": "en"
   },
   "source": [
    "Keep in mind that for integer indices, the ``ix`` indexer is subject to the same potential sources of confusion as discussed for integer-indexed ``Series`` objects.\n",
    "\n",
    "Any of the familiar NumPy-style data access patterns can be used within these indexers.\n",
    "For example, in the ``loc`` indexer we can combine masking and fancy indexing as in the following:"
   ]
  },
  {
   "cell_type": "markdown",
   "metadata": {
    "lang": "pt"
   },
   "source": [
    "Qualquer um dos padrões familiares de acesso a dados no estilo NumPy pode ser usado nesses indexadores.\n",
    "Por exemplo, no indexador `` loc`` podemos combinar mascaramento e indexação extravagante da seguinte forma:"
   ]
  },
  {
   "cell_type": "code",
   "execution_count": null,
   "metadata": {
    "ExecuteTime": {
     "end_time": "2020-08-29T08:29:31.078171Z",
     "start_time": "2020-08-29T08:29:31.053123Z"
    },
    "scrolled": true
   },
   "outputs": [],
   "source": [
    "data.loc[data.density > 100, ['pop', 'density']]"
   ]
  },
  {
   "cell_type": "markdown",
   "metadata": {
    "lang": "pt"
   },
   "source": [
    "Qualquer uma dessas convenções de indexação também pode ser usada para definir ou modificar valores; isso é feito da maneira padrão que você deve estar acostumado ao trabalhar com o NumPy:"
   ]
  },
  {
   "cell_type": "code",
   "execution_count": null,
   "metadata": {
    "ExecuteTime": {
     "end_time": "2020-08-29T08:29:31.407187Z",
     "start_time": "2020-08-29T08:29:31.396641Z"
    }
   },
   "outputs": [],
   "source": [
    "data.iloc[0, 2] = 90\n",
    "data"
   ]
  },
  {
   "cell_type": "markdown",
   "metadata": {
    "lang": "pt"
   },
   "source": [
    "Para aumentar sua fluência na manipulação de dados do Pandas, sugiro passar algum tempo com um simples `` DataFrame`` e explorar os tipos de indexação, divisão, mascaramento e indexação sofisticada que são permitidos por essas várias abordagens de indexação."
   ]
  },
  {
   "cell_type": "markdown",
   "metadata": {
    "lang": "pt"
   },
   "source": [
    "### Convenções de indexação adicionais\n",
    "\n",
    "Existem algumas convenções de indexação extras que podem parecer divergentes com a discussão anterior, mas mesmo assim podem ser muito úteis na prática.\n",
    "Primeiro, enquanto *indexação* se refere a colunas, *fatiar* se refere a linhas:"
   ]
  },
  {
   "cell_type": "code",
   "execution_count": null,
   "metadata": {
    "ExecuteTime": {
     "end_time": "2020-08-29T08:29:31.894852Z",
     "start_time": "2020-08-29T08:29:31.886929Z"
    }
   },
   "outputs": [],
   "source": [
    "data['Florida':'Illinois']"
   ]
  },
  {
   "cell_type": "markdown",
   "metadata": {
    "lang": "pt"
   },
   "source": [
    "Essas fatias também podem se referir a linhas por número, em vez de por índice:"
   ]
  },
  {
   "cell_type": "code",
   "execution_count": null,
   "metadata": {
    "ExecuteTime": {
     "end_time": "2020-08-29T08:29:32.230044Z",
     "start_time": "2020-08-29T08:29:32.222864Z"
    }
   },
   "outputs": [],
   "source": [
    "data[1:3]"
   ]
  },
  {
   "cell_type": "markdown",
   "metadata": {
    "lang": "pt"
   },
   "source": [
    "Da mesma forma, as operações de mascaramento direto também são interpretadas por linha em vez de por coluna:"
   ]
  },
  {
   "cell_type": "code",
   "execution_count": null,
   "metadata": {
    "ExecuteTime": {
     "end_time": "2020-08-29T08:29:32.576128Z",
     "start_time": "2020-08-29T08:29:32.568294Z"
    }
   },
   "outputs": [],
   "source": [
    "data[data.density > 100]"
   ]
  },
  {
   "cell_type": "markdown",
   "metadata": {
    "lang": "pt"
   },
   "source": [
    "Essas duas convenções são sintaticamente semelhantes àquelas em uma matriz NumPy e, embora possam não se encaixar precisamente no molde das convenções do Pandas, são, no entanto, bastante úteis na prática."
   ]
  },
  {
   "cell_type": "markdown",
   "metadata": {
    "lang": "pt"
   },
   "source": [
    "# Operando com dados em pandas"
   ]
  },
  {
   "cell_type": "markdown",
   "metadata": {
    "lang": "pt"
   },
   "source": [
    "Uma das peças essenciais do NumPy é a capacidade de realizar operações rápidas de elementos, tanto com aritmética básica (adição, subtração, multiplicação, etc.) e com operações mais sofisticadas (funções trigonométricas, funções exponenciais e logarítmicas, etc.).\n",
    "O Pandas herda muito dessa funcionalidade do NumPy, e os ufuncs que apresentamos em [Numpy](02.Numpy.ipynb) são a chave para isso.\n",
    "\n",
    "O Pandas inclui algumas variações úteis, no entanto: para operações unárias, como negação e funções trigonométricas, esses ufuncs irão *preservar o índice e rótulos de coluna* na saída, e para operações binárias, como adição e multiplicação, os Pandas irão automaticamente *alinhar índices* ao passar os objetos para o ufunc.\n",
    "Isso significa que manter o contexto de dados e combinar dados de fontes diferentes - ambas tarefas potencialmente sujeitas a erros com matrizes NumPy brutas - tornam-se essencialmente à prova de falhas com o Pandas.\n",
    "Além disso, veremos que existem operações bem definidas entre estruturas `` Series`` unidimensionais e estruturas `` DataFrame`` bidimensionais."
   ]
  },
  {
   "cell_type": "markdown",
   "metadata": {
    "lang": "pt"
   },
   "source": [
    "## Ufuncs: Preservação do Índice\n",
    "\n",
    "Como o Pandas foi projetado para funcionar com NumPy, qualquer ufunc NumPy funcionará nos objetos Pandas `` Series`` e `` DataFrame``.\n",
    "Vamos começar definindo um `` Series`` e um `` DataFrame`` simples para demonstrar isso:"
   ]
  },
  {
   "cell_type": "code",
   "execution_count": null,
   "metadata": {
    "ExecuteTime": {
     "end_time": "2020-08-29T08:29:33.360430Z",
     "start_time": "2020-08-29T08:29:33.357754Z"
    }
   },
   "outputs": [],
   "source": [
    "import pandas as pd\n",
    "import numpy as np"
   ]
  },
  {
   "cell_type": "code",
   "execution_count": null,
   "metadata": {
    "ExecuteTime": {
     "end_time": "2020-08-29T08:29:33.560762Z",
     "start_time": "2020-08-29T08:29:33.549586Z"
    }
   },
   "outputs": [],
   "source": [
    "rng = np.random.RandomState(42)\n",
    "ser = pd.Series(rng.randint(0, 10, 4))\n",
    "ser"
   ]
  },
  {
   "cell_type": "code",
   "execution_count": null,
   "metadata": {
    "ExecuteTime": {
     "end_time": "2020-08-29T08:29:33.750248Z",
     "start_time": "2020-08-29T08:29:33.739121Z"
    }
   },
   "outputs": [],
   "source": [
    "df = pd.DataFrame(rng.randint(0, 10, (3, 4)),\n",
    "                  columns=['A', 'B', 'C', 'D'])\n",
    "df"
   ]
  },
  {
   "cell_type": "markdown",
   "metadata": {
    "lang": "pt"
   },
   "source": [
    "Se aplicarmos um ufunc NumPy em qualquer um desses objetos, o resultado será outro objeto Pandas *com os índices preservados:*"
   ]
  },
  {
   "cell_type": "code",
   "execution_count": null,
   "metadata": {
    "ExecuteTime": {
     "end_time": "2020-08-29T08:29:34.087572Z",
     "start_time": "2020-08-29T08:29:34.081963Z"
    }
   },
   "outputs": [],
   "source": [
    "np.exp(ser)"
   ]
  },
  {
   "cell_type": "markdown",
   "metadata": {
    "lang": "pt"
   },
   "source": [
    "Ou, para um cálculo um pouco mais complexo:"
   ]
  },
  {
   "cell_type": "code",
   "execution_count": null,
   "metadata": {
    "ExecuteTime": {
     "end_time": "2020-08-29T08:29:34.430126Z",
     "start_time": "2020-08-29T08:29:34.420635Z"
    }
   },
   "outputs": [],
   "source": [
    "np.sin(df * np.pi / 4)"
   ]
  },
  {
   "cell_type": "markdown",
   "metadata": {
    "lang": "pt"
   },
   "source": [
    "## UFuncs: Índice de alinhamento\n",
    "\n",
    "Para operações binárias em dois objetos `` Series`` ou `` DataFrame``, o Pandas irá alinhar os índices no processo de realização da operação.\n",
    "Isso é muito conveniente ao trabalhar com dados incompletos, como veremos em alguns dos exemplos a seguir."
   ]
  },
  {
   "cell_type": "markdown",
   "metadata": {
    "lang": "pt"
   },
   "source": [
    "### Índice de alinhamento em série\n",
    "\n",
    "Como exemplo, suponha que estejamos combinando duas fontes de dados diferentes e encontremos apenas os três principais estados dos EUA por *área* e os três principais estados dos EUA por *população*:"
   ]
  },
  {
   "cell_type": "code",
   "execution_count": null,
   "metadata": {
    "ExecuteTime": {
     "end_time": "2020-08-29T08:29:34.915658Z",
     "start_time": "2020-08-29T08:29:34.909735Z"
    }
   },
   "outputs": [],
   "source": [
    "area = pd.Series({'Alaska': 1723337, 'Texas': 695662,\n",
    "                  'California': 423967}, name='area')\n",
    "population = pd.Series({'California': 38332521, 'Texas': 26448193,\n",
    "                        'New York': 19651127}, name='population')"
   ]
  },
  {
   "cell_type": "markdown",
   "metadata": {
    "lang": "pt"
   },
   "source": [
    "Vamos ver o que acontece quando os dividimos para calcular a densidade populacional:"
   ]
  },
  {
   "cell_type": "code",
   "execution_count": null,
   "metadata": {
    "ExecuteTime": {
     "end_time": "2020-08-29T08:29:35.280166Z",
     "start_time": "2020-08-29T08:29:35.272882Z"
    }
   },
   "outputs": [],
   "source": [
    "population / area"
   ]
  },
  {
   "cell_type": "markdown",
   "metadata": {
    "lang": "pt"
   },
   "source": [
    "A matriz resultante contém a *união* de índices das duas matrizes de entrada, que pode ser determinada usando aritmética de conjunto Python padrão nestes índices:"
   ]
  },
  {
   "cell_type": "code",
   "execution_count": null,
   "metadata": {
    "ExecuteTime": {
     "end_time": "2020-08-29T08:29:35.617010Z",
     "start_time": "2020-08-29T08:29:35.612075Z"
    }
   },
   "outputs": [],
   "source": [
    "area.index | population.index"
   ]
  },
  {
   "cell_type": "markdown",
   "metadata": {
    "lang": "pt"
   },
   "source": [
    "Qualquer item para o qual um ou outro não tenha uma entrada é marcado com `` NaN``, ou \"Não é um número\", que é como o Pandas marca os dados ausentes (Não irei falar sobre tratar valores faltantes, mas aconselho a pesquisar sobre pois pode ser muito importante).\n",
    "Essa correspondência de índice é implementada dessa forma para qualquer uma das expressões aritméticas integradas do Python; quaisquer valores ausentes são preenchidos com NaN por padrão:"
   ]
  },
  {
   "cell_type": "code",
   "execution_count": null,
   "metadata": {
    "ExecuteTime": {
     "end_time": "2020-08-29T08:29:35.963674Z",
     "start_time": "2020-08-29T08:29:35.955501Z"
    }
   },
   "outputs": [],
   "source": [
    "A = pd.Series([2, 4, 6], index=[0, 1, 2])\n",
    "B = pd.Series([1, 3, 5], index=[1, 2, 3])\n",
    "A + B"
   ]
  },
  {
   "cell_type": "markdown",
   "metadata": {
    "lang": "pt"
   },
   "source": [
    "Se usar valores NaN não for o comportamento desejado, o valor de preenchimento pode ser modificado usando métodos de objeto apropriados no lugar dos operadores.\n",
    "Por exemplo, chamar `` A.add (B) `` é equivalente a chamar `` A + B``, mas permite a especificação explícita opcional do valor de preenchimento para quaisquer elementos em `` A`` ou `` B`` que pode estar faltando:"
   ]
  },
  {
   "cell_type": "code",
   "execution_count": null,
   "metadata": {
    "ExecuteTime": {
     "end_time": "2020-08-29T08:29:36.301889Z",
     "start_time": "2020-08-29T08:29:36.295880Z"
    }
   },
   "outputs": [],
   "source": [
    "A.add(B, fill_value=0)"
   ]
  },
  {
   "cell_type": "markdown",
   "metadata": {
    "lang": "pt"
   },
   "source": [
    "### Alinhamento do índice no DataFrame\n",
    "\n",
    "Um tipo semelhante de alinhamento ocorre para *ambas* colunas e índices ao realizar operações em `` DataFrame``s:"
   ]
  },
  {
   "cell_type": "code",
   "execution_count": null,
   "metadata": {
    "ExecuteTime": {
     "end_time": "2020-08-29T08:29:36.650456Z",
     "start_time": "2020-08-29T08:29:36.638787Z"
    }
   },
   "outputs": [],
   "source": [
    "A = pd.DataFrame(rng.randint(0, 20, (2, 2)),\n",
    "                 columns=list('AB'))\n",
    "A"
   ]
  },
  {
   "cell_type": "code",
   "execution_count": null,
   "metadata": {
    "ExecuteTime": {
     "end_time": "2020-08-29T08:29:36.871244Z",
     "start_time": "2020-08-29T08:29:36.831526Z"
    }
   },
   "outputs": [],
   "source": [
    "B = pd.DataFrame(rng.randint(0, 10, (3, 3)),\n",
    "                 columns=list('BAC'))\n",
    "B"
   ]
  },
  {
   "cell_type": "code",
   "execution_count": null,
   "metadata": {
    "ExecuteTime": {
     "end_time": "2020-08-29T08:29:37.036240Z",
     "start_time": "2020-08-29T08:29:37.021406Z"
    }
   },
   "outputs": [],
   "source": [
    "A + B"
   ]
  },
  {
   "cell_type": "markdown",
   "metadata": {
    "lang": "pt"
   },
   "source": [
    "Observe que os índices estão alinhados corretamente, independentemente de sua ordem nos dois objetos, e os índices no resultado são classificados.\n",
    "Como foi o caso com `` Series``, podemos usar o método aritmético do objeto associado e passar qualquer `` fill_value`` desejado para ser usado no lugar das entradas ausentes.\n",
    "Aqui, preencheremos com a média de todos os valores em `` A`` (calculados primeiro empilhando as linhas de `` A``):"
   ]
  },
  {
   "cell_type": "code",
   "execution_count": null,
   "metadata": {
    "ExecuteTime": {
     "end_time": "2020-08-29T08:29:37.372663Z",
     "start_time": "2020-08-29T08:29:37.363504Z"
    }
   },
   "outputs": [],
   "source": [
    "fill = A.stack().mean()\n",
    "print(fill)\n",
    "print(A.add(B, fill_value=fill))"
   ]
  },
  {
   "cell_type": "markdown",
   "metadata": {
    "lang": "en"
   },
   "source": [
    "A tabela a seguir lista os operadores Python e seus métodos de objeto Pandas equivalentes:\n",
    "\n",
    "| Operadores Python |  Métodos Pandas                      |\n",
    "|-----------------|---------------------------------------|\n",
    "| ``+``           | ``add()``                             |\n",
    "| ``-``           | ``sub()``, ``subtract()``             |\n",
    "| ``*``           | ``mul()``, ``multiply()``             |\n",
    "| ``/``           | ``truediv()``, ``div()``, ``divide()``|\n",
    "| ``//``          | ``floordiv()``                        |\n",
    "| ``%``           | ``mod()``                             |\n",
    "| ``**``          | ``pow()``                             |\n"
   ]
  },
  {
   "cell_type": "markdown",
   "metadata": {
    "lang": "pt"
   },
   "source": [
    "## Ufuncs: Operações entre DataFrame e Series\n",
    "\n",
    "Ao realizar operações entre um `` DataFrame`` e uma `` Series``, o índice e o alinhamento da coluna são mantidos de forma semelhante.\n",
    "As operações entre um `` DataFrame`` e uma `` Series`` são semelhantes às operações entre uma matriz NumPy bidimensional e unidimensional.\n",
    "Considere uma operação comum, onde encontramos a diferença de uma matriz bidimensional e uma de suas linhas:"
   ]
  },
  {
   "cell_type": "code",
   "execution_count": null,
   "metadata": {
    "ExecuteTime": {
     "end_time": "2020-08-29T08:29:37.785015Z",
     "start_time": "2020-08-29T08:29:37.777231Z"
    }
   },
   "outputs": [],
   "source": [
    "A = rng.randint(10, size=(3, 4))\n",
    "A"
   ]
  },
  {
   "cell_type": "code",
   "execution_count": null,
   "metadata": {
    "ExecuteTime": {
     "end_time": "2020-08-29T08:29:37.966892Z",
     "start_time": "2020-08-29T08:29:37.963016Z"
    }
   },
   "outputs": [],
   "source": [
    "A - A[0]"
   ]
  },
  {
   "cell_type": "markdown",
   "metadata": {
    "lang": "pt"
   },
   "source": [
    "A subtração entre uma matriz bidimensional e uma de suas linhas é aplicada em linha.\n",
    "\n",
    "No Pandas, a convenção opera de forma semelhante em linha por padrão:"
   ]
  },
  {
   "cell_type": "code",
   "execution_count": null,
   "metadata": {
    "ExecuteTime": {
     "end_time": "2020-08-29T08:29:38.317335Z",
     "start_time": "2020-08-29T08:29:38.306652Z"
    }
   },
   "outputs": [],
   "source": [
    "df = pd.DataFrame(A, columns=list('QRST'))\n",
    "df - df.iloc[0]"
   ]
  },
  {
   "cell_type": "markdown",
   "metadata": {
    "lang": "pt"
   },
   "source": [
    "Se, em vez disso, você deseja operar em colunas, pode usar os métodos de objeto mencionados anteriormente, enquanto especifica a palavra-chave `` axis``:"
   ]
  },
  {
   "cell_type": "code",
   "execution_count": null,
   "metadata": {
    "ExecuteTime": {
     "end_time": "2020-08-29T08:29:38.656302Z",
     "start_time": "2020-08-29T08:29:38.647606Z"
    }
   },
   "outputs": [],
   "source": [
    "df.subtract(df['R'], axis=0)"
   ]
  },
  {
   "cell_type": "markdown",
   "metadata": {
    "lang": "pt"
   },
   "source": [
    "Observe que essas operações `` DataFrame`` / `` Series``, como as operações discutidas acima, irão alinhar automaticamente os índices entre os dois elementos:"
   ]
  },
  {
   "cell_type": "code",
   "execution_count": null,
   "metadata": {
    "ExecuteTime": {
     "end_time": "2020-08-29T08:29:38.996591Z",
     "start_time": "2020-08-29T08:29:38.988306Z"
    }
   },
   "outputs": [],
   "source": [
    "halfrow = df.iloc[0, ::2]\n",
    "halfrow"
   ]
  },
  {
   "cell_type": "code",
   "execution_count": null,
   "metadata": {
    "ExecuteTime": {
     "end_time": "2020-08-29T08:29:39.186606Z",
     "start_time": "2020-08-29T08:29:39.176720Z"
    }
   },
   "outputs": [],
   "source": [
    "df - halfrow"
   ]
  },
  {
   "cell_type": "markdown",
   "metadata": {
    "lang": "pt"
   },
   "source": [
    "Esta preservação e alinhamento de índices e colunas significa que as operações nos dados no Pandas sempre manterão o contexto dos dados, o que evita os tipos de erros bobos que podem surgir ao trabalhar com dados heterogêneos e / ou desalinhados em matrizes NumPy brutas."
   ]
  },
  {
   "cell_type": "markdown",
   "metadata": {
    "lang": "pt"
   },
   "source": [
    "# Combinação de conjuntos de dados: concat e append"
   ]
  },
  {
   "cell_type": "markdown",
   "metadata": {
    "lang": "pt"
   },
   "source": [
    "Alguns dos estudos de dados mais interessantes vêm da combinação de diferentes fontes de dados.\n",
    "Essas operações podem envolver qualquer coisa, desde a concatenação direta de dois conjuntos de dados diferentes até junções e mesclagens mais complicadas no estilo de banco de dados que tratam corretamente de quaisquer sobreposições entre os conjuntos de dados.\n",
    "Os `` Series`` e `` DataFrame``s são construídos com este tipo de operação em mente, e o Pandas inclui funções e métodos que tornam este tipo de manipulação de dados rápida e direta.\n",
    "\n",
    "Aqui vamos dar uma olhada na concatenação simples de `` Series`` e `` DataFrame``s com a função `` pd.concat``; posteriormente, mergulharemos em mesclagens e junções mais sofisticadas na memória implementadas no Pandas.\n",
    "\n",
    "Começamos com as importações padrão:"
   ]
  },
  {
   "cell_type": "code",
   "execution_count": null,
   "metadata": {
    "ExecuteTime": {
     "end_time": "2020-08-29T08:32:49.593715Z",
     "start_time": "2020-08-29T08:32:49.588338Z"
    }
   },
   "outputs": [],
   "source": [
    "import pandas as pd\n",
    "import numpy as np"
   ]
  },
  {
   "cell_type": "markdown",
   "metadata": {
    "lang": "pt"
   },
   "source": [
    "Por conveniência, definiremos esta função que cria um `` DataFrame`` de um formulário particular que será útil abaixo:"
   ]
  },
  {
   "cell_type": "code",
   "execution_count": null,
   "metadata": {
    "ExecuteTime": {
     "end_time": "2020-08-29T08:32:51.404318Z",
     "start_time": "2020-08-29T08:32:51.392786Z"
    }
   },
   "outputs": [],
   "source": [
    "def make_df(cols, ind):\n",
    "    \"\"\"Quickly make a DataFrame\"\"\"\n",
    "    data = {c: [str(c) + str(i) for i in ind]\n",
    "            for c in cols}\n",
    "    return pd.DataFrame(data, ind)\n",
    "\n",
    "# example DataFrame\n",
    "make_df('ABC', range(3))"
   ]
  },
  {
   "cell_type": "markdown",
   "metadata": {
    "lang": "pt"
   },
   "source": [
    "Além disso, criaremos uma classe rápida que nos permite exibir múltiplos `` DataFrame``s lado a lado. O código faz uso do método especial `` _repr_ html_``, que IPython usa para implementar sua exibição de objeto rico:"
   ]
  },
  {
   "cell_type": "code",
   "execution_count": null,
   "metadata": {
    "ExecuteTime": {
     "end_time": "2020-08-29T08:32:54.400235Z",
     "start_time": "2020-08-29T08:32:54.393445Z"
    }
   },
   "outputs": [],
   "source": [
    "class display(object):\n",
    "    \"\"\"Display HTML representation of multiple objects\"\"\"\n",
    "    template = \"\"\"<div style=\"float: left; padding: 10px;\">\n",
    "    <p style='font-family:\"Courier New\", Courier, monospace'>{0}</p>{1}\n",
    "    </div>\"\"\"\n",
    "    def __init__(self, *args):\n",
    "        self.args = args\n",
    "        \n",
    "    def _repr_html_(self):\n",
    "        return '\\n'.join(self.template.format(a, eval(a)._repr_html_())\n",
    "                         for a in self.args)\n",
    "    \n",
    "    def __repr__(self):\n",
    "        return '\\n\\n'.join(a + '\\n' + repr(eval(a))\n",
    "                           for a in self.args)\n",
    "    "
   ]
  },
  {
   "cell_type": "markdown",
   "metadata": {
    "lang": "pt"
   },
   "source": [
    "O uso disso ficará mais claro à medida que continuarmos nossa discussão na seção seguinte."
   ]
  },
  {
   "cell_type": "markdown",
   "metadata": {
    "lang": "pt"
   },
   "source": [
    "## Relembrar: Concatenação de matrizes NumPy\n",
    "\n",
    "A concatenação de objetos `` Series`` e `` DataFrame`` é muito semelhante à concatenação de matrizes Numpy, que pode ser feita por meio da função `` np.concatenate`` conforme discutido em [Numpy](02.Numpy.ipynb).\n",
    "Lembre-se de que, com ele, você pode combinar o conteúdo de dois ou mais matrizes em um única matriz:"
   ]
  },
  {
   "cell_type": "code",
   "execution_count": null,
   "metadata": {
    "ExecuteTime": {
     "end_time": "2020-08-29T08:32:56.926261Z",
     "start_time": "2020-08-29T08:32:56.920897Z"
    }
   },
   "outputs": [],
   "source": [
    "x = [1, 2, 3]\n",
    "y = [4, 5, 6]\n",
    "z = [7, 8, 9]\n",
    "np.concatenate([x, y, z])"
   ]
  },
  {
   "cell_type": "markdown",
   "metadata": {
    "lang": "pt"
   },
   "source": [
    "O primeiro argumento é uma lista ou tupla de matrizes para concatenar.\n",
    "Além disso, é necessária uma palavra-chave `` axis`` que permite especificar o eixo ao longo do qual o resultado será concatenado:"
   ]
  },
  {
   "cell_type": "code",
   "execution_count": null,
   "metadata": {
    "ExecuteTime": {
     "end_time": "2020-08-29T08:32:58.529797Z",
     "start_time": "2020-08-29T08:32:58.524960Z"
    }
   },
   "outputs": [],
   "source": [
    "x = [[1, 2],\n",
    "     [3, 4]]\n",
    "np.concatenate([x, x], axis=1)"
   ]
  },
  {
   "cell_type": "markdown",
   "metadata": {},
   "source": [
    "## Simple Concatenation with ``pd.concat``"
   ]
  },
  {
   "cell_type": "markdown",
   "metadata": {
    "lang": "en"
   },
   "source": [
    "Pandas has a function, ``pd.concat()``, which has a similar syntax to ``np.concatenate`` but contains a number of options that we'll discuss momentarily:\n",
    "\n",
    "```python\n",
    "# Signature in Pandas v0.18\n",
    "pd.concat(objs, axis=0, join='outer', join_axes=None, ignore_index=False,\n",
    "          keys=None, levels=None, names=None, verify_integrity=False,\n",
    "          copy=True)\n",
    "```\n",
    "\n",
    "``pd.concat()`` can be used for a simple concatenation of ``Series`` or ``DataFrame`` objects, just as ``np.concatenate()`` can be used for simple concatenations of arrays:"
   ]
  },
  {
   "cell_type": "markdown",
   "metadata": {
    "lang": "pt"
   },
   "source": [
    "Pandas tem uma função, `` pd.concat () ``, que tem uma sintaxe semelhante a `` np.concatenate``, mas contém uma série de opções que discutiremos em breve:\n",
    "\n",
    "```python\n",
    "# Assinatura no Pandas v0.18\n",
    "pd.concat (objs, axis = 0, join = 'outer', join _axes = None, ignore_ index = False,\n",
    "          keys = None, levels = None, names = None, verify_integrity = False,\n",
    "          copy = True)\n",
    "```\n",
    "\n",
    "`` pd.concat () `` pode ser usado para uma concatenação simples de objetos `` Series`` ou `` DataFrame``, assim como `` np.concatenate () `` pode ser usado para concatenações simples de arrays:"
   ]
  },
  {
   "cell_type": "code",
   "execution_count": null,
   "metadata": {
    "ExecuteTime": {
     "end_time": "2020-08-29T08:33:02.776531Z",
     "start_time": "2020-08-29T08:33:02.769371Z"
    }
   },
   "outputs": [],
   "source": [
    "ser1 = pd.Series(['A', 'B', 'C'], index=[1, 2, 3])\n",
    "ser2 = pd.Series(['D', 'E', 'F'], index=[4, 5, 6])\n",
    "pd.concat([ser1, ser2])"
   ]
  },
  {
   "cell_type": "markdown",
   "metadata": {
    "lang": "pt"
   },
   "source": [
    "Ele também funciona para concatenar objetos de dimensões superiores, como `` DataFrame``s:"
   ]
  },
  {
   "cell_type": "code",
   "execution_count": null,
   "metadata": {
    "ExecuteTime": {
     "end_time": "2020-08-29T08:33:04.523107Z",
     "start_time": "2020-08-29T08:33:04.500673Z"
    }
   },
   "outputs": [],
   "source": [
    "df1 = make_df('AB', [1, 2])\n",
    "df2 = make_df('AB', [3, 4])\n",
    "display('df1', 'df2', 'pd.concat([df1, df2])')"
   ]
  },
  {
   "cell_type": "markdown",
   "metadata": {
    "lang": "pt"
   },
   "source": [
    "Por padrão, a concatenação ocorre por linha dentro do `` DataFrame`` (ou seja, `` axis = 0``).\n",
    "Como `` np.concatenate``, `` pd.concat`` permite a especificação de um eixo ao longo do qual a concatenação ocorrerá.\n",
    "Considere o seguinte exemplo:"
   ]
  },
  {
   "cell_type": "code",
   "execution_count": null,
   "metadata": {
    "ExecuteTime": {
     "end_time": "2020-08-29T08:34:07.562918Z",
     "start_time": "2020-08-29T08:34:07.535224Z"
    }
   },
   "outputs": [],
   "source": [
    "df3 = make_df('AB', [0, 1])\n",
    "df4 = make_df('CD', [0, 1])\n",
    "display('df3', 'df4', \"pd.concat([df3, df4], axis=1)\")"
   ]
  },
  {
   "cell_type": "markdown",
   "metadata": {
    "lang": "pt"
   },
   "source": [
    "Poderíamos ter especificado de forma equivalente `` axis = 1``; aqui nós usamos o mais intuitivo `` axis = 'col'``."
   ]
  },
  {
   "cell_type": "markdown",
   "metadata": {
    "lang": "pt"
   },
   "source": [
    "### Concatenação com junções\n",
    "\n",
    "Nos exemplos simples que acabamos de ver, estávamos concatenando principalmente `` DataFrame``s com nomes de colunas compartilhados.\n",
    "Na prática, dados de fontes diferentes podem ter conjuntos diferentes de nomes de coluna, e `` pd.concat`` oferece várias opções neste caso.\n",
    "Considere a concatenação dos seguintes dois `` DataFrame``s, que têm algumas (mas não todas!) Colunas em comum:"
   ]
  },
  {
   "cell_type": "code",
   "execution_count": null,
   "metadata": {
    "ExecuteTime": {
     "end_time": "2020-08-29T08:29:43.114536Z",
     "start_time": "2020-08-29T08:29:43.085931Z"
    }
   },
   "outputs": [],
   "source": [
    "df5 = make_df('ABC', [1, 2])\n",
    "df6 = make_df('BCD', [3, 4])\n",
    "display('df5', 'df6', 'pd.concat([df5, df6])')"
   ]
  },
  {
   "cell_type": "markdown",
   "metadata": {
    "lang": "pt"
   },
   "source": [
    "Por padrão, as entradas para as quais não há dados disponíveis são preenchidas com valores NA.\n",
    "Para mudar isso, podemos especificar uma das várias opções para os parâmetros `` join`` e `` join_axes`` da função concatenar.\n",
    "Por padrão, a junção é uma união das colunas de entrada (`` join = 'outer'``), mas podemos mudar isso para uma interseção das colunas usando `` join =' inner'``:"
   ]
  },
  {
   "cell_type": "code",
   "execution_count": null,
   "metadata": {
    "ExecuteTime": {
     "end_time": "2020-08-29T08:29:43.465744Z",
     "start_time": "2020-08-29T08:29:43.431328Z"
    }
   },
   "outputs": [],
   "source": [
    "display('df5', 'df6',\n",
    "        \"pd.concat([df5, df6], join='inner')\")"
   ]
  },
  {
   "cell_type": "markdown",
   "metadata": {
    "lang": "pt"
   },
   "source": [
    "A combinação de opções da função `` pd.concat`` permite uma ampla gama de comportamentos possíveis ao unir dois conjuntos de dados; tenha isso em mente ao usar essas ferramentas para seus próprios dados."
   ]
  },
  {
   "cell_type": "markdown",
   "metadata": {
    "lang": "pt"
   },
   "source": [
    "### O método `` append () ``\n",
    "\n",
    "Como a concatenação direta de array é tão comum, os objetos `` Series`` e `` DataFrame`` têm um método `` append`` que pode realizar a mesma coisa em menos teclas.\n",
    "Por exemplo, em vez de chamar `` pd.concat ([df1, df2]) ``, você pode simplesmente chamar `` df1.append (df2) ``:"
   ]
  },
  {
   "cell_type": "code",
   "execution_count": null,
   "metadata": {
    "ExecuteTime": {
     "end_time": "2020-08-29T08:29:44.277814Z",
     "start_time": "2020-08-29T08:29:44.263956Z"
    },
    "scrolled": true
   },
   "outputs": [],
   "source": [
    "display('df1', 'df2', 'df1.append(df2)')"
   ]
  },
  {
   "cell_type": "markdown",
   "metadata": {
    "lang": "pt"
   },
   "source": [
    "Tenha em mente que ao contrário dos métodos `` append () `` e `` extend () `` das listas Python, o método `` append () `` no Pandas não modifica o objeto original - em vez disso, cria um novo objeto com os dados combinados.\n",
    "Também não é um método muito eficiente, porque envolve a criação de um novo índice *e* buffer de dados.\n",
    "Assim, se você planeja fazer múltiplas operações `` append``, geralmente é melhor construir uma lista de `` DataFrame``s e passá-los todos de uma vez para a função `` concat () ``."
   ]
  },
  {
   "cell_type": "markdown",
   "metadata": {},
   "source": [
    "<!--NAVIGATION-->\n",
    "< [Numpy](16.Numpy.ipynb) | [Sumario](00.Sumario.ipynb) |\n",
    "\n",
    "<a href=\"https://colab.research.google.com/github/psloliveirajr/Introducao_a_Python3/blob/master/17.Pandas.ipynb\"><img align=\"left\" src=\"https://colab.research.google.com/assets/colab-badge.svg\" alt=\"Open in Colab\" title=\"Open and Execute in Google Colaboratory\"></a>"
   ]
  }
 ],
 "metadata": {
  "kernelspec": {
   "display_name": "Python 3",
   "language": "python",
   "name": "python3"
  },
  "language_info": {
   "codemirror_mode": {
    "name": "ipython",
    "version": 3
   },
   "file_extension": ".py",
   "mimetype": "text/x-python",
   "name": "python",
   "nbconvert_exporter": "python",
   "pygments_lexer": "ipython3",
   "version": "3.8.5"
  },
  "latex_envs": {
   "LaTeX_envs_menu_present": true,
   "autoclose": false,
   "autocomplete": true,
   "bibliofile": "biblio.bib",
   "cite_by": "apalike",
   "current_citInitial": 1,
   "eqLabelWithNumbers": true,
   "eqNumInitial": 1,
   "hotkeys": {
    "equation": "Ctrl-E",
    "itemize": "Ctrl-I"
   },
   "labels_anchors": false,
   "latex_user_defs": false,
   "report_style_numbering": false,
   "user_envs_cfg": false
  },
  "nbTranslate": {
   "displayLangs": [
    "pt"
   ],
   "hotkey": "alt-t",
   "langInMainMenu": true,
   "sourceLang": "en",
   "targetLang": "pt",
   "useGoogleTranslate": true
  },
  "toc": {
   "base_numbering": 1,
   "nav_menu": {},
   "number_sections": true,
   "sideBar": true,
   "skip_h1_title": false,
   "title_cell": "Table of Contents",
   "title_sidebar": "Contents",
   "toc_cell": false,
   "toc_position": {
    "height": "466px",
    "left": "173px",
    "top": "137px",
    "width": "320px"
   },
   "toc_section_display": true,
   "toc_window_display": true
  },
  "varInspector": {
   "cols": {
    "lenName": 16,
    "lenType": 16,
    "lenVar": 40
   },
   "kernels_config": {
    "python": {
     "delete_cmd_postfix": "",
     "delete_cmd_prefix": "del ",
     "library": "var_list.py",
     "varRefreshCmd": "print(var_dic_list())"
    },
    "r": {
     "delete_cmd_postfix": ") ",
     "delete_cmd_prefix": "rm(",
     "library": "var_list.r",
     "varRefreshCmd": "cat(var_dic_list()) "
    }
   },
   "types_to_exclude": [
    "module",
    "function",
    "builtin_function_or_method",
    "instance",
    "_Feature"
   ],
   "window_display": false
  }
 },
 "nbformat": 4,
 "nbformat_minor": 4
}
