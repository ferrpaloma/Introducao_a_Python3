{
 "cells": [
  {
   "cell_type": "markdown",
   "metadata": {},
   "source": [
    "<!--NAVIGATION-->\n",
    "< [Módulos](15.Modulos.ipynb) | [Sumario](00.Sumario.ipynb) | [Pandas](17.Pandas.ipynb) >\n",
    "\n",
    "<a href=\"https://colab.research.google.com/github/psloliveirajr/Introducao_a_Python3/blob/master/16.Numpy.ipynb\"><img align=\"left\" src=\"https://colab.research.google.com/assets/colab-badge.svg\" alt=\"Open in Colab\" title=\"Open and Execute in Google Colaboratory\"></a>"
   ]
  },
  {
   "cell_type": "markdown",
   "metadata": {},
   "source": [
    "# Numpy"
   ]
  },
  {
   "cell_type": "markdown",
   "metadata": {},
   "source": [
    "NumPy (abreviação de Numerical Python) fornece um tipo de objeto eficiente para armazenar e operar uma quantidade densa de dados. Esse novo tipo de objeto são chamados de matrizes (**arrays**) que podem ter n-dimensões."
   ]
  },
  {
   "cell_type": "markdown",
   "metadata": {},
   "source": [
    "## Relembrando  listas\n",
    "\n",
    "As listas (**list**) são sequências mutáveis, podendo conter multiplos elementos."
   ]
  },
  {
   "cell_type": "code",
   "execution_count": null,
   "metadata": {
    "ExecuteTime": {
     "end_time": "2020-08-29T08:45:11.564417Z",
     "start_time": "2020-08-29T08:45:11.549012Z"
    }
   },
   "outputs": [],
   "source": [
    "# Nos podemos criar uma listas de numeros do tipo inteiro\n",
    "L1 = list(range(10))\n",
    "L1"
   ]
  },
  {
   "cell_type": "code",
   "execution_count": null,
   "metadata": {
    "ExecuteTime": {
     "end_time": "2020-08-29T08:45:11.683823Z",
     "start_time": "2020-08-29T08:45:11.679407Z"
    }
   },
   "outputs": [],
   "source": [
    "type(L1),type(L1[0])"
   ]
  },
  {
   "cell_type": "code",
   "execution_count": null,
   "metadata": {
    "ExecuteTime": {
     "end_time": "2020-08-29T08:45:11.812652Z",
     "start_time": "2020-08-29T08:45:11.808537Z"
    }
   },
   "outputs": [],
   "source": [
    "# Podemos criar também uma lista de stings\n",
    "L2 = [\"0\", \"1\", \"2\", \"3\", \"4\", \"5\", \"6\", \"7\", \"8\", \"9\"]\n",
    "L2"
   ]
  },
  {
   "cell_type": "code",
   "execution_count": null,
   "metadata": {
    "ExecuteTime": {
     "end_time": "2020-08-29T08:45:11.942748Z",
     "start_time": "2020-08-29T08:45:11.937726Z"
    }
   },
   "outputs": [],
   "source": [
    "type(L2),type(L2[0])"
   ]
  },
  {
   "cell_type": "code",
   "execution_count": null,
   "metadata": {
    "ExecuteTime": {
     "end_time": "2020-08-29T08:45:12.073308Z",
     "start_time": "2020-08-29T08:45:12.067216Z"
    }
   },
   "outputs": [],
   "source": [
    "# Por ser uma lingugem de tipagem dinamica podemos criar uma lista heterogenia\n",
    "L3 = [True, \"2\", 3.0, 4]\n",
    "type(L3),type(L3[0]),type(L3[1]),type(L3[2]),type(L3[3])"
   ]
  },
  {
   "cell_type": "markdown",
   "metadata": {},
   "source": [
    "Mas essa flexiblidade tem um custo que acaba por diminuir a eficiência dessa estrutura de armazenamento de dados, então em casos onde se é necessário utilizar somente um só tipo de objeto é mais eficiente armazenar esses elementos em uma matriz de tipo fixo."
   ]
  },
  {
   "cell_type": "markdown",
   "metadata": {},
   "source": [
    "## Criando matrizes\n"
   ]
  },
  {
   "cell_type": "code",
   "execution_count": null,
   "metadata": {
    "ExecuteTime": {
     "end_time": "2020-08-29T08:45:12.397197Z",
     "start_time": "2020-08-29T08:45:12.394462Z"
    }
   },
   "outputs": [],
   "source": [
    "# Primeiro devemos importar o modulo\n",
    "import numpy as np"
   ]
  },
  {
   "cell_type": "markdown",
   "metadata": {},
   "source": [
    "## Matrizes a partir de lista\n",
    "\n",
    "Podemos criar uma array com uma lista do python:"
   ]
  },
  {
   "cell_type": "code",
   "execution_count": null,
   "metadata": {
    "ExecuteTime": {
     "end_time": "2020-08-29T08:45:12.627373Z",
     "start_time": "2020-08-29T08:45:12.623012Z"
    },
    "scrolled": true
   },
   "outputs": [],
   "source": [
    "np.array([0, 1, 2, 3, 4, 5, 6, 7, 8, 9])"
   ]
  },
  {
   "cell_type": "markdown",
   "metadata": {},
   "source": [
    "Lembre-se de que, ao contrário das listas do Python, NumPy é restrito a matrizes que contêm o mesmo tipo. Se os tipos não corresponderem, o NumPy fará, se possível, a conversão dos valores:"
   ]
  },
  {
   "cell_type": "code",
   "execution_count": null,
   "metadata": {
    "ExecuteTime": {
     "end_time": "2020-08-29T08:45:12.856571Z",
     "start_time": "2020-08-29T08:45:12.851990Z"
    }
   },
   "outputs": [],
   "source": [
    "# Os inteiros são convertidos em ponto flutuante\n",
    "np.array([1.5,2,3,4])"
   ]
  },
  {
   "cell_type": "markdown",
   "metadata": {},
   "source": [
    "Se quisermos definir explicitamente o tipo de dados da matriz resultante, podemos usar a palavra-chave **dtype**:"
   ]
  },
  {
   "cell_type": "code",
   "execution_count": null,
   "metadata": {
    "ExecuteTime": {
     "end_time": "2020-08-29T08:45:13.088242Z",
     "start_time": "2020-08-29T08:45:13.082029Z"
    }
   },
   "outputs": [],
   "source": [
    "np.array([1, 2, 3, 4], dtype='float')"
   ]
  },
  {
   "cell_type": "markdown",
   "metadata": {},
   "source": [
    "## Matrizes do zero\n",
    "\n",
    "Especialmente para matrizes maiores, é mais eficiente criar matrizes do zero usando funções integradas ao NumPy. Aqui estão vários exemplos:"
   ]
  },
  {
   "cell_type": "code",
   "execution_count": null,
   "metadata": {
    "ExecuteTime": {
     "end_time": "2020-08-29T08:45:13.316489Z",
     "start_time": "2020-08-29T08:45:13.312120Z"
    }
   },
   "outputs": [],
   "source": [
    "# Cria uma matriz de 10 valores 0 do tipo inteiro\n",
    "np.zeros(10, dtype=int)"
   ]
  },
  {
   "cell_type": "code",
   "execution_count": null,
   "metadata": {
    "ExecuteTime": {
     "end_time": "2020-08-29T08:45:13.446134Z",
     "start_time": "2020-08-29T08:45:13.439992Z"
    }
   },
   "outputs": [],
   "source": [
    "# Cria uma matriz 3x5 de valores 1 do tipo float\n",
    "np.ones((3, 5), dtype=float)"
   ]
  },
  {
   "cell_type": "code",
   "execution_count": null,
   "metadata": {
    "ExecuteTime": {
     "end_time": "2020-08-29T08:45:13.576183Z",
     "start_time": "2020-08-29T08:45:13.572090Z"
    }
   },
   "outputs": [],
   "source": [
    "# Cria uma matriz 3x5 de valores 3.14 \n",
    "np.full((3, 5), 3.14)"
   ]
  },
  {
   "cell_type": "code",
   "execution_count": null,
   "metadata": {
    "ExecuteTime": {
     "end_time": "2020-08-29T08:45:13.709182Z",
     "start_time": "2020-08-29T08:45:13.703796Z"
    }
   },
   "outputs": [],
   "source": [
    "# Cria uma matriz com uma sequencia de valores lineares\n",
    "# Começando em 0, terminando em 20, com passo de 2\n",
    "# (e similar a funcao range())\n",
    "np.arange(0, 20, 2)"
   ]
  },
  {
   "cell_type": "code",
   "execution_count": null,
   "metadata": {
    "ExecuteTime": {
     "end_time": "2020-08-29T08:45:13.839465Z",
     "start_time": "2020-08-29T08:45:13.832785Z"
    }
   },
   "outputs": [],
   "source": [
    "# Crie uma matriz de cinco valores uniformemente espaçados entre 0 e 1\n",
    "np.linspace(0, 1, 5)"
   ]
  },
  {
   "cell_type": "code",
   "execution_count": null,
   "metadata": {
    "ExecuteTime": {
     "end_time": "2020-08-29T08:45:13.965643Z",
     "start_time": "2020-08-29T08:45:13.961026Z"
    }
   },
   "outputs": [],
   "source": [
    "# Cria uma matriz 3x3 de valores aleatorios\n",
    "# valores aleatorios entre 0 e 1\n",
    "np.random.random((3, 3))"
   ]
  },
  {
   "cell_type": "code",
   "execution_count": null,
   "metadata": {
    "ExecuteTime": {
     "end_time": "2020-08-29T08:45:14.095525Z",
     "start_time": "2020-08-29T08:45:14.091510Z"
    }
   },
   "outputs": [],
   "source": [
    "# Crie uma matriz 3x3 de valores aleatórios normalmente distribuídos\n",
    "# com média 0 e desvio padrão 1, neste caso que dizer valores possivelmente entre -1 e 1\n",
    "np.random.normal(0, 1, (3, 3))"
   ]
  },
  {
   "cell_type": "code",
   "execution_count": null,
   "metadata": {
    "ExecuteTime": {
     "end_time": "2020-08-29T08:45:14.223876Z",
     "start_time": "2020-08-29T08:45:14.219716Z"
    }
   },
   "outputs": [],
   "source": [
    "# Crie uma matriz 3x3 de valores inteiros aleatórios no intervalo [0, 10)\n",
    "np.random.randint(0, 10, (3, 3))"
   ]
  },
  {
   "cell_type": "code",
   "execution_count": null,
   "metadata": {
    "ExecuteTime": {
     "end_time": "2020-08-29T08:45:14.355401Z",
     "start_time": "2020-08-29T08:45:14.350934Z"
    }
   },
   "outputs": [],
   "source": [
    "# Crie uma matriz de identidade 3x3\n",
    "np.eye(3)"
   ]
  },
  {
   "cell_type": "code",
   "execution_count": null,
   "metadata": {
    "ExecuteTime": {
     "end_time": "2020-08-29T08:45:14.484944Z",
     "start_time": "2020-08-29T08:45:14.480534Z"
    }
   },
   "outputs": [],
   "source": [
    "# Crie uma matriz sem inicializar entradas.\n",
    "np.empty(1)"
   ]
  },
  {
   "cell_type": "markdown",
   "metadata": {},
   "source": [
    "## O básico de matrizes NumPy"
   ]
  },
  {
   "cell_type": "markdown",
   "metadata": {},
   "source": [
    "A manipulação de dados em Python é quase sinônimo de manipulação de matrizes NumPy: mesmo as ferramentas mais recentes como Pandas são construídas em torno do array NumPy. Vamos ver alguns exemplos de como usar a manipulação de matrizes NumPy para acessar dados e submatrizes e para dividir, remodelar e unir as matrizes.\n",
    "\n",
    "Cobriremos algumas categorias de manipulações básicas de matrizes aqui:\n",
    "\n",
    "- *Atributos de matrizes*: Determinar o tamanho, forma, consumo de memória e tipos de dados de matrizes\n",
    "- *Indexação de matrizes*: obter e definir o valor de elementos individuais da matriz\n",
    "- *Fatiamento de matrizes*: obtenção e configuração de submatrizes menores em uma matriz maior\n",
    "- *Remodelagem de matrizes*: Alterar a forma de uma determinada matriz\n",
    "- *Junção e divisão de matrizes*: combinar várias matrizes em uma e dividir uma matriz em várias"
   ]
  },
  {
   "cell_type": "markdown",
   "metadata": {},
   "source": [
    "## Atributos de matriz NumPy"
   ]
  },
  {
   "cell_type": "markdown",
   "metadata": {},
   "source": [
    "Começaremos definindo três matrizes aleatórios, um matrizes unidimensional, bidimensional e tridimensional. Usaremos o gerador de número aleatório do NumPy"
   ]
  },
  {
   "cell_type": "code",
   "execution_count": null,
   "metadata": {
    "ExecuteTime": {
     "end_time": "2020-08-29T08:45:15.007142Z",
     "start_time": "2020-08-29T08:45:15.003567Z"
    }
   },
   "outputs": [],
   "source": [
    "import numpy as np\n",
    "\n",
    "x1 = np.random.randint(10, size=6)  # matriz unidimensional\n",
    "x2 = np.random.randint(10, size=(3, 4))  # matriz bidimensional\n",
    "x3 = np.random.randint(10, size=(3, 4, 5))  # matriz tridimensional"
   ]
  },
  {
   "cell_type": "markdown",
   "metadata": {},
   "source": [
    "Cada matriz tem atributos ``ndim`` (o número de dimensões), ``shape`` (o tamanho de cada dimensão) e ``size`` (o tamanho total das matrizes):"
   ]
  },
  {
   "cell_type": "code",
   "execution_count": null,
   "metadata": {
    "ExecuteTime": {
     "end_time": "2020-08-29T08:45:15.242439Z",
     "start_time": "2020-08-29T08:45:15.237002Z"
    }
   },
   "outputs": [],
   "source": [
    "print(\"x3 ndim: \", x3.ndim)\n",
    "print(\"x3 shape:\", x3.shape)\n",
    "print(\"x3 size: \", x3.size)"
   ]
  },
  {
   "cell_type": "markdown",
   "metadata": {},
   "source": [
    "Outro atributo útil é o **dtype**, o tipo de dados da matriz."
   ]
  },
  {
   "cell_type": "code",
   "execution_count": null,
   "metadata": {
    "ExecuteTime": {
     "end_time": "2020-08-29T08:45:15.471818Z",
     "start_time": "2020-08-29T08:45:15.467833Z"
    }
   },
   "outputs": [],
   "source": [
    "print(\"dtype:\", x3.dtype)"
   ]
  },
  {
   "cell_type": "markdown",
   "metadata": {},
   "source": [
    "## Indexação de matriz: acessando elementos únicos"
   ]
  },
  {
   "cell_type": "markdown",
   "metadata": {},
   "source": [
    "Em uma matriz unidimensional, o valor $ i ^ {th} $ (contando a partir do zero) pode ser acessado especificando-se o índice desejado entre colchetes, assim como nas listas Python:"
   ]
  },
  {
   "cell_type": "code",
   "execution_count": null,
   "metadata": {
    "ExecuteTime": {
     "end_time": "2020-08-29T08:45:15.795870Z",
     "start_time": "2020-08-29T08:45:15.792194Z"
    }
   },
   "outputs": [],
   "source": [
    "x1"
   ]
  },
  {
   "cell_type": "code",
   "execution_count": null,
   "metadata": {
    "ExecuteTime": {
     "end_time": "2020-08-29T08:45:15.938260Z",
     "start_time": "2020-08-29T08:45:15.918709Z"
    }
   },
   "outputs": [],
   "source": [
    "x1[0]"
   ]
  },
  {
   "cell_type": "code",
   "execution_count": null,
   "metadata": {
    "ExecuteTime": {
     "end_time": "2020-08-29T08:45:16.053591Z",
     "start_time": "2020-08-29T08:45:16.049695Z"
    }
   },
   "outputs": [],
   "source": [
    "x1[4]"
   ]
  },
  {
   "cell_type": "markdown",
   "metadata": {},
   "source": [
    "Para indexar a partir do final da matriz, você podemos usar índices negativos:"
   ]
  },
  {
   "cell_type": "code",
   "execution_count": null,
   "metadata": {
    "ExecuteTime": {
     "end_time": "2020-08-29T08:45:16.281647Z",
     "start_time": "2020-08-29T08:45:16.277571Z"
    }
   },
   "outputs": [],
   "source": [
    "x1[-1]"
   ]
  },
  {
   "cell_type": "code",
   "execution_count": null,
   "metadata": {
    "ExecuteTime": {
     "end_time": "2020-08-29T08:45:16.411573Z",
     "start_time": "2020-08-29T08:45:16.407483Z"
    }
   },
   "outputs": [],
   "source": [
    "x1[-2]"
   ]
  },
  {
   "cell_type": "markdown",
   "metadata": {},
   "source": [
    "Em uma matriz multidimensional, os itens podem ser acessados usando uma tupla de índices separados por vírgulas:"
   ]
  },
  {
   "cell_type": "code",
   "execution_count": null,
   "metadata": {
    "ExecuteTime": {
     "end_time": "2020-08-29T08:45:16.642023Z",
     "start_time": "2020-08-29T08:45:16.638309Z"
    }
   },
   "outputs": [],
   "source": [
    "x2"
   ]
  },
  {
   "cell_type": "code",
   "execution_count": null,
   "metadata": {
    "ExecuteTime": {
     "end_time": "2020-08-29T08:45:16.771874Z",
     "start_time": "2020-08-29T08:45:16.766904Z"
    }
   },
   "outputs": [],
   "source": [
    "x2[0, 0]"
   ]
  },
  {
   "cell_type": "code",
   "execution_count": null,
   "metadata": {
    "ExecuteTime": {
     "end_time": "2020-08-29T08:45:16.898153Z",
     "start_time": "2020-08-29T08:45:16.894156Z"
    }
   },
   "outputs": [],
   "source": [
    "x2[2, 0]"
   ]
  },
  {
   "cell_type": "code",
   "execution_count": null,
   "metadata": {
    "ExecuteTime": {
     "end_time": "2020-08-29T08:45:17.027874Z",
     "start_time": "2020-08-29T08:45:17.023697Z"
    }
   },
   "outputs": [],
   "source": [
    "x2[2, -1]"
   ]
  },
  {
   "cell_type": "markdown",
   "metadata": {},
   "source": [
    "Os valores também podem ser modificados usando qualquer uma das notações de índice acima:"
   ]
  },
  {
   "cell_type": "code",
   "execution_count": null,
   "metadata": {
    "ExecuteTime": {
     "end_time": "2020-08-29T08:45:17.260597Z",
     "start_time": "2020-08-29T08:45:17.253899Z"
    }
   },
   "outputs": [],
   "source": [
    "x2[0, 0] = 12\n",
    "x2"
   ]
  },
  {
   "cell_type": "markdown",
   "metadata": {},
   "source": [
    "Lembre-se de que, ao contrário das listas Python, os as matrizes NumPy têm um tipo fixo. Isso significa, por exemplo, que se você tentar inserir um valor de ponto flutuante em uma matriz de inteiros, o valor será truncado silenciosamente. Não seja pego de surpresa por esse comportamento!"
   ]
  },
  {
   "cell_type": "code",
   "execution_count": null,
   "metadata": {
    "ExecuteTime": {
     "end_time": "2020-08-29T08:45:17.487684Z",
     "start_time": "2020-08-29T08:45:17.483083Z"
    }
   },
   "outputs": [],
   "source": [
    "x1[0] = 3.14159  # isso será truncado!\n",
    "x1"
   ]
  },
  {
   "cell_type": "markdown",
   "metadata": {},
   "source": [
    "## Fatiamento de matriz: acessando submatrizes"
   ]
  },
  {
   "cell_type": "markdown",
   "metadata": {},
   "source": [
    "Assim como podemos usar colchetes para acessar elementos individuais da matriz, também podemos usá-los para acessar submatrizes com a notação de *fatiamento*, marcada pelo caractere dois pontos (``:``). A sintaxe de fatiamento NumPy segue aquela da lista Python padrão; para acessar uma fatia de um array `` x``, use isto:\n",
    "``` python\n",
    "x [iniciar: parar: passo]\n",
    "```\n",
    "Se algum deles não for especificado, eles assumem os valores `` iniciar = 0``, `` parar = `` *``tamanho da dimensão``*, `` passo = 1``. Vamos dar uma olhada no acesso a submatrizes em uma dimensão e em várias dimensões."
   ]
  },
  {
   "cell_type": "markdown",
   "metadata": {},
   "source": [
    "### Submatrizes unidimensionais"
   ]
  },
  {
   "cell_type": "code",
   "execution_count": null,
   "metadata": {
    "ExecuteTime": {
     "end_time": "2020-08-29T08:45:17.922036Z",
     "start_time": "2020-08-29T08:45:17.917671Z"
    }
   },
   "outputs": [],
   "source": [
    "x = np.arange(10)\n",
    "x"
   ]
  },
  {
   "cell_type": "code",
   "execution_count": null,
   "metadata": {
    "ExecuteTime": {
     "end_time": "2020-08-29T08:45:18.057008Z",
     "start_time": "2020-08-29T08:45:18.052539Z"
    }
   },
   "outputs": [],
   "source": [
    "x[:5]  # primeiros cinco elementos"
   ]
  },
  {
   "cell_type": "code",
   "execution_count": null,
   "metadata": {
    "ExecuteTime": {
     "end_time": "2020-08-29T08:45:18.187576Z",
     "start_time": "2020-08-29T08:45:18.181670Z"
    }
   },
   "outputs": [],
   "source": [
    "x[5:]  # elementos após o índice 5"
   ]
  },
  {
   "cell_type": "code",
   "execution_count": null,
   "metadata": {
    "ExecuteTime": {
     "end_time": "2020-08-29T08:45:18.315029Z",
     "start_time": "2020-08-29T08:45:18.310960Z"
    }
   },
   "outputs": [],
   "source": [
    "x[4:7]  # meio da matriz"
   ]
  },
  {
   "cell_type": "code",
   "execution_count": null,
   "metadata": {
    "ExecuteTime": {
     "end_time": "2020-08-29T08:45:18.441787Z",
     "start_time": "2020-08-29T08:45:18.437992Z"
    }
   },
   "outputs": [],
   "source": [
    "x[::2]  # todos os elemento a cada 2 passos"
   ]
  },
  {
   "cell_type": "code",
   "execution_count": null,
   "metadata": {
    "ExecuteTime": {
     "end_time": "2020-08-29T08:45:18.571632Z",
     "start_time": "2020-08-29T08:45:18.567822Z"
    }
   },
   "outputs": [],
   "source": [
    "x[1::2]  # todos os elemento a cada 2 passos, começando do indice 1"
   ]
  },
  {
   "cell_type": "markdown",
   "metadata": {},
   "source": [
    "Um caso potencialmente confuso é quando o valor ``passo`` é negativo. Neste caso, os padrões para ``iniciar`` e `` parar`` são trocados. Esta se torna uma maneira conveniente de reverter uma matriz:"
   ]
  },
  {
   "cell_type": "code",
   "execution_count": null,
   "metadata": {
    "ExecuteTime": {
     "end_time": "2020-08-29T08:45:18.801257Z",
     "start_time": "2020-08-29T08:45:18.797151Z"
    }
   },
   "outputs": [],
   "source": [
    "x[::-1]  # todos elementos, inversos"
   ]
  },
  {
   "cell_type": "code",
   "execution_count": null,
   "metadata": {
    "ExecuteTime": {
     "end_time": "2020-08-29T08:45:18.931002Z",
     "start_time": "2020-08-29T08:45:18.926777Z"
    }
   },
   "outputs": [],
   "source": [
    "x[5::-2]  # elementos inversos a partir do 5, a cada 2 passos"
   ]
  },
  {
   "cell_type": "markdown",
   "metadata": {},
   "source": [
    "### Submatrizes multidimensionais\n",
    "\n",
    "As fatias multidimensionais funcionam da mesma maneira, com várias fatias separadas por vírgulas. Por exemplo:"
   ]
  },
  {
   "cell_type": "code",
   "execution_count": null,
   "metadata": {
    "ExecuteTime": {
     "end_time": "2020-08-29T08:45:19.162540Z",
     "start_time": "2020-08-29T08:45:19.155947Z"
    },
    "scrolled": true
   },
   "outputs": [],
   "source": [
    "x2"
   ]
  },
  {
   "cell_type": "code",
   "execution_count": null,
   "metadata": {
    "ExecuteTime": {
     "end_time": "2020-08-29T08:45:19.292510Z",
     "start_time": "2020-08-29T08:45:19.288273Z"
    },
    "scrolled": true
   },
   "outputs": [],
   "source": [
    "x2[:2, :3]  # duas linhas, três colunas"
   ]
  },
  {
   "cell_type": "code",
   "execution_count": null,
   "metadata": {
    "ExecuteTime": {
     "end_time": "2020-08-29T08:45:19.423246Z",
     "start_time": "2020-08-29T08:45:19.418014Z"
    },
    "scrolled": true
   },
   "outputs": [],
   "source": [
    "x2[:3, ::2]  # todas as linhas, todas as outras colunas a cada 2 passos"
   ]
  },
  {
   "cell_type": "markdown",
   "metadata": {},
   "source": [
    "Finalmente, as dimensões do subarray podem ser revertidas juntas:"
   ]
  },
  {
   "cell_type": "code",
   "execution_count": null,
   "metadata": {
    "ExecuteTime": {
     "end_time": "2020-08-29T08:45:19.655956Z",
     "start_time": "2020-08-29T08:45:19.651731Z"
    }
   },
   "outputs": [],
   "source": [
    "x2[::-1, ::-1]"
   ]
  },
  {
   "cell_type": "markdown",
   "metadata": {},
   "source": [
    "### Acessando linhas e colunas da matriz\n",
    "\n",
    "Podemos acessar as linhas ou colunas únicas de um array. Isso pode ser feito combinando indexação e fracionamento, usando uma fatia vazia marcada por um único dois pontos (``:``):"
   ]
  },
  {
   "cell_type": "code",
   "execution_count": null,
   "metadata": {
    "ExecuteTime": {
     "end_time": "2020-08-29T08:45:19.886161Z",
     "start_time": "2020-08-29T08:45:19.882448Z"
    },
    "scrolled": true
   },
   "outputs": [],
   "source": [
    "print(x2[:, 0])  # primeira coluna de x2"
   ]
  },
  {
   "cell_type": "code",
   "execution_count": null,
   "metadata": {
    "ExecuteTime": {
     "end_time": "2020-08-29T08:45:20.017192Z",
     "start_time": "2020-08-29T08:45:20.010743Z"
    }
   },
   "outputs": [],
   "source": [
    "print(x2[0, :])  # primeira linha de x2"
   ]
  },
  {
   "cell_type": "markdown",
   "metadata": {},
   "source": [
    "No caso de acesso à linha, a fatia vazia pode ser omitida para uma sintaxe mais compacta:"
   ]
  },
  {
   "cell_type": "code",
   "execution_count": null,
   "metadata": {
    "ExecuteTime": {
     "end_time": "2020-08-29T08:45:20.246145Z",
     "start_time": "2020-08-29T08:45:20.240738Z"
    }
   },
   "outputs": [],
   "source": [
    "print(x2[0])  # equivalent to x2[0, :]"
   ]
  },
  {
   "cell_type": "markdown",
   "metadata": {},
   "source": [
    "### Submatrizes como visualizações sem cópia\n",
    "\n",
    "Uma coisa importante - e extremamente útil - a saber sobre as fatias da matriz é que elas retornam *visualizações* em vez de *cópias* dos dados da matriz. Esta é uma área em que o fatiamento da matriz NumPy difere do fatiamento de lista do Python: nas listas, as fatias serão cópias. Considere nossa matriz bidimensional anterior:"
   ]
  },
  {
   "cell_type": "code",
   "execution_count": null,
   "metadata": {
    "ExecuteTime": {
     "end_time": "2020-08-29T08:45:20.479024Z",
     "start_time": "2020-08-29T08:45:20.475117Z"
    }
   },
   "outputs": [],
   "source": [
    "print(x2)"
   ]
  },
  {
   "cell_type": "markdown",
   "metadata": {},
   "source": [
    "Vamos extrair um submatriz $2\\times 2$ deste:"
   ]
  },
  {
   "cell_type": "code",
   "execution_count": null,
   "metadata": {
    "ExecuteTime": {
     "end_time": "2020-08-29T08:45:20.711713Z",
     "start_time": "2020-08-29T08:45:20.707615Z"
    }
   },
   "outputs": [],
   "source": [
    "x2_sub = x2[:2, :2]\n",
    "print(x2_sub)"
   ]
  },
  {
   "cell_type": "markdown",
   "metadata": {},
   "source": [
    "Agora, se modificarmos esta submatriz, veremos que a matriz original foi alterado! Observar:"
   ]
  },
  {
   "cell_type": "code",
   "execution_count": null,
   "metadata": {
    "ExecuteTime": {
     "end_time": "2020-08-29T08:45:20.941292Z",
     "start_time": "2020-08-29T08:45:20.937830Z"
    },
    "scrolled": true
   },
   "outputs": [],
   "source": [
    "x2_sub[0, 0] = 84\n",
    "print(x2_sub)"
   ]
  },
  {
   "cell_type": "code",
   "execution_count": null,
   "metadata": {
    "ExecuteTime": {
     "end_time": "2020-08-29T08:45:21.071071Z",
     "start_time": "2020-08-29T08:45:21.067845Z"
    },
    "scrolled": true
   },
   "outputs": [],
   "source": [
    "print(x2)"
   ]
  },
  {
   "cell_type": "markdown",
   "metadata": {},
   "source": [
    "Na verdade, esse comportamento padrão é bastante útil: significa que, quando trabalhamos com grandes conjuntos de dados, podemos acessar e processar partes desses conjuntos de dados sem a necessidade de copiar o buffer de dados subjacente."
   ]
  },
  {
   "cell_type": "markdown",
   "metadata": {},
   "source": [
    "### Criando cópias de matrizes\n",
    "\n",
    "Apesar dos recursos interessantes das visualizações de matrizes, às vezes é útil copiar explicitamente os dados dentro de um array ou subarray. Isso pode ser feito mais facilmente com o método `` copy () ``:"
   ]
  },
  {
   "cell_type": "code",
   "execution_count": null,
   "metadata": {
    "ExecuteTime": {
     "end_time": "2020-08-29T08:45:21.401415Z",
     "start_time": "2020-08-29T08:45:21.397552Z"
    }
   },
   "outputs": [],
   "source": [
    "x2_sub_copy = x2[:2, :2].copy()\n",
    "print(x2_sub_copy)"
   ]
  },
  {
   "cell_type": "markdown",
   "metadata": {},
   "source": [
    "Se agora modificarmos esta submatriz, a matriz original não será tocada:"
   ]
  },
  {
   "cell_type": "code",
   "execution_count": null,
   "metadata": {
    "ExecuteTime": {
     "end_time": "2020-08-29T08:45:21.650463Z",
     "start_time": "2020-08-29T08:45:21.647043Z"
    }
   },
   "outputs": [],
   "source": [
    "x2_sub_copy[0, 0] = 42\n",
    "print(x2_sub_copy)"
   ]
  },
  {
   "cell_type": "code",
   "execution_count": null,
   "metadata": {
    "ExecuteTime": {
     "end_time": "2020-08-29T08:45:21.797076Z",
     "start_time": "2020-08-29T08:45:21.790441Z"
    }
   },
   "outputs": [],
   "source": [
    "print(x2)"
   ]
  },
  {
   "cell_type": "markdown",
   "metadata": {},
   "source": [
    "## Remodelagem de matrizes\n",
    "\n",
    "Outro tipo de operação útil é a remodelagem de matrizes.\n",
    "A maneira mais flexível de fazer isso é com o método `` reshape``.\n",
    "\n",
    "Por exemplo, se você deseja colocar os números de 1 a 9 em uma grade $3\\times3$, você pode fazer o seguinte:"
   ]
  },
  {
   "cell_type": "code",
   "execution_count": null,
   "metadata": {
    "ExecuteTime": {
     "end_time": "2020-08-29T08:45:22.057200Z",
     "start_time": "2020-08-29T08:45:22.049007Z"
    }
   },
   "outputs": [],
   "source": [
    "grid = np.arange(1, 10).reshape((3, 3))\n",
    "print(grid)"
   ]
  },
  {
   "cell_type": "markdown",
   "metadata": {},
   "source": [
    "## Concatenação e divisão de matriz\n",
    "\n",
    "Tudo oque fizemos anteriormente funcionaram em matrizes únicas. Também é possível combinar vários matrizes em um e, inversamente, dividir uma única matriz em várias matrizes. Vamos dar uma olhada nessas operações aqui."
   ]
  },
  {
   "cell_type": "markdown",
   "metadata": {},
   "source": [
    "### Concatenação de matrizes\n",
    "\n",
    "A concatenação, ou junção de duas matrizes em NumPy, é realizada principalmente usando as funções `` np.concatenate``, `` np.vstack`` e `` np.hstack``.\n",
    "\n",
    "`` np.concatenate`` recebe uma tupla ou lista de matrizes como seu primeiro argumento, como podemos ver:"
   ]
  },
  {
   "cell_type": "code",
   "execution_count": null,
   "metadata": {
    "ExecuteTime": {
     "end_time": "2020-08-29T08:45:22.388077Z",
     "start_time": "2020-08-29T08:45:22.380110Z"
    }
   },
   "outputs": [],
   "source": [
    "x = np.array([1, 2, 3])\n",
    "y = np.array([3, 2, 1])\n",
    "np.concatenate([x, y])"
   ]
  },
  {
   "cell_type": "markdown",
   "metadata": {},
   "source": [
    "Você também pode concatenar mais de duas matrizes de uma vez:"
   ]
  },
  {
   "cell_type": "code",
   "execution_count": null,
   "metadata": {
    "ExecuteTime": {
     "end_time": "2020-08-29T08:45:22.615609Z",
     "start_time": "2020-08-29T08:45:22.611919Z"
    },
    "scrolled": true
   },
   "outputs": [],
   "source": [
    "z = [99, 99, 99]\n",
    "print(np.concatenate([x, y, z]))"
   ]
  },
  {
   "cell_type": "markdown",
   "metadata": {},
   "source": [
    "Também pode ser usado para matrizes bidimensionais:"
   ]
  },
  {
   "cell_type": "code",
   "execution_count": null,
   "metadata": {
    "ExecuteTime": {
     "end_time": "2020-08-29T08:45:22.857317Z",
     "start_time": "2020-08-29T08:45:22.850440Z"
    }
   },
   "outputs": [],
   "source": [
    "grid = np.array([[1, 2, 3],\n",
    "                 [4, 5, 6]])"
   ]
  },
  {
   "cell_type": "code",
   "execution_count": null,
   "metadata": {
    "ExecuteTime": {
     "end_time": "2020-08-29T08:45:22.997191Z",
     "start_time": "2020-08-29T08:45:22.991625Z"
    },
    "scrolled": true
   },
   "outputs": [],
   "source": [
    "# concatenar ao longo da linha\n",
    "np.concatenate([grid, grid],axis=0)"
   ]
  },
  {
   "cell_type": "code",
   "execution_count": null,
   "metadata": {
    "ExecuteTime": {
     "end_time": "2020-08-29T08:45:23.130987Z",
     "start_time": "2020-08-29T08:45:23.124841Z"
    },
    "scrolled": true
   },
   "outputs": [],
   "source": [
    "# concatenar ao longo da coluna\n",
    "np.concatenate([grid, grid], axis=1)"
   ]
  },
  {
   "cell_type": "markdown",
   "metadata": {},
   "source": [
    "Para trabalhar com matrizes de dimensões mistas, pode ser mais claro usar as funções `` np.vstack`` (pilha vertical) e `` np.hstack`` (pilha horizontal):"
   ]
  },
  {
   "cell_type": "code",
   "execution_count": null,
   "metadata": {
    "ExecuteTime": {
     "end_time": "2020-08-29T08:45:23.366263Z",
     "start_time": "2020-08-29T08:45:23.360152Z"
    }
   },
   "outputs": [],
   "source": [
    "x = np.array([1, 2, 3])\n",
    "grid = np.array([[9, 8, 7],\n",
    "                 [6, 5, 4]])\n",
    "\n",
    "# empilhar verticalmente as matrizes\n",
    "np.vstack([x, grid])"
   ]
  },
  {
   "cell_type": "code",
   "execution_count": null,
   "metadata": {
    "ExecuteTime": {
     "end_time": "2020-08-29T08:45:23.502487Z",
     "start_time": "2020-08-29T08:45:23.496194Z"
    }
   },
   "outputs": [],
   "source": [
    "y = np.array([[99],\n",
    "              [99]])\n",
    "# empilhar horizontalmente as matrizes\n",
    "np.hstack([grid, y])"
   ]
  },
  {
   "cell_type": "markdown",
   "metadata": {},
   "source": [
    "Da mesma forma, `` np.dstack`` irá empilhar arrays ao longo do terceiro eixo."
   ]
  },
  {
   "cell_type": "markdown",
   "metadata": {},
   "source": [
    "### Divisão de matrizes\n",
    "\n",
    "O oposto da concatenação é a divisão, que é implementada pelas funções `` np.split``, `` np.hsplit`` e `` np.vsplit``. Para cada um deles, podemos passar uma lista de índices dando os pontos de divisão:"
   ]
  },
  {
   "cell_type": "code",
   "execution_count": null,
   "metadata": {
    "ExecuteTime": {
     "end_time": "2020-08-29T08:45:23.834221Z",
     "start_time": "2020-08-29T08:45:23.829597Z"
    }
   },
   "outputs": [],
   "source": [
    "x = [1, 2, 3, 99, 99, 3, 2, 1]\n",
    "x1, x2, x3 = np.split(x, [3, 5])\n",
    "print(x1, x2, x3)"
   ]
  },
  {
   "cell_type": "markdown",
   "metadata": {},
   "source": [
    "Observe que *N* pontos de divisão leva a *N + 1* submatrizes.\n",
    "\n",
    "As funções relacionadas `` np.hsplit`` e `` np.vsplit`` são semelhantes:"
   ]
  },
  {
   "cell_type": "code",
   "execution_count": null,
   "metadata": {
    "ExecuteTime": {
     "end_time": "2020-08-29T08:45:24.068532Z",
     "start_time": "2020-08-29T08:45:24.062531Z"
    }
   },
   "outputs": [],
   "source": [
    "grid = np.arange(16).reshape((4, 4))\n",
    "grid"
   ]
  },
  {
   "cell_type": "code",
   "execution_count": null,
   "metadata": {
    "ExecuteTime": {
     "end_time": "2020-08-29T08:45:24.201528Z",
     "start_time": "2020-08-29T08:45:24.196337Z"
    }
   },
   "outputs": [],
   "source": [
    "# divide a vertical das matrizes\n",
    "upper, lower = np.vsplit(grid, [2])\n",
    "print(upper)\n",
    "print()\n",
    "print(lower)"
   ]
  },
  {
   "cell_type": "code",
   "execution_count": null,
   "metadata": {
    "ExecuteTime": {
     "end_time": "2020-08-29T08:45:24.338486Z",
     "start_time": "2020-08-29T08:45:24.334444Z"
    }
   },
   "outputs": [],
   "source": [
    "# divide o horizontal das matrizes\n",
    "left, right = np.hsplit(grid, [2])\n",
    "print(left)\n",
    "print()\n",
    "print(right)"
   ]
  },
  {
   "cell_type": "markdown",
   "metadata": {},
   "source": [
    "Da mesma forma, `` np.dsplit`` irá dividir matrizes ao longo do terceiro eixo."
   ]
  },
  {
   "cell_type": "markdown",
   "metadata": {},
   "source": [
    "## Operações em matrizes\n",
    "\n",
    "Todas as operações tem funções universais (funções que funciona em qualquer matriz de n-dimensões)."
   ]
  },
  {
   "cell_type": "markdown",
   "metadata": {},
   "source": [
    "## Aritmética de matriz\n",
    "\n",
    "A adição, subtração, multiplicação e divisão padrão podem ser usados em matrizes:"
   ]
  },
  {
   "cell_type": "code",
   "execution_count": null,
   "metadata": {
    "ExecuteTime": {
     "end_time": "2020-08-29T08:45:24.780242Z",
     "start_time": "2020-08-29T08:45:24.771755Z"
    }
   },
   "outputs": [],
   "source": [
    "x = np.arange(4)\n",
    "print(\"x     =\", x)\n",
    "print(\"x + 5 =\", x + 5)\n",
    "print(\"x - 5 =\", x - 5)\n",
    "print(\"x * 2 =\", x * 2)\n",
    "print(\"x / 2 =\", x / 2)\n",
    "print(\"x // 2 =\", x // 2)"
   ]
  },
  {
   "cell_type": "markdown",
   "metadata": {},
   "source": [
    "Há também unário para negação e um operador `` ** `` para exponenciação e um operador ``% `` para resto:"
   ]
  },
  {
   "cell_type": "code",
   "execution_count": null,
   "metadata": {
    "ExecuteTime": {
     "end_time": "2020-08-29T08:45:25.013848Z",
     "start_time": "2020-08-29T08:45:25.009322Z"
    }
   },
   "outputs": [],
   "source": [
    "print(\"-x     = \", -x)\n",
    "print(\"x ** 2 = \", x ** 2)\n",
    "print(\"x % 2  = \", x % 2)"
   ]
  },
  {
   "cell_type": "markdown",
   "metadata": {},
   "source": [
    "Além disso, eles podem ser amarrados da maneira que você desejar, e a ordem padrão das operações é respeitada:"
   ]
  },
  {
   "cell_type": "code",
   "execution_count": null,
   "metadata": {
    "ExecuteTime": {
     "end_time": "2020-08-29T08:45:25.255367Z",
     "start_time": "2020-08-29T08:45:25.248603Z"
    }
   },
   "outputs": [],
   "source": [
    "-(0.5*x + 1) ** 2"
   ]
  },
  {
   "cell_type": "markdown",
   "metadata": {},
   "source": [
    "A tabela a seguir lista os operadores aritméticos implementados no NumPy:\n",
    "\n",
    "| Operador | Ufunc equivalente | Descrição\n",
    "| --------------- | --------------------- | ----------- ---------------------------- |\n",
    "| `` + `` | `` np.add`` | Adição (por exemplo, `` 1 + 1 = 2``) |\n",
    "| `` -`` | `` np.subtract`` | Subtração (por exemplo, `` 3 - 2 = 1``) |\n",
    "| `` -`` | `` np.negative`` | Negação unária (por exemplo, `` -2``) |\n",
    "| `` * `` | `` np.multiply`` | Multiplicação (por exemplo, `` 2 * 3 = 6``) |\n",
    "| `` / `` | `` np.divide`` | Divisão (por exemplo, `` 3/2 = 1,5``) |\n",
    "| `` // `` | `` np.floor_divide`` | Divisão inteira (por exemplo, `` 3 // 2 = 1``) |\n",
    "| `` ** `` | `` np.power`` | Exponenciação (por exemplo, `` 2 ** 3 = 8``) |\n",
    "| ``% `` | `` np.mod`` | Módulo / resto (por exemplo, `` 9% 4 = 1``) |"
   ]
  },
  {
   "cell_type": "markdown",
   "metadata": {},
   "source": [
    "## Comparação em matriz\n",
    "\n",
    "NumPy também implementa operadores de comparação como `` <`` (menor que) e ``> `` (maior que).\n",
    "O resultado desses operadores de comparação é sempre uma matriz com um tipo de dados booleano.\n",
    "Todas as seis operações de comparação padrão estão disponíveis:"
   ]
  },
  {
   "cell_type": "code",
   "execution_count": null,
   "metadata": {
    "ExecuteTime": {
     "end_time": "2020-08-29T08:45:25.588444Z",
     "start_time": "2020-08-29T08:45:25.585647Z"
    }
   },
   "outputs": [],
   "source": [
    "x = np.array([1, 2, 3, 4, 5])"
   ]
  },
  {
   "cell_type": "code",
   "execution_count": null,
   "metadata": {
    "ExecuteTime": {
     "end_time": "2020-08-29T08:45:25.721307Z",
     "start_time": "2020-08-29T08:45:25.717268Z"
    }
   },
   "outputs": [],
   "source": [
    "x < 3  # menor que"
   ]
  },
  {
   "cell_type": "code",
   "execution_count": null,
   "metadata": {
    "ExecuteTime": {
     "end_time": "2020-08-29T08:45:25.854395Z",
     "start_time": "2020-08-29T08:45:25.848228Z"
    }
   },
   "outputs": [],
   "source": [
    "x > 3  # maior que"
   ]
  },
  {
   "cell_type": "code",
   "execution_count": null,
   "metadata": {
    "ExecuteTime": {
     "end_time": "2020-08-29T08:45:25.985727Z",
     "start_time": "2020-08-29T08:45:25.981218Z"
    }
   },
   "outputs": [],
   "source": [
    "x <= 3  # menor ou igual"
   ]
  },
  {
   "cell_type": "code",
   "execution_count": null,
   "metadata": {
    "ExecuteTime": {
     "end_time": "2020-08-29T08:45:26.116338Z",
     "start_time": "2020-08-29T08:45:26.110425Z"
    }
   },
   "outputs": [],
   "source": [
    "x >= 3  # maior ou igual"
   ]
  },
  {
   "cell_type": "code",
   "execution_count": null,
   "metadata": {
    "ExecuteTime": {
     "end_time": "2020-08-29T08:45:26.247439Z",
     "start_time": "2020-08-29T08:45:26.242992Z"
    }
   },
   "outputs": [],
   "source": [
    "x != 3  # não igual"
   ]
  },
  {
   "cell_type": "code",
   "execution_count": null,
   "metadata": {
    "ExecuteTime": {
     "end_time": "2020-08-29T08:45:26.377646Z",
     "start_time": "2020-08-29T08:45:26.373472Z"
    }
   },
   "outputs": [],
   "source": [
    "x == 3  # equal"
   ]
  },
  {
   "cell_type": "markdown",
   "metadata": {},
   "source": [
    "Também é possível fazer uma comparação de elementos de duas matrizes e incluir expressões compostas:"
   ]
  },
  {
   "cell_type": "code",
   "execution_count": null,
   "metadata": {
    "ExecuteTime": {
     "end_time": "2020-08-29T08:45:26.614813Z",
     "start_time": "2020-08-29T08:45:26.610712Z"
    }
   },
   "outputs": [],
   "source": [
    "(2 * x) == (x ** 2)"
   ]
  },
  {
   "cell_type": "markdown",
   "metadata": {},
   "source": [
    "Um resumo dos operadores de comparação e seu ufunc equivalente é mostrado aqui:\n",
    "\n",
    "| Operador | Ufunc equivalente |\n",
    "| -- | -- |\n",
    "| `` == `` | `` np.equal`` |\n",
    "| `` <`` | `` np.less`` |\n",
    "| ``> `` | `` np.greater`` |\n",
    "| ``! = `` | `` np.not_equal`` |\n",
    "| `` <= `` | `` np.less_equal`` |\n",
    "| ``> = `` | `` np.greater_equal`` |"
   ]
  },
  {
   "cell_type": "markdown",
   "metadata": {},
   "source": [
    "<!--NAVIGATION-->\n",
    "< [Módulos](15.Modulos.ipynb) | [Sumario](00.Sumario.ipynb) | [Pandas](17.Pandas.ipynb) >\n",
    "\n",
    "<a href=\"https://colab.research.google.com/github/psloliveirajr/Introducao_a_Python3/blob/master/16.Numpy.ipynb\"><img align=\"left\" src=\"https://colab.research.google.com/assets/colab-badge.svg\" alt=\"Open in Colab\" title=\"Open and Execute in Google Colaboratory\"></a>"
   ]
  }
 ],
 "metadata": {
  "kernelspec": {
   "display_name": "Python 3",
   "language": "python",
   "name": "python3"
  },
  "language_info": {
   "codemirror_mode": {
    "name": "ipython",
    "version": 3
   },
   "file_extension": ".py",
   "mimetype": "text/x-python",
   "name": "python",
   "nbconvert_exporter": "python",
   "pygments_lexer": "ipython3",
   "version": "3.8.5"
  },
  "nbTranslate": {
   "displayLangs": [
    "fr",
    "en"
   ],
   "hotkey": "alt-t",
   "langInMainMenu": true,
   "sourceLang": "en",
   "targetLang": "fr",
   "useGoogleTranslate": true
  },
  "toc": {
   "base_numbering": 1,
   "nav_menu": {},
   "number_sections": true,
   "sideBar": true,
   "skip_h1_title": false,
   "title_cell": "Table of Contents",
   "title_sidebar": "Contents",
   "toc_cell": false,
   "toc_position": {},
   "toc_section_display": true,
   "toc_window_display": false
  },
  "varInspector": {
   "cols": {
    "lenName": 16,
    "lenType": 16,
    "lenVar": 40
   },
   "kernels_config": {
    "python": {
     "delete_cmd_postfix": "",
     "delete_cmd_prefix": "del ",
     "library": "var_list.py",
     "varRefreshCmd": "print(var_dic_list())"
    },
    "r": {
     "delete_cmd_postfix": ") ",
     "delete_cmd_prefix": "rm(",
     "library": "var_list.r",
     "varRefreshCmd": "cat(var_dic_list()) "
    }
   },
   "types_to_exclude": [
    "module",
    "function",
    "builtin_function_or_method",
    "instance",
    "_Feature"
   ],
   "window_display": false
  }
 },
 "nbformat": 4,
 "nbformat_minor": 4
}
